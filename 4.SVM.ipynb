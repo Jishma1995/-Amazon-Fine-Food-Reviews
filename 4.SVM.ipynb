{
 "cells": [
  {
   "cell_type": "markdown",
   "metadata": {
    "colab_type": "text",
    "id": "ohe6u8OppO5i"
   },
   "source": [
    "# [1]. Reading Data"
   ]
  },
  {
   "cell_type": "markdown",
   "metadata": {
    "colab_type": "text",
    "id": "TToDkMAfpO5k"
   },
   "source": [
    "## [1.1] Loading the data\n",
    "\n",
    "The dataset is available in two forms\n",
    "1. .csv file\n",
    "2. SQLite Database\n",
    "\n",
    "In order to load the data, We have used the SQLITE dataset as it is easier to query the data and visualise the data efficiently.\n",
    "<br> \n",
    "\n",
    "Here as we only want to get the global sentiment of the recommendations (positive or negative), we will purposefully ignore all Scores equal to 3. If the score is above 3, then the recommendation wil be set to \"positive\". Otherwise, it will be set to \"negative\"."
   ]
  },
  {
   "cell_type": "code",
   "execution_count": 1,
   "metadata": {
    "colab": {},
    "colab_type": "code",
    "id": "ZgZSBl1upO5k"
   },
   "outputs": [],
   "source": [
    "%matplotlib inline\n",
    "import warnings\n",
    "warnings.filterwarnings(\"ignore\")\n",
    "\n",
    "\n",
    "import sqlite3\n",
    "import pandas as pd\n",
    "import numpy as np\n",
    "import nltk\n",
    "import string\n",
    "import matplotlib.pyplot as plt\n",
    "import seaborn as sns\n",
    "from sklearn.feature_extraction.text import TfidfTransformer\n",
    "from sklearn.feature_extraction.text import TfidfVectorizer\n",
    "\n",
    "from sklearn.feature_extraction.text import CountVectorizer\n",
    "from sklearn.metrics import confusion_matrix\n",
    "from sklearn import metrics\n",
    "from sklearn.metrics import roc_curve, auc\n",
    "from nltk.stem.porter import PorterStemmer\n",
    "import seaborn as sns\n",
    "from sklearn.metrics import confusion_matrix\n",
    "from sklearn import svm\n",
    "import re\n",
    "from bs4 import BeautifulSoup\n",
    "# Tutorial about Python regular expressions: https://pymotw.com/2/re/\n",
    "import string\n",
    "from nltk.corpus import stopwords\n",
    "from nltk.stem import PorterStemmer\n",
    "from nltk.stem.wordnet import WordNetLemmatizer\n",
    "\n",
    "from gensim.models import Word2Vec\n",
    "from gensim.models import KeyedVectors\n",
    "import pickle\n",
    "\n",
    "from tqdm import tqdm\n",
    "import os"
   ]
  },
  {
   "cell_type": "code",
   "execution_count": 2,
   "metadata": {
    "colab": {},
    "colab_type": "code",
    "id": "BPsn_vaApO5p",
    "outputId": "262c5766-4c2a-4376-9323-01b54b116390"
   },
   "outputs": [
    {
     "name": "stdout",
     "output_type": "stream",
     "text": [
      "Number of data points in our data (525814, 10)\n"
     ]
    },
    {
     "data": {
      "text/html": [
       "<div>\n",
       "<style scoped>\n",
       "    .dataframe tbody tr th:only-of-type {\n",
       "        vertical-align: middle;\n",
       "    }\n",
       "\n",
       "    .dataframe tbody tr th {\n",
       "        vertical-align: top;\n",
       "    }\n",
       "\n",
       "    .dataframe thead th {\n",
       "        text-align: right;\n",
       "    }\n",
       "</style>\n",
       "<table border=\"1\" class=\"dataframe\">\n",
       "  <thead>\n",
       "    <tr style=\"text-align: right;\">\n",
       "      <th></th>\n",
       "      <th>Id</th>\n",
       "      <th>ProductId</th>\n",
       "      <th>UserId</th>\n",
       "      <th>ProfileName</th>\n",
       "      <th>HelpfulnessNumerator</th>\n",
       "      <th>HelpfulnessDenominator</th>\n",
       "      <th>Score</th>\n",
       "      <th>Time</th>\n",
       "      <th>Summary</th>\n",
       "      <th>Text</th>\n",
       "    </tr>\n",
       "  </thead>\n",
       "  <tbody>\n",
       "    <tr>\n",
       "      <th>0</th>\n",
       "      <td>1</td>\n",
       "      <td>B001E4KFG0</td>\n",
       "      <td>A3SGXH7AUHU8GW</td>\n",
       "      <td>delmartian</td>\n",
       "      <td>1</td>\n",
       "      <td>1</td>\n",
       "      <td>1</td>\n",
       "      <td>1303862400</td>\n",
       "      <td>Good Quality Dog Food</td>\n",
       "      <td>I have bought several of the Vitality canned d...</td>\n",
       "    </tr>\n",
       "    <tr>\n",
       "      <th>1</th>\n",
       "      <td>2</td>\n",
       "      <td>B00813GRG4</td>\n",
       "      <td>A1D87F6ZCVE5NK</td>\n",
       "      <td>dll pa</td>\n",
       "      <td>0</td>\n",
       "      <td>0</td>\n",
       "      <td>0</td>\n",
       "      <td>1346976000</td>\n",
       "      <td>Not as Advertised</td>\n",
       "      <td>Product arrived labeled as Jumbo Salted Peanut...</td>\n",
       "    </tr>\n",
       "    <tr>\n",
       "      <th>2</th>\n",
       "      <td>3</td>\n",
       "      <td>B000LQOCH0</td>\n",
       "      <td>ABXLMWJIXXAIN</td>\n",
       "      <td>Natalia Corres \"Natalia Corres\"</td>\n",
       "      <td>1</td>\n",
       "      <td>1</td>\n",
       "      <td>1</td>\n",
       "      <td>1219017600</td>\n",
       "      <td>\"Delight\" says it all</td>\n",
       "      <td>This is a confection that has been around a fe...</td>\n",
       "    </tr>\n",
       "  </tbody>\n",
       "</table>\n",
       "</div>"
      ],
      "text/plain": [
       "   Id   ProductId          UserId                      ProfileName  \\\n",
       "0   1  B001E4KFG0  A3SGXH7AUHU8GW                       delmartian   \n",
       "1   2  B00813GRG4  A1D87F6ZCVE5NK                           dll pa   \n",
       "2   3  B000LQOCH0   ABXLMWJIXXAIN  Natalia Corres \"Natalia Corres\"   \n",
       "\n",
       "   HelpfulnessNumerator  HelpfulnessDenominator  Score        Time  \\\n",
       "0                     1                       1      1  1303862400   \n",
       "1                     0                       0      0  1346976000   \n",
       "2                     1                       1      1  1219017600   \n",
       "\n",
       "                 Summary                                               Text  \n",
       "0  Good Quality Dog Food  I have bought several of the Vitality canned d...  \n",
       "1      Not as Advertised  Product arrived labeled as Jumbo Salted Peanut...  \n",
       "2  \"Delight\" says it all  This is a confection that has been around a fe...  "
      ]
     },
     "execution_count": 2,
     "metadata": {},
     "output_type": "execute_result"
    }
   ],
   "source": [
    "# using SQLite Table to read data.\n",
    "con = sqlite3.connect('database.sqlite') \n",
    "\n",
    "# filtering only positive and negative reviews i.e. \n",
    "# not taking into consideration those reviews with Score=3\n",
    "# SELECT * FROM Reviews WHERE Score != 3 LIMIT 500000, will give top 500000 data points\n",
    "# you can change the number to any other number based on your computing power\n",
    "\n",
    "# filtered_data = pd.read_sql_query(\"\"\" SELECT * FROM Reviews WHERE Score != 3 LIMIT 500000\"\"\", con) \n",
    "# for tsne assignment you can take 5k data points\n",
    "\n",
    "filtered_data = pd.read_sql_query(\"\"\" SELECT * FROM Reviews WHERE Score != 3 \"\"\", con) \n",
    "\n",
    "# Give reviews with Score>3 a positive rating(1), and reviews with a score<3 a negative rating(0).\n",
    "def partition(x):\n",
    "    if x < 3:\n",
    "        return 0\n",
    "    return 1\n",
    "\n",
    "#changing reviews with score less than 3 to be positive and vice-versa\n",
    "actualScore = filtered_data['Score']\n",
    "positiveNegative = actualScore.map(partition) \n",
    "filtered_data['Score'] = positiveNegative\n",
    "print(\"Number of data points in our data\", filtered_data.shape)\n",
    "filtered_data.head(3)"
   ]
  },
  {
   "cell_type": "code",
   "execution_count": 3,
   "metadata": {
    "colab": {},
    "colab_type": "code",
    "id": "V81SveqkpO5z"
   },
   "outputs": [],
   "source": [
    "display = pd.read_sql_query(\"\"\"\n",
    "SELECT UserId, ProductId, ProfileName, Time, Score, Text, COUNT(*)\n",
    "FROM Reviews\n",
    "GROUP BY UserId\n",
    "HAVING COUNT(*)>1\n",
    "\"\"\", con)"
   ]
  },
  {
   "cell_type": "code",
   "execution_count": 4,
   "metadata": {
    "colab": {},
    "colab_type": "code",
    "id": "ev8BN76dpO53",
    "outputId": "9de8f910-516b-440c-eb92-6272d02bf643",
    "scrolled": true
   },
   "outputs": [
    {
     "name": "stdout",
     "output_type": "stream",
     "text": [
      "(80668, 7)\n"
     ]
    },
    {
     "data": {
      "text/html": [
       "<div>\n",
       "<style scoped>\n",
       "    .dataframe tbody tr th:only-of-type {\n",
       "        vertical-align: middle;\n",
       "    }\n",
       "\n",
       "    .dataframe tbody tr th {\n",
       "        vertical-align: top;\n",
       "    }\n",
       "\n",
       "    .dataframe thead th {\n",
       "        text-align: right;\n",
       "    }\n",
       "</style>\n",
       "<table border=\"1\" class=\"dataframe\">\n",
       "  <thead>\n",
       "    <tr style=\"text-align: right;\">\n",
       "      <th></th>\n",
       "      <th>UserId</th>\n",
       "      <th>ProductId</th>\n",
       "      <th>ProfileName</th>\n",
       "      <th>Time</th>\n",
       "      <th>Score</th>\n",
       "      <th>Text</th>\n",
       "      <th>COUNT(*)</th>\n",
       "    </tr>\n",
       "  </thead>\n",
       "  <tbody>\n",
       "    <tr>\n",
       "      <th>0</th>\n",
       "      <td>#oc-R115TNMSPFT9I7</td>\n",
       "      <td>B007Y59HVM</td>\n",
       "      <td>Breyton</td>\n",
       "      <td>1331510400</td>\n",
       "      <td>2</td>\n",
       "      <td>Overall its just OK when considering the price...</td>\n",
       "      <td>2</td>\n",
       "    </tr>\n",
       "    <tr>\n",
       "      <th>1</th>\n",
       "      <td>#oc-R11D9D7SHXIJB9</td>\n",
       "      <td>B005HG9ET0</td>\n",
       "      <td>Louis E. Emory \"hoppy\"</td>\n",
       "      <td>1342396800</td>\n",
       "      <td>5</td>\n",
       "      <td>My wife has recurring extreme muscle spasms, u...</td>\n",
       "      <td>3</td>\n",
       "    </tr>\n",
       "    <tr>\n",
       "      <th>2</th>\n",
       "      <td>#oc-R11DNU2NBKQ23Z</td>\n",
       "      <td>B007Y59HVM</td>\n",
       "      <td>Kim Cieszykowski</td>\n",
       "      <td>1348531200</td>\n",
       "      <td>1</td>\n",
       "      <td>This coffee is horrible and unfortunately not ...</td>\n",
       "      <td>2</td>\n",
       "    </tr>\n",
       "    <tr>\n",
       "      <th>3</th>\n",
       "      <td>#oc-R11O5J5ZVQE25C</td>\n",
       "      <td>B005HG9ET0</td>\n",
       "      <td>Penguin Chick</td>\n",
       "      <td>1346889600</td>\n",
       "      <td>5</td>\n",
       "      <td>This will be the bottle that you grab from the...</td>\n",
       "      <td>3</td>\n",
       "    </tr>\n",
       "    <tr>\n",
       "      <th>4</th>\n",
       "      <td>#oc-R12KPBODL2B5ZD</td>\n",
       "      <td>B007OSBE1U</td>\n",
       "      <td>Christopher P. Presta</td>\n",
       "      <td>1348617600</td>\n",
       "      <td>1</td>\n",
       "      <td>I didnt like this coffee. Instead of telling y...</td>\n",
       "      <td>2</td>\n",
       "    </tr>\n",
       "  </tbody>\n",
       "</table>\n",
       "</div>"
      ],
      "text/plain": [
       "               UserId   ProductId             ProfileName        Time  Score  \\\n",
       "0  #oc-R115TNMSPFT9I7  B007Y59HVM                 Breyton  1331510400      2   \n",
       "1  #oc-R11D9D7SHXIJB9  B005HG9ET0  Louis E. Emory \"hoppy\"  1342396800      5   \n",
       "2  #oc-R11DNU2NBKQ23Z  B007Y59HVM        Kim Cieszykowski  1348531200      1   \n",
       "3  #oc-R11O5J5ZVQE25C  B005HG9ET0           Penguin Chick  1346889600      5   \n",
       "4  #oc-R12KPBODL2B5ZD  B007OSBE1U   Christopher P. Presta  1348617600      1   \n",
       "\n",
       "                                                Text  COUNT(*)  \n",
       "0  Overall its just OK when considering the price...         2  \n",
       "1  My wife has recurring extreme muscle spasms, u...         3  \n",
       "2  This coffee is horrible and unfortunately not ...         2  \n",
       "3  This will be the bottle that you grab from the...         3  \n",
       "4  I didnt like this coffee. Instead of telling y...         2  "
      ]
     },
     "execution_count": 4,
     "metadata": {},
     "output_type": "execute_result"
    }
   ],
   "source": [
    "print(display.shape)\n",
    "display.head()"
   ]
  },
  {
   "cell_type": "code",
   "execution_count": 5,
   "metadata": {
    "colab": {},
    "colab_type": "code",
    "id": "ZIvBz_U-pO57",
    "outputId": "d4ae99ed-4e42-4bce-da5a-9fb83acc70ac"
   },
   "outputs": [
    {
     "data": {
      "text/html": [
       "<div>\n",
       "<style scoped>\n",
       "    .dataframe tbody tr th:only-of-type {\n",
       "        vertical-align: middle;\n",
       "    }\n",
       "\n",
       "    .dataframe tbody tr th {\n",
       "        vertical-align: top;\n",
       "    }\n",
       "\n",
       "    .dataframe thead th {\n",
       "        text-align: right;\n",
       "    }\n",
       "</style>\n",
       "<table border=\"1\" class=\"dataframe\">\n",
       "  <thead>\n",
       "    <tr style=\"text-align: right;\">\n",
       "      <th></th>\n",
       "      <th>UserId</th>\n",
       "      <th>ProductId</th>\n",
       "      <th>ProfileName</th>\n",
       "      <th>Time</th>\n",
       "      <th>Score</th>\n",
       "      <th>Text</th>\n",
       "      <th>COUNT(*)</th>\n",
       "    </tr>\n",
       "  </thead>\n",
       "  <tbody>\n",
       "    <tr>\n",
       "      <th>80638</th>\n",
       "      <td>AZY10LLTJ71NX</td>\n",
       "      <td>B006P7E5ZI</td>\n",
       "      <td>undertheshrine \"undertheshrine\"</td>\n",
       "      <td>1334707200</td>\n",
       "      <td>5</td>\n",
       "      <td>I was recommended to try green tea extract to ...</td>\n",
       "      <td>5</td>\n",
       "    </tr>\n",
       "  </tbody>\n",
       "</table>\n",
       "</div>"
      ],
      "text/plain": [
       "              UserId   ProductId                      ProfileName        Time  \\\n",
       "80638  AZY10LLTJ71NX  B006P7E5ZI  undertheshrine \"undertheshrine\"  1334707200   \n",
       "\n",
       "       Score                                               Text  COUNT(*)  \n",
       "80638      5  I was recommended to try green tea extract to ...         5  "
      ]
     },
     "execution_count": 5,
     "metadata": {},
     "output_type": "execute_result"
    }
   ],
   "source": [
    "display[display['UserId']=='AZY10LLTJ71NX']"
   ]
  },
  {
   "cell_type": "code",
   "execution_count": 6,
   "metadata": {
    "colab": {},
    "colab_type": "code",
    "id": "d_o_p7qzpO6A",
    "outputId": "0b7ad672-caf9-487f-99bf-50b163e0799c"
   },
   "outputs": [
    {
     "data": {
      "text/plain": [
       "393063"
      ]
     },
     "execution_count": 6,
     "metadata": {},
     "output_type": "execute_result"
    }
   ],
   "source": [
    "display['COUNT(*)'].sum()"
   ]
  },
  {
   "cell_type": "markdown",
   "metadata": {
    "colab_type": "text",
    "id": "C4E1xCRCpO6F"
   },
   "source": [
    "#  [2] Exploratory Data Analysis"
   ]
  },
  {
   "cell_type": "markdown",
   "metadata": {
    "colab_type": "text",
    "id": "Sq2D-taXpO6H"
   },
   "source": [
    "## [2.1] Data Cleaning: Deduplication\n",
    "\n",
    "It is observed (as shown in the table below) that the reviews data had many duplicate entries. Hence it was necessary to remove duplicates in order to get unbiased results for the analysis of the data.  Following is an example:"
   ]
  },
  {
   "cell_type": "code",
   "execution_count": 7,
   "metadata": {
    "colab": {},
    "colab_type": "code",
    "id": "lQJG8-vCpO6I",
    "outputId": "06047746-68cf-4325-d550-aa49fb6953e3",
    "scrolled": false
   },
   "outputs": [
    {
     "data": {
      "text/html": [
       "<div>\n",
       "<style scoped>\n",
       "    .dataframe tbody tr th:only-of-type {\n",
       "        vertical-align: middle;\n",
       "    }\n",
       "\n",
       "    .dataframe tbody tr th {\n",
       "        vertical-align: top;\n",
       "    }\n",
       "\n",
       "    .dataframe thead th {\n",
       "        text-align: right;\n",
       "    }\n",
       "</style>\n",
       "<table border=\"1\" class=\"dataframe\">\n",
       "  <thead>\n",
       "    <tr style=\"text-align: right;\">\n",
       "      <th></th>\n",
       "      <th>Id</th>\n",
       "      <th>ProductId</th>\n",
       "      <th>UserId</th>\n",
       "      <th>ProfileName</th>\n",
       "      <th>HelpfulnessNumerator</th>\n",
       "      <th>HelpfulnessDenominator</th>\n",
       "      <th>Score</th>\n",
       "      <th>Time</th>\n",
       "      <th>Summary</th>\n",
       "      <th>Text</th>\n",
       "    </tr>\n",
       "  </thead>\n",
       "  <tbody>\n",
       "    <tr>\n",
       "      <th>0</th>\n",
       "      <td>78445</td>\n",
       "      <td>B000HDL1RQ</td>\n",
       "      <td>AR5J8UI46CURR</td>\n",
       "      <td>Geetha Krishnan</td>\n",
       "      <td>2</td>\n",
       "      <td>2</td>\n",
       "      <td>5</td>\n",
       "      <td>1199577600</td>\n",
       "      <td>LOACKER QUADRATINI VANILLA WAFERS</td>\n",
       "      <td>DELICIOUS WAFERS. I FIND THAT EUROPEAN WAFERS ...</td>\n",
       "    </tr>\n",
       "    <tr>\n",
       "      <th>1</th>\n",
       "      <td>138317</td>\n",
       "      <td>B000HDOPYC</td>\n",
       "      <td>AR5J8UI46CURR</td>\n",
       "      <td>Geetha Krishnan</td>\n",
       "      <td>2</td>\n",
       "      <td>2</td>\n",
       "      <td>5</td>\n",
       "      <td>1199577600</td>\n",
       "      <td>LOACKER QUADRATINI VANILLA WAFERS</td>\n",
       "      <td>DELICIOUS WAFERS. I FIND THAT EUROPEAN WAFERS ...</td>\n",
       "    </tr>\n",
       "    <tr>\n",
       "      <th>2</th>\n",
       "      <td>138277</td>\n",
       "      <td>B000HDOPYM</td>\n",
       "      <td>AR5J8UI46CURR</td>\n",
       "      <td>Geetha Krishnan</td>\n",
       "      <td>2</td>\n",
       "      <td>2</td>\n",
       "      <td>5</td>\n",
       "      <td>1199577600</td>\n",
       "      <td>LOACKER QUADRATINI VANILLA WAFERS</td>\n",
       "      <td>DELICIOUS WAFERS. I FIND THAT EUROPEAN WAFERS ...</td>\n",
       "    </tr>\n",
       "    <tr>\n",
       "      <th>3</th>\n",
       "      <td>73791</td>\n",
       "      <td>B000HDOPZG</td>\n",
       "      <td>AR5J8UI46CURR</td>\n",
       "      <td>Geetha Krishnan</td>\n",
       "      <td>2</td>\n",
       "      <td>2</td>\n",
       "      <td>5</td>\n",
       "      <td>1199577600</td>\n",
       "      <td>LOACKER QUADRATINI VANILLA WAFERS</td>\n",
       "      <td>DELICIOUS WAFERS. I FIND THAT EUROPEAN WAFERS ...</td>\n",
       "    </tr>\n",
       "    <tr>\n",
       "      <th>4</th>\n",
       "      <td>155049</td>\n",
       "      <td>B000PAQ75C</td>\n",
       "      <td>AR5J8UI46CURR</td>\n",
       "      <td>Geetha Krishnan</td>\n",
       "      <td>2</td>\n",
       "      <td>2</td>\n",
       "      <td>5</td>\n",
       "      <td>1199577600</td>\n",
       "      <td>LOACKER QUADRATINI VANILLA WAFERS</td>\n",
       "      <td>DELICIOUS WAFERS. I FIND THAT EUROPEAN WAFERS ...</td>\n",
       "    </tr>\n",
       "  </tbody>\n",
       "</table>\n",
       "</div>"
      ],
      "text/plain": [
       "       Id   ProductId         UserId      ProfileName  HelpfulnessNumerator  \\\n",
       "0   78445  B000HDL1RQ  AR5J8UI46CURR  Geetha Krishnan                     2   \n",
       "1  138317  B000HDOPYC  AR5J8UI46CURR  Geetha Krishnan                     2   \n",
       "2  138277  B000HDOPYM  AR5J8UI46CURR  Geetha Krishnan                     2   \n",
       "3   73791  B000HDOPZG  AR5J8UI46CURR  Geetha Krishnan                     2   \n",
       "4  155049  B000PAQ75C  AR5J8UI46CURR  Geetha Krishnan                     2   \n",
       "\n",
       "   HelpfulnessDenominator  Score        Time  \\\n",
       "0                       2      5  1199577600   \n",
       "1                       2      5  1199577600   \n",
       "2                       2      5  1199577600   \n",
       "3                       2      5  1199577600   \n",
       "4                       2      5  1199577600   \n",
       "\n",
       "                             Summary  \\\n",
       "0  LOACKER QUADRATINI VANILLA WAFERS   \n",
       "1  LOACKER QUADRATINI VANILLA WAFERS   \n",
       "2  LOACKER QUADRATINI VANILLA WAFERS   \n",
       "3  LOACKER QUADRATINI VANILLA WAFERS   \n",
       "4  LOACKER QUADRATINI VANILLA WAFERS   \n",
       "\n",
       "                                                Text  \n",
       "0  DELICIOUS WAFERS. I FIND THAT EUROPEAN WAFERS ...  \n",
       "1  DELICIOUS WAFERS. I FIND THAT EUROPEAN WAFERS ...  \n",
       "2  DELICIOUS WAFERS. I FIND THAT EUROPEAN WAFERS ...  \n",
       "3  DELICIOUS WAFERS. I FIND THAT EUROPEAN WAFERS ...  \n",
       "4  DELICIOUS WAFERS. I FIND THAT EUROPEAN WAFERS ...  "
      ]
     },
     "execution_count": 7,
     "metadata": {},
     "output_type": "execute_result"
    }
   ],
   "source": [
    "display= pd.read_sql_query(\"\"\"\n",
    "SELECT *\n",
    "FROM Reviews\n",
    "WHERE Score != 3 AND UserId=\"AR5J8UI46CURR\"\n",
    "ORDER BY ProductID\n",
    "\"\"\", con)\n",
    "display.head()"
   ]
  },
  {
   "cell_type": "markdown",
   "metadata": {
    "colab_type": "text",
    "id": "hS4mJewcpO6P"
   },
   "source": [
    "As it can be seen above that same user has multiple reviews with same values for HelpfulnessNumerator, HelpfulnessDenominator, Score, Time, Summary and Text and on doing analysis it was found that <br>\n",
    "<br> \n",
    "ProductId=B000HDOPZG was Loacker Quadratini Vanilla Wafer Cookies, 8.82-Ounce Packages (Pack of 8)<br>\n",
    "<br> \n",
    "ProductId=B000HDL1RQ was Loacker Quadratini Lemon Wafer Cookies, 8.82-Ounce Packages (Pack of 8) and so on<br>\n",
    "\n",
    "It was inferred after analysis that reviews with same parameters other than ProductId belonged to the same product just having different flavour or quantity. Hence in order to reduce redundancy it was decided to eliminate the rows having same parameters.<br>\n",
    "\n",
    "The method used for the same was that we first sort the data according to ProductId and then just keep the first similar product review and delelte the others. for eg. in the above just the review for ProductId=B000HDL1RQ remains. This method ensures that there is only one representative for each product and deduplication without sorting would lead to possibility of different representatives still existing for the same product."
   ]
  },
  {
   "cell_type": "code",
   "execution_count": 4,
   "metadata": {
    "colab": {},
    "colab_type": "code",
    "id": "yA3_LldNpO6P"
   },
   "outputs": [],
   "source": [
    "#Sorting data according to ProductId in ascending order\n",
    "sorted_data=filtered_data.sort_values('ProductId', axis=0, ascending=True, inplace=False, kind='quicksort', na_position='last')"
   ]
  },
  {
   "cell_type": "code",
   "execution_count": 5,
   "metadata": {
    "colab": {},
    "colab_type": "code",
    "id": "UBI8AaW3pO6U",
    "outputId": "c836db32-323d-46e8-b708-44f159b4d284"
   },
   "outputs": [
    {
     "data": {
      "text/plain": [
       "(364173, 10)"
      ]
     },
     "execution_count": 5,
     "metadata": {},
     "output_type": "execute_result"
    }
   ],
   "source": [
    "#Deduplication of entries\n",
    "final=sorted_data.drop_duplicates(subset={\"UserId\",\"ProfileName\",\"Time\",\"Text\"}, keep='first', inplace=False)\n",
    "final.shape"
   ]
  },
  {
   "cell_type": "code",
   "execution_count": 6,
   "metadata": {
    "colab": {},
    "colab_type": "code",
    "id": "HXpbbtUhpO6Y",
    "outputId": "abf50578-7d7d-4c06-ad65-51263905f281"
   },
   "outputs": [
    {
     "data": {
      "text/plain": [
       "69.25890143662969"
      ]
     },
     "execution_count": 6,
     "metadata": {},
     "output_type": "execute_result"
    }
   ],
   "source": [
    "#Checking to see how much % of data still remains\n",
    "(final['Id'].size*1.0)/(filtered_data['Id'].size*1.0)*100"
   ]
  },
  {
   "cell_type": "markdown",
   "metadata": {
    "colab_type": "text",
    "id": "fT-1y7HkpO6e"
   },
   "source": [
    "<b>Observation:-</b> It was also seen that in two rows given below the value of HelpfulnessNumerator is greater than HelpfulnessDenominator which is not practically possible hence these two rows too are removed from calcualtions"
   ]
  },
  {
   "cell_type": "code",
   "execution_count": 7,
   "metadata": {
    "colab": {},
    "colab_type": "code",
    "id": "f0XFmRIApO6e",
    "outputId": "09a9a538-4fd0-4380-a2b7-6cb59c6c3680"
   },
   "outputs": [
    {
     "data": {
      "text/html": [
       "<div>\n",
       "<style scoped>\n",
       "    .dataframe tbody tr th:only-of-type {\n",
       "        vertical-align: middle;\n",
       "    }\n",
       "\n",
       "    .dataframe tbody tr th {\n",
       "        vertical-align: top;\n",
       "    }\n",
       "\n",
       "    .dataframe thead th {\n",
       "        text-align: right;\n",
       "    }\n",
       "</style>\n",
       "<table border=\"1\" class=\"dataframe\">\n",
       "  <thead>\n",
       "    <tr style=\"text-align: right;\">\n",
       "      <th></th>\n",
       "      <th>Id</th>\n",
       "      <th>ProductId</th>\n",
       "      <th>UserId</th>\n",
       "      <th>ProfileName</th>\n",
       "      <th>HelpfulnessNumerator</th>\n",
       "      <th>HelpfulnessDenominator</th>\n",
       "      <th>Score</th>\n",
       "      <th>Time</th>\n",
       "      <th>Summary</th>\n",
       "      <th>Text</th>\n",
       "    </tr>\n",
       "  </thead>\n",
       "  <tbody>\n",
       "    <tr>\n",
       "      <th>0</th>\n",
       "      <td>64422</td>\n",
       "      <td>B000MIDROQ</td>\n",
       "      <td>A161DK06JJMCYF</td>\n",
       "      <td>J. E. Stephens \"Jeanne\"</td>\n",
       "      <td>3</td>\n",
       "      <td>1</td>\n",
       "      <td>5</td>\n",
       "      <td>1224892800</td>\n",
       "      <td>Bought This for My Son at College</td>\n",
       "      <td>My son loves spaghetti so I didn't hesitate or...</td>\n",
       "    </tr>\n",
       "    <tr>\n",
       "      <th>1</th>\n",
       "      <td>44737</td>\n",
       "      <td>B001EQ55RW</td>\n",
       "      <td>A2V0I904FH7ABY</td>\n",
       "      <td>Ram</td>\n",
       "      <td>3</td>\n",
       "      <td>2</td>\n",
       "      <td>4</td>\n",
       "      <td>1212883200</td>\n",
       "      <td>Pure cocoa taste with crunchy almonds inside</td>\n",
       "      <td>It was almost a 'love at first bite' - the per...</td>\n",
       "    </tr>\n",
       "  </tbody>\n",
       "</table>\n",
       "</div>"
      ],
      "text/plain": [
       "      Id   ProductId          UserId              ProfileName  \\\n",
       "0  64422  B000MIDROQ  A161DK06JJMCYF  J. E. Stephens \"Jeanne\"   \n",
       "1  44737  B001EQ55RW  A2V0I904FH7ABY                      Ram   \n",
       "\n",
       "   HelpfulnessNumerator  HelpfulnessDenominator  Score        Time  \\\n",
       "0                     3                       1      5  1224892800   \n",
       "1                     3                       2      4  1212883200   \n",
       "\n",
       "                                        Summary  \\\n",
       "0             Bought This for My Son at College   \n",
       "1  Pure cocoa taste with crunchy almonds inside   \n",
       "\n",
       "                                                Text  \n",
       "0  My son loves spaghetti so I didn't hesitate or...  \n",
       "1  It was almost a 'love at first bite' - the per...  "
      ]
     },
     "execution_count": 7,
     "metadata": {},
     "output_type": "execute_result"
    }
   ],
   "source": [
    "display= pd.read_sql_query(\"\"\"\n",
    "SELECT *\n",
    "FROM Reviews\n",
    "WHERE Score != 3 AND Id=44737 OR Id=64422\n",
    "ORDER BY ProductID\n",
    "\"\"\", con)\n",
    "\n",
    "display.head()"
   ]
  },
  {
   "cell_type": "code",
   "execution_count": 8,
   "metadata": {
    "colab": {},
    "colab_type": "code",
    "id": "yPVKjXvOpO6j"
   },
   "outputs": [],
   "source": [
    "final=final[final.HelpfulnessNumerator<=final.HelpfulnessDenominator]"
   ]
  },
  {
   "cell_type": "code",
   "execution_count": 9,
   "metadata": {
    "colab": {},
    "colab_type": "code",
    "id": "t36uxe9tpO6o",
    "outputId": "04780a7b-488f-4a3c-950e-c256c0e4ae0a"
   },
   "outputs": [
    {
     "name": "stdout",
     "output_type": "stream",
     "text": [
      "(364171, 10)\n"
     ]
    },
    {
     "data": {
      "text/plain": [
       "1    307061\n",
       "0     57110\n",
       "Name: Score, dtype: int64"
      ]
     },
     "execution_count": 9,
     "metadata": {},
     "output_type": "execute_result"
    }
   ],
   "source": [
    "#Before starting the next phase of preprocessing lets see the number of entries left\n",
    "print(final.shape)\n",
    "\n",
    "#How many positive and negative reviews are present in our dataset?\n",
    "final['Score'].value_counts()"
   ]
  },
  {
   "cell_type": "code",
   "execution_count": 14,
   "metadata": {},
   "outputs": [
    {
     "data": {
      "text/plain": [
       "1    50000\n",
       "0    50000\n",
       "Name: Score, dtype: int64"
      ]
     },
     "execution_count": 14,
     "metadata": {},
     "output_type": "execute_result"
    }
   ],
   "source": [
    "#Sampling 100K points  for linear kernel\n",
    "final_lin=final.groupby('Score').apply(lambda x: x.sample(50000))#sampling equal number of points from each class\n",
    "final_lin['Score'].value_counts()"
   ]
  },
  {
   "cell_type": "code",
   "execution_count": 10,
   "metadata": {
    "scrolled": true
   },
   "outputs": [
    {
     "data": {
      "text/plain": [
       "1    5000\n",
       "0    5000\n",
       "Name: Score, dtype: int64"
      ]
     },
     "execution_count": 10,
     "metadata": {},
     "output_type": "execute_result"
    }
   ],
   "source": [
    "#Sampling 20K points for rbf kernel\n",
    "final_rbf=final.groupby('Score').apply(lambda x: x.sample(5000))#sampling equal number of points from each class\n",
    "final_rbf['Score'].value_counts()"
   ]
  },
  {
   "cell_type": "markdown",
   "metadata": {
    "colab_type": "text",
    "id": "Zc-hmxu3pO6y"
   },
   "source": [
    "#  [3] Preprocessing"
   ]
  },
  {
   "cell_type": "markdown",
   "metadata": {
    "colab_type": "text",
    "id": "uVqUXvG5pO62"
   },
   "source": [
    "## [3.1].  Preprocessing Review Text\n",
    "\n",
    "Now that we have finished deduplication our data requires some preprocessing before we go on further with analysis and making the prediction model.\n",
    "\n",
    "Hence in the Preprocessing phase we do the following in the order below:-\n",
    "\n",
    "1. Begin by removing the html tags\n",
    "2. Remove any punctuations or limited set of special characters like , or . or # etc.\n",
    "3. Check if the word is made up of english letters and is not alpha-numeric\n",
    "4. Check to see if the length of the word is greater than 2 (as it was researched that there is no adjective in 2-letters)\n",
    "5. Convert the word to lowercase\n",
    "6. Remove Stopwords\n",
    "7. Finally Snowball Stemming the word (it was obsereved to be better than Porter Stemming)<br>\n",
    "\n",
    "After which we collect the words used to describe positive and negative reviews"
   ]
  },
  {
   "cell_type": "code",
   "execution_count": 16,
   "metadata": {
    "colab": {},
    "colab_type": "code",
    "id": "FToR9JJSpO64",
    "outputId": "de48a51c-f4c2-40bb-9e63-d488dff2c5b3"
   },
   "outputs": [
    {
     "name": "stdout",
     "output_type": "stream",
     "text": [
      "this witty little book makes my son laugh at loud. i recite it in the car as we're driving along and he always can sing the refrain. he's learned about whales, India, drooping roses:  i love all the new words this book  introduces and the silliness of it all.  this is a classic book i am  willing to bet my son will STILL be able to recite from memory when he is  in college\n",
      "==================================================\n",
      "I was really looking forward to these pods based on the reviews.  Starbucks is good, but I prefer bolder taste.... imagine my surprise when I ordered 2 boxes - both were expired! One expired back in 2005 for gosh sakes.  I admit that Amazon agreed to credit me for cost plus part of shipping, but geez, 2 years expired!!!  I'm hoping to find local San Diego area shoppe that carries pods so that I can try something different than starbucks.\n",
      "==================================================\n",
      "Great ingredients although, chicken should have been 1st rather than chicken broth, the only thing I do not think belongs in it is Canola oil. Canola or rapeseed is not someting a dog would ever find in nature and if it did find rapeseed in nature and eat it, it would poison them. Today's Food industries have convinced the masses that Canola oil is a safe and even better oil than olive or virgin coconut, facts though say otherwise. Until the late 70's it was poisonous until they figured out a way to fix that. I still like it but it could be better.\n",
      "==================================================\n",
      "Can't do sugar.  Have tried scores of SF Syrups.  NONE of them can touch the excellence of this product.<br /><br />Thick, delicious.  Perfect.  3 ingredients: Water, Maltitol, Natural Maple Flavor.  PERIOD.  No chemicals.  No garbage.<br /><br />Have numerous friends & family members hooked on this stuff.  My husband & son, who do NOT like \"sugar free\" prefer this over major label regular syrup.<br /><br />I use this as my SWEETENER in baking: cheesecakes, white brownies, muffins, pumpkin pies, etc... Unbelievably delicious...<br /><br />Can you tell I like it? :)\n",
      "==================================================\n"
     ]
    }
   ],
   "source": [
    "# printing some random reviews\n",
    "sent_0 = final['Text'].values[0]\n",
    "print(sent_0)\n",
    "print(\"=\"*50)\n",
    "\n",
    "sent_1000 = final['Text'].values[1000]\n",
    "print(sent_1000)\n",
    "print(\"=\"*50)\n",
    "\n",
    "sent_1500 = final['Text'].values[1500]\n",
    "print(sent_1500)\n",
    "print(\"=\"*50)\n",
    "\n",
    "sent_4900 = final['Text'].values[4900]\n",
    "print(sent_4900)\n",
    "print(\"=\"*50)"
   ]
  },
  {
   "cell_type": "code",
   "execution_count": 17,
   "metadata": {
    "colab": {},
    "colab_type": "code",
    "id": "uxv924MZpO68",
    "outputId": "1a1c7c85-cd7d-4010-9f62-34be01f9a66d"
   },
   "outputs": [
    {
     "name": "stdout",
     "output_type": "stream",
     "text": [
      "this witty little book makes my son laugh at loud. i recite it in the car as we're driving along and he always can sing the refrain. he's learned about whales, India, drooping roses:  i love all the new words this book  introduces and the silliness of it all.  this is a classic book i am  willing to bet my son will STILL be able to recite from memory when he is  in college\n"
     ]
    }
   ],
   "source": [
    "# remove urls from text python: https://stackoverflow.com/a/40823105/4084039\n",
    "sent_0 = re.sub(r\"http\\S+\", \"\", sent_0)\n",
    "sent_1000 = re.sub(r\"http\\S+\", \"\", sent_1000)\n",
    "sent_150 = re.sub(r\"http\\S+\", \"\", sent_1500)\n",
    "sent_4900 = re.sub(r\"http\\S+\", \"\", sent_4900)\n",
    "\n",
    "print(sent_0)"
   ]
  },
  {
   "cell_type": "code",
   "execution_count": 12,
   "metadata": {},
   "outputs": [],
   "source": [
    "from bs4 import BeautifulSoup"
   ]
  },
  {
   "cell_type": "code",
   "execution_count": 13,
   "metadata": {
    "colab": {},
    "colab_type": "code",
    "id": "erGzKAF2pO7H"
   },
   "outputs": [],
   "source": [
    "# https://stackoverflow.com/a/47091490/4084039\n",
    "import re\n",
    "\n",
    "def decontracted(phrase):\n",
    "    # specific\n",
    "    phrase = re.sub(r\"won't\", \"will not\", phrase)\n",
    "    phrase = re.sub(r\"can\\'t\", \"can not\", phrase)\n",
    "\n",
    "    # general\n",
    "    phrase = re.sub(r\"n\\'t\", \" not\", phrase)\n",
    "    phrase = re.sub(r\"\\'re\", \" are\", phrase)\n",
    "    phrase = re.sub(r\"\\'s\", \" is\", phrase)\n",
    "    phrase = re.sub(r\"\\'d\", \" would\", phrase)\n",
    "    phrase = re.sub(r\"\\'ll\", \" will\", phrase)\n",
    "    phrase = re.sub(r\"\\'t\", \" not\", phrase)\n",
    "    phrase = re.sub(r\"\\'ve\", \" have\", phrase)\n",
    "    phrase = re.sub(r\"\\'m\", \" am\", phrase)\n",
    "    return phrase"
   ]
  },
  {
   "cell_type": "code",
   "execution_count": 20,
   "metadata": {
    "colab": {},
    "colab_type": "code",
    "id": "aN6K5ECypO7J",
    "outputId": "0a66d4b8-453f-44fc-a2cf-8fe19a2ed498"
   },
   "outputs": [
    {
     "name": "stdout",
     "output_type": "stream",
     "text": [
      "Great ingredients although, chicken should have been 1st rather than chicken broth, the only thing I do not think belongs in it is Canola oil. Canola or rapeseed is not someting a dog would ever find in nature and if it did find rapeseed in nature and eat it, it would poison them. Today is Food industries have convinced the masses that Canola oil is a safe and even better oil than olive or virgin coconut, facts though say otherwise. Until the late 70 is it was poisonous until they figured out a way to fix that. I still like it but it could be better.\n",
      "==================================================\n"
     ]
    }
   ],
   "source": [
    "sent_1500 = decontracted(sent_1500)\n",
    "print(sent_1500)\n",
    "print(\"=\"*50)"
   ]
  },
  {
   "cell_type": "code",
   "execution_count": 21,
   "metadata": {
    "colab": {},
    "colab_type": "code",
    "id": "wX4EGcKEpO7O",
    "outputId": "5748e54e-26ba-4b31-ea3c-6cf084ee4620"
   },
   "outputs": [
    {
     "name": "stdout",
     "output_type": "stream",
     "text": [
      "this witty little book makes my son laugh at loud. i recite it in the car as we're driving along and he always can sing the refrain. he's learned about whales, India, drooping roses:  i love all the new words this book  introduces and the silliness of it all.  this is a classic book i am  willing to bet my son will STILL be able to recite from memory when he is  in college\n"
     ]
    }
   ],
   "source": [
    "#remove words with numbers python: https://stackoverflow.com/a/18082370/4084039\n",
    "sent_0 = re.sub(\"\\S*\\d\\S*\", \"\", sent_0).strip()\n",
    "print(sent_0)"
   ]
  },
  {
   "cell_type": "code",
   "execution_count": 22,
   "metadata": {
    "colab": {},
    "colab_type": "code",
    "id": "mstzeKxfpO7R",
    "outputId": "f2365ff5-fe75-4ae6-a0cb-5185c096a4e2"
   },
   "outputs": [
    {
     "name": "stdout",
     "output_type": "stream",
     "text": [
      "Great ingredients although chicken should have been 1st rather than chicken broth the only thing I do not think belongs in it is Canola oil Canola or rapeseed is not someting a dog would ever find in nature and if it did find rapeseed in nature and eat it it would poison them Today is Food industries have convinced the masses that Canola oil is a safe and even better oil than olive or virgin coconut facts though say otherwise Until the late 70 is it was poisonous until they figured out a way to fix that I still like it but it could be better \n"
     ]
    }
   ],
   "source": [
    "#remove spacial character: https://stackoverflow.com/a/5843547/4084039\n",
    "sent_1500 = re.sub('[^A-Za-z0-9]+', ' ', sent_1500)\n",
    "print(sent_1500)"
   ]
  },
  {
   "cell_type": "code",
   "execution_count": 14,
   "metadata": {
    "colab": {},
    "colab_type": "code",
    "id": "GHaDK2eBpO7W"
   },
   "outputs": [],
   "source": [
    "# https://gist.github.com/sebleier/554280\n",
    "# we are removing the words from the stop words list: 'no', 'nor', 'not'\n",
    "# <br /><br /> ==> after the above steps, we are getting \"br br\"\n",
    "# we are including them into stop words list\n",
    "# instead of <br /> if we have <br/> these tags would have revmoved in the 1st step\n",
    "\n",
    "stopwords= set(['br', 'the', 'i', 'me', 'my', 'myself', 'we', 'our', 'ours', 'ourselves', 'you', \"you're\", \"you've\",\\\n",
    "            \"you'll\", \"you'd\", 'your', 'yours', 'yourself', 'yourselves', 'he', 'him', 'his', 'himself', \\\n",
    "            'she', \"she's\", 'her', 'hers', 'herself', 'it', \"it's\", 'its', 'itself', 'they', 'them', 'their',\\\n",
    "            'theirs', 'themselves', 'what', 'which', 'who', 'whom', 'this', 'that', \"that'll\", 'these', 'those', \\\n",
    "            'am', 'is', 'are', 'was', 'were', 'be', 'been', 'being', 'have', 'has', 'had', 'having', 'do', 'does', \\\n",
    "            'did', 'doing', 'a', 'an', 'the', 'and', 'but', 'if', 'or', 'because', 'as', 'until', 'while', 'of', \\\n",
    "            'at', 'by', 'for', 'with', 'about', 'against', 'between', 'into', 'through', 'during', 'before', 'after',\\\n",
    "            'above', 'below', 'to', 'from', 'up', 'down', 'in', 'out', 'on', 'off', 'over', 'under', 'again', 'further',\\\n",
    "            'then', 'once', 'here', 'there', 'when', 'where', 'why', 'how', 'all', 'any', 'both', 'each', 'few', 'more',\\\n",
    "            'most', 'other', 'some', 'such', 'only', 'own', 'same', 'so', 'than', 'too', 'very', \\\n",
    "            's', 't', 'can', 'will', 'just', 'don', \"don't\", 'should', \"should've\", 'now', 'd', 'll', 'm', 'o', 're', \\\n",
    "            've', 'y', 'ain', 'aren', \"aren't\", 'couldn', \"couldn't\", 'didn', \"didn't\", 'doesn', \"doesn't\", 'hadn',\\\n",
    "            \"hadn't\", 'hasn', \"hasn't\", 'haven', \"haven't\", 'isn', \"isn't\", 'ma', 'mightn', \"mightn't\", 'mustn',\\\n",
    "            \"mustn't\", 'needn', \"needn't\", 'shan', \"shan't\", 'shouldn', \"shouldn't\", 'wasn', \"wasn't\", 'weren', \"weren't\", \\\n",
    "            'won', \"won't\", 'wouldn', \"wouldn't\"])"
   ]
  },
  {
   "cell_type": "code",
   "execution_count": 24,
   "metadata": {
    "colab": {},
    "colab_type": "code",
    "id": "76ewKFCFpO7Z",
    "outputId": "3113f769-6759-46ed-e9b0-531a6ea3e082"
   },
   "outputs": [
    {
     "name": "stderr",
     "output_type": "stream",
     "text": [
      "100%|████████████████████████████████| 100000/100000 [00:57<00:00, 1727.31it/s]\n"
     ]
    }
   ],
   "source": [
    "# Preprocessing reviews for linear kernel\n",
    "preprocessed_lin = []\n",
    "# tqdm is for printing the status bar\n",
    "for sentance in tqdm(final_lin['Text'].values):\n",
    "    sentance = re.sub(r\"http\\S+\", \"\", sentance)\n",
    "    sentance = BeautifulSoup(sentance, 'lxml').get_text()\n",
    "    sentance = decontracted(sentance)\n",
    "    sentance = re.sub(\"\\S*\\d\\S*\", \"\", sentance).strip()\n",
    "    sentance = re.sub('[^A-Za-z]+', ' ', sentance)\n",
    "    # https://gist.github.com/sebleier/554280\n",
    "    sentance = ' '.join(e.lower() for e in sentance.split() if e.lower() not in stopwords)\n",
    "    preprocessed_lin.append(sentance.strip())"
   ]
  },
  {
   "cell_type": "code",
   "execution_count": 15,
   "metadata": {},
   "outputs": [
    {
     "name": "stderr",
     "output_type": "stream",
     "text": [
      "100%|██████████████████████████████████| 10000/10000 [00:06<00:00, 1541.90it/s]\n"
     ]
    }
   ],
   "source": [
    "# Preprocessing reviews for rbf kernel\n",
    "preprocessed_rbf = []\n",
    "# tqdm is for printing the status bar\n",
    "for sentance in tqdm(final_rbf['Text'].values):\n",
    "    sentance = re.sub(r\"http\\S+\", \"\", sentance)\n",
    "    sentance = BeautifulSoup(sentance, 'lxml').get_text()\n",
    "    sentance = decontracted(sentance)\n",
    "    sentance = re.sub(\"\\S*\\d\\S*\", \"\", sentance).strip()\n",
    "    sentance = re.sub('[^A-Za-z]+', ' ', sentance)\n",
    "    # https://gist.github.com/sebleier/554280\n",
    "    sentance = ' '.join(e.lower() for e in sentance.split() if e.lower() not in stopwords)\n",
    "    preprocessed_rbf.append(sentance.strip())"
   ]
  },
  {
   "cell_type": "code",
   "execution_count": 26,
   "metadata": {
    "colab": {},
    "colab_type": "code",
    "id": "c57mgF1ipO7d",
    "outputId": "668f6d7a-4812-406b-ba1e-a9a8510b312a",
    "scrolled": true
   },
   "outputs": [
    {
     "data": {
      "text/plain": [
       "'gotta say love idea behind product said flavor disappointing would preferred try unflavored plain one first flavor start better option packaged minimum crap far low carbon footprint relative coconut waters not taste anything remotely like coconut water would say maybe slight bubble gum flavor not neon florescent pink color looks like imagine pink lemonade made crystal lite lose not refreshing zippy top package bit pita would like try plain one writing product entirely really like big tree farms make better product recommend staying away one'"
      ]
     },
     "execution_count": 26,
     "metadata": {},
     "output_type": "execute_result"
    }
   ],
   "source": [
    "preprocessed_lin[1500]"
   ]
  },
  {
   "cell_type": "code",
   "execution_count": 16,
   "metadata": {},
   "outputs": [
    {
     "data": {
      "text/plain": [
       "'not like flavor well mexican vanilla bottle drips every time used annoying not buy'"
      ]
     },
     "execution_count": 16,
     "metadata": {},
     "output_type": "execute_result"
    }
   ],
   "source": [
    "preprocessed_rbf[1500]"
   ]
  },
  {
   "cell_type": "code",
   "execution_count": 17,
   "metadata": {},
   "outputs": [],
   "source": [
    "final_rbf['CleanedText']=preprocessed_rbf"
   ]
  },
  {
   "cell_type": "code",
   "execution_count": 93,
   "metadata": {},
   "outputs": [],
   "source": [
    "#adding a column of CleanedText which displays the data after pre-processing of the review \n",
    "final_lin['CleanedText']=preprocessed_lin\n",
    "final_rbf['CleanedText']=preprocessed_rbf"
   ]
  },
  {
   "cell_type": "markdown",
   "metadata": {
    "colab_type": "text",
    "id": "a6hUriQrpO7g"
   },
   "source": [
    "<h2><font color='red'>[3.2] Preprocessing Review Summary</font></h2>"
   ]
  },
  {
   "cell_type": "code",
   "execution_count": 29,
   "metadata": {
    "colab": {},
    "colab_type": "code",
    "id": "N8TstuFnpO7i"
   },
   "outputs": [
    {
     "name": "stderr",
     "output_type": "stream",
     "text": [
      "100%|████████████████████████████████| 364171/364171 [02:13<00:00, 2723.14it/s]\n"
     ]
    }
   ],
   "source": [
    "preprocessed_summary = []\n",
    "# tqdm is for printing the status bar\n",
    "for sentance in tqdm(final['Summary'].values):\n",
    "    sentance = re.sub(r\"http\\S+\", \"\", sentance)\n",
    "    sentance = BeautifulSoup(sentance, 'lxml').get_text()\n",
    "    sentance = decontracted(sentance)\n",
    "    sentance = re.sub(\"\\S*\\d\\S*\", \"\", sentance).strip()\n",
    "    sentance = re.sub('[^A-Za-z]+', ' ', sentance)\n",
    "    # https://gist.github.com/sebleier/554280\n",
    "    sentance = ' '.join(e.lower() for e in sentance.split() if e.lower() not in stopwords)\n",
    "    preprocessed_summary.append(sentance.strip())"
   ]
  },
  {
   "cell_type": "code",
   "execution_count": 30,
   "metadata": {},
   "outputs": [
    {
     "data": {
      "text/plain": [
       "'every book educational'"
      ]
     },
     "execution_count": 30,
     "metadata": {},
     "output_type": "execute_result"
    }
   ],
   "source": [
    "preprocessed_summary[0]"
   ]
  },
  {
   "cell_type": "markdown",
   "metadata": {
    "colab_type": "text",
    "id": "4RFluNA5pO7k"
   },
   "source": [
    "# [4] Featurization"
   ]
  },
  {
   "cell_type": "code",
   "execution_count": 18,
   "metadata": {},
   "outputs": [],
   "source": [
    "X_rbf = np.array(final_rbf['CleanedText']) \n",
    "Y_rbf= np.array(final_rbf['Score']) \n"
   ]
  },
  {
   "cell_type": "code",
   "execution_count": 94,
   "metadata": {},
   "outputs": [],
   "source": [
    "#Storing processed reviews and corresponding Scores separately\n",
    "X_lin = np.array(final_lin['CleanedText'])\n",
    "Y_lin = np.array(final_lin['Score']) \n",
    "X_rbf = np.array(final_rbf['CleanedText']) \n",
    "Y_rbf= np.array(final_rbf['Score']) \n"
   ]
  },
  {
   "cell_type": "code",
   "execution_count": 20,
   "metadata": {},
   "outputs": [
    {
     "name": "stderr",
     "output_type": "stream",
     "text": [
      "C:\\Users\\SABEENA\\Anaconda3\\lib\\site-packages\\sklearn\\cross_validation.py:41: DeprecationWarning: This module was deprecated in version 0.18 in favor of the model_selection module into which all the refactored classes and functions are moved. Also note that the interface of the new CV iterators are different from that of this module. This module will be removed in 0.20.\n",
      "  \"This module will be removed in 0.20.\", DeprecationWarning)\n"
     ]
    }
   ],
   "source": [
    "#Train Test Splitcross_validation.train_test_split\n",
    "from sklearn.cross_validation import train_test_split\n",
    "X_rtrain, X_rtest, Y_rtrain, Y_rtest = train_test_split (X_rbf, Y_rbf, test_size=0.3, random_state=0)\n"
   ]
  },
  {
   "cell_type": "code",
   "execution_count": 95,
   "metadata": {},
   "outputs": [],
   "source": [
    "from sklearn.cross_validation import train_test_split\n",
    "#Train Test Splitcross_validation.train_test_split\n",
    "X_ltrain, X_ltest, Y_ltrain, Y_ltest = train_test_split (X_lin, Y_lin, test_size=0.3, random_state=0)\n",
    "#Train Test Splitcross_validation.train_test_split\n",
    "X_rtrain, X_rtest, Y_rtrain, Y_rtest = train_test_split (X_rbf, Y_rbf, test_size=0.3, random_state=0)\n"
   ]
  },
  {
   "cell_type": "markdown",
   "metadata": {
    "colab_type": "text",
    "id": "GBXf8ZVQpO7l"
   },
   "source": [
    "## [4.1] BAG OF WORDS"
   ]
  },
  {
   "cell_type": "code",
   "execution_count": 33,
   "metadata": {
    "colab": {},
    "colab_type": "code",
    "collapsed": true,
    "id": "or8NFw3rpO7m",
    "outputId": "518f2f8a-8498-49d0-9f62-641461ae1080"
   },
   "outputs": [
    {
     "ename": "NameError",
     "evalue": "name 'preprocessed_reviews' is not defined",
     "output_type": "error",
     "traceback": [
      "\u001b[1;31m---------------------------------------------------------------------------\u001b[0m",
      "\u001b[1;31mNameError\u001b[0m                                 Traceback (most recent call last)",
      "\u001b[1;32m<ipython-input-33-b1e8214bd9c9>\u001b[0m in \u001b[0;36m<module>\u001b[1;34m()\u001b[0m\n\u001b[0;32m      1\u001b[0m \u001b[1;31m#BoW\u001b[0m\u001b[1;33m\u001b[0m\u001b[1;33m\u001b[0m\u001b[0m\n\u001b[0;32m      2\u001b[0m \u001b[0mcount_vect\u001b[0m \u001b[1;33m=\u001b[0m \u001b[0mCountVectorizer\u001b[0m\u001b[1;33m(\u001b[0m\u001b[1;33m)\u001b[0m \u001b[1;31m#in scikit-learn\u001b[0m\u001b[1;33m\u001b[0m\u001b[0m\n\u001b[1;32m----> 3\u001b[1;33m \u001b[0mcount_vect\u001b[0m\u001b[1;33m.\u001b[0m\u001b[0mfit\u001b[0m\u001b[1;33m(\u001b[0m\u001b[0mpreprocessed_reviews\u001b[0m\u001b[1;33m)\u001b[0m\u001b[1;33m\u001b[0m\u001b[0m\n\u001b[0m\u001b[0;32m      4\u001b[0m \u001b[0mprint\u001b[0m\u001b[1;33m(\u001b[0m\u001b[1;34m\"some feature names \"\u001b[0m\u001b[1;33m,\u001b[0m \u001b[0mcount_vect\u001b[0m\u001b[1;33m.\u001b[0m\u001b[0mget_feature_names\u001b[0m\u001b[1;33m(\u001b[0m\u001b[1;33m)\u001b[0m\u001b[1;33m[\u001b[0m\u001b[1;33m:\u001b[0m\u001b[1;36m10\u001b[0m\u001b[1;33m]\u001b[0m\u001b[1;33m)\u001b[0m\u001b[1;33m\u001b[0m\u001b[0m\n\u001b[0;32m      5\u001b[0m \u001b[0mprint\u001b[0m\u001b[1;33m(\u001b[0m\u001b[1;34m'='\u001b[0m\u001b[1;33m*\u001b[0m\u001b[1;36m50\u001b[0m\u001b[1;33m)\u001b[0m\u001b[1;33m\u001b[0m\u001b[0m\n",
      "\u001b[1;31mNameError\u001b[0m: name 'preprocessed_reviews' is not defined"
     ]
    }
   ],
   "source": [
    "#BoW\n",
    "count_vect = CountVectorizer() #in scikit-learn\n",
    "count_vect.fit(preprocessed_reviews)\n",
    "print(\"some feature names \", count_vect.get_feature_names()[:10])\n",
    "print('='*50)\n",
    "\n",
    "final_counts = count_vect.transform(preprocessed_reviews)\n",
    "print(\"the type of count vectorizer \",type(final_counts))\n",
    "print(\"the shape of out text BOW vectorizer \",final_counts.get_shape())\n",
    "print(\"the number of unique words \", final_counts.get_shape()[1])"
   ]
  },
  {
   "cell_type": "markdown",
   "metadata": {
    "colab_type": "text",
    "id": "bi248V8rpO7w"
   },
   "source": [
    "## [4.2] Bi-Grams and n-Grams."
   ]
  },
  {
   "cell_type": "code",
   "execution_count": 33,
   "metadata": {
    "colab": {},
    "colab_type": "code",
    "id": "1MJk3eRfpO7y",
    "outputId": "e755d3a2-39c3-42b7-85e1-ffe973a73008"
   },
   "outputs": [],
   "source": [
    "#For linear kernel\n",
    "# count_vect = CountVectorizer(ngram_range=(1,2))\n",
    "\n",
    "count_bvect = CountVectorizer(ngram_range=(1,2), min_df=10, max_features=5000)\n",
    "final_counts=count_bvect.fit(X_ltrain)\n",
    "\n",
    "Xtrain_lbow = final_counts.transform(X_ltrain)\n",
    "Xtest_lbow = final_counts.transform(X_ltest)\n",
    "\n"
   ]
  },
  {
   "cell_type": "code",
   "execution_count": 21,
   "metadata": {},
   "outputs": [],
   "source": [
    "#For rbf kernel\n",
    "# count_vect = CountVectorizer(ngram_range=(1,2))\n",
    "\n",
    "count_bvect = CountVectorizer(ngram_range=(1,2), min_df=10, max_features=500)\n",
    "final_counts=count_bvect.fit(X_rtrain)\n",
    "\n",
    "Xtrain_rbow = final_counts.transform(X_rtrain)\n",
    "Xtest_rbow = final_counts.transform(X_rtest)\n",
    "\n"
   ]
  },
  {
   "cell_type": "markdown",
   "metadata": {
    "colab_type": "text",
    "id": "zfF2bAQ-pO73"
   },
   "source": [
    "## [4.3] TF-IDF"
   ]
  },
  {
   "cell_type": "code",
   "execution_count": 35,
   "metadata": {
    "colab": {},
    "colab_type": "code",
    "id": "YsxA55rOpO73",
    "outputId": "e4105ce4-9970-4c86-aa78-843056c15aef"
   },
   "outputs": [
    {
     "name": "stdout",
     "output_type": "stream",
     "text": [
      "some sample features(unique words in the corpus) ['ability', 'able', 'able buy', 'able find', 'able get', 'absolute', 'absolutely', 'absolutely delicious', 'absolutely love', 'absolutely no']\n"
     ]
    }
   ],
   "source": [
    "#for linear kernel\n",
    "tf_idf_vect = TfidfVectorizer(ngram_range=(1,2), min_df=10,max_features=5000)\n",
    "final_count=tf_idf_vect.fit(X_ltrain)\n",
    "print(\"some sample features(unique words in the corpus)\",tf_idf_vect.get_feature_names()[0:10])\n",
    "\n",
    "\n",
    "Xtrain_ltf = final_count.transform(X_ltrain)\n",
    "Xtest_ltf = final_count.transform(X_ltest)\n"
   ]
  },
  {
   "cell_type": "code",
   "execution_count": 22,
   "metadata": {},
   "outputs": [
    {
     "name": "stdout",
     "output_type": "stream",
     "text": [
      "some sample features(unique words in the corpus) ['able', 'absolutely', 'actually', 'add', 'added', 'aftertaste', 'ago', 'almost', 'already', 'also']\n"
     ]
    }
   ],
   "source": [
    "#for rbf kernel\n",
    "tf_idf_vect = TfidfVectorizer(ngram_range=(1,2), min_df=10,max_features=500)\n",
    "final_count=tf_idf_vect.fit(X_rtrain)\n",
    "print(\"some sample features(unique words in the corpus)\",tf_idf_vect.get_feature_names()[0:10])\n",
    "\n",
    "\n",
    "Xtrain_rtf = final_count.transform(X_rtrain)\n",
    "Xtest_rtf = final_count.transform(X_rtest)\n"
   ]
  },
  {
   "cell_type": "markdown",
   "metadata": {
    "colab_type": "text",
    "id": "OxqJE2srpO77"
   },
   "source": [
    "## [4.4] Word2Vec"
   ]
  },
  {
   "cell_type": "code",
   "execution_count": 37,
   "metadata": {
    "colab": {},
    "colab_type": "code",
    "id": "BOFu8htTpO78"
   },
   "outputs": [],
   "source": [
    "#For linear kernel\n",
    "# Train your own Word2Vec model using your own text corpus\n",
    "i=0\n",
    "ltrainsent=[]\n",
    "for sentance in X_ltrain:\n",
    "    ltrainsent.append(sentance.split())"
   ]
  },
  {
   "cell_type": "code",
   "execution_count": 38,
   "metadata": {},
   "outputs": [],
   "source": [
    "#For linear kernel\n",
    "# Train your own Word2Vec model using your own text corpus\n",
    "i=0\n",
    "ltestsent=[]\n",
    "for sentance in X_ltest:\n",
    "    ltestsent.append(sentance.split())"
   ]
  },
  {
   "cell_type": "code",
   "execution_count": 39,
   "metadata": {
    "colab": {},
    "colab_type": "code",
    "id": "jQwkk1FGpO7-",
    "outputId": "f4cb8399-ceef-40b9-9825-25e9ffad6493",
    "scrolled": true
   },
   "outputs": [
    {
     "name": "stdout",
     "output_type": "stream",
     "text": [
      "[('fantastic', 0.8430085182189941), ('wonderful', 0.8328012824058533), ('awesome', 0.8308039903640747), ('good', 0.8290488719940186), ('excellent', 0.8153398633003235), ('perfect', 0.7900255918502808), ('amazing', 0.7499525547027588), ('terrific', 0.7369451522827148), ('nice', 0.72100830078125), ('fabulous', 0.6844273805618286)]\n",
      "==================================================\n",
      "[('nastiest', 0.8179787397384644), ('best', 0.7606886029243469), ('greatest', 0.7463794350624084), ('horrid', 0.6943187713623047), ('weakest', 0.6771135330200195), ('blandest', 0.6570944786071777), ('disgusting', 0.6527766585350037), ('foul', 0.618190348148346), ('vile', 0.6120383739471436), ('worse', 0.5862246155738831)]\n"
     ]
    }
   ],
   "source": [
    "# Using Google News Word2Vectors\n",
    "\n",
    "# in this project we are using a pretrained model by google\n",
    "# its 3.3G file, once you load this into your memory \n",
    "# it occupies ~9Gb, so please do this step only if you have >12G of ram\n",
    "# we will provide a pickle file wich contains a dict , \n",
    "# and it contains all our courpus words as keys and  model[word] as values\n",
    "# To use this code-snippet, download \"GoogleNews-vectors-negative300.bin\" \n",
    "# from https://drive.google.com/file/d/0B7XkCwpI5KDYNlNUTTlSS21pQmM/edit\n",
    "# it's 1.9GB in size.\n",
    "\n",
    "\n",
    "# http://kavita-ganesan.com/gensim-word2vec-tutorial-starter-code/#.W17SRFAzZPY\n",
    "# you can comment this whole cell\n",
    "# or change these varible according to your need\n",
    "\n",
    "is_your_ram_gt_16g=False\n",
    "want_to_use_google_w2v = False\n",
    "want_to_train_w2v = True\n",
    "\n",
    "if want_to_train_w2v:\n",
    "    # min_count = 5 considers only words that occured atleast 5 times\n",
    "    w2v_lmodel=Word2Vec(ltrainsent,min_count=5,size=50, workers=4)\n",
    "    print(w2v_lmodel.wv.most_similar('great'))\n",
    "    print('='*50)\n",
    "    print(w2v_lmodel.wv.most_similar('worst'))\n",
    "    \n",
    "elif want_to_use_google_w2v and is_your_ram_gt_16g:\n",
    "    if os.path.isfile('GoogleNews-vectors-negative300.bin'):\n",
    "        w2v_lmodel=KeyedVectors.load_word2vec_format('GoogleNews-vectors-negative300.bin', binary=True)\n",
    "        print(w2v_lmodel.wv.most_similar('great'))\n",
    "        print(w2v_lmodel.wv.most_similar('worst'))\n",
    "    else:\n",
    "        print(\"you don't have gogole's word2vec file, keep want_to_train_w2v = True, to train your own w2v \")"
   ]
  },
  {
   "cell_type": "code",
   "execution_count": 40,
   "metadata": {
    "colab": {},
    "colab_type": "code",
    "id": "7MTRMxp5pO8D",
    "outputId": "451e172f-cacb-4b54-a481-fffe6f9ffe02",
    "scrolled": true
   },
   "outputs": [
    {
     "name": "stdout",
     "output_type": "stream",
     "text": [
      "number of words that occured minimum 5 times  16535\n",
      "sample words  ['gave', 'oregon', 'chai', 'try', 'local', 'grocery', 'store', 'not', 'tazo', 'big', 'mistake', 'somehow', 'watery', 'tasting', 'sweet', 'time', 'no', 'spice', 'used', 'starbucks', 'like', 'stuff', 'cereal', 'great', 'even', 'snacking', 'shop', 'often', 'gluten', 'free', 'products', 'chex', 'one', 'love', 'taste', 'waited', 'many', 'years', 'discover', 'quick', 'easy', 'dairy', 'oatmeal', 'porridge', 'stumbled', 'upon', 'item', 'knowing', 'flavour', 'would']\n"
     ]
    }
   ],
   "source": [
    "w2v_lwords = list(w2v_lmodel.wv.vocab)\n",
    "print(\"number of words that occured minimum 5 times \",len(w2v_lwords))\n",
    "print(\"sample words \", w2v_lwords[0:50])"
   ]
  },
  {
   "cell_type": "code",
   "execution_count": 23,
   "metadata": {},
   "outputs": [],
   "source": [
    "#For rbf kerenel\n",
    "# Train your own Word2Vec model using your own text corpus\n",
    "i=0\n",
    "rtrainsent=[]\n",
    "for sentance in X_rtrain:\n",
    "    rtrainsent.append(sentance.split())"
   ]
  },
  {
   "cell_type": "code",
   "execution_count": 33,
   "metadata": {},
   "outputs": [],
   "source": [
    "#For rbf kerenel\n",
    "# Train your own Word2Vec model using your own text corpus\n",
    "i=0\n",
    "rtestsent=[]\n",
    "for sentance in X_rtest:\n",
    "    rtestsent.append(sentance.split())"
   ]
  },
  {
   "cell_type": "code",
   "execution_count": 25,
   "metadata": {},
   "outputs": [
    {
     "name": "stdout",
     "output_type": "stream",
     "text": [
      "[('looking', 0.9634610414505005), ('actually', 0.951734721660614), ('way', 0.9491438269615173), ('wonderful', 0.947119951248169), ('colombian', 0.9464544057846069), ('pleasant', 0.9455810189247131), ('ever', 0.9454758763313293), ('chai', 0.945168137550354), ('quite', 0.9440862536430359), ('lemony', 0.9437581300735474)]\n",
      "==================================================\n",
      "[('aromatic', 0.993448793888092), ('subtle', 0.9929543137550354), ('fan', 0.9927402138710022), ('fruity', 0.9926583766937256), ('flavorful', 0.9924696087837219), ('chai', 0.9923957586288452), ('aroma', 0.9923620223999023), ('cider', 0.9922524094581604), ('coffees', 0.992186427116394), ('peppermint', 0.9921817779541016)]\n"
     ]
    }
   ],
   "source": [
    "# Using Google News Word2Vectors\n",
    "\n",
    "# in this project we are using a pretrained model by google\n",
    "# its 3.3G file, once you load this into your memory \n",
    "# it occupies ~9Gb, so please do this step only if you have >12G of ram\n",
    "# we will provide a pickle file wich contains a dict , \n",
    "# and it contains all our courpus words as keys and  model[word] as values\n",
    "# To use this code-snippet, download \"GoogleNews-vectors-negative300.bin\" \n",
    "# from https://drive.google.com/file/d/0B7XkCwpI5KDYNlNUTTlSS21pQmM/edit\n",
    "# it's 1.9GB in size.\n",
    "\n",
    "\n",
    "# http://kavita-ganesan.com/gensim-word2vec-tutorial-starter-code/#.W17SRFAzZPY\n",
    "# you can comment this whole cell\n",
    "# or change these varible according to your need\n",
    "\n",
    "is_your_ram_gt_16g=False\n",
    "want_to_use_google_w2v = False\n",
    "want_to_train_w2v = True\n",
    "\n",
    "if want_to_train_w2v:\n",
    "    # min_count = 5 considers only words that occured atleast 5 times\n",
    "    w2v_rmodel=Word2Vec(rtrainsent,min_count=5,size=50, workers=4)\n",
    "    print(w2v_rmodel.wv.most_similar('great'))\n",
    "    print('='*50)\n",
    "    print(w2v_rmodel.wv.most_similar('worst'))\n",
    "    \n",
    "elif want_to_use_google_w2v and is_your_ram_gt_16g:\n",
    "    if os.path.isfile('GoogleNews-vectors-negative300.bin'):\n",
    "        w2v_model=KeyedVectors.load_word2vec_format('GoogleNews-vectors-negative300.bin', binary=True)\n",
    "        print(w2v_model.wv.most_similar('great'))\n",
    "        print(w2v_model.wv.most_similar('worst'))\n",
    "    else:\n",
    "        print(\"you don't have gogole's word2vec file, keep want_to_train_w2v = True, to train your own w2v \")"
   ]
  },
  {
   "cell_type": "code",
   "execution_count": 26,
   "metadata": {},
   "outputs": [
    {
     "name": "stdout",
     "output_type": "stream",
     "text": [
      "number of words that occured minimum 5 times  5195\n",
      "sample words  ['not', 'much', 'dessert', 'person', 'prefer', 'savory', 'foods', 'sweets', 'especially', 'super', 'chocolate', 'fan', 'oh', 'brownies', 'amazing', 'admit', 'trying', 'frosting', 'first', 'turned', 'upon', 'omg', 'impressed', 'pretty', 'sweet', 'think', 'would', 'like', 'better', 'walnuts', 'add', 'next', 'time', 'still', 'tastes', 'agree', 'previous', 'positive', 'reviews', 'texture', 'makes', 'special', 'moist', 'chewy', 'thick', 'eat', 'brew', 'sun', 'tea', 'jar']\n"
     ]
    }
   ],
   "source": [
    "w2v_rwords = list(w2v_rmodel.wv.vocab)\n",
    "print(\"number of words that occured minimum 5 times \",len(w2v_rwords))\n",
    "print(\"sample words \", w2v_rwords[0:50])"
   ]
  },
  {
   "cell_type": "markdown",
   "metadata": {
    "colab_type": "text",
    "id": "MYDANPsTpO8I"
   },
   "source": [
    "## [4.4.1] Converting text into vectors using Avg W2V, TFIDF-W2V"
   ]
  },
  {
   "cell_type": "markdown",
   "metadata": {
    "colab_type": "text",
    "id": "yAxzJtJ7pO8J"
   },
   "source": [
    "#### [4.4.1.1] Avg W2v"
   ]
  },
  {
   "cell_type": "code",
   "execution_count": 45,
   "metadata": {
    "colab": {},
    "colab_type": "code",
    "id": "Cg4IDY32pO8K",
    "outputId": "9c709a70-2f13-4b76-de8d-3a77b6468e94"
   },
   "outputs": [
    {
     "name": "stderr",
     "output_type": "stream",
     "text": [
      "100%|███████████████████████████████████| 70000/70000 [03:23<00:00, 343.46it/s]\n"
     ]
    },
    {
     "name": "stdout",
     "output_type": "stream",
     "text": [
      "70000\n",
      "50\n"
     ]
    }
   ],
   "source": [
    "# average Word2Vec for train data (linear kernel)\n",
    "\n",
    "lin_train = []; # the avg-w2v for each sentence/review is stored in this list\n",
    "for sent in tqdm(ltrainsent): # for each review/sentence\n",
    "    sent_vec = np.zeros(50) # as word vectors are of zero length 50, you might need to change this to 300 if you use google's w2v\n",
    "    cnt_words =0; # num of words with a valid vector in the sentence/review\n",
    "    for word in sent: # for each word in a review/sentence\n",
    "        if word in w2v_lwords:\n",
    "            vec = w2v_lmodel.wv[word]\n",
    "            sent_vec += vec\n",
    "            cnt_words += 1\n",
    "    if cnt_words != 0:\n",
    "        sent_vec /= cnt_words\n",
    "    lin_train.append(sent_vec)\n",
    "print(len(lin_train))\n",
    "print(len(lin_train[0]))"
   ]
  },
  {
   "cell_type": "code",
   "execution_count": 46,
   "metadata": {},
   "outputs": [
    {
     "name": "stderr",
     "output_type": "stream",
     "text": [
      "100%|███████████████████████████████████| 30000/30000 [01:29<00:00, 336.24it/s]\n"
     ]
    },
    {
     "name": "stdout",
     "output_type": "stream",
     "text": [
      "30000\n",
      "50\n"
     ]
    }
   ],
   "source": [
    "# average Word2Vec for test data(linear kernel)\n",
    "\n",
    "lin_test = []; # the avg-w2v for each sentence/review is stored in this list\n",
    "for sent in tqdm(ltestsent): # for each review/sentence\n",
    "    sent_vec = np.zeros(50) # as word vectors are of zero length 50, you might need to change this to 300 if you use google's w2v\n",
    "    cnt_words =0; # num of words with a valid vector in the sentence/review\n",
    "    for word in sent: # for each word in a review/sentence\n",
    "        if word in w2v_lwords:\n",
    "            vec = w2v_lmodel.wv[word]\n",
    "            sent_vec += vec\n",
    "            cnt_words += 1\n",
    "    if cnt_words != 0:\n",
    "        sent_vec /= cnt_words\n",
    "    lin_test.append(sent_vec)\n",
    "print(len(lin_test))\n",
    "print(len(lin_test[0]))"
   ]
  },
  {
   "cell_type": "code",
   "execution_count": 27,
   "metadata": {},
   "outputs": [
    {
     "name": "stderr",
     "output_type": "stream",
     "text": [
      "100%|█████████████████████████████████████| 7000/7000 [00:13<00:00, 530.78it/s]\n"
     ]
    },
    {
     "name": "stdout",
     "output_type": "stream",
     "text": [
      "7000\n",
      "50\n"
     ]
    }
   ],
   "source": [
    "# average Word2Vec for train data(rbf kernel)\n",
    "\n",
    "rbf_train = []; # the avg-w2v for each sentence/review is stored in this list\n",
    "for sent in tqdm(rtrainsent): # for each review/sentence\n",
    "    sent_vec = np.zeros(50) # as word vectors are of zero length 50, you might need to change this to 300 if you use google's w2v\n",
    "    cnt_words =0; # num of words with a valid vector in the sentence/review\n",
    "    for word in sent: # for each word in a review/sentence\n",
    "        if word in w2v_rwords:\n",
    "            vec = w2v_rmodel.wv[word]\n",
    "            sent_vec += vec\n",
    "            cnt_words += 1\n",
    "    if cnt_words != 0:\n",
    "        sent_vec /= cnt_words\n",
    "    rbf_train.append(sent_vec)\n",
    "print(len(rbf_train))\n",
    "print(len(rbf_train[0]))"
   ]
  },
  {
   "cell_type": "code",
   "execution_count": 34,
   "metadata": {
    "collapsed": true
   },
   "outputs": [
    {
     "name": "stderr",
     "output_type": "stream",
     "text": [
      "\n",
      "  0%|                                                 | 0/3000 [00:00<?, ?it/s]\n",
      "  2%|▊                                      | 58/3000 [00:00<00:05, 579.99it/s]\n",
      "  3%|█▎                                    | 100/3000 [00:00<00:05, 520.50it/s]\n",
      "  5%|█▋                                    | 137/3000 [00:00<00:06, 463.88it/s]\n",
      "  6%|██▎                                   | 178/3000 [00:00<00:06, 446.29it/s]\n",
      "  8%|███                                   | 244/3000 [00:00<00:05, 481.72it/s]\n",
      " 10%|███▋                                  | 295/3000 [00:00<00:05, 484.79it/s]\n",
      " 12%|████▍                                 | 352/3000 [00:00<00:05, 502.66it/s]\n",
      " 14%|█████▏                                | 412/3000 [00:00<00:04, 518.43it/s]\n",
      " 15%|█████▊                                | 463/3000 [00:00<00:04, 510.25it/s]\n",
      " 17%|██████▍                               | 513/3000 [00:01<00:05, 489.26it/s]\n",
      " 19%|███████                               | 561/3000 [00:01<00:05, 443.31it/s]\n",
      " 20%|███████▋                              | 606/3000 [00:01<00:05, 429.98it/s]\n",
      " 22%|████████▎                             | 661/3000 [00:01<00:05, 447.04it/s]\n",
      " 24%|█████████▏                            | 730/3000 [00:01<00:04, 484.18it/s]\n",
      " 26%|█████████▉                            | 780/3000 [00:01<00:04, 447.31it/s]\n",
      " 28%|██████████▍                           | 827/3000 [00:01<00:04, 448.69it/s]\n",
      " 29%|███████████                           | 873/3000 [00:01<00:04, 446.75it/s]\n",
      " 31%|███████████▋                          | 919/3000 [00:01<00:04, 445.41it/s]\n",
      " 32%|████████████▏                         | 964/3000 [00:02<00:04, 412.80it/s]\n",
      " 34%|████████████▌                        | 1014/3000 [00:02<00:04, 418.88it/s]\n",
      " 35%|█████████████                        | 1057/3000 [00:02<00:04, 417.68it/s]\n",
      " 37%|█████████████▊                       | 1117/3000 [00:02<00:04, 443.64it/s]\n",
      " 39%|██████████████▎                      | 1163/3000 [00:02<00:04, 438.64it/s]\n",
      " 40%|██████████████▉                      | 1210/3000 [00:02<00:03, 447.59it/s]\n",
      " 42%|███████████████▍                     | 1256/3000 [00:02<00:04, 416.89it/s]\n",
      " 43%|████████████████                     | 1299/3000 [00:02<00:04, 420.73it/s]\n",
      " 45%|████████████████▋                    | 1353/3000 [00:02<00:03, 434.00it/s]\n",
      " 47%|█████████████████▎                   | 1399/3000 [00:03<00:03, 423.34it/s]\n",
      " 48%|█████████████████▊                   | 1442/3000 [00:03<00:03, 421.23it/s]\n",
      " 50%|██████████████████▌                  | 1505/3000 [00:03<00:03, 452.35it/s]\n",
      " 52%|███████████████████▏                 | 1555/3000 [00:03<00:03, 460.99it/s]\n",
      " 53%|███████████████████▊                 | 1602/3000 [00:03<00:03, 393.73it/s]\n",
      " 55%|████████████████████▎                | 1646/3000 [00:03<00:03, 406.56it/s]\n",
      " 56%|████████████████████▊                | 1689/3000 [00:03<00:03, 382.43it/s]\n",
      " 58%|█████████████████████▎               | 1729/3000 [00:03<00:03, 340.09it/s]\n",
      " 59%|█████████████████████▊               | 1765/3000 [00:04<00:03, 341.88it/s]\n",
      " 60%|██████████████████████▏              | 1801/3000 [00:04<00:03, 317.71it/s]\n",
      " 62%|██████████████████████▊              | 1846/3000 [00:04<00:03, 339.27it/s]\n",
      " 63%|███████████████████████▎             | 1888/3000 [00:04<00:03, 356.70it/s]\n",
      " 64%|███████████████████████▊             | 1931/3000 [00:04<00:02, 372.37it/s]\n",
      " 66%|████████████████████████▌            | 1994/3000 [00:04<00:02, 414.69it/s]\n",
      " 68%|█████████████████████████▏           | 2047/3000 [00:04<00:02, 439.64it/s]\n",
      " 70%|█████████████████████████▉           | 2098/3000 [00:04<00:01, 454.16it/s]\n",
      " 72%|██████████████████████████▍          | 2145/3000 [00:04<00:02, 424.02it/s]\n",
      " 74%|███████████████████████████▏         | 2205/3000 [00:05<00:01, 464.93it/s]\n",
      " 75%|███████████████████████████▊         | 2254/3000 [00:05<00:01, 467.26it/s]\n",
      " 77%|████████████████████████████▍        | 2303/3000 [00:05<00:01, 434.02it/s]\n",
      " 78%|████████████████████████████▉        | 2349/3000 [00:05<00:01, 441.50it/s]\n",
      " 80%|█████████████████████████████▋       | 2412/3000 [00:05<00:01, 468.52it/s]\n",
      " 82%|██████████████████████████████▎      | 2461/3000 [00:05<00:01, 469.80it/s]\n",
      " 84%|██████████████████████████████▉      | 2513/3000 [00:05<00:01, 478.95it/s]\n",
      " 86%|███████████████████████████████▋     | 2570/3000 [00:05<00:00, 488.03it/s]\n",
      " 87%|████████████████████████████████▎    | 2623/3000 [00:05<00:00, 494.81it/s]\n",
      " 89%|████████████████████████████████▉    | 2673/3000 [00:06<00:00, 454.53it/s]\n",
      " 91%|█████████████████████████████████▌   | 2720/3000 [00:06<00:00, 454.23it/s]\n",
      " 92%|██████████████████████████████████▏  | 2767/3000 [00:06<00:00, 443.72it/s]\n",
      " 94%|██████████████████████████████████▊  | 2824/3000 [00:06<00:00, 471.02it/s]\n",
      " 96%|███████████████████████████████████▍ | 2877/3000 [00:06<00:00, 477.23it/s]\n",
      " 98%|████████████████████████████████████ | 2926/3000 [00:06<00:00, 434.88it/s]\n",
      " 99%|████████████████████████████████████▋| 2971/3000 [00:06<00:00, 439.31it/s]\n",
      "100%|█████████████████████████████████████| 3000/3000 [00:06<00:00, 442.06it/s]"
     ]
    },
    {
     "name": "stdout",
     "output_type": "stream",
     "text": [
      "3000\n",
      "50\n"
     ]
    }
   ],
   "source": [
    "# average Word2Vec for test data(rbf kernel)\n",
    "\n",
    "rbf_test = []; # the avg-w2v for each sentence/review is stored in this list\n",
    "for sent in tqdm(rtestsent): # for each review/sentence\n",
    "    sent_vec = np.zeros(50) # as word vectors are of zero length 50, you might need to change this to 300 if you use google's w2v\n",
    "    cnt_words =0; # num of words with a valid vector in the sentence/review\n",
    "    for word in sent: # for each word in a review/sentence\n",
    "        if word in w2v_rwords:\n",
    "            vec = w2v_rmodel.wv[word]\n",
    "            sent_vec += vec\n",
    "            cnt_words += 1\n",
    "    if cnt_words != 0:\n",
    "        sent_vec /= cnt_words\n",
    "    rbf_test.append(sent_vec)\n",
    "print(len(rbf_test))\n",
    "print(len(rbf_test[0]))"
   ]
  },
  {
   "cell_type": "markdown",
   "metadata": {
    "colab_type": "text",
    "id": "_EzBtPn-pO8W"
   },
   "source": [
    "#### [4.4.1.2] TFIDF weighted W2v"
   ]
  },
  {
   "cell_type": "code",
   "execution_count": 100,
   "metadata": {
    "colab": {},
    "colab_type": "code",
    "id": "Aa8OAcPbpO8X"
   },
   "outputs": [],
   "source": [
    "# S = [\"abc def pqr\", \"def def def abc\", \"pqr pqr def\"]\n",
    "model = TfidfVectorizer()\n",
    "final_counts= model.fit(X_ltrain)\n",
    "Xtrain_tfidf=final_counts.transform(X_ltrain)\n",
    "Xtest_tfidf=final_counts.transform(X_ltest)\n",
    "\n",
    "# we are converting a dictionary with word as a key, and the idf as a value\n",
    "dictionary = dict(zip(model.get_feature_names(), list(model.idf_)))"
   ]
  },
  {
   "cell_type": "code",
   "execution_count": 50,
   "metadata": {
    "colab": {},
    "colab_type": "code",
    "id": "ym3LeAlLpO8a",
    "outputId": "b0526d70-9fa7-4e0c-9dff-07f35ccda6c8",
    "scrolled": true
   },
   "outputs": [
    {
     "name": "stderr",
     "output_type": "stream",
     "text": [
      "100%|████████████████████████████████████| 70000/70000 [55:27<00:00, 21.58it/s]\n"
     ]
    }
   ],
   "source": [
    "# TF-IDF weighted Word2Vec for linear kernel train data\n",
    "tfidf_feat = model.get_feature_names() # tfidf words/col-names\n",
    "# final_tf_idf is the sparse matrix with row= sentence, col=word and cell_val = tfidf\n",
    "\n",
    "ltraintf = []; # the tfidf-w2v for each sentence/review is stored in this list\n",
    "row=0;\n",
    "for sent in tqdm(ltrainsent): # for each review/sentence \n",
    "    sent_vec = np.zeros(50) # as word vectors are of zero length\n",
    "    weight_sum =0; # num of words with a valid vector in the sentence/review\n",
    "    for word in sent: # for each word in a review/sentence\n",
    "        if word in w2v_lwords and word in tfidf_feat:\n",
    "            vec = w2v_lmodel.wv[word]\n",
    "#             tf_idf = tf_idf_matrix[row, tfidf_feat.index(word)]\n",
    "            # to reduce the computation we are \n",
    "            # dictionary[word] = idf value of word in whole courpus\n",
    "            # sent.count(word) = tf valeus of word in this review\n",
    "            tf_idf = dictionary[word]*(sent.count(word)/len(sent))\n",
    "            sent_vec += (vec * tf_idf)\n",
    "            weight_sum += tf_idf\n",
    "    if weight_sum != 0:\n",
    "        sent_vec /= weight_sum\n",
    "    ltraintf.append(sent_vec)\n",
    "    row += 1"
   ]
  },
  {
   "cell_type": "code",
   "execution_count": 51,
   "metadata": {},
   "outputs": [
    {
     "name": "stderr",
     "output_type": "stream",
     "text": [
      "100%|████████████████████████████████████| 30000/30000 [23:51<00:00, 29.07it/s]\n"
     ]
    }
   ],
   "source": [
    "# TF-IDF weighted Word2Vec for linear kernel test data\n",
    "tfidf_feat = model.get_feature_names() # tfidf words/col-names\n",
    "# final_tf_idf is the sparse matrix with row= sentence, col=word and cell_val = tfidf\n",
    "\n",
    "ltesttf = []; # the tfidf-w2v for each sentence/review is stored in this list\n",
    "row=0;\n",
    "for sent in tqdm(ltestsent): # for each review/sentence \n",
    "    sent_vec = np.zeros(50) # as word vectors are of zero length\n",
    "    weight_sum =0; # num of words with a valid vector in the sentence/review\n",
    "    for word in sent: # for each word in a review/sentence\n",
    "        if word in w2v_lwords and word in tfidf_feat:\n",
    "            vec = w2v_lmodel.wv[word]\n",
    "#             tf_idf = tf_idf_matrix[row, tfidf_feat.index(word)]\n",
    "            # to reduce the computation we are \n",
    "            # dictionary[word] = idf value of word in whole courpus\n",
    "            # sent.count(word) = tf valeus of word in this review\n",
    "            tf_idf = dictionary[word]*(sent.count(word)/len(sent))\n",
    "            sent_vec += (vec * tf_idf)\n",
    "            weight_sum += tf_idf\n",
    "    if weight_sum != 0:\n",
    "        sent_vec /= weight_sum\n",
    "    ltesttf.append(sent_vec)\n",
    "    row += 1"
   ]
  },
  {
   "cell_type": "code",
   "execution_count": 35,
   "metadata": {},
   "outputs": [],
   "source": [
    "# S = [\"abc def pqr\", \"def def def abc\", \"pqr pqr def\"]\n",
    "model = TfidfVectorizer()\n",
    "final_counts= model.fit(X_rtrain)\n",
    "Xtrain_tfidf=final_counts.transform(X_rtrain)\n",
    "Xtest_tfidf=final_counts.transform(X_rtest)\n",
    "\n",
    "# we are converting a dictionary with word as a key, and the idf as a value\n",
    "dictionary = dict(zip(model.get_feature_names(), list(model.idf_)))"
   ]
  },
  {
   "cell_type": "code",
   "execution_count": 36,
   "metadata": {
    "collapsed": true
   },
   "outputs": [
    {
     "name": "stderr",
     "output_type": "stream",
     "text": [
      "\n",
      "  0%|                                                 | 0/7000 [00:00<?, ?it/s]\n",
      "  0%|                                         | 7/7000 [00:00<01:39, 70.00it/s]\n",
      "  0%|                                        | 15/7000 [00:00<01:37, 71.94it/s]\n",
      "  0%|▏                                       | 23/7000 [00:00<01:34, 74.18it/s]\n",
      "  0%|▏                                       | 32/7000 [00:00<01:29, 77.57it/s]\n",
      "  1%|▏                                       | 39/7000 [00:00<01:41, 68.34it/s]\n",
      "  1%|▎                                       | 49/7000 [00:00<01:32, 74.95it/s]\n",
      "  1%|▎                                       | 60/7000 [00:00<01:26, 80.18it/s]\n",
      "  1%|▍                                       | 70/7000 [00:00<01:22, 84.46it/s]\n",
      "  1%|▍                                       | 79/7000 [00:00<01:26, 79.73it/s]\n",
      "  1%|▍                                       | 87/7000 [00:01<01:30, 76.16it/s]\n",
      "  1%|▌                                       | 97/7000 [00:01<01:25, 80.44it/s]\n",
      "  2%|▌                                      | 110/7000 [00:01<01:15, 90.83it/s]\n",
      "  2%|▋                                      | 120/7000 [00:01<01:16, 89.48it/s]\n",
      "  2%|▋                                      | 131/7000 [00:01<01:14, 92.02it/s]\n",
      "  2%|▊                                      | 141/7000 [00:01<01:13, 93.31it/s]\n",
      "  2%|▊                                      | 151/7000 [00:01<01:21, 83.82it/s]\n",
      "  2%|▉                                      | 160/7000 [00:01<01:25, 80.10it/s]\n",
      "  2%|▉                                      | 169/7000 [00:02<01:29, 76.18it/s]\n",
      "  3%|▉                                      | 177/7000 [00:02<01:40, 68.10it/s]\n",
      "  3%|█                                      | 186/7000 [00:02<01:33, 72.88it/s]\n",
      "  3%|█                                      | 194/7000 [00:02<01:35, 70.97it/s]\n",
      "  3%|█▏                                     | 202/7000 [00:02<01:36, 70.56it/s]\n",
      "  3%|█▏                                     | 212/7000 [00:02<01:28, 76.81it/s]\n",
      "  3%|█▏                                     | 220/7000 [00:02<01:38, 68.52it/s]\n",
      "  3%|█▎                                     | 228/7000 [00:02<01:39, 68.15it/s]\n",
      "  3%|█▎                                     | 237/7000 [00:03<01:35, 70.79it/s]\n",
      "  4%|█▍                                     | 250/7000 [00:03<01:22, 81.43it/s]\n",
      "  4%|█▍                                     | 262/7000 [00:03<01:17, 87.13it/s]\n",
      "  4%|█▌                                     | 272/7000 [00:03<01:20, 83.68it/s]\n",
      "  4%|█▌                                     | 281/7000 [00:03<01:22, 81.12it/s]\n",
      "  4%|█▌                                     | 290/7000 [00:03<01:24, 79.41it/s]\n",
      "  4%|█▋                                     | 300/7000 [00:03<01:22, 81.41it/s]\n",
      "  4%|█▋                                     | 309/7000 [00:03<01:30, 74.03it/s]\n",
      "  5%|█▊                                     | 317/7000 [00:03<01:30, 74.20it/s]\n",
      "  5%|█▊                                     | 329/7000 [00:04<01:22, 81.26it/s]\n",
      "  5%|█▉                                     | 338/7000 [00:04<01:26, 77.13it/s]\n",
      "  5%|█▉                                     | 349/7000 [00:04<01:19, 84.09it/s]\n",
      "  5%|██                                     | 364/7000 [00:04<01:08, 96.25it/s]\n",
      "  5%|██                                    | 379/7000 [00:04<01:03, 104.40it/s]\n",
      "  6%|██                                    | 391/7000 [00:04<01:05, 100.23it/s]\n",
      "  6%|██▏                                   | 402/7000 [00:04<01:05, 100.81it/s]\n",
      "  6%|██▎                                    | 413/7000 [00:04<01:14, 88.76it/s]\n",
      "  6%|██▎                                    | 423/7000 [00:05<01:13, 90.05it/s]\n",
      "  6%|██▍                                    | 433/7000 [00:05<01:22, 79.81it/s]\n",
      "  6%|██▍                                    | 442/7000 [00:05<01:33, 70.24it/s]\n",
      "  6%|██▌                                    | 450/7000 [00:05<01:40, 65.26it/s]\n",
      "  7%|██▌                                    | 457/7000 [00:05<01:43, 63.20it/s]\n",
      "  7%|██▌                                    | 464/7000 [00:05<01:49, 59.82it/s]\n",
      "  7%|██▋                                    | 473/7000 [00:05<01:39, 65.93it/s]\n",
      "  7%|██▋                                    | 480/7000 [00:05<01:38, 66.40it/s]\n",
      "  7%|██▋                                    | 491/7000 [00:06<01:27, 74.20it/s]\n",
      "  7%|██▊                                    | 499/7000 [00:06<01:47, 60.71it/s]\n",
      "  7%|██▊                                    | 506/7000 [00:06<01:54, 56.49it/s]\n",
      "  7%|██▉                                    | 519/7000 [00:06<01:37, 66.78it/s]\n",
      "  8%|██▉                                    | 527/7000 [00:06<01:43, 62.37it/s]\n",
      "  8%|██▉                                    | 535/7000 [00:06<01:52, 57.56it/s]\n",
      "  8%|███                                    | 544/7000 [00:06<01:40, 64.54it/s]\n",
      "  8%|███                                    | 554/7000 [00:07<01:31, 70.30it/s]\n",
      "  8%|███▏                                   | 562/7000 [00:07<01:41, 63.31it/s]\n",
      "  8%|███▏                                   | 569/7000 [00:07<01:51, 57.58it/s]\n",
      "  8%|███▏                                   | 577/7000 [00:07<01:50, 58.04it/s]\n",
      "  8%|███▎                                   | 590/7000 [00:07<01:34, 67.93it/s]\n",
      "  9%|███▎                                   | 601/7000 [00:07<01:24, 76.16it/s]\n",
      "  9%|███▍                                   | 610/7000 [00:07<01:28, 72.22it/s]\n",
      "  9%|███▍                                   | 618/7000 [00:08<01:39, 63.84it/s]\n",
      "  9%|███▍                                   | 626/7000 [00:08<01:42, 62.41it/s]\n",
      "  9%|███▌                                   | 634/7000 [00:08<01:36, 66.21it/s]\n",
      "  9%|███▌                                   | 642/7000 [00:08<01:49, 58.23it/s]\n",
      "  9%|███▌                                   | 649/7000 [00:08<01:46, 59.45it/s]\n",
      "  9%|███▋                                   | 656/7000 [00:08<01:48, 58.52it/s]\n",
      " 10%|███▋                                   | 665/7000 [00:08<01:37, 64.86it/s]\n",
      " 10%|███▊                                   | 674/7000 [00:08<01:32, 68.33it/s]\n",
      " 10%|███▊                                   | 686/7000 [00:08<01:21, 77.91it/s]\n",
      " 10%|███▊                                   | 695/7000 [00:09<01:22, 76.30it/s]\n",
      " 10%|███▉                                   | 704/7000 [00:09<01:26, 72.95it/s]\n",
      " 10%|███▉                                   | 713/7000 [00:09<01:24, 74.28it/s]\n",
      " 10%|████                                   | 722/7000 [00:09<01:31, 68.62it/s]\n",
      " 10%|████                                   | 730/7000 [00:09<01:32, 68.15it/s]\n",
      " 11%|████                                   | 740/7000 [00:09<01:23, 74.73it/s]\n",
      " 11%|████▏                                  | 754/7000 [00:09<01:11, 86.88it/s]\n",
      " 11%|████▎                                  | 764/7000 [00:09<01:11, 86.68it/s]\n",
      " 11%|████▎                                  | 774/7000 [00:10<01:11, 86.70it/s]\n",
      " 11%|████▎                                  | 784/7000 [00:10<01:18, 79.36it/s]\n",
      " 11%|████▍                                  | 793/7000 [00:10<01:19, 78.07it/s]\n",
      " 11%|████▍                                  | 802/7000 [00:10<01:30, 68.65it/s]\n",
      " 12%|████▌                                  | 810/7000 [00:10<01:36, 64.12it/s]\n",
      " 12%|████▌                                  | 821/7000 [00:10<01:24, 73.29it/s]\n",
      " 12%|████▌                                  | 830/7000 [00:10<01:27, 70.39it/s]\n",
      " 12%|████▋                                  | 838/7000 [00:11<01:30, 67.82it/s]\n",
      " 12%|████▋                                  | 846/7000 [00:11<01:32, 66.86it/s]\n",
      " 12%|████▊                                  | 854/7000 [00:11<01:28, 69.59it/s]\n",
      " 12%|████▊                                  | 862/7000 [00:11<01:27, 70.13it/s]\n",
      " 12%|████▊                                  | 872/7000 [00:11<01:21, 75.08it/s]\n",
      " 13%|████▉                                  | 880/7000 [00:11<01:20, 75.70it/s]\n",
      " 13%|████▉                                  | 888/7000 [00:11<01:19, 76.94it/s]\n",
      " 13%|████▉                                  | 896/7000 [00:11<01:57, 52.04it/s]\n",
      " 13%|█████                                  | 903/7000 [00:12<02:02, 49.74it/s]\n",
      " 13%|█████                                  | 909/7000 [00:12<02:04, 48.93it/s]\n",
      " 13%|█████                                  | 918/7000 [00:12<01:50, 55.03it/s]\n",
      " 13%|█████▏                                 | 928/7000 [00:12<01:36, 62.65it/s]\n",
      " 13%|█████▏                                 | 936/7000 [00:12<01:30, 67.01it/s]\n",
      " 13%|█████▎                                 | 944/7000 [00:12<01:28, 68.28it/s]\n",
      " 14%|█████▎                                 | 952/7000 [00:12<01:31, 66.44it/s]\n",
      " 14%|█████▎                                 | 959/7000 [00:12<01:37, 61.75it/s]\n",
      " 14%|█████▍                                 | 967/7000 [00:13<01:33, 64.21it/s]\n",
      " 14%|█████▍                                 | 976/7000 [00:13<01:28, 68.45it/s]\n",
      " 14%|█████▍                                 | 985/7000 [00:13<01:25, 70.41it/s]\n",
      " 14%|█████▌                                 | 998/7000 [00:13<01:15, 79.35it/s]\n",
      " 14%|█████▍                                | 1007/7000 [00:13<01:19, 75.09it/s]\n",
      " 14%|█████▌                                | 1015/7000 [00:13<01:21, 73.21it/s]\n",
      " 15%|█████▌                                | 1023/7000 [00:13<01:23, 71.33it/s]\n",
      " 15%|█████▌                                | 1031/7000 [00:13<01:21, 72.99it/s]\n",
      " 15%|█████▋                                | 1039/7000 [00:13<01:22, 72.66it/s]\n",
      " 15%|█████▋                                | 1047/7000 [00:14<01:20, 74.04it/s]\n",
      " 15%|█████▋                                | 1058/7000 [00:14<01:12, 81.50it/s]\n",
      " 15%|█████▊                                | 1070/7000 [00:14<01:05, 90.18it/s]\n",
      " 15%|█████▊                                | 1081/7000 [00:14<01:04, 91.78it/s]\n",
      " 16%|█████▉                                | 1093/7000 [00:14<01:02, 95.16it/s]\n",
      " 16%|█████▉                                | 1103/7000 [00:14<01:04, 91.64it/s]\n",
      " 16%|██████                                | 1113/7000 [00:14<01:10, 83.26it/s]\n",
      " 16%|██████                                | 1122/7000 [00:14<01:10, 83.36it/s]\n",
      " 16%|██████▏                               | 1131/7000 [00:14<01:11, 81.79it/s]\n",
      " 16%|██████▏                               | 1142/7000 [00:15<01:08, 85.60it/s]\n",
      " 16%|██████▎                               | 1152/7000 [00:15<01:06, 88.60it/s]\n",
      " 17%|██████▎                               | 1161/7000 [00:15<01:07, 86.05it/s]\n",
      " 17%|██████▎                               | 1170/7000 [00:15<01:07, 86.28it/s]\n",
      " 17%|██████▍                               | 1179/7000 [00:15<01:10, 82.64it/s]\n",
      " 17%|██████▍                               | 1188/7000 [00:15<01:11, 81.38it/s]\n",
      " 17%|██████▌                               | 1201/7000 [00:15<01:05, 88.21it/s]\n",
      " 17%|██████▌                               | 1215/7000 [00:15<01:00, 96.25it/s]\n",
      " 18%|██████▋                               | 1225/7000 [00:16<01:03, 91.06it/s]\n",
      " 18%|██████▋                               | 1235/7000 [00:16<01:04, 89.91it/s]\n",
      " 18%|██████▊                               | 1245/7000 [00:16<01:04, 88.85it/s]\n",
      " 18%|██████▊                               | 1255/7000 [00:16<01:08, 83.85it/s]\n",
      " 18%|██████▊                               | 1264/7000 [00:16<01:09, 82.20it/s]\n",
      " 18%|██████▉                               | 1274/7000 [00:16<01:07, 85.15it/s]\n",
      " 18%|██████▉                               | 1285/7000 [00:16<01:02, 91.34it/s]\n",
      " 19%|███████                               | 1296/7000 [00:16<01:00, 93.56it/s]\n",
      " 19%|███████                               | 1306/7000 [00:16<01:05, 86.74it/s]\n",
      " 19%|███████▏                              | 1321/7000 [00:17<01:01, 92.87it/s]\n",
      " 19%|███████▏                              | 1334/7000 [00:17<00:57, 98.23it/s]\n",
      " 19%|███████▎                              | 1345/7000 [00:17<00:58, 96.26it/s]\n",
      " 19%|███████▎                              | 1355/7000 [00:17<01:05, 85.79it/s]\n",
      " 20%|███████▍                              | 1365/7000 [00:17<01:04, 87.81it/s]\n",
      " 20%|███████▍                              | 1375/7000 [00:17<01:04, 87.49it/s]\n",
      " 20%|███████▌                              | 1384/7000 [00:17<01:06, 84.35it/s]\n",
      " 20%|███████▌                              | 1393/7000 [00:17<01:17, 72.20it/s]\n",
      " 20%|███████▌                              | 1401/7000 [00:18<01:22, 67.72it/s]\n",
      " 20%|███████▋                              | 1409/7000 [00:18<01:21, 68.28it/s]\n",
      " 20%|███████▋                              | 1420/7000 [00:18<01:12, 76.46it/s]\n",
      " 20%|███████▊                              | 1431/7000 [00:18<01:06, 84.16it/s]\n",
      " 21%|███████▊                              | 1440/7000 [00:18<01:07, 82.24it/s]\n",
      " 21%|███████▊                              | 1449/7000 [00:18<01:07, 82.65it/s]\n",
      " 21%|███████▉                              | 1458/7000 [00:18<01:10, 78.67it/s]\n",
      " 21%|███████▉                              | 1467/7000 [00:18<01:14, 74.66it/s]\n",
      " 21%|████████                              | 1478/7000 [00:19<01:09, 79.63it/s]\n",
      " 21%|████████                              | 1488/7000 [00:19<01:07, 81.72it/s]\n",
      " 21%|████████▏                             | 1498/7000 [00:19<01:04, 85.82it/s]\n",
      " 22%|████████▏                             | 1507/7000 [00:19<01:05, 83.43it/s]\n",
      " 22%|████████▏                             | 1518/7000 [00:19<01:01, 89.23it/s]\n",
      " 22%|████████▎                             | 1531/7000 [00:19<00:57, 95.27it/s]\n",
      " 22%|████████▎                             | 1541/7000 [00:19<01:04, 84.22it/s]\n",
      " 22%|████████▍                             | 1553/7000 [00:19<00:59, 91.72it/s]\n",
      " 22%|████████▌                             | 1566/7000 [00:19<00:59, 90.80it/s]\n",
      " 23%|████████▌                             | 1576/7000 [00:20<00:58, 92.63it/s]\n",
      " 23%|████████▌                             | 1586/7000 [00:20<00:59, 90.88it/s]\n",
      " 23%|████████▋                             | 1597/7000 [00:20<00:56, 95.07it/s]\n",
      " 23%|████████▋                             | 1607/7000 [00:20<01:05, 81.86it/s]\n",
      " 23%|████████▊                             | 1616/7000 [00:20<01:19, 67.77it/s]\n",
      " 23%|████████▊                             | 1624/7000 [00:20<01:17, 69.61it/s]\n",
      " 23%|████████▊                             | 1633/7000 [00:20<01:11, 74.69it/s]\n",
      " 23%|████████▉                             | 1642/7000 [00:20<01:08, 77.89it/s]\n",
      " 24%|████████▉                             | 1652/7000 [00:21<01:05, 81.86it/s]\n",
      " 24%|█████████                             | 1661/7000 [00:21<01:22, 64.54it/s]\n",
      " 24%|█████████                             | 1670/7000 [00:21<01:17, 68.71it/s]\n",
      " 24%|█████████▏                            | 1681/7000 [00:21<01:13, 72.74it/s]\n",
      " 24%|█████████▏                            | 1689/7000 [00:21<01:14, 70.87it/s]\n",
      " 24%|█████████▏                            | 1701/7000 [00:21<01:07, 78.44it/s]\n",
      " 24%|█████████▎                            | 1710/7000 [00:21<01:06, 79.08it/s]\n",
      " 25%|█████████▎                            | 1720/7000 [00:21<01:03, 82.85it/s]\n",
      " 25%|█████████▍                            | 1729/7000 [00:22<01:05, 80.57it/s]\n",
      " 25%|█████████▍                            | 1739/7000 [00:22<01:03, 82.41it/s]\n",
      " 25%|█████████▌                            | 1754/7000 [00:22<01:00, 86.98it/s]\n",
      " 25%|█████████▌                            | 1763/7000 [00:22<01:00, 87.12it/s]\n",
      " 25%|█████████▋                            | 1774/7000 [00:22<00:57, 90.26it/s]\n",
      " 25%|█████████▋                            | 1784/7000 [00:22<00:59, 88.24it/s]\n",
      " 26%|█████████▋                            | 1793/7000 [00:22<01:05, 79.52it/s]\n",
      " 26%|█████████▊                            | 1803/7000 [00:22<01:03, 81.64it/s]\n",
      " 26%|█████████▊                            | 1812/7000 [00:23<01:04, 80.62it/s]\n",
      " 26%|█████████▉                            | 1822/7000 [00:23<01:00, 84.96it/s]\n",
      " 26%|█████████▉                            | 1831/7000 [00:23<01:07, 76.28it/s]\n",
      " 26%|█████████▉                            | 1839/7000 [00:23<01:10, 73.41it/s]\n",
      " 26%|██████████                            | 1847/7000 [00:23<01:12, 71.32it/s]\n",
      " 27%|██████████                            | 1861/7000 [00:23<01:03, 80.73it/s]\n",
      " 27%|██████████▏                           | 1871/7000 [00:23<01:02, 82.53it/s]\n",
      " 27%|██████████▏                           | 1882/7000 [00:23<00:57, 88.43it/s]\n",
      " 27%|██████████▎                           | 1892/7000 [00:24<01:07, 76.17it/s]\n",
      " 27%|██████████▎                           | 1901/7000 [00:24<01:07, 75.26it/s]\n",
      " 27%|██████████▍                           | 1914/7000 [00:24<01:04, 78.91it/s]\n",
      " 27%|██████████▍                           | 1923/7000 [00:24<01:05, 76.97it/s]\n",
      " 28%|██████████▍                           | 1934/7000 [00:24<01:04, 79.02it/s]\n",
      " 28%|██████████▌                           | 1943/7000 [00:24<01:02, 81.30it/s]\n",
      " 28%|██████████▌                           | 1953/7000 [00:24<00:59, 84.47it/s]\n"
     ]
    },
    {
     "name": "stderr",
     "output_type": "stream",
     "text": [
      " 28%|██████████▋                           | 1962/7000 [00:24<01:01, 82.28it/s]\n",
      " 28%|██████████▋                           | 1972/7000 [00:25<00:58, 85.28it/s]\n",
      " 28%|██████████▊                           | 1981/7000 [00:25<01:08, 72.81it/s]\n",
      " 28%|██████████▊                           | 1989/7000 [00:25<01:11, 70.31it/s]\n",
      " 29%|██████████▊                           | 1997/7000 [00:25<01:10, 70.78it/s]\n",
      " 29%|██████████▉                           | 2005/7000 [00:25<01:08, 72.59it/s]\n",
      " 29%|██████████▉                           | 2018/7000 [00:25<00:59, 83.15it/s]\n",
      " 29%|███████████                           | 2027/7000 [00:25<01:03, 78.24it/s]\n",
      " 29%|███████████                           | 2040/7000 [00:25<00:57, 86.16it/s]\n",
      " 29%|███████████▏                          | 2050/7000 [00:25<00:57, 85.53it/s]\n",
      " 29%|███████████▏                          | 2062/7000 [00:26<00:53, 92.81it/s]\n",
      " 30%|███████████▏                          | 2072/7000 [00:26<00:56, 87.19it/s]\n",
      " 30%|███████████▎                          | 2084/7000 [00:26<00:52, 94.17it/s]\n",
      " 30%|███████████▎                          | 2095/7000 [00:26<00:51, 94.63it/s]\n",
      " 30%|███████████▏                         | 2110/7000 [00:26<00:47, 103.07it/s]\n",
      " 30%|███████████▌                          | 2121/7000 [00:26<00:49, 99.56it/s]\n",
      " 30%|███████████▌                          | 2132/7000 [00:26<00:55, 87.31it/s]\n",
      " 31%|███████████▋                          | 2144/7000 [00:26<00:51, 94.27it/s]\n",
      " 31%|███████████▋                          | 2154/7000 [00:27<01:01, 78.45it/s]\n",
      " 31%|███████████▋                          | 2163/7000 [00:27<01:03, 75.96it/s]\n",
      " 31%|███████████▊                          | 2172/7000 [00:27<01:08, 70.86it/s]\n",
      " 31%|███████████▊                          | 2180/7000 [00:27<01:11, 67.01it/s]\n",
      " 31%|███████████▉                          | 2188/7000 [00:27<01:09, 69.12it/s]\n",
      " 31%|███████████▉                          | 2197/7000 [00:27<01:04, 74.29it/s]\n",
      " 32%|███████████▉                          | 2208/7000 [00:27<00:58, 81.57it/s]\n",
      " 32%|████████████                          | 2217/7000 [00:27<00:57, 83.00it/s]\n",
      " 32%|████████████                          | 2226/7000 [00:28<00:59, 79.73it/s]\n",
      " 32%|████████████▏                         | 2238/7000 [00:28<00:55, 85.89it/s]\n",
      " 32%|████████████▏                         | 2247/7000 [00:28<00:57, 82.47it/s]\n",
      " 32%|████████████▏                         | 2256/7000 [00:28<01:05, 71.92it/s]\n",
      " 32%|████████████▎                         | 2266/7000 [00:28<01:00, 77.87it/s]\n",
      " 32%|████████████▎                         | 2275/7000 [00:28<01:01, 77.13it/s]\n",
      " 33%|████████████▍                         | 2287/7000 [00:28<00:56, 83.69it/s]\n",
      " 33%|████████████▍                         | 2296/7000 [00:28<00:58, 80.96it/s]\n",
      " 33%|████████████▌                         | 2309/7000 [00:29<00:53, 88.38it/s]\n",
      " 33%|████████████▎                        | 2327/7000 [00:29<00:45, 101.68it/s]\n",
      " 33%|████████████▋                         | 2339/7000 [00:29<00:47, 97.41it/s]\n",
      " 34%|████████████▍                        | 2353/7000 [00:29<00:44, 103.73it/s]\n",
      " 34%|████████████▊                         | 2365/7000 [00:29<00:46, 98.81it/s]\n",
      " 34%|████████████▉                         | 2376/7000 [00:29<00:49, 92.82it/s]\n",
      " 34%|████████████▉                         | 2386/7000 [00:29<00:53, 86.21it/s]\n",
      " 34%|█████████████                         | 2396/7000 [00:29<00:56, 82.19it/s]\n",
      " 34%|█████████████                         | 2410/7000 [00:30<00:50, 90.96it/s]\n",
      " 35%|█████████████▏                        | 2420/7000 [00:30<00:51, 89.74it/s]\n",
      " 35%|█████████████▏                        | 2430/7000 [00:30<00:49, 91.67it/s]\n",
      " 35%|█████████████▏                        | 2440/7000 [00:30<00:50, 90.14it/s]\n",
      " 35%|█████████████▎                        | 2450/7000 [00:30<00:51, 88.07it/s]\n",
      " 35%|█████████████▎                        | 2461/7000 [00:30<00:50, 90.23it/s]\n",
      " 35%|█████████████▍                        | 2472/7000 [00:30<00:47, 94.48it/s]\n",
      " 35%|█████████████▍                        | 2482/7000 [00:30<00:48, 93.91it/s]\n",
      " 36%|█████████████▌                        | 2492/7000 [00:30<00:47, 95.65it/s]\n",
      " 36%|█████████████▌                        | 2502/7000 [00:31<00:47, 94.81it/s]\n",
      " 36%|█████████████▋                        | 2512/7000 [00:31<00:52, 84.82it/s]\n",
      " 36%|█████████████▋                        | 2521/7000 [00:31<00:54, 82.60it/s]\n",
      " 36%|█████████████▋                        | 2532/7000 [00:31<00:50, 88.56it/s]\n",
      " 36%|█████████████▊                        | 2542/7000 [00:31<00:49, 90.80it/s]\n",
      " 36%|█████████████▊                        | 2552/7000 [00:31<00:49, 89.37it/s]\n",
      " 37%|█████████████▉                        | 2563/7000 [00:31<00:48, 91.19it/s]\n",
      " 37%|█████████████▉                        | 2575/7000 [00:31<00:46, 94.80it/s]\n",
      " 37%|██████████████                        | 2585/7000 [00:31<00:51, 86.41it/s]\n",
      " 37%|██████████████                        | 2594/7000 [00:32<00:52, 83.82it/s]\n",
      " 37%|██████████████▏                       | 2603/7000 [00:32<00:52, 83.76it/s]\n",
      " 37%|██████████████▏                       | 2612/7000 [00:32<00:52, 83.80it/s]\n",
      " 37%|██████████████▏                       | 2621/7000 [00:32<00:51, 84.78it/s]\n",
      " 38%|██████████████▎                       | 2632/7000 [00:32<00:48, 90.23it/s]\n",
      " 38%|██████████████▎                       | 2642/7000 [00:32<00:54, 79.99it/s]\n",
      " 38%|██████████████▍                       | 2651/7000 [00:32<00:56, 76.89it/s]\n",
      " 38%|██████████████▍                       | 2660/7000 [00:32<00:53, 80.40it/s]\n",
      " 38%|██████████████▍                       | 2671/7000 [00:33<00:50, 85.17it/s]\n",
      " 38%|██████████████▌                       | 2680/7000 [00:33<00:50, 85.76it/s]\n",
      " 38%|██████████████▌                       | 2689/7000 [00:33<00:51, 83.39it/s]\n",
      " 39%|██████████████▋                       | 2701/7000 [00:33<00:47, 90.21it/s]\n",
      " 39%|██████████████▋                       | 2711/7000 [00:33<00:47, 90.11it/s]\n",
      " 39%|██████████████▊                       | 2721/7000 [00:33<00:47, 90.93it/s]\n",
      " 39%|██████████████▊                       | 2731/7000 [00:33<00:46, 91.61it/s]\n",
      " 39%|██████████████▉                       | 2741/7000 [00:33<00:45, 93.22it/s]\n",
      " 39%|██████████████▉                       | 2751/7000 [00:33<00:47, 90.28it/s]\n",
      " 39%|██████████████▉                       | 2761/7000 [00:34<00:49, 85.62it/s]\n",
      " 40%|███████████████                       | 2770/7000 [00:34<00:53, 79.59it/s]\n",
      " 40%|███████████████                       | 2779/7000 [00:34<00:53, 78.31it/s]\n",
      " 40%|███████████████▏                      | 2787/7000 [00:34<00:55, 75.33it/s]\n",
      " 40%|███████████████▏                      | 2795/7000 [00:34<01:00, 69.54it/s]\n",
      " 40%|███████████████▏                      | 2806/7000 [00:34<00:54, 77.63it/s]\n",
      " 40%|███████████████▎                      | 2815/7000 [00:34<00:58, 71.87it/s]\n",
      " 40%|███████████████▎                      | 2828/7000 [00:34<00:50, 82.49it/s]\n",
      " 41%|███████████████▍                      | 2838/7000 [00:34<00:49, 83.65it/s]\n",
      " 41%|███████████████▍                      | 2847/7000 [00:35<00:48, 85.46it/s]\n",
      " 41%|███████████████▌                      | 2861/7000 [00:35<00:46, 88.32it/s]\n",
      " 41%|███████████████▌                      | 2871/7000 [00:35<00:47, 86.84it/s]\n",
      " 41%|███████████████▋                      | 2885/7000 [00:35<00:42, 97.19it/s]\n",
      " 41%|███████████████▋                      | 2896/7000 [00:35<00:44, 92.83it/s]\n",
      " 42%|███████████████▊                      | 2906/7000 [00:35<00:43, 93.90it/s]\n",
      " 42%|███████████████▍                     | 2921/7000 [00:35<00:39, 102.46it/s]\n",
      " 42%|███████████████▉                      | 2932/7000 [00:35<00:46, 87.84it/s]\n",
      " 42%|███████████████▉                      | 2943/7000 [00:36<00:45, 89.99it/s]\n",
      " 42%|███████████████▋                     | 2958/7000 [00:36<00:39, 101.51it/s]\n",
      " 42%|████████████████                      | 2969/7000 [00:36<00:42, 95.64it/s]\n",
      " 43%|████████████████▏                     | 2980/7000 [00:36<00:48, 83.33it/s]\n",
      " 43%|████████████████▏                     | 2990/7000 [00:36<00:51, 77.23it/s]\n",
      " 43%|████████████████▎                     | 3001/7000 [00:36<00:48, 81.98it/s]\n",
      " 43%|████████████████▎                     | 3010/7000 [00:36<00:49, 80.77it/s]\n",
      " 43%|████████████████▍                     | 3019/7000 [00:37<00:50, 79.10it/s]\n",
      " 43%|████████████████▍                     | 3028/7000 [00:37<00:50, 78.87it/s]\n",
      " 43%|████████████████▍                     | 3038/7000 [00:37<00:47, 83.44it/s]\n",
      " 44%|████████████████▌                     | 3048/7000 [00:37<00:46, 84.41it/s]\n",
      " 44%|████████████████▌                     | 3057/7000 [00:37<00:48, 81.51it/s]\n",
      " 44%|████████████████▋                     | 3066/7000 [00:37<00:48, 80.45it/s]\n",
      " 44%|████████████████▋                     | 3075/7000 [00:37<00:49, 78.89it/s]\n",
      " 44%|████████████████▊                     | 3089/7000 [00:37<00:44, 88.16it/s]\n",
      " 44%|████████████████▊                     | 3100/7000 [00:37<00:43, 90.22it/s]\n",
      " 44%|████████████████▉                     | 3110/7000 [00:38<00:42, 92.11it/s]\n",
      " 45%|████████████████▉                     | 3120/7000 [00:38<00:48, 80.23it/s]\n",
      " 45%|████████████████▉                     | 3129/7000 [00:38<00:51, 74.88it/s]\n",
      " 45%|█████████████████                     | 3137/7000 [00:38<00:52, 73.89it/s]\n",
      " 45%|█████████████████                     | 3147/7000 [00:38<00:48, 78.72it/s]\n",
      " 45%|█████████████████▏                    | 3157/7000 [00:38<00:47, 81.04it/s]\n",
      " 45%|█████████████████▏                    | 3166/7000 [00:38<00:47, 80.13it/s]\n",
      " 45%|█████████████████▏                    | 3175/7000 [00:38<00:52, 72.78it/s]\n",
      " 45%|█████████████████▎                    | 3183/7000 [00:39<00:53, 70.97it/s]\n",
      " 46%|█████████████████▎                    | 3195/7000 [00:39<00:48, 78.46it/s]\n",
      " 46%|█████████████████▍                    | 3204/7000 [00:39<00:50, 74.46it/s]\n",
      " 46%|█████████████████▍                    | 3213/7000 [00:39<00:48, 77.79it/s]\n",
      " 46%|█████████████████▍                    | 3223/7000 [00:39<00:47, 80.35it/s]\n",
      " 46%|█████████████████▌                    | 3232/7000 [00:39<00:47, 79.58it/s]\n",
      " 46%|█████████████████▌                    | 3241/7000 [00:39<00:47, 79.20it/s]\n",
      " 46%|█████████████████▋                    | 3250/7000 [00:39<00:46, 81.35it/s]\n",
      " 47%|█████████████████▋                    | 3259/7000 [00:39<00:46, 80.34it/s]\n",
      " 47%|█████████████████▊                    | 3271/7000 [00:40<00:42, 88.54it/s]\n",
      " 47%|█████████████████▊                    | 3283/7000 [00:40<00:40, 92.86it/s]\n",
      " 47%|█████████████████▉                    | 3293/7000 [00:40<00:48, 76.20it/s]\n",
      " 47%|█████████████████▉                    | 3302/7000 [00:40<00:50, 73.74it/s]\n",
      " 47%|█████████████████▉                    | 3310/7000 [00:40<00:49, 74.74it/s]\n",
      " 47%|██████████████████                    | 3318/7000 [00:40<01:06, 55.70it/s]\n",
      " 48%|██████████████████                    | 3326/7000 [00:40<01:00, 60.77it/s]\n",
      " 48%|██████████████████                    | 3334/7000 [00:41<00:56, 64.97it/s]\n",
      " 48%|██████████████████▏                   | 3344/7000 [00:41<00:50, 72.44it/s]\n",
      " 48%|██████████████████▏                   | 3352/7000 [00:41<00:59, 61.19it/s]\n",
      " 48%|██████████████████▎                   | 3362/7000 [00:41<00:53, 67.62it/s]\n",
      " 48%|██████████████████▎                   | 3370/7000 [00:41<00:51, 70.16it/s]\n",
      " 48%|██████████████████▎                   | 3379/7000 [00:41<00:48, 74.45it/s]\n",
      " 48%|██████████████████▍                   | 3387/7000 [00:41<00:52, 69.02it/s]\n",
      " 49%|██████████████████▍                   | 3398/7000 [00:41<00:47, 75.33it/s]\n",
      " 49%|██████████████████▍                   | 3406/7000 [00:41<00:48, 74.19it/s]\n",
      " 49%|██████████████████▌                   | 3418/7000 [00:42<00:43, 82.47it/s]\n",
      " 49%|██████████████████▌                   | 3427/7000 [00:42<00:44, 80.15it/s]\n",
      " 49%|██████████████████▋                   | 3436/7000 [00:42<00:44, 79.44it/s]\n",
      " 49%|██████████████████▋                   | 3448/7000 [00:42<00:41, 85.59it/s]\n",
      " 49%|██████████████████▊                   | 3457/7000 [00:42<00:44, 80.43it/s]\n",
      " 50%|██████████████████▊                   | 3470/7000 [00:42<00:40, 86.60it/s]\n",
      " 50%|██████████████████▉                   | 3479/7000 [00:42<00:44, 78.51it/s]\n",
      " 50%|██████████████████▉                   | 3493/7000 [00:42<00:39, 87.88it/s]\n",
      " 50%|███████████████████                   | 3503/7000 [00:43<00:43, 80.83it/s]\n",
      " 50%|███████████████████                   | 3512/7000 [00:43<00:42, 82.63it/s]\n",
      " 50%|███████████████████                   | 3521/7000 [00:43<00:50, 68.76it/s]\n",
      " 50%|███████████████████▏                  | 3529/7000 [00:43<00:51, 67.49it/s]\n",
      " 51%|███████████████████▏                  | 3537/7000 [00:43<00:54, 63.63it/s]\n",
      " 51%|███████████████████▎                  | 3549/7000 [00:43<00:48, 71.57it/s]\n",
      " 51%|███████████████████▎                  | 3557/7000 [00:43<00:48, 70.97it/s]\n",
      " 51%|███████████████████▎                  | 3565/7000 [00:43<00:47, 72.73it/s]\n",
      " 51%|███████████████████▍                  | 3582/7000 [00:44<00:39, 85.77it/s]\n",
      " 51%|███████████████████▍                  | 3592/7000 [00:44<00:44, 75.94it/s]\n",
      " 51%|███████████████████▌                  | 3601/7000 [00:44<00:48, 70.37it/s]\n",
      " 52%|███████████████████▌                  | 3610/7000 [00:44<00:46, 72.46it/s]\n",
      " 52%|███████████████████▋                  | 3620/7000 [00:44<00:44, 75.54it/s]\n",
      " 52%|███████████████████▋                  | 3628/7000 [00:44<00:48, 69.74it/s]\n",
      " 52%|███████████████████▊                  | 3641/7000 [00:44<00:42, 78.81it/s]\n",
      " 52%|███████████████████▊                  | 3652/7000 [00:45<00:39, 85.48it/s]\n",
      " 52%|███████████████████▉                  | 3662/7000 [00:45<00:38, 86.75it/s]\n",
      " 52%|███████████████████▉                  | 3672/7000 [00:45<00:38, 86.75it/s]\n",
      " 53%|███████████████████▉                  | 3681/7000 [00:45<00:39, 83.46it/s]\n",
      " 53%|████████████████████                  | 3690/7000 [00:45<00:41, 79.66it/s]\n",
      " 53%|████████████████████                  | 3703/7000 [00:45<00:37, 88.40it/s]\n",
      " 53%|████████████████████▏                 | 3716/7000 [00:45<00:35, 93.29it/s]\n",
      " 53%|████████████████████▏                 | 3726/7000 [00:45<00:35, 91.04it/s]\n",
      " 53%|████████████████████▎                 | 3736/7000 [00:45<00:39, 83.35it/s]\n",
      " 54%|████████████████████▎                 | 3745/7000 [00:46<00:38, 85.08it/s]\n",
      " 54%|████████████████████▍                 | 3759/7000 [00:46<00:35, 91.36it/s]\n",
      " 54%|████████████████████▍                 | 3769/7000 [00:46<00:37, 85.24it/s]\n",
      " 54%|████████████████████▌                 | 3779/7000 [00:46<00:39, 82.38it/s]\n",
      " 54%|████████████████████▌                 | 3789/7000 [00:46<00:38, 83.57it/s]\n",
      " 54%|████████████████████▋                 | 3801/7000 [00:46<00:35, 91.18it/s]\n",
      " 54%|████████████████████▋                 | 3812/7000 [00:46<00:33, 94.23it/s]\n",
      " 55%|████████████████████▋                 | 3822/7000 [00:46<00:35, 89.00it/s]\n",
      " 55%|████████████████████▊                 | 3832/7000 [00:47<00:42, 74.96it/s]\n",
      " 55%|████████████████████▊                 | 3841/7000 [00:47<00:42, 75.18it/s]\n",
      " 55%|████████████████████▉                 | 3853/7000 [00:47<00:37, 84.02it/s]\n",
      " 55%|████████████████████▉                 | 3865/7000 [00:47<00:36, 86.18it/s]\n",
      " 55%|█████████████████████                 | 3876/7000 [00:47<00:35, 88.84it/s]\n",
      " 56%|█████████████████████                 | 3886/7000 [00:47<00:40, 77.02it/s]\n",
      " 56%|█████████████████████▏                | 3895/7000 [00:47<00:43, 70.71it/s]\n",
      " 56%|█████████████████████▏                | 3903/7000 [00:48<00:45, 68.09it/s]\n",
      " 56%|█████████████████████▏                | 3912/7000 [00:48<00:42, 73.45it/s]\n",
      " 56%|█████████████████████▎                | 3923/7000 [00:48<00:42, 72.71it/s]\n",
      " 56%|█████████████████████▎                | 3931/7000 [00:48<00:46, 66.19it/s]\n",
      " 56%|█████████████████████▍                | 3944/7000 [00:48<00:39, 77.12it/s]\n",
      " 56%|█████████████████████▍                | 3953/7000 [00:48<00:38, 79.80it/s]\n",
      " 57%|█████████████████████▌                | 3964/7000 [00:48<00:36, 83.92it/s]\n",
      " 57%|█████████████████████▌                | 3973/7000 [00:48<00:36, 82.90it/s]\n",
      " 57%|█████████████████████▌                | 3982/7000 [00:48<00:36, 83.03it/s]\n",
      " 57%|█████████████████████▋                | 3993/7000 [00:49<00:34, 86.40it/s]\n",
      " 57%|█████████████████████▋                | 4002/7000 [00:49<00:42, 70.43it/s]\n",
      " 57%|█████████████████████▊                | 4010/7000 [00:49<00:41, 72.33it/s]\n",
      " 57%|█████████████████████▊                | 4019/7000 [00:49<00:39, 76.08it/s]\n",
      " 58%|█████████████████████▊                | 4027/7000 [00:49<00:42, 69.92it/s]\n"
     ]
    },
    {
     "name": "stderr",
     "output_type": "stream",
     "text": [
      " 58%|█████████████████████▉                | 4035/7000 [00:49<00:42, 69.63it/s]\n",
      " 58%|█████████████████████▉                | 4043/7000 [00:49<00:44, 65.99it/s]\n",
      " 58%|█████████████████████▉                | 4050/7000 [00:49<00:44, 65.64it/s]\n",
      " 58%|██████████████████████                | 4059/7000 [00:50<00:41, 70.82it/s]\n",
      " 58%|██████████████████████                | 4067/7000 [00:50<00:41, 70.46it/s]\n",
      " 58%|██████████████████████▏               | 4076/7000 [00:50<00:41, 70.00it/s]\n",
      " 58%|██████████████████████▏               | 4084/7000 [00:50<00:40, 72.09it/s]\n",
      " 58%|██████████████████████▏               | 4095/7000 [00:50<00:36, 79.76it/s]\n",
      " 59%|██████████████████████▎               | 4108/7000 [00:50<00:32, 88.22it/s]\n",
      " 59%|██████████████████████▎               | 4118/7000 [00:50<00:35, 80.32it/s]\n",
      " 59%|██████████████████████▍               | 4127/7000 [00:50<00:34, 82.17it/s]\n",
      " 59%|██████████████████████▍               | 4137/7000 [00:51<00:34, 83.65it/s]\n",
      " 59%|██████████████████████▌               | 4147/7000 [00:51<00:34, 83.71it/s]\n",
      " 59%|██████████████████████▌               | 4158/7000 [00:51<00:32, 88.51it/s]\n",
      " 60%|██████████████████████▋               | 4168/7000 [00:51<00:31, 90.67it/s]\n",
      " 60%|██████████████████████▋               | 4178/7000 [00:51<00:32, 87.58it/s]\n",
      " 60%|██████████████████████▋               | 4187/7000 [00:51<00:33, 83.47it/s]\n",
      " 60%|██████████████████████▊               | 4196/7000 [00:51<00:34, 81.69it/s]\n",
      " 60%|██████████████████████▊               | 4205/7000 [00:51<00:34, 81.37it/s]\n",
      " 60%|██████████████████████▉               | 4217/7000 [00:51<00:32, 86.32it/s]\n",
      " 60%|██████████████████████▉               | 4226/7000 [00:52<00:33, 82.75it/s]\n",
      " 60%|██████████████████████▉               | 4235/7000 [00:52<00:34, 80.34it/s]\n",
      " 61%|███████████████████████               | 4245/7000 [00:52<00:33, 82.24it/s]\n",
      " 61%|███████████████████████               | 4254/7000 [00:52<00:33, 80.94it/s]\n",
      " 61%|███████████████████████▏              | 4263/7000 [00:52<00:33, 80.85it/s]\n",
      " 61%|███████████████████████▏              | 4272/7000 [00:52<00:33, 82.47it/s]\n",
      " 61%|███████████████████████▏              | 4281/7000 [00:52<00:32, 83.83it/s]\n",
      " 61%|███████████████████████▎              | 4290/7000 [00:52<00:33, 81.93it/s]\n",
      " 61%|███████████████████████▎              | 4299/7000 [00:52<00:33, 79.96it/s]\n",
      " 62%|███████████████████████▍              | 4310/7000 [00:53<00:31, 84.12it/s]\n",
      " 62%|███████████████████████▍              | 4319/7000 [00:53<00:32, 81.40it/s]\n",
      " 62%|███████████████████████▍              | 4328/7000 [00:53<00:36, 73.37it/s]\n",
      " 62%|███████████████████████▌              | 4337/7000 [00:53<00:34, 76.95it/s]\n",
      " 62%|███████████████████████▌              | 4346/7000 [00:53<00:34, 77.29it/s]\n",
      " 62%|███████████████████████▋              | 4354/7000 [00:53<00:35, 74.90it/s]\n",
      " 62%|███████████████████████▋              | 4362/7000 [00:53<00:41, 63.53it/s]\n",
      " 62%|███████████████████████▋              | 4369/7000 [00:53<00:40, 64.68it/s]\n",
      " 63%|███████████████████████▊              | 4376/7000 [00:54<00:44, 59.07it/s]\n",
      " 63%|███████████████████████▊              | 4384/7000 [00:54<00:41, 63.54it/s]\n",
      " 63%|███████████████████████▊              | 4396/7000 [00:54<00:36, 71.35it/s]\n",
      " 63%|███████████████████████▉              | 4406/7000 [00:54<00:34, 75.43it/s]\n",
      " 63%|███████████████████████▉              | 4420/7000 [00:54<00:30, 85.22it/s]\n",
      " 63%|████████████████████████              | 4430/7000 [00:54<00:36, 70.80it/s]\n",
      " 63%|████████████████████████              | 4438/7000 [00:54<00:38, 66.18it/s]\n",
      " 64%|████████████████████████▏             | 4446/7000 [00:55<00:39, 64.64it/s]\n",
      " 64%|████████████████████████▏             | 4453/7000 [00:55<00:41, 62.00it/s]\n",
      " 64%|████████████████████████▏             | 4460/7000 [00:55<00:41, 61.50it/s]\n",
      " 64%|████████████████████████▎             | 4472/7000 [00:55<00:35, 71.56it/s]\n",
      " 64%|████████████████████████▎             | 4480/7000 [00:55<00:35, 71.67it/s]\n",
      " 64%|████████████████████████▎             | 4489/7000 [00:55<00:33, 74.20it/s]\n",
      " 64%|████████████████████████▍             | 4498/7000 [00:55<00:33, 73.84it/s]\n",
      " 64%|████████████████████████▍             | 4506/7000 [00:55<00:33, 73.99it/s]\n",
      " 65%|████████████████████████▌             | 4517/7000 [00:55<00:30, 82.04it/s]\n",
      " 65%|████████████████████████▌             | 4526/7000 [00:56<00:30, 81.70it/s]\n",
      " 65%|████████████████████████▌             | 4535/7000 [00:56<00:29, 83.87it/s]\n",
      " 65%|████████████████████████▋             | 4545/7000 [00:56<00:28, 87.21it/s]\n",
      " 65%|████████████████████████▋             | 4555/7000 [00:56<00:27, 88.76it/s]\n",
      " 65%|████████████████████████▊             | 4567/7000 [00:56<00:26, 92.09it/s]\n",
      " 65%|████████████████████████▊             | 4577/7000 [00:56<00:27, 87.49it/s]\n",
      " 66%|████████████████████████▉             | 4586/7000 [00:56<00:28, 83.33it/s]\n",
      " 66%|████████████████████████▉             | 4595/7000 [00:56<00:30, 78.94it/s]\n",
      " 66%|████████████████████████▉             | 4604/7000 [00:56<00:30, 79.52it/s]\n",
      " 66%|█████████████████████████             | 4613/7000 [00:57<00:34, 69.79it/s]\n",
      " 66%|█████████████████████████             | 4622/7000 [00:57<00:32, 72.72it/s]\n",
      " 66%|█████████████████████████▏            | 4630/7000 [00:57<00:34, 69.32it/s]\n",
      " 66%|█████████████████████████▏            | 4638/7000 [00:57<00:34, 68.50it/s]\n",
      " 66%|█████████████████████████▏            | 4648/7000 [00:57<00:31, 73.70it/s]\n",
      " 67%|█████████████████████████▎            | 4660/7000 [00:57<00:29, 78.37it/s]\n",
      " 67%|█████████████████████████▎            | 4669/7000 [00:57<00:33, 69.69it/s]\n",
      " 67%|█████████████████████████▍            | 4677/7000 [00:57<00:34, 67.55it/s]\n",
      " 67%|█████████████████████████▍            | 4688/7000 [00:58<00:30, 74.59it/s]\n",
      " 67%|█████████████████████████▌            | 4699/7000 [00:58<00:28, 81.82it/s]\n",
      " 67%|█████████████████████████▌            | 4709/7000 [00:58<00:27, 83.25it/s]\n",
      " 67%|█████████████████████████▌            | 4719/7000 [00:58<00:26, 85.05it/s]\n",
      " 68%|█████████████████████████▋            | 4732/7000 [00:58<00:24, 93.33it/s]\n",
      " 68%|█████████████████████████▋            | 4742/7000 [00:58<00:29, 77.27it/s]\n",
      " 68%|█████████████████████████▊            | 4754/7000 [00:58<00:26, 85.90it/s]\n",
      " 68%|█████████████████████████▊            | 4764/7000 [00:58<00:25, 88.83it/s]\n",
      " 68%|█████████████████████████▉            | 4774/7000 [00:59<00:25, 88.19it/s]\n",
      " 68%|█████████████████████████▉            | 4784/7000 [00:59<00:27, 80.16it/s]\n",
      " 68%|██████████████████████████            | 4794/7000 [00:59<00:26, 83.53it/s]\n",
      " 69%|██████████████████████████            | 4803/7000 [00:59<00:27, 80.07it/s]\n",
      " 69%|██████████████████████████            | 4812/7000 [00:59<00:27, 78.63it/s]\n",
      " 69%|██████████████████████████▏           | 4822/7000 [00:59<00:26, 80.83it/s]\n",
      " 69%|██████████████████████████▏           | 4831/7000 [00:59<00:28, 76.64it/s]\n",
      " 69%|██████████████████████████▎           | 4840/7000 [00:59<00:27, 79.44it/s]\n",
      " 69%|██████████████████████████▎           | 4849/7000 [01:00<00:28, 75.76it/s]\n",
      " 69%|██████████████████████████▎           | 4857/7000 [01:00<00:30, 69.94it/s]\n",
      " 70%|██████████████████████████▍           | 4866/7000 [01:00<00:28, 74.35it/s]\n",
      " 70%|██████████████████████████▍           | 4876/7000 [01:00<00:27, 77.68it/s]\n",
      " 70%|██████████████████████████▌           | 4888/7000 [01:00<00:25, 84.02it/s]\n",
      " 70%|██████████████████████████▌           | 4897/7000 [01:00<00:24, 85.73it/s]\n",
      " 70%|██████████████████████████▋           | 4906/7000 [01:00<00:24, 86.06it/s]\n",
      " 70%|██████████████████████████▋           | 4915/7000 [01:00<00:27, 75.82it/s]\n",
      " 70%|██████████████████████████▋           | 4926/7000 [01:00<00:25, 80.74it/s]\n",
      " 70%|██████████████████████████▊           | 4935/7000 [01:01<00:27, 75.88it/s]\n",
      " 71%|██████████████████████████▊           | 4944/7000 [01:01<00:26, 76.60it/s]\n",
      " 71%|██████████████████████████▉           | 4952/7000 [01:01<00:29, 70.44it/s]\n",
      " 71%|██████████████████████████▉           | 4967/7000 [01:01<00:24, 81.68it/s]\n",
      " 71%|███████████████████████████           | 4976/7000 [01:01<00:27, 73.60it/s]\n",
      " 71%|███████████████████████████           | 4985/7000 [01:01<00:26, 77.13it/s]\n",
      " 71%|███████████████████████████           | 4995/7000 [01:01<00:25, 79.03it/s]\n",
      " 72%|███████████████████████████▏          | 5005/7000 [01:01<00:24, 81.99it/s]\n",
      " 72%|███████████████████████████▏          | 5014/7000 [01:02<00:23, 83.39it/s]\n",
      " 72%|███████████████████████████▎          | 5028/7000 [01:02<00:20, 94.21it/s]\n",
      " 72%|███████████████████████████▎          | 5039/7000 [01:02<00:22, 87.36it/s]\n",
      " 72%|███████████████████████████▍          | 5049/7000 [01:02<00:23, 83.76it/s]\n",
      " 72%|███████████████████████████▍          | 5060/7000 [01:02<00:22, 86.13it/s]\n",
      " 72%|███████████████████████████▌          | 5070/7000 [01:02<00:21, 88.06it/s]\n",
      " 73%|███████████████████████████▌          | 5081/7000 [01:02<00:20, 92.71it/s]\n",
      " 73%|███████████████████████████▋          | 5091/7000 [01:03<00:28, 66.63it/s]\n",
      " 73%|███████████████████████████▋          | 5099/7000 [01:03<00:27, 68.76it/s]\n",
      " 73%|███████████████████████████▋          | 5109/7000 [01:03<00:25, 75.31it/s]\n",
      " 73%|███████████████████████████▊          | 5118/7000 [01:03<00:28, 65.65it/s]\n",
      " 73%|███████████████████████████▊          | 5126/7000 [01:03<00:28, 65.42it/s]\n",
      " 73%|███████████████████████████▊          | 5134/7000 [01:03<00:27, 68.56it/s]\n",
      " 73%|███████████████████████████▉          | 5144/7000 [01:03<00:25, 73.69it/s]\n",
      " 74%|███████████████████████████▉          | 5155/7000 [01:03<00:22, 80.48it/s]\n",
      " 74%|████████████████████████████          | 5164/7000 [01:03<00:24, 74.22it/s]\n",
      " 74%|████████████████████████████          | 5172/7000 [01:04<00:25, 71.85it/s]\n",
      " 74%|████████████████████████████          | 5180/7000 [01:04<00:28, 63.14it/s]\n",
      " 74%|████████████████████████████▏         | 5187/7000 [01:04<00:28, 63.08it/s]\n",
      " 74%|████████████████████████████▏         | 5197/7000 [01:04<00:25, 69.80it/s]\n",
      " 74%|████████████████████████████▎         | 5205/7000 [01:04<00:26, 68.89it/s]\n",
      " 74%|████████████████████████████▎         | 5213/7000 [01:04<00:25, 68.98it/s]\n",
      " 75%|████████████████████████████▎         | 5221/7000 [01:04<00:26, 68.33it/s]\n",
      " 75%|████████████████████████████▍         | 5235/7000 [01:04<00:22, 79.19it/s]\n",
      " 75%|████████████████████████████▍         | 5246/7000 [01:05<00:20, 85.72it/s]\n",
      " 75%|████████████████████████████▌         | 5257/7000 [01:05<00:19, 88.50it/s]\n",
      " 75%|████████████████████████████▌         | 5267/7000 [01:05<00:19, 86.96it/s]\n",
      " 75%|████████████████████████████▋         | 5277/7000 [01:05<00:21, 79.59it/s]\n",
      " 76%|████████████████████████████▋         | 5286/7000 [01:05<00:21, 78.23it/s]\n",
      " 76%|████████████████████████████▊         | 5301/7000 [01:05<00:19, 88.92it/s]\n",
      " 76%|████████████████████████████▊         | 5311/7000 [01:05<00:19, 84.67it/s]\n",
      " 76%|████████████████████████████▉         | 5320/7000 [01:05<00:21, 78.27it/s]\n",
      " 76%|████████████████████████████▉         | 5329/7000 [01:06<00:20, 80.66it/s]\n",
      " 76%|████████████████████████████▉         | 5338/7000 [01:06<00:21, 76.46it/s]\n",
      " 76%|█████████████████████████████         | 5348/7000 [01:06<00:20, 79.35it/s]\n",
      " 77%|█████████████████████████████         | 5357/7000 [01:06<00:22, 72.20it/s]\n",
      " 77%|█████████████████████████████▏        | 5367/7000 [01:06<00:20, 78.10it/s]\n",
      " 77%|█████████████████████████████▏        | 5383/7000 [01:06<00:17, 89.89it/s]\n",
      " 77%|█████████████████████████████▎        | 5393/7000 [01:06<00:21, 74.78it/s]\n",
      " 77%|█████████████████████████████▎        | 5403/7000 [01:06<00:19, 80.20it/s]\n",
      " 77%|█████████████████████████████▍        | 5414/7000 [01:07<00:18, 85.01it/s]\n",
      " 77%|█████████████████████████████▍        | 5424/7000 [01:07<00:25, 62.34it/s]\n",
      " 78%|█████████████████████████████▍        | 5432/7000 [01:07<00:26, 58.18it/s]\n",
      " 78%|█████████████████████████████▌        | 5439/7000 [01:07<00:29, 52.17it/s]\n",
      " 78%|█████████████████████████████▌        | 5450/7000 [01:07<00:25, 61.56it/s]\n",
      " 78%|█████████████████████████████▋        | 5458/7000 [01:07<00:26, 59.24it/s]\n",
      " 78%|█████████████████████████████▋        | 5466/7000 [01:08<00:24, 63.08it/s]\n",
      " 78%|█████████████████████████████▋        | 5475/7000 [01:08<00:22, 69.30it/s]\n",
      " 78%|█████████████████████████████▊        | 5489/7000 [01:08<00:18, 80.10it/s]\n",
      " 79%|█████████████████████████████▊        | 5499/7000 [01:08<00:21, 70.40it/s]\n",
      " 79%|█████████████████████████████▉        | 5508/7000 [01:08<00:22, 66.79it/s]\n",
      " 79%|█████████████████████████████▉        | 5518/7000 [01:08<00:20, 73.00it/s]\n",
      " 79%|██████████████████████████████        | 5529/7000 [01:08<00:18, 79.22it/s]\n",
      " 79%|██████████████████████████████        | 5538/7000 [01:08<00:19, 74.93it/s]\n",
      " 79%|██████████████████████████████        | 5546/7000 [01:09<00:20, 70.24it/s]\n",
      " 79%|██████████████████████████████▏       | 5554/7000 [01:09<00:20, 72.19it/s]\n",
      " 79%|██████████████████████████████▏       | 5563/7000 [01:09<00:19, 75.28it/s]\n",
      " 80%|██████████████████████████████▎       | 5577/7000 [01:09<00:16, 87.40it/s]\n",
      " 80%|██████████████████████████████▎       | 5587/7000 [01:09<00:16, 85.42it/s]\n",
      " 80%|██████████████████████████████▍       | 5597/7000 [01:09<00:17, 81.76it/s]\n",
      " 80%|██████████████████████████████▍       | 5606/7000 [01:09<00:16, 83.31it/s]\n",
      " 80%|██████████████████████████████▍       | 5615/7000 [01:09<00:17, 80.87it/s]\n",
      " 80%|██████████████████████████████▌       | 5630/7000 [01:09<00:15, 88.76it/s]\n",
      " 81%|██████████████████████████████▌       | 5640/7000 [01:10<00:16, 83.64it/s]\n",
      " 81%|██████████████████████████████▋       | 5649/7000 [01:10<00:17, 75.53it/s]\n",
      " 81%|██████████████████████████████▋       | 5659/7000 [01:10<00:16, 80.86it/s]\n",
      " 81%|██████████████████████████████▊       | 5670/7000 [01:10<00:15, 85.46it/s]\n",
      " 81%|██████████████████████████████▊       | 5679/7000 [01:10<00:15, 82.94it/s]\n",
      " 81%|██████████████████████████████▉       | 5688/7000 [01:10<00:17, 75.53it/s]\n",
      " 81%|██████████████████████████████▉       | 5700/7000 [01:10<00:15, 84.32it/s]\n",
      " 82%|██████████████████████████████▉       | 5709/7000 [01:10<00:16, 76.40it/s]\n",
      " 82%|███████████████████████████████       | 5721/7000 [01:11<00:15, 83.09it/s]\n",
      " 82%|███████████████████████████████       | 5730/7000 [01:11<00:15, 84.27it/s]\n",
      " 82%|███████████████████████████████▏      | 5743/7000 [01:11<00:13, 91.19it/s]\n",
      " 82%|███████████████████████████████▏      | 5753/7000 [01:11<00:16, 73.42it/s]\n",
      " 82%|███████████████████████████████▎      | 5762/7000 [01:11<00:17, 70.54it/s]\n",
      " 82%|███████████████████████████████▎      | 5770/7000 [01:11<00:18, 67.23it/s]\n",
      " 83%|███████████████████████████████▎      | 5778/7000 [01:11<00:19, 62.12it/s]\n",
      " 83%|███████████████████████████████▍      | 5789/7000 [01:12<00:18, 66.95it/s]\n",
      " 83%|███████████████████████████████▍      | 5798/7000 [01:12<00:16, 71.21it/s]\n",
      " 83%|███████████████████████████████▌      | 5810/7000 [01:12<00:14, 79.86it/s]\n",
      " 83%|███████████████████████████████▌      | 5819/7000 [01:12<00:15, 78.57it/s]\n",
      " 83%|███████████████████████████████▋      | 5828/7000 [01:12<00:14, 78.42it/s]\n",
      " 83%|███████████████████████████████▋      | 5839/7000 [01:12<00:13, 85.09it/s]\n",
      " 84%|███████████████████████████████▋      | 5848/7000 [01:12<00:13, 82.85it/s]\n",
      " 84%|███████████████████████████████▊      | 5857/7000 [01:12<00:13, 83.08it/s]\n",
      " 84%|███████████████████████████████▊      | 5866/7000 [01:12<00:14, 80.56it/s]\n",
      " 84%|███████████████████████████████▉      | 5875/7000 [01:13<00:15, 72.00it/s]\n",
      " 84%|███████████████████████████████▉      | 5887/7000 [01:13<00:14, 78.71it/s]\n",
      " 84%|████████████████████████████████      | 5897/7000 [01:13<00:13, 82.57it/s]\n",
      " 84%|████████████████████████████████      | 5906/7000 [01:13<00:14, 75.38it/s]\n",
      " 84%|████████████████████████████████      | 5914/7000 [01:13<00:14, 72.61it/s]\n",
      " 85%|████████████████████████████████▏     | 5923/7000 [01:13<00:13, 77.08it/s]\n",
      " 85%|████████████████████████████████▏     | 5932/7000 [01:13<00:13, 80.55it/s]\n",
      " 85%|████████████████████████████████▎     | 5941/7000 [01:13<00:13, 80.49it/s]\n",
      " 85%|████████████████████████████████▎     | 5952/7000 [01:14<00:12, 86.78it/s]\n",
      " 85%|████████████████████████████████▍     | 5965/7000 [01:14<00:11, 93.23it/s]\n",
      " 85%|████████████████████████████████▍     | 5975/7000 [01:14<00:11, 90.20it/s]\n",
      " 86%|████████████████████████████████▍     | 5985/7000 [01:14<00:12, 81.46it/s]\n",
      " 86%|████████████████████████████████▌     | 5994/7000 [01:14<00:13, 74.20it/s]\n",
      " 86%|████████████████████████████████▌     | 6003/7000 [01:14<00:13, 73.12it/s]\n"
     ]
    },
    {
     "name": "stderr",
     "output_type": "stream",
     "text": [
      " 86%|████████████████████████████████▋     | 6011/7000 [01:14<00:13, 75.06it/s]\n",
      " 86%|████████████████████████████████▋     | 6021/7000 [01:14<00:12, 80.35it/s]\n",
      " 86%|████████████████████████████████▋     | 6031/7000 [01:14<00:12, 80.58it/s]\n",
      " 86%|████████████████████████████████▊     | 6040/7000 [01:15<00:11, 82.36it/s]\n",
      " 86%|████████████████████████████████▊     | 6049/7000 [01:15<00:12, 77.82it/s]\n",
      " 87%|████████████████████████████████▉     | 6062/7000 [01:15<00:10, 87.82it/s]\n",
      " 87%|████████████████████████████████▉     | 6075/7000 [01:15<00:09, 94.14it/s]\n",
      " 87%|█████████████████████████████████     | 6087/7000 [01:15<00:09, 96.00it/s]\n",
      " 87%|█████████████████████████████████     | 6098/7000 [01:15<00:09, 95.83it/s]\n",
      " 87%|█████████████████████████████████▏    | 6108/7000 [01:15<00:09, 92.91it/s]\n",
      " 87%|█████████████████████████████████▏    | 6118/7000 [01:15<00:09, 90.08it/s]\n",
      " 88%|█████████████████████████████████▎    | 6133/7000 [01:16<00:08, 99.25it/s]\n",
      " 88%|████████████████████████████████▍    | 6144/7000 [01:16<00:08, 101.22it/s]\n",
      " 88%|████████████████████████████████▌    | 6158/7000 [01:16<00:07, 106.64it/s]\n",
      " 88%|█████████████████████████████████▍    | 6169/7000 [01:16<00:08, 93.81it/s]\n",
      " 88%|█████████████████████████████████▌    | 6179/7000 [01:16<00:09, 86.89it/s]\n",
      " 88%|█████████████████████████████████▌    | 6189/7000 [01:16<00:09, 86.77it/s]\n",
      " 89%|█████████████████████████████████▋    | 6200/7000 [01:16<00:08, 91.88it/s]\n",
      " 89%|█████████████████████████████████▋    | 6210/7000 [01:16<00:09, 83.23it/s]\n",
      " 89%|█████████████████████████████████▊    | 6219/7000 [01:17<00:10, 77.41it/s]\n",
      " 89%|█████████████████████████████████▊    | 6230/7000 [01:17<00:09, 84.25it/s]\n",
      " 89%|█████████████████████████████████▉    | 6242/7000 [01:17<00:08, 92.52it/s]\n",
      " 89%|█████████████████████████████████▉    | 6252/7000 [01:17<00:08, 92.54it/s]\n",
      " 89%|█████████████████████████████████▉    | 6262/7000 [01:17<00:07, 92.65it/s]\n",
      " 90%|██████████████████████████████████    | 6272/7000 [01:17<00:08, 89.73it/s]\n",
      " 90%|██████████████████████████████████    | 6286/7000 [01:17<00:07, 99.78it/s]\n",
      " 90%|██████████████████████████████████▏   | 6297/7000 [01:17<00:07, 95.27it/s]\n",
      " 90%|██████████████████████████████████▏   | 6307/7000 [01:17<00:07, 87.68it/s]\n",
      " 90%|██████████████████████████████████▎   | 6318/7000 [01:18<00:07, 89.87it/s]\n",
      " 90%|██████████████████████████████████▎   | 6328/7000 [01:18<00:07, 84.33it/s]\n",
      " 91%|██████████████████████████████████▍   | 6337/7000 [01:18<00:09, 67.03it/s]\n",
      " 91%|██████████████████████████████████▍   | 6346/7000 [01:18<00:09, 66.83it/s]\n",
      " 91%|██████████████████████████████████▍   | 6354/7000 [01:18<00:09, 66.18it/s]\n",
      " 91%|██████████████████████████████████▌   | 6363/7000 [01:18<00:09, 65.60it/s]\n",
      " 91%|██████████████████████████████████▌   | 6371/7000 [01:18<00:09, 68.63it/s]\n",
      " 91%|██████████████████████████████████▋   | 6379/7000 [01:19<00:09, 66.73it/s]\n",
      " 91%|██████████████████████████████████▋   | 6390/7000 [01:19<00:08, 74.48it/s]\n",
      " 91%|██████████████████████████████████▋   | 6400/7000 [01:19<00:07, 79.19it/s]\n",
      " 92%|██████████████████████████████████▊   | 6409/7000 [01:19<00:08, 68.17it/s]\n",
      " 92%|██████████████████████████████████▊   | 6417/7000 [01:19<00:08, 69.18it/s]\n",
      " 92%|██████████████████████████████████▉   | 6425/7000 [01:19<00:08, 70.65it/s]\n",
      " 92%|██████████████████████████████████▉   | 6433/7000 [01:19<00:08, 66.69it/s]\n",
      " 92%|███████████████████████████████████   | 6448/7000 [01:19<00:07, 78.12it/s]\n",
      " 92%|███████████████████████████████████   | 6458/7000 [01:20<00:06, 77.66it/s]\n",
      " 92%|███████████████████████████████████   | 6467/7000 [01:20<00:06, 79.36it/s]\n",
      " 93%|███████████████████████████████████▏  | 6476/7000 [01:20<00:07, 73.42it/s]\n",
      " 93%|███████████████████████████████████▏  | 6484/7000 [01:20<00:07, 71.39it/s]\n",
      " 93%|███████████████████████████████████▏  | 6492/7000 [01:20<00:07, 71.47it/s]\n",
      " 93%|███████████████████████████████████▎  | 6501/7000 [01:20<00:06, 71.93it/s]\n",
      " 93%|███████████████████████████████████▎  | 6509/7000 [01:20<00:07, 69.60it/s]\n",
      " 93%|███████████████████████████████████▍  | 6517/7000 [01:20<00:06, 70.21it/s]\n",
      " 93%|███████████████████████████████████▍  | 6525/7000 [01:21<00:07, 62.36it/s]\n",
      " 93%|███████████████████████████████████▍  | 6535/7000 [01:21<00:06, 69.81it/s]\n",
      " 93%|███████████████████████████████████▌  | 6543/7000 [01:21<00:06, 68.90it/s]\n",
      " 94%|███████████████████████████████████▌  | 6552/7000 [01:21<00:06, 70.69it/s]\n",
      " 94%|███████████████████████████████████▌  | 6560/7000 [01:21<00:06, 73.24it/s]\n",
      " 94%|███████████████████████████████████▋  | 6569/7000 [01:21<00:05, 74.70it/s]\n",
      " 94%|███████████████████████████████████▋  | 6577/7000 [01:21<00:06, 69.89it/s]\n",
      " 94%|███████████████████████████████████▊  | 6586/7000 [01:21<00:05, 71.35it/s]\n",
      " 94%|███████████████████████████████████▊  | 6595/7000 [01:21<00:05, 76.08it/s]\n",
      " 94%|███████████████████████████████████▊  | 6603/7000 [01:22<00:05, 73.80it/s]\n",
      " 94%|███████████████████████████████████▉  | 6613/7000 [01:22<00:05, 77.26it/s]\n",
      " 95%|███████████████████████████████████▉  | 6622/7000 [01:22<00:04, 79.06it/s]\n",
      " 95%|████████████████████████████████████  | 6634/7000 [01:22<00:04, 85.88it/s]\n",
      " 95%|████████████████████████████████████  | 6643/7000 [01:22<00:04, 86.16it/s]\n",
      " 95%|████████████████████████████████████  | 6654/7000 [01:22<00:03, 88.75it/s]\n",
      " 95%|████████████████████████████████████▏ | 6664/7000 [01:22<00:03, 84.48it/s]\n",
      " 95%|████████████████████████████████████▏ | 6673/7000 [01:22<00:04, 78.01it/s]\n",
      " 95%|████████████████████████████████████▎ | 6683/7000 [01:22<00:03, 83.52it/s]\n",
      " 96%|████████████████████████████████████▎ | 6692/7000 [01:23<00:03, 78.54it/s]\n",
      " 96%|████████████████████████████████████▍ | 6701/7000 [01:23<00:03, 80.86it/s]\n",
      " 96%|████████████████████████████████████▍ | 6710/7000 [01:23<00:04, 70.26it/s]\n",
      " 96%|████████████████████████████████████▍ | 6719/7000 [01:23<00:03, 72.50it/s]\n",
      " 96%|████████████████████████████████████▌ | 6727/7000 [01:23<00:03, 73.92it/s]\n",
      " 96%|████████████████████████████████████▌ | 6737/7000 [01:23<00:03, 77.36it/s]\n",
      " 96%|████████████████████████████████████▋ | 6753/7000 [01:23<00:02, 89.26it/s]\n",
      " 97%|███████████████████████████████████▊ | 6768/7000 [01:23<00:02, 100.93it/s]\n",
      " 97%|████████████████████████████████████▊ | 6780/7000 [01:24<00:02, 92.37it/s]\n",
      " 97%|████████████████████████████████████▊ | 6791/7000 [01:24<00:02, 90.51it/s]\n",
      " 97%|████████████████████████████████████▉ | 6801/7000 [01:24<00:02, 92.22it/s]\n",
      " 97%|████████████████████████████████████ | 6817/7000 [01:24<00:01, 102.55it/s]\n",
      " 98%|█████████████████████████████████████ | 6828/7000 [01:24<00:01, 91.23it/s]\n",
      " 98%|█████████████████████████████████████▏| 6841/7000 [01:24<00:01, 96.77it/s]\n",
      " 98%|█████████████████████████████████████▏| 6852/7000 [01:24<00:01, 99.51it/s]\n",
      " 98%|█████████████████████████████████████▎| 6863/7000 [01:24<00:01, 94.30it/s]\n",
      " 98%|█████████████████████████████████████▎| 6873/7000 [01:25<00:01, 70.07it/s]\n",
      " 98%|█████████████████████████████████████▎| 6882/7000 [01:25<00:01, 65.37it/s]\n",
      " 98%|█████████████████████████████████████▍| 6891/7000 [01:25<00:01, 71.21it/s]\n",
      " 99%|█████████████████████████████████████▍| 6899/7000 [01:25<00:01, 72.19it/s]\n",
      " 99%|█████████████████████████████████████▌| 6910/7000 [01:25<00:01, 79.10it/s]\n",
      " 99%|█████████████████████████████████████▌| 6922/7000 [01:25<00:00, 88.11it/s]\n",
      " 99%|█████████████████████████████████████▋| 6932/7000 [01:25<00:00, 83.24it/s]\n",
      " 99%|█████████████████████████████████████▋| 6948/7000 [01:25<00:00, 94.60it/s]\n",
      " 99%|█████████████████████████████████████▊| 6959/7000 [01:26<00:00, 90.27it/s]\n",
      "100%|█████████████████████████████████████▊| 6969/7000 [01:26<00:00, 68.22it/s]\n",
      "100%|█████████████████████████████████████▉| 6979/7000 [01:26<00:00, 74.85it/s]\n",
      "100%|█████████████████████████████████████▉| 6988/7000 [01:26<00:00, 69.41it/s]\n",
      "100%|█████████████████████████████████████▉| 6996/7000 [01:26<00:00, 65.98it/s]\n",
      "100%|██████████████████████████████████████| 7000/7000 [01:26<00:00, 80.61it/s]"
     ]
    }
   ],
   "source": [
    "# TF-IDF weighted Word2Vec for rbf kernel train data\n",
    "tfidf_feat = model.get_feature_names() # tfidf words/col-names\n",
    "# final_tf_idf is the sparse matrix with row= sentence, col=word and cell_val = tfidf\n",
    "\n",
    "rtraintf = []; # the tfidf-w2v for each sentence/review is stored in this list\n",
    "row=0;\n",
    "for sent in tqdm(rtrainsent): # for each review/sentence \n",
    "    sent_vec = np.zeros(50) # as word vectors are of zero length\n",
    "    weight_sum =0; # num of words with a valid vector in the sentence/review\n",
    "    for word in sent: # for each word in a review/sentence\n",
    "        if word in w2v_rwords and word in tfidf_feat:\n",
    "            vec = w2v_rmodel.wv[word]\n",
    "#             tf_idf = tf_idf_matrix[row, tfidf_feat.index(word)]\n",
    "            # to reduce the computation we are \n",
    "            # dictionary[word] = idf value of word in whole courpus\n",
    "            # sent.count(word) = tf valeus of word in this review\n",
    "            tf_idf = dictionary[word]*(sent.count(word)/len(sent))\n",
    "            sent_vec += (vec * tf_idf)\n",
    "            weight_sum += tf_idf\n",
    "    if weight_sum != 0:\n",
    "        sent_vec /= weight_sum\n",
    "    rtraintf.append(sent_vec)\n",
    "    row += 1"
   ]
  },
  {
   "cell_type": "code",
   "execution_count": 37,
   "metadata": {
    "collapsed": true
   },
   "outputs": [
    {
     "name": "stderr",
     "output_type": "stream",
     "text": [
      "\n",
      "  0%|                                                 | 0/3000 [00:00<?, ?it/s]\n",
      "  0%|                                         | 8/3000 [00:00<00:41, 71.43it/s]\n",
      "  0%|▏                                       | 15/3000 [00:00<00:42, 70.99it/s]\n",
      "  1%|▎                                       | 25/3000 [00:00<00:39, 75.09it/s]\n",
      "  1%|▍                                       | 32/3000 [00:00<00:41, 71.84it/s]\n",
      "  1%|▌                                       | 41/3000 [00:00<00:39, 75.70it/s]\n",
      "  2%|▋                                       | 48/3000 [00:00<00:47, 62.16it/s]\n",
      "  2%|▊                                       | 61/3000 [00:00<00:40, 71.87it/s]\n",
      "  2%|▉                                       | 69/3000 [00:00<00:41, 70.29it/s]\n",
      "  3%|█                                       | 77/3000 [00:01<00:43, 66.47it/s]\n",
      "  3%|█                                       | 84/3000 [00:01<00:44, 65.23it/s]\n",
      "  3%|█▎                                      | 96/3000 [00:01<00:39, 74.45it/s]\n",
      "  3%|█▎                                     | 104/3000 [00:01<00:39, 73.52it/s]\n",
      "  4%|█▍                                     | 112/3000 [00:01<00:39, 72.88it/s]\n",
      "  4%|█▌                                     | 121/3000 [00:01<00:37, 76.50it/s]\n",
      "  4%|█▋                                     | 129/3000 [00:01<00:39, 73.48it/s]\n",
      "  5%|█▊                                     | 139/3000 [00:01<00:36, 79.21it/s]\n",
      "  5%|█▉                                     | 149/3000 [00:01<00:34, 82.95it/s]\n",
      "  5%|██                                     | 158/3000 [00:02<00:38, 73.52it/s]\n",
      "  6%|██▏                                    | 166/3000 [00:02<00:37, 74.59it/s]\n",
      "  6%|██▎                                    | 174/3000 [00:02<00:37, 75.27it/s]\n",
      "  6%|██▍                                    | 183/3000 [00:02<00:36, 76.87it/s]\n",
      "  6%|██▍                                    | 191/3000 [00:02<00:38, 73.57it/s]\n",
      "  7%|██▋                                    | 202/3000 [00:02<00:35, 79.00it/s]\n",
      "  7%|██▋                                    | 211/3000 [00:02<00:36, 76.25it/s]\n",
      "  8%|██▉                                    | 226/3000 [00:02<00:31, 88.24it/s]\n",
      "  8%|███                                    | 238/3000 [00:02<00:29, 95.02it/s]\n",
      "  8%|███▏                                   | 249/3000 [00:03<00:28, 95.05it/s]\n",
      "  9%|███▍                                   | 260/3000 [00:03<00:30, 91.29it/s]\n",
      "  9%|███▌                                   | 270/3000 [00:03<00:30, 88.92it/s]\n",
      "  9%|███▋                                   | 280/3000 [00:03<00:33, 81.36it/s]\n",
      " 10%|███▊                                   | 289/3000 [00:03<00:35, 76.19it/s]\n",
      " 10%|███▉                                   | 299/3000 [00:03<00:35, 76.26it/s]\n",
      " 10%|████                                   | 308/3000 [00:03<00:34, 78.32it/s]\n",
      " 11%|████▏                                  | 323/3000 [00:03<00:29, 89.53it/s]\n",
      " 11%|████▎                                  | 333/3000 [00:04<00:34, 77.97it/s]\n",
      " 11%|████▍                                  | 344/3000 [00:04<00:31, 84.79it/s]\n",
      " 12%|████▌                                  | 354/3000 [00:04<00:31, 84.42it/s]\n",
      " 12%|████▋                                  | 363/3000 [00:04<00:32, 82.25it/s]\n",
      " 12%|████▊                                  | 372/3000 [00:04<00:32, 81.67it/s]\n",
      " 13%|████▉                                  | 381/3000 [00:04<00:31, 83.07it/s]\n",
      " 13%|█████                                  | 390/3000 [00:04<00:36, 72.37it/s]\n",
      " 13%|█████▏                                 | 401/3000 [00:04<00:33, 78.63it/s]\n",
      " 14%|█████▎                                 | 413/3000 [00:05<00:30, 85.52it/s]\n",
      " 14%|█████▍                                 | 423/3000 [00:05<00:33, 75.80it/s]\n",
      " 14%|█████▌                                 | 432/3000 [00:05<00:34, 74.87it/s]\n",
      " 15%|█████▋                                 | 440/3000 [00:05<00:34, 74.63it/s]\n",
      " 15%|█████▉                                 | 452/3000 [00:05<00:30, 83.54it/s]\n",
      " 15%|█████▉                                 | 461/3000 [00:05<00:30, 83.65it/s]\n",
      " 16%|██████                                 | 470/3000 [00:05<00:31, 80.07it/s]\n",
      " 16%|██████▏                                | 479/3000 [00:05<00:31, 80.23it/s]\n",
      " 16%|██████▎                                | 488/3000 [00:06<00:33, 74.74it/s]\n",
      " 17%|██████▍                                | 496/3000 [00:06<00:35, 71.42it/s]\n",
      " 17%|██████▌                                | 507/3000 [00:06<00:31, 78.45it/s]\n",
      " 17%|██████▋                                | 516/3000 [00:06<00:34, 71.67it/s]\n",
      " 17%|██████▊                                | 524/3000 [00:06<00:40, 61.77it/s]\n",
      " 18%|██████▉                                | 532/3000 [00:06<00:38, 64.44it/s]\n",
      " 18%|███████                                | 539/3000 [00:06<00:37, 65.27it/s]\n",
      " 18%|███████                                | 546/3000 [00:06<00:37, 65.87it/s]\n",
      " 18%|███████▏                               | 553/3000 [00:07<00:37, 65.69it/s]\n",
      " 19%|███████▎                               | 560/3000 [00:07<00:43, 55.72it/s]\n",
      " 19%|███████▍                               | 568/3000 [00:07<00:40, 59.70it/s]\n",
      " 19%|███████▍                               | 575/3000 [00:07<00:41, 58.21it/s]\n",
      " 19%|███████▌                               | 583/3000 [00:07<00:38, 62.85it/s]\n",
      " 20%|███████▋                               | 590/3000 [00:07<00:39, 61.54it/s]\n",
      " 20%|███████▊                               | 597/3000 [00:07<00:44, 54.43it/s]\n",
      " 20%|███████▊                               | 605/3000 [00:07<00:40, 59.71it/s]\n",
      " 20%|███████▉                               | 612/3000 [00:08<00:39, 60.52it/s]\n",
      " 21%|████████                               | 622/3000 [00:08<00:34, 68.09it/s]\n",
      " 21%|████████▏                              | 630/3000 [00:08<00:35, 67.04it/s]\n",
      " 21%|████████▎                              | 640/3000 [00:08<00:32, 73.15it/s]\n",
      " 22%|████████▍                              | 652/3000 [00:08<00:28, 82.17it/s]\n",
      " 22%|████████▌                              | 661/3000 [00:08<00:32, 71.63it/s]\n",
      " 22%|████████▋                              | 671/3000 [00:08<00:31, 74.84it/s]\n",
      " 23%|████████▊                              | 680/3000 [00:08<00:32, 72.14it/s]\n",
      " 23%|████████▉                              | 688/3000 [00:09<00:35, 65.62it/s]\n",
      " 23%|█████████                              | 697/3000 [00:09<00:32, 70.81it/s]\n",
      " 24%|█████████▏                             | 711/3000 [00:09<00:28, 80.93it/s]\n",
      " 24%|█████████▎                             | 721/3000 [00:09<00:26, 85.05it/s]\n",
      " 24%|█████████▌                             | 731/3000 [00:09<00:30, 74.32it/s]\n",
      " 25%|█████████▋                             | 741/3000 [00:09<00:28, 79.82it/s]\n",
      " 25%|█████████▊                             | 750/3000 [00:09<00:27, 81.73it/s]\n",
      " 25%|█████████▊                             | 759/3000 [00:09<00:28, 77.35it/s]\n",
      " 26%|█████████▉                             | 768/3000 [00:10<00:28, 78.30it/s]\n",
      " 26%|██████████                             | 777/3000 [00:10<00:27, 79.75it/s]\n",
      " 26%|██████████▏                            | 786/3000 [00:10<00:27, 79.24it/s]\n",
      " 26%|██████████▎                            | 795/3000 [00:10<00:30, 72.00it/s]\n",
      " 27%|██████████▍                            | 804/3000 [00:10<00:28, 76.60it/s]\n",
      " 27%|██████████▌                            | 812/3000 [00:10<00:28, 75.98it/s]\n",
      " 27%|██████████▋                            | 821/3000 [00:10<00:28, 75.68it/s]\n",
      " 28%|██████████▊                            | 829/3000 [00:10<00:28, 76.05it/s]\n",
      " 28%|██████████▉                            | 840/3000 [00:10<00:25, 83.81it/s]\n",
      " 28%|███████████                            | 849/3000 [00:11<00:29, 71.93it/s]\n",
      " 29%|███████████▏                           | 858/3000 [00:11<00:28, 75.08it/s]\n",
      " 29%|███████████▎                           | 868/3000 [00:11<00:27, 78.24it/s]\n",
      " 29%|███████████▍                           | 877/3000 [00:11<00:27, 78.19it/s]\n",
      " 30%|███████████▌                           | 886/3000 [00:11<00:28, 74.36it/s]\n",
      " 30%|███████████▋                           | 897/3000 [00:11<00:25, 81.69it/s]\n",
      " 30%|███████████▊                           | 911/3000 [00:11<00:24, 85.35it/s]\n",
      " 31%|████████████                           | 925/3000 [00:11<00:21, 95.17it/s]\n",
      " 31%|████████████▏                          | 936/3000 [00:12<00:22, 92.45it/s]\n",
      " 32%|████████████▎                          | 946/3000 [00:12<00:24, 83.33it/s]\n",
      " 32%|████████████▍                          | 955/3000 [00:12<00:39, 52.23it/s]\n",
      " 32%|████████████▌                          | 969/3000 [00:12<00:33, 60.45it/s]\n",
      " 33%|████████████▊                          | 982/3000 [00:12<00:28, 70.18it/s]\n",
      " 33%|████████████▉                          | 991/3000 [00:12<00:27, 72.95it/s]\n",
      " 33%|████████████▋                         | 1000/3000 [00:13<00:28, 69.59it/s]\n",
      " 34%|████████████▊                         | 1009/3000 [00:13<00:26, 74.00it/s]\n",
      " 34%|████████████▉                         | 1018/3000 [00:13<00:26, 75.87it/s]\n",
      " 34%|█████████████                         | 1027/3000 [00:13<00:24, 78.93it/s]\n",
      " 35%|█████████████                         | 1036/3000 [00:13<00:28, 69.94it/s]\n",
      " 35%|█████████████▏                        | 1044/3000 [00:13<00:27, 71.97it/s]\n",
      " 35%|█████████████▎                        | 1052/3000 [00:13<00:28, 67.70it/s]\n",
      " 35%|█████████████▍                        | 1062/3000 [00:13<00:26, 74.36it/s]\n",
      " 36%|█████████████▌                        | 1073/3000 [00:13<00:24, 79.70it/s]\n",
      " 36%|█████████████▋                        | 1082/3000 [00:14<00:23, 80.91it/s]\n",
      " 36%|█████████████▊                        | 1091/3000 [00:14<00:23, 80.75it/s]\n",
      " 37%|█████████████▉                        | 1100/3000 [00:14<00:24, 76.81it/s]\n",
      " 37%|██████████████                        | 1108/3000 [00:14<00:25, 74.43it/s]\n",
      " 37%|██████████████▏                       | 1119/3000 [00:14<00:22, 81.82it/s]\n",
      " 38%|██████████████▎                       | 1130/3000 [00:14<00:21, 87.86it/s]\n",
      " 38%|██████████████▍                       | 1140/3000 [00:14<00:21, 87.53it/s]\n",
      " 38%|██████████████▌                       | 1149/3000 [00:14<00:23, 77.70it/s]\n",
      " 39%|██████████████▋                       | 1158/3000 [00:15<00:24, 73.98it/s]\n",
      " 39%|██████████████▊                       | 1168/3000 [00:15<00:22, 79.69it/s]\n",
      " 39%|██████████████▉                       | 1178/3000 [00:15<00:23, 78.60it/s]\n",
      " 40%|███████████████                       | 1187/3000 [00:15<00:24, 74.62it/s]\n",
      " 40%|███████████████▏                      | 1198/3000 [00:15<00:21, 81.91it/s]\n",
      " 40%|███████████████▎                      | 1207/3000 [00:15<00:21, 81.52it/s]\n",
      " 41%|███████████████▍                      | 1218/3000 [00:15<00:20, 87.62it/s]\n",
      " 41%|███████████████▌                      | 1229/3000 [00:15<00:19, 89.82it/s]\n",
      " 41%|███████████████▋                      | 1239/3000 [00:15<00:20, 84.46it/s]\n",
      " 42%|███████████████▊                      | 1248/3000 [00:16<00:21, 81.54it/s]\n",
      " 42%|███████████████▉                      | 1257/3000 [00:16<00:23, 74.32it/s]\n",
      " 42%|████████████████                      | 1265/3000 [00:16<00:23, 72.77it/s]\n",
      " 42%|████████████████▏                     | 1274/3000 [00:16<00:23, 74.89it/s]\n",
      " 43%|████████████████▏                     | 1282/3000 [00:16<00:26, 65.34it/s]\n",
      " 43%|████████████████▎                     | 1289/3000 [00:16<00:29, 58.21it/s]\n",
      " 43%|████████████████▍                     | 1300/3000 [00:16<00:25, 67.33it/s]\n",
      " 44%|████████████████▌                     | 1308/3000 [00:17<00:25, 65.22it/s]\n",
      " 44%|████████████████▋                     | 1316/3000 [00:17<00:24, 67.71it/s]\n",
      " 44%|████████████████▊                     | 1324/3000 [00:17<00:24, 68.78it/s]\n",
      " 44%|████████████████▊                     | 1332/3000 [00:17<00:23, 70.35it/s]\n",
      " 45%|█████████████████                     | 1344/3000 [00:17<00:20, 79.11it/s]\n",
      " 45%|█████████████████▏                    | 1353/3000 [00:17<00:20, 79.56it/s]\n",
      " 45%|█████████████████▎                    | 1363/3000 [00:17<00:19, 84.76it/s]\n",
      " 46%|█████████████████▍                    | 1372/3000 [00:17<00:23, 69.20it/s]\n",
      " 46%|█████████████████▍                    | 1380/3000 [00:18<00:25, 63.51it/s]\n",
      " 46%|█████████████████▌                    | 1387/3000 [00:18<00:26, 60.07it/s]\n",
      " 47%|█████████████████▋                    | 1398/3000 [00:18<00:23, 68.54it/s]\n",
      " 47%|█████████████████▊                    | 1411/3000 [00:18<00:20, 77.74it/s]\n",
      " 47%|█████████████████▉                    | 1420/3000 [00:18<00:21, 74.00it/s]\n",
      " 48%|██████████████████                    | 1429/3000 [00:18<00:22, 68.96it/s]\n",
      " 48%|██████████████████▏                   | 1437/3000 [00:18<00:25, 60.94it/s]\n",
      " 48%|██████████████████▎                   | 1448/3000 [00:18<00:22, 69.91it/s]\n",
      " 49%|██████████████████▍                   | 1459/3000 [00:19<00:19, 77.89it/s]\n",
      " 49%|██████████████████▌                   | 1468/3000 [00:19<00:20, 75.45it/s]\n",
      " 49%|██████████████████▋                   | 1480/3000 [00:19<00:18, 84.26it/s]\n",
      " 50%|██████████████████▉                   | 1493/3000 [00:19<00:16, 91.17it/s]\n",
      " 50%|███████████████████                   | 1503/3000 [00:19<00:17, 85.21it/s]\n",
      " 50%|███████████████████▏                  | 1513/3000 [00:19<00:16, 88.31it/s]\n",
      " 51%|███████████████████▎                  | 1524/3000 [00:19<00:16, 91.23it/s]\n",
      " 51%|███████████████████▍                  | 1534/3000 [00:19<00:16, 87.86it/s]\n",
      " 51%|███████████████████▌                  | 1544/3000 [00:19<00:16, 89.23it/s]\n",
      " 52%|███████████████████▋                  | 1554/3000 [00:20<00:18, 79.91it/s]\n",
      " 52%|███████████████████▊                  | 1566/3000 [00:20<00:16, 85.90it/s]\n",
      " 52%|███████████████████▉                  | 1575/3000 [00:20<00:21, 66.58it/s]\n",
      " 53%|████████████████████                  | 1583/3000 [00:20<00:20, 68.73it/s]\n",
      " 53%|████████████████████▏                 | 1591/3000 [00:20<00:23, 60.26it/s]\n",
      " 53%|████████████████████▏                 | 1598/3000 [00:20<00:23, 60.34it/s]\n",
      " 54%|████████████████████▎                 | 1607/3000 [00:20<00:21, 64.10it/s]\n",
      " 54%|████████████████████▍                 | 1617/3000 [00:21<00:19, 71.84it/s]\n",
      " 54%|████████████████████▌                 | 1625/3000 [00:21<00:19, 71.09it/s]\n",
      " 54%|████████████████████▋                 | 1633/3000 [00:21<00:19, 70.51it/s]\n",
      " 55%|████████████████████▊                 | 1646/3000 [00:21<00:16, 81.17it/s]\n",
      " 55%|████████████████████▉                 | 1655/3000 [00:21<00:16, 82.79it/s]\n",
      " 55%|█████████████████████                 | 1664/3000 [00:21<00:16, 81.24it/s]\n",
      " 56%|█████████████████████▏                | 1673/3000 [00:21<00:16, 80.27it/s]\n",
      " 56%|█████████████████████▎                | 1684/3000 [00:21<00:15, 84.36it/s]\n",
      " 56%|█████████████████████▍                | 1693/3000 [00:21<00:17, 75.86it/s]\n",
      " 57%|█████████████████████▌                | 1701/3000 [00:22<00:19, 66.45it/s]\n",
      " 57%|█████████████████████▋                | 1709/3000 [00:22<00:20, 62.22it/s]\n",
      " 57%|█████████████████████▊                | 1718/3000 [00:22<00:23, 55.55it/s]\n",
      " 58%|█████████████████████▊                | 1726/3000 [00:22<00:21, 60.66it/s]\n",
      " 58%|█████████████████████▉                | 1734/3000 [00:22<00:19, 65.40it/s]\n",
      " 58%|██████████████████████                | 1744/3000 [00:22<00:17, 70.61it/s]\n",
      " 58%|██████████████████████▏               | 1752/3000 [00:22<00:19, 63.66it/s]\n",
      " 59%|██████████████████████▎               | 1765/3000 [00:23<00:16, 73.28it/s]\n",
      " 59%|██████████████████████▍               | 1774/3000 [00:23<00:16, 73.13it/s]\n",
      " 59%|██████████████████████▌               | 1782/3000 [00:23<00:17, 68.29it/s]\n",
      " 60%|██████████████████████▋               | 1790/3000 [00:23<00:17, 69.99it/s]\n",
      " 60%|██████████████████████▊               | 1798/3000 [00:23<00:20, 59.90it/s]\n",
      " 60%|██████████████████████▉               | 1807/3000 [00:23<00:18, 64.95it/s]\n",
      " 60%|██████████████████████▉               | 1814/3000 [00:23<00:18, 63.56it/s]\n",
      " 61%|███████████████████████               | 1821/3000 [00:23<00:18, 64.71it/s]\n",
      " 61%|███████████████████████▏              | 1830/3000 [00:24<00:16, 70.66it/s]\n",
      " 61%|███████████████████████▎              | 1838/3000 [00:24<00:16, 70.96it/s]\n",
      " 62%|███████████████████████▍              | 1846/3000 [00:24<00:17, 67.01it/s]\n",
      " 62%|███████████████████████▍              | 1855/3000 [00:24<00:16, 69.99it/s]\n",
      " 62%|███████████████████████▌              | 1863/3000 [00:24<00:15, 72.08it/s]\n",
      " 62%|███████████████████████▋              | 1874/3000 [00:24<00:14, 79.82it/s]\n",
      " 63%|███████████████████████▊              | 1883/3000 [00:24<00:13, 80.14it/s]\n",
      " 63%|███████████████████████▉              | 1892/3000 [00:24<00:15, 70.06it/s]\n",
      " 63%|████████████████████████              | 1900/3000 [00:24<00:15, 72.06it/s]\n"
     ]
    },
    {
     "name": "stderr",
     "output_type": "stream",
     "text": [
      " 64%|████████████████████████▏             | 1908/3000 [00:25<00:15, 71.24it/s]\n",
      " 64%|████████████████████████▎             | 1916/3000 [00:25<00:14, 72.93it/s]\n",
      " 64%|████████████████████████▍             | 1929/3000 [00:25<00:13, 80.91it/s]\n",
      " 65%|████████████████████████▌             | 1941/3000 [00:25<00:12, 87.39it/s]\n",
      " 65%|████████████████████████▋             | 1951/3000 [00:25<00:11, 89.94it/s]\n",
      " 65%|████████████████████████▊             | 1961/3000 [00:25<00:11, 91.81it/s]\n",
      " 66%|████████████████████████▉             | 1971/3000 [00:25<00:11, 91.13it/s]\n",
      " 66%|█████████████████████████             | 1981/3000 [00:25<00:13, 78.21it/s]\n",
      " 66%|█████████████████████████▏            | 1993/3000 [00:26<00:11, 84.52it/s]\n",
      " 67%|█████████████████████████▍            | 2004/3000 [00:26<00:11, 87.52it/s]\n",
      " 67%|█████████████████████████▌            | 2015/3000 [00:26<00:10, 92.38it/s]\n",
      " 68%|█████████████████████████▋            | 2027/3000 [00:26<00:10, 95.70it/s]\n",
      " 68%|█████████████████████████▏           | 2041/3000 [00:26<00:09, 102.20it/s]\n",
      " 68%|█████████████████████████▎           | 2052/3000 [00:26<00:09, 101.18it/s]\n",
      " 69%|██████████████████████████▏           | 2063/3000 [00:26<00:09, 96.07it/s]\n",
      " 69%|██████████████████████████▎           | 2073/3000 [00:26<00:10, 89.09it/s]\n",
      " 69%|██████████████████████████▍           | 2083/3000 [00:26<00:10, 89.23it/s]\n",
      " 70%|██████████████████████████▌           | 2093/3000 [00:27<00:10, 84.71it/s]\n",
      " 70%|██████████████████████████▋           | 2102/3000 [00:27<00:10, 84.29it/s]\n",
      " 70%|██████████████████████████▊           | 2113/3000 [00:27<00:10, 87.43it/s]\n",
      " 71%|██████████████████████████▉           | 2122/3000 [00:27<00:12, 68.50it/s]\n",
      " 71%|██████████████████████████▉           | 2130/3000 [00:27<00:13, 64.82it/s]\n",
      " 71%|███████████████████████████           | 2140/3000 [00:27<00:12, 70.68it/s]\n",
      " 72%|███████████████████████████▏          | 2151/3000 [00:27<00:10, 77.82it/s]\n",
      " 72%|███████████████████████████▍          | 2162/3000 [00:28<00:10, 82.45it/s]\n",
      " 72%|███████████████████████████▌          | 2172/3000 [00:28<00:09, 86.22it/s]\n",
      " 73%|███████████████████████████▋          | 2184/3000 [00:28<00:08, 90.75it/s]\n",
      " 73%|███████████████████████████▊          | 2194/3000 [00:28<00:09, 88.48it/s]\n",
      " 73%|███████████████████████████▉          | 2204/3000 [00:28<00:08, 91.64it/s]\n",
      " 74%|████████████████████████████          | 2214/3000 [00:28<00:08, 91.01it/s]\n",
      " 74%|████████████████████████████▏         | 2224/3000 [00:28<00:09, 78.89it/s]\n",
      " 74%|████████████████████████████▎         | 2233/3000 [00:28<00:09, 80.25it/s]\n",
      " 75%|████████████████████████████▍         | 2242/3000 [00:28<00:10, 74.09it/s]\n",
      " 75%|████████████████████████████▌         | 2250/3000 [00:29<00:10, 71.83it/s]\n",
      " 75%|████████████████████████████▌         | 2258/3000 [00:29<00:10, 71.02it/s]\n",
      " 76%|████████████████████████████▋         | 2266/3000 [00:29<00:10, 66.92it/s]\n",
      " 76%|████████████████████████████▊         | 2273/3000 [00:29<00:11, 63.46it/s]\n",
      " 76%|████████████████████████████▉         | 2280/3000 [00:29<00:11, 63.86it/s]\n",
      " 76%|████████████████████████████▉         | 2289/3000 [00:29<00:10, 68.67it/s]\n",
      " 77%|█████████████████████████████         | 2298/3000 [00:29<00:09, 73.93it/s]\n",
      " 77%|█████████████████████████████▏        | 2306/3000 [00:29<00:10, 64.08it/s]\n",
      " 77%|█████████████████████████████▎        | 2316/3000 [00:30<00:09, 69.48it/s]\n",
      " 78%|█████████████████████████████▍        | 2327/3000 [00:30<00:09, 73.34it/s]\n",
      " 78%|█████████████████████████████▌        | 2338/3000 [00:30<00:08, 79.50it/s]\n",
      " 78%|█████████████████████████████▋        | 2347/3000 [00:30<00:08, 79.83it/s]\n",
      " 79%|█████████████████████████████▊        | 2356/3000 [00:30<00:08, 76.01it/s]\n",
      " 79%|█████████████████████████████▉        | 2364/3000 [00:30<00:08, 74.65it/s]\n",
      " 79%|██████████████████████████████        | 2374/3000 [00:30<00:07, 79.33it/s]\n",
      " 80%|██████████████████████████████▏       | 2386/3000 [00:30<00:07, 86.84it/s]\n",
      " 80%|██████████████████████████████▎       | 2396/3000 [00:31<00:08, 70.20it/s]\n",
      " 80%|██████████████████████████████▌       | 2408/3000 [00:31<00:07, 79.60it/s]\n",
      " 81%|██████████████████████████████▌       | 2417/3000 [00:31<00:07, 81.56it/s]\n",
      " 81%|██████████████████████████████▊       | 2432/3000 [00:31<00:06, 92.53it/s]\n",
      " 81%|██████████████████████████████▉       | 2443/3000 [00:31<00:06, 79.73it/s]\n",
      " 82%|███████████████████████████████       | 2452/3000 [00:31<00:07, 76.01it/s]\n",
      " 82%|███████████████████████████████▏      | 2461/3000 [00:31<00:07, 75.02it/s]\n",
      " 82%|███████████████████████████████▎      | 2471/3000 [00:31<00:06, 80.39it/s]\n",
      " 83%|███████████████████████████████▍      | 2483/3000 [00:32<00:05, 89.22it/s]\n",
      " 83%|███████████████████████████████▋      | 2497/3000 [00:32<00:05, 96.94it/s]\n",
      " 84%|███████████████████████████████▊      | 2508/3000 [00:32<00:05, 85.46it/s]\n",
      " 84%|███████████████████████████████▉      | 2518/3000 [00:32<00:06, 72.42it/s]\n",
      " 84%|████████████████████████████████      | 2527/3000 [00:32<00:06, 71.90it/s]\n",
      " 84%|████████████████████████████████      | 2535/3000 [00:32<00:07, 64.22it/s]\n",
      " 85%|████████████████████████████████▎     | 2547/3000 [00:32<00:06, 72.61it/s]\n",
      " 85%|████████████████████████████████▍     | 2556/3000 [00:33<00:05, 74.91it/s]\n",
      " 86%|████████████████████████████████▍     | 2565/3000 [00:33<00:05, 77.25it/s]\n",
      " 86%|████████████████████████████████▌     | 2574/3000 [00:33<00:05, 76.70it/s]\n",
      " 86%|████████████████████████████████▋     | 2585/3000 [00:33<00:05, 81.57it/s]\n",
      " 86%|████████████████████████████████▊     | 2594/3000 [00:33<00:05, 77.10it/s]\n",
      " 87%|████████████████████████████████▉     | 2602/3000 [00:33<00:05, 73.72it/s]\n",
      " 87%|█████████████████████████████████     | 2614/3000 [00:33<00:04, 78.38it/s]\n",
      " 87%|█████████████████████████████████▏    | 2623/3000 [00:33<00:04, 75.84it/s]\n",
      " 88%|█████████████████████████████████▍    | 2635/3000 [00:33<00:04, 83.19it/s]\n",
      " 88%|█████████████████████████████████▌    | 2645/3000 [00:34<00:04, 84.23it/s]\n",
      " 88%|█████████████████████████████████▌    | 2654/3000 [00:34<00:05, 63.35it/s]\n",
      " 89%|█████████████████████████████████▋    | 2662/3000 [00:34<00:05, 63.75it/s]\n",
      " 89%|█████████████████████████████████▊    | 2670/3000 [00:34<00:05, 55.55it/s]\n",
      " 89%|█████████████████████████████████▉    | 2678/3000 [00:34<00:05, 56.53it/s]\n",
      " 90%|██████████████████████████████████    | 2685/3000 [00:34<00:05, 60.00it/s]\n",
      " 90%|██████████████████████████████████    | 2693/3000 [00:34<00:04, 62.54it/s]\n",
      " 90%|██████████████████████████████████▏   | 2702/3000 [00:35<00:04, 68.27it/s]\n",
      " 90%|██████████████████████████████████▎   | 2712/3000 [00:35<00:03, 72.93it/s]\n",
      " 91%|██████████████████████████████████▍   | 2720/3000 [00:35<00:04, 68.10it/s]\n",
      " 91%|██████████████████████████████████▌   | 2728/3000 [00:35<00:04, 63.18it/s]\n",
      " 91%|██████████████████████████████████▋   | 2735/3000 [00:35<00:04, 62.42it/s]\n",
      " 91%|██████████████████████████████████▋   | 2742/3000 [00:35<00:04, 56.41it/s]\n",
      " 92%|██████████████████████████████████▊   | 2749/3000 [00:35<00:04, 59.29it/s]\n",
      " 92%|██████████████████████████████████▉   | 2762/3000 [00:36<00:03, 65.84it/s]\n",
      " 92%|███████████████████████████████████   | 2772/3000 [00:36<00:03, 72.78it/s]\n",
      " 93%|███████████████████████████████████▎  | 2783/3000 [00:36<00:02, 78.36it/s]\n",
      " 93%|███████████████████████████████████▍  | 2793/3000 [00:36<00:02, 80.70it/s]\n",
      " 93%|███████████████████████████████████▌  | 2803/3000 [00:36<00:02, 79.22it/s]\n",
      " 94%|███████████████████████████████████▋  | 2813/3000 [00:36<00:02, 84.49it/s]\n",
      " 94%|███████████████████████████████████▋  | 2822/3000 [00:36<00:02, 84.22it/s]\n",
      " 94%|███████████████████████████████████▊  | 2832/3000 [00:36<00:01, 84.89it/s]\n",
      " 95%|███████████████████████████████████▉  | 2842/3000 [00:36<00:01, 85.44it/s]\n",
      " 95%|████████████████████████████████████▏ | 2853/3000 [00:37<00:01, 90.75it/s]\n",
      " 95%|████████████████████████████████████▎ | 2864/3000 [00:37<00:01, 88.62it/s]\n",
      " 96%|████████████████████████████████████▍ | 2876/3000 [00:37<00:01, 95.33it/s]\n",
      " 96%|████████████████████████████████████▌ | 2886/3000 [00:37<00:01, 85.11it/s]\n",
      " 97%|████████████████████████████████████▋ | 2896/3000 [00:37<00:01, 88.50it/s]\n",
      " 97%|████████████████████████████████████▊ | 2906/3000 [00:37<00:01, 91.66it/s]\n",
      " 97%|████████████████████████████████████▉ | 2916/3000 [00:37<00:00, 86.56it/s]\n",
      " 98%|█████████████████████████████████████ | 2925/3000 [00:37<00:00, 76.88it/s]\n",
      " 98%|█████████████████████████████████████▏| 2934/3000 [00:37<00:00, 78.70it/s]\n",
      " 98%|█████████████████████████████████████▎| 2945/3000 [00:38<00:00, 83.14it/s]\n",
      " 99%|█████████████████████████████████████▍| 2956/3000 [00:38<00:00, 86.48it/s]\n",
      " 99%|█████████████████████████████████████▌| 2965/3000 [00:38<00:00, 86.59it/s]\n",
      " 99%|█████████████████████████████████████▋| 2975/3000 [00:38<00:00, 86.72it/s]\n",
      " 99%|█████████████████████████████████████▊| 2984/3000 [00:38<00:00, 86.76it/s]\n",
      "100%|█████████████████████████████████████▉| 2993/3000 [00:38<00:00, 83.87it/s]\n",
      "100%|██████████████████████████████████████| 3000/3000 [00:38<00:00, 77.46it/s]"
     ]
    }
   ],
   "source": [
    "# TF-IDF weighted Word2Vec for rbf kernel test data\n",
    "tfidf_feat = model.get_feature_names() # tfidf words/col-names\n",
    "# final_tf_idf is the sparse matrix with row= sentence, col=word and cell_val = tfidf\n",
    "\n",
    "rtesttf = []; # the tfidf-w2v for each sentence/review is stored in this list\n",
    "row=0;\n",
    "for sent in tqdm(rtestsent): # for each review/sentence \n",
    "    sent_vec = np.zeros(50) # as word vectors are of zero length\n",
    "    weight_sum =0; # num of words with a valid vector in the sentence/review\n",
    "    for word in sent: # for each word in a review/sentence\n",
    "        if word in w2v_rwords and word in tfidf_feat:\n",
    "            vec = w2v_rmodel.wv[word]\n",
    "#             tf_idf = tf_idf_matrix[row, tfidf_feat.index(word)]\n",
    "            # to reduce the computation we are \n",
    "            # dictionary[word] = idf value of word in whole courpus\n",
    "            # sent.count(word) = tf valeus of word in this review\n",
    "            tf_idf = dictionary[word]*(sent.count(word)/len(sent))\n",
    "            sent_vec += (vec * tf_idf)\n",
    "            weight_sum += tf_idf\n",
    "    if weight_sum != 0:\n",
    "        sent_vec /= weight_sum\n",
    "    rtesttf.append(sent_vec)\n",
    "    row += 1"
   ]
  },
  {
   "cell_type": "markdown",
   "metadata": {
    "colab_type": "text",
    "id": "xiVSI4dOpO8h"
   },
   "source": [
    "# [5] Assignment 7: SVM"
   ]
  },
  {
   "cell_type": "markdown",
   "metadata": {
    "colab_type": "text",
    "id": "LePlZh1NpO8k"
   },
   "source": [
    "<h4><font color='red'>Note: Data Leakage</font></h4>\n",
    "\n",
    "1. There will be an issue of data-leakage if you vectorize the entire data and then split it into train/cv/test.\n",
    "2. To avoid the issue of data-leakag, make sure to split your data first and then vectorize it. \n",
    "3. While vectorizing your data, apply the method fit_transform() on you train data, and apply the method transform() on cv/test data.\n",
    "4. For more details please go through this <a href='https://soundcloud.com/applied-ai-course/leakage-bow-and-tfidf'>link.</a>"
   ]
  },
  {
   "cell_type": "markdown",
   "metadata": {
    "colab_type": "text",
    "id": "tdLbcABcpO8l"
   },
   "source": [
    "# Applying SVM"
   ]
  },
  {
   "cell_type": "code",
   "execution_count": 42,
   "metadata": {},
   "outputs": [
    {
     "name": "stderr",
     "output_type": "stream",
     "text": [
      "C:\\Users\\SABEENA\\Anaconda3\\lib\\site-packages\\sklearn\\grid_search.py:42: DeprecationWarning: This module was deprecated in version 0.18 in favor of the model_selection module into which all the refactored classes and functions are moved. This module will be removed in 0.20.\n",
      "  DeprecationWarning)\n"
     ]
    }
   ],
   "source": [
    "from sklearn.svm import SVC\n",
    "from sklearn.linear_model import SGDClassifier\n",
    "from sklearn.metrics import roc_curve\n",
    "from sklearn.metrics import roc_auc_score\n",
    "from sklearn import cross_validation\n",
    "from sklearn.calibration import CalibratedClassifierCV\n",
    "from sklearn.grid_search import GridSearchCV\n"
   ]
  },
  {
   "cell_type": "markdown",
   "metadata": {
    "colab_type": "text",
    "id": "KWOARgJ6pO8m"
   },
   "source": [
    "## [5.1] Linear SVM"
   ]
  },
  {
   "cell_type": "markdown",
   "metadata": {
    "colab_type": "text",
    "id": "MEhtZTr7pO8n"
   },
   "source": [
    "### [5.1.1] Applying Linear SVM on BOW,<font color='red'> SET 1</font>"
   ]
  },
  {
   "cell_type": "code",
   "execution_count": 60,
   "metadata": {
    "scrolled": true
   },
   "outputs": [
    {
     "name": "stdout",
     "output_type": "stream",
     "text": [
      "SGDClassifier(alpha=0.0001, average=False, class_weight=None, epsilon=0.1,\n",
      "       eta0=0.0, fit_intercept=True, l1_ratio=0.15,\n",
      "       learning_rate='optimal', loss='hinge', max_iter=None, n_iter=None,\n",
      "       n_jobs=1, penalty='l2', power_t=0.5, random_state=None,\n",
      "       shuffle=True, tol=None, verbose=0, warm_start=False)\n",
      "0.9392707204481601\n"
     ]
    }
   ],
   "source": [
    "#GRID-SEARCH CV\n",
    "tuned_parameters= [{'alpha':[10**-4,10**-3, 10**-2, 10**0, 10**2,10**3, 10**4] ,'penalty': ['l1','l2']}]\n",
    "\n",
    "clf = SGDClassifier(loss='hinge')\n",
    "\n",
    "\n",
    "model = GridSearchCV(clf, tuned_parameters, scoring = 'roc_auc', cv=5)\n",
    "model.fit(Xtrain_lbow, Y_ltrain)\n",
    "\n",
    "print(model.best_estimator_)\n",
    "print(model.score(Xtest_lbow, Y_ltest))\n"
   ]
  },
  {
   "cell_type": "code",
   "execution_count": 63,
   "metadata": {},
   "outputs": [
    {
     "data": {
      "image/png": "[encoded data removed]",
      "text/plain": [
       "<matplotlib.figure.Figure at 0x9cf5484c50>"
      ]
     },
     "metadata": {},
     "output_type": "display_data"
    }
   ],
   "source": [
    "\n",
    "# Alpha v/s AUC SCORE\n",
    "\n",
    "X_tr, X_cv, Y_tr, Y_cv = cross_validation.train_test_split(Xtrain_lbow, Y_ltrain, test_size=0.3)\n",
    "\n",
    "alpha=[10**-4,10**-3, 10**-2, 10**0, 10**2,10**3, 10**4]\n",
    "\n",
    "# empty list that will hold cv scores\n",
    "auc_train=[]\n",
    "auc_val=[]\n",
    "\n",
    "# perform 10-fold cross validation\n",
    "for alph in alpha:\n",
    "    clf=SGDClassifier(alpha=alph, loss='hinge', penalty='l2')\n",
    "    calibrated_clf=CalibratedClassifierCV(clf, cv=5, method='sigmoid')\n",
    "    \n",
    "    clf1=calibrated_clf.fit(X_tr,Y_tr)\n",
    "    pred_train = clf1.predict_proba(X_tr)[:,1]\n",
    "    auc_train.append(roc_auc_score(Y_tr, pred_train))\n",
    "    \n",
    "    pred_val=clf1.predict_proba(X_cv)[0:,1]\n",
    "    auc_val.append(roc_auc_score(Y_cv,pred_val))\n",
    "\n",
    "    \n",
    "# plot \n",
    "plt.plot(alpha,auc_train )\n",
    "plt.plot(alpha,auc_val)\n",
    "plt.xlabel('Hyperparameter Alpha')\n",
    "plt.ylabel('Area Under Roc Curve')\n",
    "plt.legend(['Train AUC','Validation AUC'])\n",
    "plt.show()\n",
    "    \n"
   ]
  },
  {
   "cell_type": "code",
   "execution_count": 65,
   "metadata": {},
   "outputs": [
    {
     "name": "stdout",
     "output_type": "stream",
     "text": [
      "AUC: 0.955\n"
     ]
    },
    {
     "data": {
      "image/png": "[encoded data removed]",
      "text/plain": [
       "<matplotlib.figure.Figure at 0x9cf5779c88>"
      ]
     },
     "metadata": {},
     "output_type": "display_data"
    }
   ],
   "source": [
    "clf = SGDClassifier(alpha=0.0001,loss='hinge',penalty='l2')\n",
    "calibrated_clf = CalibratedClassifierCV(clf, cv=5, method='sigmoid')\n",
    "calibrated_clf.fit(Xtrain_lbow,Y_ltrain)\n",
    "\n",
    "# predict probabilities\n",
    "probs = calibrated_clf.predict_proba(Xtest_lbow)\n",
    "# keep probabilities for the positive outcome only\n",
    "probs = probs[:, 1]\n",
    "# calculate AUC\n",
    "auc = roc_auc_score(Y_ltest, probs)\n",
    "print('AUC: %.3f' % auc)\n",
    "\n",
    "# calculate roc curve for train data\n",
    "prob=calibrated_clf.predict_proba(Xtrain_lbow)\n",
    "probt=prob[:,1]\n",
    "tfpr, ttpr, thresholds = roc_curve(Y_ltrain, probt)\n",
    "\n",
    "\n",
    "\n",
    "#calculate roc curve for test data\n",
    "fpr,tpr,threshols=roc_curve(Y_ltest,probs)\n",
    "\n",
    "\n",
    "\n",
    "\n",
    "# plot the roc curve for the model\n",
    "plt.plot(tfpr, ttpr, marker='.')\n",
    "plt.plot(fpr,tpr,marker='.')\n",
    "\n",
    "# plot no skill\n",
    "plt.plot([0, 1], [0, 1], linestyle='--')\n",
    "\n",
    "plt.xlabel('False Positive Rate')\n",
    "plt.ylabel('True Positive Rate')\n",
    "plt.title('ROC CURVE')\n",
    "plt.legend([\"Train data\",\"Test data\"])\n",
    "# show the plot\n",
    "plt.show()\n",
    "\n"
   ]
  },
  {
   "cell_type": "code",
   "execution_count": 66,
   "metadata": {},
   "outputs": [
    {
     "data": {
      "image/png": "[encoded data removed]",
      "text/plain": [
       "<matplotlib.figure.Figure at 0x9ceeb109b0>"
      ]
     },
     "metadata": {},
     "output_type": "display_data"
    }
   ],
   "source": [
    "import seaborn as sns\n",
    "from sklearn.metrics import confusion_matrix\n",
    "\n",
    "clf=SGDClassifier(alpha=0.0001, loss='hinge', penalty='l2')\n",
    "clf.fit(Xtrain_lbow,Y_ltrain)\n",
    "\n",
    "pred = clf.predict(Xtest_lbow)\n",
    "con_mat=confusion_matrix(Y_ltest,pred)\n",
    "cmt=pd.DataFrame(con_mat,index=['negative','positive'],columns=['negative','positive'])\n",
    "\n",
    "#plotting confusion matrix\n",
    "sns.heatmap(cmt,annot=True, fmt=\"d\")\n",
    "plt.title(\"CONFUSION MATRIX\")\n",
    "plt.xlabel(\"Predicted Score\")\n",
    "plt.ylabel(\"Actual Score\")\n",
    "plt.show()"
   ]
  },
  {
   "cell_type": "markdown",
   "metadata": {
    "colab_type": "text",
    "id": "hjvJ4a4xpO8r"
   },
   "source": [
    "### [5.1.2] Applying Linear SVM on TFIDF,<font color='red'> SET 2</font>"
   ]
  },
  {
   "cell_type": "code",
   "execution_count": 67,
   "metadata": {
    "colab": {},
    "colab_type": "code",
    "id": "dWDEzFjJpO8s"
   },
   "outputs": [
    {
     "name": "stdout",
     "output_type": "stream",
     "text": [
      "SGDClassifier(alpha=0.0001, average=False, class_weight=None, epsilon=0.1,\n",
      "       eta0=0.0, fit_intercept=True, l1_ratio=0.15,\n",
      "       learning_rate='optimal', loss='hinge', max_iter=None, n_iter=None,\n",
      "       n_jobs=1, penalty='l2', power_t=0.5, random_state=None,\n",
      "       shuffle=True, tol=None, verbose=0, warm_start=False)\n",
      "0.959536117415948\n"
     ]
    }
   ],
   "source": [
    "#GRID-SEARCH CV\n",
    "tuned_parameters= [{'alpha':[10**-4,10**-3, 10**-2, 10**0, 10**2,10**3, 10**4] ,'penalty': ['l1','l2']}]\n",
    "\n",
    "clf = SGDClassifier(loss='hinge')\n",
    "\n",
    "\n",
    "model = GridSearchCV(clf, tuned_parameters, scoring = 'roc_auc', cv=5)\n",
    "model.fit(Xtrain_ltf, Y_ltrain)\n",
    "\n",
    "print(model.best_estimator_)\n",
    "print(model.score(Xtest_ltf, Y_ltest))\n"
   ]
  },
  {
   "cell_type": "code",
   "execution_count": 68,
   "metadata": {},
   "outputs": [
    {
     "data": {
      "image/png": "[encoded data removed]",
      "text/plain": [
       "<matplotlib.figure.Figure at 0x9cf5484c18>"
      ]
     },
     "metadata": {},
     "output_type": "display_data"
    }
   ],
   "source": [
    "# Alpha v/s AUC SCORE\n",
    "X_tr, X_cv, Y_tr, Y_cv = cross_validation.train_test_split(Xtrain_ltf, Y_ltrain, test_size=0.3)\n",
    "\n",
    "alpha=[10**-4,10**-3, 10**-2, 10**0, 10**2,10**3, 10**4]\n",
    "\n",
    "# empty list that will hold cv scores\n",
    "auc_train=[]\n",
    "auc_val=[]\n",
    "\n",
    "# perform 10-fold cross validation\n",
    "for alph in alpha:\n",
    "    clf=SGDClassifier(alpha=alph, loss='hinge', penalty='l2')\n",
    "    calibrated_clf=CalibratedClassifierCV(clf, cv=5, method='sigmoid')\n",
    "    \n",
    "    clf1=calibrated_clf.fit(X_tr,Y_tr)\n",
    "    pred_train = clf1.predict_proba(X_tr)[:,1]\n",
    "    auc_train.append(roc_auc_score(Y_tr, pred_train))\n",
    "    \n",
    "    pred_val=clf1.predict_proba(X_cv)[0:,1]\n",
    "    auc_val.append(roc_auc_score(Y_cv,pred_val))\n",
    "\n",
    "    \n",
    "# plot \n",
    "plt.plot(alpha,auc_train )\n",
    "plt.plot(alpha,auc_val)\n",
    "plt.xlabel('Hyperparameter Alpha')\n",
    "plt.ylabel('Area Under Roc Curve')\n",
    "plt.legend(['Train AUC','Validation AUC'])\n",
    "plt.show()\n",
    "    \n"
   ]
  },
  {
   "cell_type": "code",
   "execution_count": 69,
   "metadata": {},
   "outputs": [
    {
     "name": "stdout",
     "output_type": "stream",
     "text": [
      "AUC: 0.960\n"
     ]
    },
    {
     "data": {
      "image/png": "[encoded data removed]",
      "text/plain": [
       "<matplotlib.figure.Figure at 0x9cf562bd30>"
      ]
     },
     "metadata": {},
     "output_type": "display_data"
    }
   ],
   "source": [
    "#ROC CURVE FOR TRAIN AND TEST DATA\n",
    "clf = SGDClassifier(alpha=0.0001,loss='hinge',penalty='l2')\n",
    "calibrated_clf = CalibratedClassifierCV(clf, cv=5, method='sigmoid')\n",
    "calibrated_clf.fit(Xtrain_ltf,Y_ltrain)\n",
    "\n",
    "# predict probabilities\n",
    "probs = calibrated_clf.predict_proba(Xtest_ltf)\n",
    "# keep probabilities for the positive outcome only\n",
    "probs = probs[:, 1]\n",
    "# calculate AUC\n",
    "auc = roc_auc_score(Y_ltest, probs)\n",
    "print('AUC: %.3f' % auc)\n",
    "\n",
    "# calculate roc curve for train data\n",
    "prob=calibrated_clf.predict_proba(Xtrain_ltf)\n",
    "probt=prob[:,1]\n",
    "tfpr, ttpr, thresholds = roc_curve(Y_ltrain, probt)\n",
    "\n",
    "\n",
    "\n",
    "#calculate roc curve for test data\n",
    "fpr,tpr,threshols=roc_curve(Y_ltest,probs)\n",
    "\n",
    "\n",
    "\n",
    "\n",
    "# plot the roc curve for the model\n",
    "plt.plot(tfpr, ttpr, marker='.')\n",
    "plt.plot(fpr,tpr,marker='.')\n",
    "\n",
    "# plot no skill\n",
    "plt.plot([0, 1], [0, 1], linestyle='--')\n",
    "\n",
    "plt.xlabel('False Positive Rate')\n",
    "plt.ylabel('True Positive Rate')\n",
    "plt.title('ROC CURVE')\n",
    "plt.legend([\"Train data\",\"Test data\"])\n",
    "# show the plot\n",
    "plt.show()\n",
    "\n"
   ]
  },
  {
   "cell_type": "code",
   "execution_count": 70,
   "metadata": {},
   "outputs": [
    {
     "data": {
      "image/png": "[encoded data removed]",
      "text/plain": [
       "<matplotlib.figure.Figure at 0x9cf387d0b8>"
      ]
     },
     "metadata": {},
     "output_type": "display_data"
    }
   ],
   "source": [
    "#CONFUSION MATRIX\n",
    "\n",
    "clf=SGDClassifier(alpha=0.0001, loss='hinge', penalty='l2')\n",
    "clf.fit(Xtrain_ltf,Y_ltrain)\n",
    "\n",
    "pred = clf.predict(Xtest_ltf)\n",
    "con_mat=confusion_matrix(Y_ltest,pred)\n",
    "cmt=pd.DataFrame(con_mat,index=['negative','positive'],columns=['negative','positive'])\n",
    "\n",
    "#plotting confusion matrix\n",
    "sns.heatmap(cmt,annot=True, fmt=\"d\")\n",
    "plt.title(\"CONFUSION MATRIX\")\n",
    "plt.xlabel(\"Predicted Score\")\n",
    "plt.ylabel(\"Actual Score\")\n",
    "plt.show()"
   ]
  },
  {
   "cell_type": "markdown",
   "metadata": {
    "colab_type": "text",
    "id": "hoCPCinJpO8w"
   },
   "source": [
    "### [5.1.3]  Applying Linear SVM on AVG W2V,<font color='red'> SET 3</font>"
   ]
  },
  {
   "cell_type": "code",
   "execution_count": 71,
   "metadata": {
    "colab": {},
    "colab_type": "code",
    "id": "l4ASVAQipO8y"
   },
   "outputs": [
    {
     "name": "stdout",
     "output_type": "stream",
     "text": [
      "SGDClassifier(alpha=0.001, average=False, class_weight=None, epsilon=0.1,\n",
      "       eta0=0.0, fit_intercept=True, l1_ratio=0.15,\n",
      "       learning_rate='optimal', loss='hinge', max_iter=None, n_iter=None,\n",
      "       n_jobs=1, penalty='l2', power_t=0.5, random_state=None,\n",
      "       shuffle=True, tol=None, verbose=0, warm_start=False)\n",
      "0.9171129116089823\n"
     ]
    }
   ],
   "source": [
    "#GRID-SEARCH CV\n",
    "tuned_parameters= [{'alpha':[10**-4,10**-3, 10**-2, 10**0, 10**2,10**3, 10**4] ,'penalty': ['l1','l2']}]\n",
    "\n",
    "clf = SGDClassifier(loss='hinge')\n",
    "\n",
    "\n",
    "model = GridSearchCV(clf, tuned_parameters, scoring = 'roc_auc', cv=5)\n",
    "model.fit(lin_train, Y_ltrain)\n",
    "\n",
    "print(model.best_estimator_)\n",
    "print(model.score(lin_test, Y_ltest))\n"
   ]
  },
  {
   "cell_type": "code",
   "execution_count": 72,
   "metadata": {},
   "outputs": [
    {
     "data": {
      "image/png": "[encoded data removed]",
      "text/plain": [
       "<matplotlib.figure.Figure at 0x9cf3853da0>"
      ]
     },
     "metadata": {},
     "output_type": "display_data"
    }
   ],
   "source": [
    "# Alpha v/s AUC SCORE\n",
    "X_tr, X_cv, Y_tr, Y_cv = cross_validation.train_test_split(lin_train, Y_ltrain, test_size=0.3)\n",
    "\n",
    "alpha=[10**-4,10**-3, 10**-2, 10**0, 10**2,10**3, 10**4]\n",
    "\n",
    "# empty list that will hold cv scores\n",
    "auc_train=[]\n",
    "auc_val=[]\n",
    "\n",
    "# perform 10-fold cross validation\n",
    "for alph in alpha:\n",
    "    clf=SGDClassifier(alpha=alph, loss='hinge', penalty='l2')\n",
    "    calibrated_clf=CalibratedClassifierCV(clf, cv=5, method='sigmoid')\n",
    "    \n",
    "    clf1=calibrated_clf.fit(X_tr,Y_tr)\n",
    "    pred_train = clf1.predict_proba(X_tr)[:,1]\n",
    "    auc_train.append(roc_auc_score(Y_tr, pred_train))\n",
    "    \n",
    "    pred_val=clf1.predict_proba(X_cv)[0:,1]\n",
    "    auc_val.append(roc_auc_score(Y_cv,pred_val))\n",
    "\n",
    "    \n",
    "# plot \n",
    "plt.plot(alpha,auc_train )\n",
    "plt.plot(alpha,auc_val)\n",
    "plt.xlabel('Hyperparameter Alpha')\n",
    "plt.ylabel('Area Under Roc Curve')\n",
    "plt.legend(['Train AUC','Validation AUC'])\n",
    "plt.show()\n",
    "    \n"
   ]
  },
  {
   "cell_type": "code",
   "execution_count": 73,
   "metadata": {},
   "outputs": [
    {
     "name": "stdout",
     "output_type": "stream",
     "text": [
      "AUC: 0.918\n"
     ]
    },
    {
     "data": {
      "image/png": "[encoded data removed]",
      "text/plain": [
       "<matplotlib.figure.Figure at 0x9cf548df28>"
      ]
     },
     "metadata": {},
     "output_type": "display_data"
    }
   ],
   "source": [
    "#ROC CURVE FOR TRAIN AND TEST DATA\n",
    "clf = SGDClassifier(alpha=0.001,loss='hinge',penalty='l2')\n",
    "calibrated_clf = CalibratedClassifierCV(clf, cv=5, method='sigmoid')\n",
    "calibrated_clf.fit(lin_train,Y_ltrain)\n",
    "\n",
    "# predict probabilities\n",
    "probs = calibrated_clf.predict_proba(lin_test)\n",
    "# keep probabilities for the positive outcome only\n",
    "probs = probs[:, 1]\n",
    "# calculate AUC\n",
    "auc = roc_auc_score(Y_ltest, probs)\n",
    "print('AUC: %.3f' % auc)\n",
    "\n",
    "# calculate roc curve for train data\n",
    "prob=calibrated_clf.predict_proba(lin_train)\n",
    "probt=prob[:,1]\n",
    "tfpr, ttpr, thresholds = roc_curve(Y_ltrain, probt)\n",
    "\n",
    "\n",
    "\n",
    "#calculate roc curve for test data\n",
    "fpr,tpr,threshols=roc_curve(Y_ltest,probs)\n",
    "\n",
    "\n",
    "\n",
    "\n",
    "# plot the roc curve for the model\n",
    "plt.plot(tfpr, ttpr, marker='.')\n",
    "plt.plot(fpr,tpr,marker='.')\n",
    "\n",
    "# plot no skill\n",
    "plt.plot([0, 1], [0, 1], linestyle='--')\n",
    "\n",
    "plt.xlabel('False Positive Rate')\n",
    "plt.ylabel('True Positive Rate')\n",
    "plt.title('ROC CURVE')\n",
    "plt.legend([\"Train data\",\"Test data\"])\n",
    "# show the plot\n",
    "plt.show()\n",
    "\n"
   ]
  },
  {
   "cell_type": "code",
   "execution_count": 74,
   "metadata": {},
   "outputs": [
    {
     "data": {
      "image/png": "[encoded data removed]",
      "text/plain": [
       "<matplotlib.figure.Figure at 0x9c8019e828>"
      ]
     },
     "metadata": {},
     "output_type": "display_data"
    }
   ],
   "source": [
    "#CONFUSION MATRIX\n",
    "import seaborn as sns\n",
    "from sklearn.metrics import confusion_matrix\n",
    "\n",
    "clf=SGDClassifier(alpha=0.001, loss='hinge', penalty='l2')\n",
    "clf.fit(lin_train,Y_ltrain)\n",
    "\n",
    "pred = clf.predict(lin_test)\n",
    "con_mat=confusion_matrix(Y_ltest,pred)\n",
    "cmt=pd.DataFrame(con_mat,index=['negative','positive'],columns=['negative','positive'])\n",
    "\n",
    "#plotting confusion matrix\n",
    "sns.heatmap(cmt,annot=True, fmt=\"d\")\n",
    "plt.title(\"CONFUSION MATRIX\")\n",
    "plt.xlabel(\"Predicted Score\")\n",
    "plt.ylabel(\"Actual Score\")\n",
    "plt.show()"
   ]
  },
  {
   "cell_type": "markdown",
   "metadata": {
    "colab_type": "text",
    "id": "W6yzQhe5pO81"
   },
   "source": [
    "### [5.1.4]  Applying Linear SVM on TFIDF W2V,<font color='red'> SET 4</font>"
   ]
  },
  {
   "cell_type": "code",
   "execution_count": 75,
   "metadata": {
    "colab": {},
    "colab_type": "code",
    "id": "YJU5rdIxpO85"
   },
   "outputs": [
    {
     "name": "stdout",
     "output_type": "stream",
     "text": [
      "SGDClassifier(alpha=0.01, average=False, class_weight=None, epsilon=0.1,\n",
      "       eta0=0.0, fit_intercept=True, l1_ratio=0.15,\n",
      "       learning_rate='optimal', loss='hinge', max_iter=None, n_iter=None,\n",
      "       n_jobs=1, penalty='l2', power_t=0.5, random_state=None,\n",
      "       shuffle=True, tol=None, verbose=0, warm_start=False)\n",
      "0.892034944183879\n"
     ]
    }
   ],
   "source": [
    "#GRID-SEARCH CV\n",
    "tuned_parameters= [{'alpha':[10**-4,10**-3, 10**-2, 10**0, 10**2,10**3, 10**4] ,'penalty': ['l1','l2']}]\n",
    "\n",
    "clf = SGDClassifier(loss='hinge')\n",
    "\n",
    "\n",
    "model = GridSearchCV(clf, tuned_parameters, scoring = 'roc_auc', cv=5)\n",
    "model.fit(ltraintf, Y_ltrain)\n",
    "\n",
    "print(model.best_estimator_)\n",
    "print(model.score(ltesttf, Y_ltest))\n"
   ]
  },
  {
   "cell_type": "code",
   "execution_count": 76,
   "metadata": {},
   "outputs": [
    {
     "data": {
      "image/png": "[encoded data removed]",
      "text/plain": [
       "<matplotlib.figure.Figure at 0x9cf3853940>"
      ]
     },
     "metadata": {},
     "output_type": "display_data"
    }
   ],
   "source": [
    "# Alpha v/s AUC SCORE\n",
    "X_tr, X_cv, Y_tr, Y_cv = cross_validation.train_test_split(ltraintf, Y_ltrain, test_size=0.3)\n",
    "\n",
    "alpha=[10**-4,10**-3, 10**-2, 10**0, 10**2,10**3, 10**4]\n",
    "\n",
    "# empty list that will hold cv scores\n",
    "auc_train=[]\n",
    "auc_val=[]\n",
    "\n",
    "# perform 10-fold cross validation\n",
    "for alph in alpha:\n",
    "    clf=SGDClassifier(alpha=alph, loss='hinge', penalty='l2')\n",
    "    calibrated_clf=CalibratedClassifierCV(clf, cv=5, method='sigmoid')\n",
    "    \n",
    "    clf1=calibrated_clf.fit(X_tr,Y_tr)\n",
    "    pred_train = clf1.predict_proba(X_tr)[:,1]\n",
    "    auc_train.append(roc_auc_score(Y_tr, pred_train))\n",
    "    \n",
    "    pred_val=clf1.predict_proba(X_cv)[0:,1]\n",
    "    auc_val.append(roc_auc_score(Y_cv,pred_val))\n",
    "\n",
    "    \n",
    "# plot \n",
    "plt.plot(alpha,auc_train )\n",
    "plt.plot(alpha,auc_val)\n",
    "plt.xlabel('Hyperparameter Alpha')\n",
    "plt.ylabel('Area Under Roc Curve')\n",
    "plt.legend(['Train AUC','Validation AUC'])\n",
    "plt.show()\n",
    "    \n"
   ]
  },
  {
   "cell_type": "code",
   "execution_count": 77,
   "metadata": {},
   "outputs": [
    {
     "name": "stdout",
     "output_type": "stream",
     "text": [
      "AUC: 0.892\n"
     ]
    },
    {
     "data": {
      "image/png": "[encoded data removed]",
      "text/plain": [
       "<matplotlib.figure.Figure at 0x9cf383b898>"
      ]
     },
     "metadata": {},
     "output_type": "display_data"
    }
   ],
   "source": [
    "#ROC CURVE FOR TRAIN AND TEST DATA\n",
    "clf = SGDClassifier(alpha=0.01,loss='hinge',penalty='l2')\n",
    "calibrated_clf = CalibratedClassifierCV(clf, cv=5, method='sigmoid')\n",
    "calibrated_clf.fit(ltraintf,Y_ltrain)\n",
    "\n",
    "# predict probabilities\n",
    "probs = calibrated_clf.predict_proba(ltesttf)\n",
    "# keep probabilities for the positive outcome only\n",
    "probs = probs[:, 1]\n",
    "# calculate AUC\n",
    "auc = roc_auc_score(Y_ltest, probs)\n",
    "print('AUC: %.3f' % auc)\n",
    "\n",
    "# calculate roc curve for train data\n",
    "prob=calibrated_clf.predict_proba(ltraintf)\n",
    "probt=prob[:,1]\n",
    "tfpr, ttpr, thresholds = roc_curve(Y_ltrain, probt)\n",
    "\n",
    "\n",
    "\n",
    "#calculate roc curve for test data\n",
    "fpr,tpr,threshols=roc_curve(Y_ltest,probs)\n",
    "\n",
    "\n",
    "\n",
    "\n",
    "# plot the roc curve for the model\n",
    "plt.plot(tfpr, ttpr, marker='.')\n",
    "plt.plot(fpr,tpr,marker='.')\n",
    "\n",
    "# plot no skill\n",
    "plt.plot([0, 1], [0, 1], linestyle='--')\n",
    "\n",
    "plt.xlabel('False Positive Rate')\n",
    "plt.ylabel('True Positive Rate')\n",
    "plt.title('ROC CURVE')\n",
    "plt.legend([\"Train data\",\"Test data\"])\n",
    "# show the plot\n",
    "plt.show()\n",
    "\n"
   ]
  },
  {
   "cell_type": "code",
   "execution_count": 78,
   "metadata": {},
   "outputs": [
    {
     "data": {
      "image/png": "[encoded data removed]",
      "text/plain": [
       "<matplotlib.figure.Figure at 0x9c8019b550>"
      ]
     },
     "metadata": {},
     "output_type": "display_data"
    }
   ],
   "source": [
    "#CONFUSION MATRIX\n",
    "import seaborn as sns\n",
    "from sklearn.metrics import confusion_matrix\n",
    "\n",
    "clf=SGDClassifier(alpha=0.01, loss='hinge', penalty='l2')\n",
    "clf.fit(ltraintf,Y_ltrain)\n",
    "\n",
    "pred = clf.predict(ltesttf)\n",
    "con_mat=confusion_matrix(Y_ltest,pred)\n",
    "cmt=pd.DataFrame(con_mat,index=['negative','positive'],columns=['negative','positive'])\n",
    "\n",
    "#plotting confusion matrix\n",
    "sns.heatmap(cmt,annot=True, fmt=\"d\")\n",
    "plt.title(\"CONFUSION MATRIX\")\n",
    "plt.xlabel(\"Predicted Score\")\n",
    "plt.ylabel(\"Actual Score\")\n",
    "plt.show()"
   ]
  },
  {
   "cell_type": "markdown",
   "metadata": {
    "colab_type": "text",
    "id": "XFhbm0N9pO89"
   },
   "source": [
    "## [5.2] RBF SVM"
   ]
  },
  {
   "cell_type": "markdown",
   "metadata": {
    "colab_type": "text",
    "id": "fcaukn3dpO8-"
   },
   "source": [
    "### [5.2.1] Applying RBF SVM on BOW,<font color='red'> SET 1</font>"
   ]
  },
  {
   "cell_type": "code",
   "execution_count": 39,
   "metadata": {},
   "outputs": [
    {
     "name": "stdout",
     "output_type": "stream",
     "text": [
      "SVC(C=2.0, cache_size=200, class_weight=None, coef0=0.0,\n",
      "  decision_function_shape='ovr', degree=3, gamma=0.03125, kernel='rbf',\n",
      "  max_iter=-1, probability=False, random_state=None, shrinking=True,\n",
      "  tol=0.001, verbose=False)\n",
      "0.9019129473185002\n"
     ]
    }
   ],
   "source": [
    "#GRIDSEARCHCV\n",
    "from sklearn.model_selection import GridSearchCV\n",
    "tuned_parameters= [{'C': np.logspace(-5,5,11,base=2),'gamma': np.logspace(-5,5,11,base=2)}]\n",
    "\n",
    "model = GridSearchCV(svm.SVC(), tuned_parameters, scoring = 'roc_auc', cv=5)\n",
    "model.fit(Xtrain_rbow, Y_rtrain)\n",
    "\n",
    "print(model.best_estimator_)\n",
    "print(model.score(Xtest_rbow, Y_rtest))"
   ]
  },
  {
   "cell_type": "code",
   "execution_count": 43,
   "metadata": {},
   "outputs": [
    {
     "data": {
      "image/png": "[encoded data removed]",
      "text/plain": [
       "<matplotlib.figure.Figure at 0xe8a1204d68>"
      ]
     },
     "metadata": {},
     "output_type": "display_data"
    }
   ],
   "source": [
    "# C v/s AUC SCORE\n",
    "from sklearn import cross_validation\n",
    "X_tr, X_cv, Y_tr, Y_cv = cross_validation.train_test_split(Xtrain_rbow, Y_rtrain, test_size=0.3)\n",
    "\n",
    "c=np.logspace(-5,5,11,base=2)\n",
    "\n",
    "# empty list that will hold cv scores\n",
    "auc_train=[]\n",
    "auc_val=[]\n",
    "\n",
    "# perform 10-fold cross validation\n",
    "for item in c:\n",
    "    model = svm.SVC(C=item,gamma=0.03125,probability=True)\n",
    "    model.fit(X_tr,Y_tr)\n",
    "    pred_train=model.predict_proba(X_tr)[:,1]\n",
    "    auc_train.append(roc_auc_score(Y_tr, pred_train))\n",
    "    \n",
    "    pred_val=model.predict_proba(X_cv)[:,1]\n",
    "    auc_val.append(roc_auc_score(Y_cv,pred_val))\n",
    "\n",
    "    \n",
    "# plot \n",
    "plt.plot(c,auc_train )\n",
    "plt.plot(c,auc_val)\n",
    "plt.xlabel('Hyperparameter C')\n",
    "plt.ylabel('Area Under Roc Curve')\n",
    "plt.legend(['Train AUC','Validation AUC'])\n",
    "plt.show()\n",
    "    "
   ]
  },
  {
   "cell_type": "code",
   "execution_count": 44,
   "metadata": {},
   "outputs": [
    {
     "data": {
      "image/png": "[encoded data removed]",
      "text/plain": [
       "<matplotlib.figure.Figure at 0xe89e974eb8>"
      ]
     },
     "metadata": {},
     "output_type": "display_data"
    }
   ],
   "source": [
    "# Gamma v/s AUC SCORE\n",
    "gam= np.logspace(-5,5,11,base=2)\n",
    "\n",
    "# empty list that will hold cv scores\n",
    "auc_train=[]\n",
    "auc_val=[]\n",
    "\n",
    "# perform 10-fold cross validation\n",
    "for item in gam:\n",
    "    model = svm.SVC(C=2,gamma=item,probability=True)\n",
    "    model.fit(X_tr,Y_tr)\n",
    "    pred_train=model.predict_proba(X_tr)[:,1]\n",
    "    auc_train.append(roc_auc_score(Y_tr, pred_train))\n",
    "    \n",
    "    pred_val=model.predict_proba(X_cv)[:,1]\n",
    "    auc_val.append(roc_auc_score(Y_cv,pred_val))\n",
    "\n",
    "    \n",
    "# plot \n",
    "plt.plot(c,auc_train )\n",
    "plt.plot(c,auc_val)\n",
    "plt.xlabel('Hyperparameter Gamma')\n",
    "plt.ylabel('Area Under Roc Curve')\n",
    "plt.legend(['Train AUC','Validation AUC'])\n",
    "plt.show()\n",
    "    "
   ]
  },
  {
   "cell_type": "code",
   "execution_count": 45,
   "metadata": {},
   "outputs": [
    {
     "name": "stdout",
     "output_type": "stream",
     "text": [
      "AUC: 0.902\n"
     ]
    },
    {
     "data": {
      "image/png": "[encoded data removed]",
      "text/plain": [
       "<matplotlib.figure.Figure at 0xe8abc3e2b0>"
      ]
     },
     "metadata": {},
     "output_type": "display_data"
    }
   ],
   "source": [
    "#ROC CURVE FOR TRAIN AND TEST DATA\n",
    "model = svm.SVC(C=2,gamma=.03125,probability=True)\n",
    "model.fit(Xtrain_rbow,Y_rtrain)\n",
    "\n",
    "# predict probabilities\n",
    "probs = model.predict_proba(Xtest_rbow)\n",
    "# keep probabilities for the positive outcome only\n",
    "probs = probs[:, 1]\n",
    "# calculate AUC\n",
    "auc = roc_auc_score(Y_rtest, probs)\n",
    "print('AUC: %.3f' % auc)\n",
    "\n",
    "# calculate roc curve for train data\n",
    "prob=model.predict_proba(Xtrain_rbow)\n",
    "probt=prob[:,1]\n",
    "tfpr, ttpr, thresholds = roc_curve(Y_rtrain, probt)\n",
    "\n",
    "\n",
    "\n",
    "#calculate roc curve for test data\n",
    "fpr,tpr,threshols=roc_curve(Y_rtest,probs)\n",
    "\n",
    "\n",
    "\n",
    "\n",
    "# plot the roc curve for the model\n",
    "plt.plot(tfpr, ttpr, marker='.')\n",
    "plt.plot(fpr,tpr,marker='.')\n",
    "\n",
    "# plot no skill\n",
    "plt.plot([0, 1], [0, 1], linestyle='--')\n",
    "\n",
    "plt.xlabel('False Positive Rate')\n",
    "plt.ylabel('True Positive Rate')\n",
    "plt.title('ROC CURVE')\n",
    "plt.legend([\"Train data\",\"Test data\"])\n",
    "# show the plot\n",
    "plt.show()\n"
   ]
  },
  {
   "cell_type": "code",
   "execution_count": 46,
   "metadata": {},
   "outputs": [
    {
     "data": {
      "image/png": "[encoded data removed]",
      "text/plain": [
       "<matplotlib.figure.Figure at 0xe8b971fd68>"
      ]
     },
     "metadata": {},
     "output_type": "display_data"
    }
   ],
   "source": [
    "#CONFUSION MATRIX\n",
    "model = svm.SVC(C=2,gamma=.03125,probability=True)\n",
    "model.fit(Xtrain_rbow,Y_rtrain)\n",
    "\n",
    "\n",
    "pred = model.predict(Xtest_rbow)\n",
    "con_mat=confusion_matrix(Y_rtest,pred)\n",
    "cmt=pd.DataFrame(con_mat,index=['negative','positive'],columns=['negative','positive'])\n",
    "\n",
    "#plotting confusion matrix\n",
    "sns.heatmap(cmt,annot=True, fmt=\"d\")\n",
    "plt.title(\"CONFUSION MATRIX\")\n",
    "plt.xlabel(\"Predicted Score\")\n",
    "plt.ylabel(\"Actual Score\")\n",
    "plt.show()"
   ]
  },
  {
   "cell_type": "markdown",
   "metadata": {
    "colab_type": "text",
    "id": "jGfhy89OpO9B"
   },
   "source": [
    "### [5.2.2] Applying RBF SVM on TFIDF,<font color='red'> SET 2</font>"
   ]
  },
  {
   "cell_type": "code",
   "execution_count": 47,
   "metadata": {
    "colab": {},
    "colab_type": "code",
    "id": "d6e-HpEHpO9B"
   },
   "outputs": [
    {
     "name": "stdout",
     "output_type": "stream",
     "text": [
      "SVC(C=2.0, cache_size=200, class_weight=None, coef0=0.0,\n",
      "  decision_function_shape='ovr', degree=3, gamma=1.0, kernel='rbf',\n",
      "  max_iter=-1, probability=False, random_state=None, shrinking=True,\n",
      "  tol=0.001, verbose=False)\n",
      "0.9150078737567665\n"
     ]
    }
   ],
   "source": [
    "#GRIDSEARCHCV\n",
    "tuned_parameters= [{'C': np.logspace(-5,5,11,base=2),'gamma': np.logspace(-5,5,11,base=2)}]\n",
    "\n",
    "model = GridSearchCV(svm.SVC(), tuned_parameters, scoring = 'roc_auc', cv=5)\n",
    "model.fit(Xtrain_rtf, Y_rtrain)\n",
    "\n",
    "print(model.best_estimator_)\n",
    "print(model.score(Xtest_rtf, Y_rtest))"
   ]
  },
  {
   "cell_type": "code",
   "execution_count": 50,
   "metadata": {},
   "outputs": [
    {
     "data": {
      "image/png": "[encoded data removed]",
      "text/plain": [
       "<matplotlib.figure.Figure at 0xe8a1203048>"
      ]
     },
     "metadata": {},
     "output_type": "display_data"
    }
   ],
   "source": [
    "# C v/s AUC SCORE\n",
    "X_tr, X_cv, Y_tr, Y_cv = cross_validation.train_test_split(Xtrain_rtf, Y_rtrain, test_size=0.3)\n",
    "\n",
    "c=np.logspace(-5,5,11,base=2)\n",
    "\n",
    "# empty list that will hold cv scores\n",
    "auc_train=[]\n",
    "auc_val=[]\n",
    "\n",
    "# perform 10-fold cross validation\n",
    "for item in c:\n",
    "    model = svm.SVC(C=item,gamma=1,probability=True)\n",
    "    model.fit(X_tr,Y_tr)\n",
    "    pred_train=model.predict_proba(X_tr)[:,1]\n",
    "    auc_train.append(roc_auc_score(Y_tr, pred_train))\n",
    "    \n",
    "    pred_val=model.predict_proba(X_cv)[:,1]\n",
    "    auc_val.append(roc_auc_score(Y_cv,pred_val))\n",
    "\n",
    "    \n",
    "# plot \n",
    "plt.plot(c,auc_train )\n",
    "plt.plot(c,auc_val)\n",
    "plt.xlabel('Hyperparameter C')\n",
    "plt.ylabel('Area Under Roc Curve')\n",
    "plt.legend(['Train AUC','Validation AUC'])\n",
    "plt.show()\n",
    "    "
   ]
  },
  {
   "cell_type": "code",
   "execution_count": 51,
   "metadata": {},
   "outputs": [
    {
     "data": {
      "image/png": "[encoded data removed]",
      "text/plain": [
       "<matplotlib.figure.Figure at 0xe8bc6f4240>"
      ]
     },
     "metadata": {},
     "output_type": "display_data"
    }
   ],
   "source": [
    "# Gamma v/s AUC SCORE\n",
    "gam= np.logspace(-5,5,11,base=2)\n",
    "\n",
    "# empty list that will hold cv scores\n",
    "auc_train=[]\n",
    "auc_val=[]\n",
    "\n",
    "# perform 10-fold cross validation\n",
    "for item in gam:\n",
    "    model = svm.SVC(C=2,gamma=item,probability=True)\n",
    "    model.fit(X_tr,Y_tr)\n",
    "    pred_train=model.predict_proba(X_tr)[:,1]\n",
    "    auc_train.append(roc_auc_score(Y_tr, pred_train))\n",
    "    \n",
    "    pred_val=model.predict_proba(X_cv)[:,1]\n",
    "    auc_val.append(roc_auc_score(Y_cv,pred_val))\n",
    "\n",
    "    \n",
    "# plot \n",
    "plt.plot(c,auc_train )\n",
    "plt.plot(c,auc_val)\n",
    "plt.xlabel('Hyperparameter C')\n",
    "plt.ylabel('Area Under Roc Curve')\n",
    "plt.legend(['Train AUC','Validation AUC'])\n",
    "plt.show()\n",
    "    "
   ]
  },
  {
   "cell_type": "code",
   "execution_count": 52,
   "metadata": {},
   "outputs": [
    {
     "name": "stdout",
     "output_type": "stream",
     "text": [
      "AUC: 0.915\n"
     ]
    },
    {
     "data": {
      "image/png": "[encoded data removed]",
      "text/plain": [
       "<matplotlib.figure.Figure at 0xe8ab7ca9e8>"
      ]
     },
     "metadata": {},
     "output_type": "display_data"
    }
   ],
   "source": [
    "#ROC CURVE FOR TRAIN AND TEST DATA\n",
    "model = svm.SVC(C=2,gamma=1,probability=True)\n",
    "model.fit(Xtrain_rtf,Y_rtrain)\n",
    "\n",
    "# predict probabilities\n",
    "probs = model.predict_proba(Xtest_rtf)\n",
    "# keep probabilities for the positive outcome only\n",
    "probs = probs[:, 1]\n",
    "# calculate AUC\n",
    "auc = roc_auc_score(Y_rtest, probs)\n",
    "print('AUC: %.3f' % auc)\n",
    "\n",
    "# calculate roc curve for train data\n",
    "prob=model.predict_proba(Xtrain_rtf)\n",
    "probt=prob[:,1]\n",
    "tfpr, ttpr, thresholds = roc_curve(Y_rtrain, probt)\n",
    "\n",
    "\n",
    "\n",
    "#calculate roc curve for test data\n",
    "fpr,tpr,threshols=roc_curve(Y_rtest,probs)\n",
    "\n",
    "\n",
    "\n",
    "\n",
    "# plot the roc curve for the model\n",
    "plt.plot(tfpr, ttpr, marker='.')\n",
    "plt.plot(fpr,tpr,marker='.')\n",
    "\n",
    "# plot no skill\n",
    "plt.plot([0, 1], [0, 1], linestyle='--')\n",
    "\n",
    "plt.xlabel('False Positive Rate')\n",
    "plt.ylabel('True Positive Rate')\n",
    "plt.title('ROC CURVE')\n",
    "plt.legend([\"Train data\",\"Test data\"])\n",
    "# show the plot\n",
    "plt.show()"
   ]
  },
  {
   "cell_type": "code",
   "execution_count": 54,
   "metadata": {},
   "outputs": [
    {
     "data": {
      "image/png": "[encoded data removed]",
      "text/plain": [
       "<matplotlib.figure.Figure at 0xe8bc821908>"
      ]
     },
     "metadata": {},
     "output_type": "display_data"
    }
   ],
   "source": [
    "#CONFUSION MATRIX\n",
    "model = svm.SVC(C=2,gamma=1,probability=True)\n",
    "model.fit(Xtrain_rtf,Y_rtrain)\n",
    "\n",
    "\n",
    "pred = model.predict(Xtest_rtf)\n",
    "con_mat=confusion_matrix(Y_rtest,pred)\n",
    "cmt=pd.DataFrame(con_mat,index=['negative','positive'],columns=['negative','positive'])\n",
    "\n",
    "#plotting confusion matrix\n",
    "sns.heatmap(cmt,annot=True, fmt=\"d\")\n",
    "plt.title(\"CONFUSION MATRIX\")\n",
    "plt.xlabel(\"Predicted Score\")\n",
    "plt.ylabel(\"Actual Score\")\n",
    "plt.show()"
   ]
  },
  {
   "cell_type": "markdown",
   "metadata": {
    "colab_type": "text",
    "id": "ID7KO2_epO9D"
   },
   "source": [
    "### [5.2.3]  Applying RBF SVM on AVG W2V,<font color='red'> SET 3</font>"
   ]
  },
  {
   "cell_type": "code",
   "execution_count": 48,
   "metadata": {
    "colab": {},
    "colab_type": "code",
    "id": "u4DY1ndcpO9F"
   },
   "outputs": [
    {
     "name": "stdout",
     "output_type": "stream",
     "text": [
      "SVC(C=32.0, cache_size=200, class_weight=None, coef0=0.0,\n",
      "  decision_function_shape='ovr', degree=3, gamma=0.5, kernel='rbf',\n",
      "  max_iter=-1, probability=False, random_state=None, shrinking=True,\n",
      "  tol=0.001, verbose=False)\n",
      "0.8542468283849932\n"
     ]
    }
   ],
   "source": [
    "#HYPERPARAMETER TUNING USING GRIDSEARCH\n",
    "tuned_parameters= [{'C': np.logspace(-5,5,11,base=2),'gamma': np.logspace(-5,5,11,base=2)}]\n",
    "\n",
    "model = GridSearchCV(svm.SVC(), tuned_parameters, scoring = 'roc_auc', cv=5)\n",
    "model.fit(rbf_train, Y_rtrain)\n",
    "\n",
    "print(model.best_estimator_)\n",
    "print(model.score(rbf_test, Y_rtest))"
   ]
  },
  {
   "cell_type": "code",
   "execution_count": 55,
   "metadata": {},
   "outputs": [
    {
     "data": {
      "image/png": "[encoded data removed]",
      "text/plain": [
       "<matplotlib.figure.Figure at 0xe8ab721898>"
      ]
     },
     "metadata": {},
     "output_type": "display_data"
    }
   ],
   "source": [
    "# C v/s AUC SCORE\n",
    "X_tr, X_cv, Y_tr, Y_cv = cross_validation.train_test_split(rbf_train, Y_rtrain, test_size=0.3)\n",
    "\n",
    "c=np.logspace(-5,5,11,base=2)\n",
    "\n",
    "# empty list that will hold cv scores\n",
    "auc_train=[]\n",
    "auc_val=[]\n",
    "\n",
    "# perform 10-fold cross validation\n",
    "for item in c:\n",
    "    model = svm.SVC(C=item,gamma=0.5,probability=True)\n",
    "    model.fit(X_tr,Y_tr)\n",
    "    pred_train=model.predict_proba(X_tr)[:,1]\n",
    "    auc_train.append(roc_auc_score(Y_tr, pred_train))\n",
    "    \n",
    "    pred_val=model.predict_proba(X_cv)[:,1]\n",
    "    auc_val.append(roc_auc_score(Y_cv,pred_val))\n",
    "\n",
    "    \n",
    "# plot \n",
    "plt.plot(c,auc_train )\n",
    "plt.plot(c,auc_val)\n",
    "plt.xlabel('Hyperparameter C')\n",
    "plt.ylabel('Area Under Roc Curve')\n",
    "plt.legend(['Train AUC','Validation AUC'])\n",
    "plt.show()"
   ]
  },
  {
   "cell_type": "code",
   "execution_count": 56,
   "metadata": {},
   "outputs": [
    {
     "data": {
      "image/png": "[encoded data removed]",
      "text/plain": [
       "<matplotlib.figure.Figure at 0xe8bc704be0>"
      ]
     },
     "metadata": {},
     "output_type": "display_data"
    }
   ],
   "source": [
    "# Gamma v/s AUC SCORE\n",
    "gam= np.logspace(-5,5,11,base=2)\n",
    "\n",
    "# empty list that will hold cv scores\n",
    "auc_train=[]\n",
    "auc_val=[]\n",
    "\n",
    "# perform 10-fold cross validation\n",
    "for item in gam:\n",
    "    model = svm.SVC(C=32,gamma=item,probability=True)\n",
    "    model.fit(X_tr,Y_tr)\n",
    "    pred_train=model.predict_proba(X_tr)[:,1]\n",
    "    auc_train.append(roc_auc_score(Y_tr, pred_train))\n",
    "    \n",
    "    pred_val=model.predict_proba(X_cv)[:,1]\n",
    "    auc_val.append(roc_auc_score(Y_cv,pred_val))\n",
    "\n",
    "    \n",
    "# plot \n",
    "plt.plot(c,auc_train )\n",
    "plt.plot(c,auc_val)\n",
    "plt.xlabel('Hyperparameter Gamma')\n",
    "plt.ylabel('Area Under Roc Curve')\n",
    "plt.legend(['Train AUC','Validation AUC'])\n",
    "plt.show()\n",
    "    "
   ]
  },
  {
   "cell_type": "code",
   "execution_count": 57,
   "metadata": {},
   "outputs": [
    {
     "name": "stdout",
     "output_type": "stream",
     "text": [
      "AUC: 0.854\n"
     ]
    },
    {
     "data": {
      "image/png": "[encoded data removed]",
      "text/plain": [
       "<matplotlib.figure.Figure at 0xe8c010ecc0>"
      ]
     },
     "metadata": {},
     "output_type": "display_data"
    }
   ],
   "source": [
    "#ROC CURVE FOR TRAIN AND TEST DATA\n",
    "model = svm.SVC(C=32,gamma=0.5,probability=True)\n",
    "model.fit(rbf_train,Y_rtrain)\n",
    "\n",
    "# predict probabilities\n",
    "probs = model.predict_proba(rbf_test)\n",
    "# keep probabilities for the positive outcome only\n",
    "probs = probs[:, 1]\n",
    "# calculate AUC\n",
    "auc = roc_auc_score(Y_rtest, probs)\n",
    "print('AUC: %.3f' % auc)\n",
    "\n",
    "# calculate roc curve for train data\n",
    "prob=model.predict_proba(rbf_train)\n",
    "probt=prob[:,1]\n",
    "tfpr, ttpr, thresholds = roc_curve(Y_rtrain, probt)\n",
    "\n",
    "\n",
    "\n",
    "#calculate roc curve for test data\n",
    "fpr,tpr,threshols=roc_curve(Y_rtest,probs)\n",
    "\n",
    "\n",
    "\n",
    "\n",
    "# plot the roc curve for the model\n",
    "plt.plot(tfpr, ttpr, marker='.')\n",
    "plt.plot(fpr,tpr,marker='.')\n",
    "\n",
    "# plot no skill\n",
    "plt.plot([0, 1], [0, 1], linestyle='--')\n",
    "\n",
    "plt.xlabel('False Positive Rate')\n",
    "plt.ylabel('True Positive Rate')\n",
    "plt.title('ROC CURVE')\n",
    "plt.legend([\"Train data\",\"Test data\"])\n",
    "# show the plot\n",
    "plt.show()"
   ]
  },
  {
   "cell_type": "code",
   "execution_count": 58,
   "metadata": {},
   "outputs": [
    {
     "data": {
      "image/png": "[encoded data removed]",
      "text/plain": [
       "<matplotlib.figure.Figure at 0xe8bc87c390>"
      ]
     },
     "metadata": {},
     "output_type": "display_data"
    }
   ],
   "source": [
    "#CONFUSION MATRIX\n",
    "model = svm.SVC(C=32,gamma=0.5,probability=True)\n",
    "model.fit(rbf_train,Y_rtrain)\n",
    "\n",
    "\n",
    "pred = model.predict(rbf_test)\n",
    "con_mat=confusion_matrix(Y_rtest,pred)\n",
    "cmt=pd.DataFrame(con_mat,index=['negative','positive'],columns=['negative','positive'])\n",
    "\n",
    "#plotting confusion matrix\n",
    "sns.heatmap(cmt,annot=True, fmt=\"d\")\n",
    "plt.title(\"CONFUSION MATRIX\")\n",
    "plt.xlabel(\"Predicted Score\")\n",
    "plt.ylabel(\"Actual Score\")\n",
    "plt.show()"
   ]
  },
  {
   "cell_type": "markdown",
   "metadata": {
    "colab_type": "text",
    "id": "H15t3A9gpO9I"
   },
   "source": [
    "### [5.2.4]  Applying RBF SVM on TFIDF W2V,<font color='red'> SET 4</font>"
   ]
  },
  {
   "cell_type": "code",
   "execution_count": 49,
   "metadata": {
    "colab": {},
    "colab_type": "code",
    "id": "DoBRiy1cpO9J"
   },
   "outputs": [
    {
     "name": "stdout",
     "output_type": "stream",
     "text": [
      "SVC(C=32.0, cache_size=200, class_weight=None, coef0=0.0,\n",
      "  decision_function_shape='ovr', degree=3, gamma=0.5, kernel='rbf',\n",
      "  max_iter=-1, probability=False, random_state=None, shrinking=True,\n",
      "  tol=0.001, verbose=False)\n",
      "0.8330167977922368\n"
     ]
    }
   ],
   "source": [
    "#HYPERPARAMETER TUNING USING GRIDSEARCH\n",
    "tuned_parameters= [{'C': np.logspace(-5,5,11,base=2),'gamma': np.logspace(-5,5,11,base=2)}]\n",
    "\n",
    "model = GridSearchCV(svm.SVC(), tuned_parameters, scoring = 'roc_auc', cv=5)\n",
    "model.fit(rtraintf, Y_rtrain)\n",
    "\n",
    "print(model.best_estimator_)\n",
    "print(model.score(rtesttf, Y_rtest))"
   ]
  },
  {
   "cell_type": "code",
   "execution_count": 59,
   "metadata": {},
   "outputs": [
    {
     "data": {
      "image/png": "[encoded data removed]",
      "text/plain": [
       "<matplotlib.figure.Figure at 0xe8bc6f4668>"
      ]
     },
     "metadata": {},
     "output_type": "display_data"
    }
   ],
   "source": [
    "# C v/s AUC SCORE\n",
    "X_tr, X_cv, Y_tr, Y_cv = cross_validation.train_test_split(rtraintf, Y_rtrain, test_size=0.3)\n",
    "\n",
    "c=np.logspace(-5,5,11,base=2)\n",
    "\n",
    "# empty list that will hold cv scores\n",
    "auc_train=[]\n",
    "auc_val=[]\n",
    "\n",
    "# perform 10-fold cross validation\n",
    "for item in c:\n",
    "    model = svm.SVC(C=item,gamma=0.5,probability=True)\n",
    "    model.fit(X_tr,Y_tr)\n",
    "    pred_train=model.predict_proba(X_tr)[:,1]\n",
    "    auc_train.append(roc_auc_score(Y_tr, pred_train))\n",
    "    \n",
    "    pred_val=model.predict_proba(X_cv)[:,1]\n",
    "    auc_val.append(roc_auc_score(Y_cv,pred_val))\n",
    "\n",
    "    \n",
    "# plot \n",
    "plt.plot(c,auc_train )\n",
    "plt.plot(c,auc_val)\n",
    "plt.xlabel('Hyperparameter C')\n",
    "plt.ylabel('Area Under Roc Curve')\n",
    "plt.legend(['Train AUC','Validation AUC'])\n",
    "plt.show()"
   ]
  },
  {
   "cell_type": "code",
   "execution_count": 60,
   "metadata": {},
   "outputs": [
    {
     "data": {
      "image/png": "[encoded data removed]",
      "text/plain": [
       "<matplotlib.figure.Figure at 0xe8aa52e6a0>"
      ]
     },
     "metadata": {},
     "output_type": "display_data"
    }
   ],
   "source": [
    "# Gamma v/s AUC SCORE\n",
    "gam= np.logspace(-5,5,11,base=2)\n",
    "\n",
    "# empty list that will hold cv scores\n",
    "auc_train=[]\n",
    "auc_val=[]\n",
    "\n",
    "# perform 10-fold cross validation\n",
    "for item in gam:\n",
    "    model = svm.SVC(C=32,gamma=item,probability=True)\n",
    "    model.fit(X_tr,Y_tr)\n",
    "    pred_train=model.predict_proba(X_tr)[:,1]\n",
    "    auc_train.append(roc_auc_score(Y_tr, pred_train))\n",
    "    \n",
    "    pred_val=model.predict_proba(X_cv)[:,1]\n",
    "    auc_val.append(roc_auc_score(Y_cv,pred_val))\n",
    "\n",
    "    \n",
    "# plot \n",
    "plt.plot(c,auc_train )\n",
    "plt.plot(c,auc_val)\n",
    "plt.xlabel('Hyperparameter Gamma')\n",
    "plt.ylabel('Area Under Roc Curve')\n",
    "plt.legend(['Train AUC','Validation AUC'])\n",
    "plt.show()\n",
    "    "
   ]
  },
  {
   "cell_type": "code",
   "execution_count": 61,
   "metadata": {},
   "outputs": [
    {
     "name": "stdout",
     "output_type": "stream",
     "text": [
      "AUC: 0.833\n"
     ]
    },
    {
     "data": {
      "image/png": "[encoded data removed]",
      "text/plain": [
       "<matplotlib.figure.Figure at 0xe8c53c86d8>"
      ]
     },
     "metadata": {},
     "output_type": "display_data"
    }
   ],
   "source": [
    "#ROC CURVE FOR TRAIN AND TEST DATA\n",
    "model = svm.SVC(C=32,gamma=0.5,probability=True)\n",
    "model.fit(rtraintf,Y_rtrain)\n",
    "\n",
    "# predict probabilities\n",
    "probs = model.predict_proba(rtesttf)\n",
    "# keep probabilities for the positive outcome only\n",
    "probs = probs[:, 1]\n",
    "# calculate AUC\n",
    "auc = roc_auc_score(Y_rtest, probs)\n",
    "print('AUC: %.3f' % auc)\n",
    "\n",
    "# calculate roc curve for train data\n",
    "prob=model.predict_proba(rtraintf)\n",
    "probt=prob[:,1]\n",
    "tfpr, ttpr, thresholds = roc_curve(Y_rtrain, probt)\n",
    "\n",
    "\n",
    "\n",
    "#calculate roc curve for test data\n",
    "fpr,tpr,threshols=roc_curve(Y_rtest,probs)\n",
    "\n",
    "\n",
    "\n",
    "\n",
    "# plot the roc curve for the model\n",
    "plt.plot(tfpr, ttpr, marker='.')\n",
    "plt.plot(fpr,tpr,marker='.')\n",
    "\n",
    "# plot no skill\n",
    "plt.plot([0, 1], [0, 1], linestyle='--')\n",
    "\n",
    "plt.xlabel('False Positive Rate')\n",
    "plt.ylabel('True Positive Rate')\n",
    "plt.title('ROC CURVE')\n",
    "plt.legend([\"Train data\",\"Test data\"])\n",
    "# show the plot\n",
    "plt.show()"
   ]
  },
  {
   "cell_type": "code",
   "execution_count": 62,
   "metadata": {},
   "outputs": [
    {
     "data": {
      "image/png": "[encoded data removed]",
      "text/plain": [
       "<matplotlib.figure.Figure at 0xe8bf1d9160>"
      ]
     },
     "metadata": {},
     "output_type": "display_data"
    }
   ],
   "source": [
    "#CONFUSION MATRIX\n",
    "model = svm.SVC(C=32,gamma=0.5,probability=True)\n",
    "model.fit(rtraintf,Y_rtrain)\n",
    "\n",
    "\n",
    "pred = model.predict(rtesttf)\n",
    "con_mat=confusion_matrix(Y_rtest,pred)\n",
    "cmt=pd.DataFrame(con_mat,index=['negative','positive'],columns=['negative','positive'])\n",
    "\n",
    "#plotting confusion matrix\n",
    "sns.heatmap(cmt,annot=True, fmt=\"d\")\n",
    "plt.title(\"CONFUSION MATRIX\")\n",
    "plt.xlabel(\"Predicted Score\")\n",
    "plt.ylabel(\"Actual Score\")\n",
    "plt.show()"
   ]
  },
  {
   "cell_type": "markdown",
   "metadata": {
    "colab_type": "text",
    "id": "N_3NMgBipO9S"
   },
   "source": [
    "# [6] Conclusions"
   ]
  },
  {
   "cell_type": "code",
   "execution_count": 63,
   "metadata": {
    "colab": {},
    "colab_type": "code",
    "id": "Z_dnjizIpO9T"
   },
   "outputs": [
    {
     "name": "stdout",
     "output_type": "stream",
     "text": [
      "+------------+--------+--------+-----+---------+-------+\n",
      "| Vectorizer | Kernel | Alpha  |  C  |  Gamma  |  AUC  |\n",
      "+------------+--------+--------+-----+---------+-------+\n",
      "|    BOW     | linear | 0.0001 | Nil |   Nil   | 0.955 |\n",
      "|   TFIDF    | linear | 0.0001 | Nil |   Nil   |  0.96 |\n",
      "|  WORD2VEC  | linear | 0.001  | Nil |   Nil   | 0.918 |\n",
      "| TFIDF-W2V  | linear |  0.01  | Nil |   Nil   | 0.892 |\n",
      "|    BOW     |  rbf   |  Nil   |  2  | 0.03125 | 0.902 |\n",
      "|   TFIDF    |  rbf   |  Nil   |  2  |    1    | 0.915 |\n",
      "|  WORD2VEC  |  rbf   |  Nil   |  32 |   0.5   | 0.854 |\n",
      "| TFIDF_W2V  |  rbf   |  Nil   |  32 |   0.5   | 0.833 |\n",
      "+------------+--------+--------+-----+---------+-------+\n"
     ]
    }
   ],
   "source": [
    "#CREATING PRETTYTABLE\n",
    "from prettytable import PrettyTable\n",
    "    \n",
    "x = PrettyTable()\n",
    "\n",
    "x.field_names = [\"Vectorizer\", \"Kernel\",\"Alpha\",\"C\",\"Gamma\", \"AUC\"]\n",
    " \n",
    "x.add_row([\"BOW\",\"linear\",0.0001,\"Nil\",\"Nil\",0.955])\n",
    "x.add_row([\"TFIDF\",\"linear\",0.0001,\"Nil\",\"Nil\",0.960])\n",
    "x.add_row([\"WORD2VEC\",\"linear\",0.001,\"Nil\",\"Nil\",0.918])\n",
    "x.add_row([\"TFIDF-W2V\",\"linear\",0.01,\"Nil\",\"Nil\",0.892])\n",
    "x.add_row([\"BOW\",\"rbf\",\"Nil\",2,0.03125,0.902])\n",
    "x.add_row([\"TFIDF\",\"rbf\",\"Nil\",2,1,0.915])\n",
    "x.add_row([\"WORD2VEC\",\"rbf\",\"Nil\",32,0.5,0.854])\n",
    "x.add_row([\"TFIDF_W2V\",\"rbf\",\"Nil\",32,0.5,0.833])\n",
    "\n",
    "print(x)"
   ]
  }
 ],
 "metadata": {
  "colab": {
   "name": "07 Amazon Fine Food Reviews Analysis_Support Vector Machines.ipynb",
   "provenance": [],
   "version": "0.3.2"
  },
  "kernelspec": {
   "display_name": "Python 3",
   "language": "python",
   "name": "python3"
  },
  "language_info": {
   "codemirror_mode": {
    "name": "ipython",
    "version": 3
   },
   "file_extension": ".py",
   "mimetype": "text/x-python",
   "name": "python",
   "nbconvert_exporter": "python",
   "pygments_lexer": "ipython3",
   "version": "3.6.4"
  }
 },
 "nbformat": 4,
 "nbformat_minor": 1
}
