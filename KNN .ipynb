{
 "cells": [
  {
   "cell_type": "markdown",
   "metadata": {
    "colab_type": "text",
    "id": "Nt598MzGh2Wp"
   },
   "source": [
    "# Amazon Fine Food Reviews Analysis\n",
    "\n",
    "\n",
    "Data Source: https://www.kaggle.com/snap/amazon-fine-food-reviews <br>\n",
    "\n",
    "EDA: https://nycdatascience.com/blog/student-works/amazon-fine-foods-visualization/\n",
    "\n",
    "\n",
    "The Amazon Fine Food Reviews dataset consists of reviews of fine foods from Amazon.<br>\n",
    "\n",
    "Number of reviews: 568,454<br>\n",
    "Number of users: 256,059<br>\n",
    "Number of products: 74,258<br>\n",
    "Timespan: Oct 1999 - Oct 2012<br>\n",
    "Number of Attributes/Columns in data: 10 \n",
    "\n",
    "Attribute Information:\n",
    "\n",
    "1. Id\n",
    "2. ProductId - unique identifier for the product\n",
    "3. UserId - unqiue identifier for the user\n",
    "4. ProfileName\n",
    "5. HelpfulnessNumerator - number of users who found the review helpful\n",
    "6. HelpfulnessDenominator - number of users who indicated whether they found the review helpful or not\n",
    "7. Score - rating between 1 and 5\n",
    "8. Time - timestamp for the review\n",
    "9. Summary - brief summary of the review\n",
    "10. Text - text of the review\n",
    "\n",
    "\n",
    "#### Objective:\n",
    "Given a review, determine whether the review is positive (rating of 4 or 5) or negative (rating of 1 or 2).\n",
    "\n",
    "<br>\n",
    "[Q] How to determine if a review is positive or negative?<br>\n",
    "<br> \n",
    "[Ans] We could use Score/Rating. A rating of 4 or 5 can be cosnidered as a positive review. A rating of 1 or 2 can be considered as negative one. A review of rating 3 is considered nuetral and such reviews are ignored from our analysis. This is an approximate and proxy way of determining the polarity (positivity/negativity) of a review.\n",
    "\n",
    "\n"
   ]
  },
  {
   "cell_type": "markdown",
   "metadata": {
    "colab_type": "text",
    "id": "ALlrRHKvh2Wr"
   },
   "source": [
    "# [1]. Reading Data"
   ]
  },
  {
   "cell_type": "markdown",
   "metadata": {
    "colab_type": "text",
    "id": "SAAib9Dnh2Wt"
   },
   "source": [
    "## [1.1] Loading the data\n",
    "\n",
    "The dataset is available in two forms\n",
    "1. .csv file\n",
    "2. SQLite Database\n",
    "\n",
    "In order to load the data, We have used the SQLITE dataset as it is easier to query the data and visualise the data efficiently.\n",
    "<br> \n",
    "\n",
    "Here as we only want to get the global sentiment of the recommendations (positive or negative), we will purposefully ignore all Scores equal to 3. If the score is above 3, then the recommendation wil be set to \"positive\". Otherwise, it will be set to \"negative\"."
   ]
  },
  {
   "cell_type": "code",
   "execution_count": 1,
   "metadata": {
    "colab": {},
    "colab_type": "code",
    "id": "mI7L3sJHh2Wu"
   },
   "outputs": [
    {
     "name": "stderr",
     "output_type": "stream",
     "text": [
      "C:\\Users\\SABEENA\\Anaconda3\\lib\\site-packages\\sklearn\\cross_validation.py:41: DeprecationWarning: This module was deprecated in version 0.18 in favor of the model_selection module into which all the refactored classes and functions are moved. Also note that the interface of the new CV iterators are different from that of this module. This module will be removed in 0.20.\n",
      "  \"This module will be removed in 0.20.\", DeprecationWarning)\n",
      "C:\\Users\\SABEENA\\Anaconda3\\lib\\site-packages\\sklearn\\grid_search.py:42: DeprecationWarning: This module was deprecated in version 0.18 in favor of the model_selection module into which all the refactored classes and functions are moved. This module will be removed in 0.20.\n",
      "  DeprecationWarning)\n"
     ]
    }
   ],
   "source": [
    "%matplotlib inline\n",
    "import warnings\n",
    "warnings.filterwarnings(\"ignore\")\n",
    "\n",
    "\n",
    "import sqlite3\n",
    "import pandas as pd\n",
    "import numpy as np\n",
    "import nltk\n",
    "import string\n",
    "import matplotlib.pyplot as plt\n",
    "import seaborn as sns\n",
    "from sklearn.feature_extraction.text import TfidfTransformer\n",
    "from sklearn.feature_extraction.text import TfidfVectorizer\n",
    "\n",
    "from sklearn.feature_extraction.text import CountVectorizer\n",
    "from sklearn.metrics import confusion_matrix\n",
    "from sklearn import metrics\n",
    "from sklearn.metrics import roc_curve, auc\n",
    "from nltk.stem.porter import PorterStemmer\n",
    "\n",
    "import re\n",
    "# Tutorial about Python regular expressions: https://pymotw.com/2/re/\n",
    "import string\n",
    "from nltk.corpus import stopwords\n",
    "from nltk.stem import PorterStemmer\n",
    "from nltk.stem.wordnet import WordNetLemmatizer\n",
    "\n",
    "from sklearn.cross_validation import train_test_split\n",
    "from sklearn.neighbors import KNeighborsClassifier\n",
    "from sklearn.metrics import accuracy_score\n",
    "from sklearn.cross_validation import cross_val_score\n",
    "from collections import Counter\n",
    "from sklearn.metrics import accuracy_score\n",
    "from sklearn import cross_validation\n",
    "from sklearn.grid_search import GridSearchCV\n",
    "\n",
    "from gensim.models import Word2Vec\n",
    "from gensim.models import KeyedVectors\n",
    "import pickle\n",
    "\n",
    "from tqdm import tqdm\n",
    "import os"
   ]
  },
  {
   "cell_type": "code",
   "execution_count": 2,
   "metadata": {
    "colab": {},
    "colab_type": "code",
    "id": "8klTLDW7h2W0",
    "outputId": "d1d32730-a585-45a2-bfea-7311e5070a44"
   },
   "outputs": [
    {
     "name": "stdout",
     "output_type": "stream",
     "text": [
      "Number of data points in our data (525814, 10)\n"
     ]
    },
    {
     "data": {
      "text/html": [
       "<div>\n",
       "<style scoped>\n",
       "    .dataframe tbody tr th:only-of-type {\n",
       "        vertical-align: middle;\n",
       "    }\n",
       "\n",
       "    .dataframe tbody tr th {\n",
       "        vertical-align: top;\n",
       "    }\n",
       "\n",
       "    .dataframe thead th {\n",
       "        text-align: right;\n",
       "    }\n",
       "</style>\n",
       "<table border=\"1\" class=\"dataframe\">\n",
       "  <thead>\n",
       "    <tr style=\"text-align: right;\">\n",
       "      <th></th>\n",
       "      <th>Id</th>\n",
       "      <th>ProductId</th>\n",
       "      <th>UserId</th>\n",
       "      <th>ProfileName</th>\n",
       "      <th>HelpfulnessNumerator</th>\n",
       "      <th>HelpfulnessDenominator</th>\n",
       "      <th>Score</th>\n",
       "      <th>Time</th>\n",
       "      <th>Summary</th>\n",
       "      <th>Text</th>\n",
       "    </tr>\n",
       "  </thead>\n",
       "  <tbody>\n",
       "    <tr>\n",
       "      <th>0</th>\n",
       "      <td>1</td>\n",
       "      <td>B001E4KFG0</td>\n",
       "      <td>A3SGXH7AUHU8GW</td>\n",
       "      <td>delmartian</td>\n",
       "      <td>1</td>\n",
       "      <td>1</td>\n",
       "      <td>1</td>\n",
       "      <td>1303862400</td>\n",
       "      <td>Good Quality Dog Food</td>\n",
       "      <td>I have bought several of the Vitality canned d...</td>\n",
       "    </tr>\n",
       "    <tr>\n",
       "      <th>1</th>\n",
       "      <td>2</td>\n",
       "      <td>B00813GRG4</td>\n",
       "      <td>A1D87F6ZCVE5NK</td>\n",
       "      <td>dll pa</td>\n",
       "      <td>0</td>\n",
       "      <td>0</td>\n",
       "      <td>0</td>\n",
       "      <td>1346976000</td>\n",
       "      <td>Not as Advertised</td>\n",
       "      <td>Product arrived labeled as Jumbo Salted Peanut...</td>\n",
       "    </tr>\n",
       "    <tr>\n",
       "      <th>2</th>\n",
       "      <td>3</td>\n",
       "      <td>B000LQOCH0</td>\n",
       "      <td>ABXLMWJIXXAIN</td>\n",
       "      <td>Natalia Corres \"Natalia Corres\"</td>\n",
       "      <td>1</td>\n",
       "      <td>1</td>\n",
       "      <td>1</td>\n",
       "      <td>1219017600</td>\n",
       "      <td>\"Delight\" says it all</td>\n",
       "      <td>This is a confection that has been around a fe...</td>\n",
       "    </tr>\n",
       "  </tbody>\n",
       "</table>\n",
       "</div>"
      ],
      "text/plain": [
       "   Id   ProductId          UserId                      ProfileName  \\\n",
       "0   1  B001E4KFG0  A3SGXH7AUHU8GW                       delmartian   \n",
       "1   2  B00813GRG4  A1D87F6ZCVE5NK                           dll pa   \n",
       "2   3  B000LQOCH0   ABXLMWJIXXAIN  Natalia Corres \"Natalia Corres\"   \n",
       "\n",
       "   HelpfulnessNumerator  HelpfulnessDenominator  Score        Time  \\\n",
       "0                     1                       1      1  1303862400   \n",
       "1                     0                       0      0  1346976000   \n",
       "2                     1                       1      1  1219017600   \n",
       "\n",
       "                 Summary                                               Text  \n",
       "0  Good Quality Dog Food  I have bought several of the Vitality canned d...  \n",
       "1      Not as Advertised  Product arrived labeled as Jumbo Salted Peanut...  \n",
       "2  \"Delight\" says it all  This is a confection that has been around a fe...  "
      ]
     },
     "execution_count": 2,
     "metadata": {},
     "output_type": "execute_result"
    }
   ],
   "source": [
    "# using SQLite Table to read data.\n",
    "con = sqlite3.connect('database.sqlite') \n",
    "\n",
    "# filtering only positive and negative reviews i.e. \n",
    "# not taking into consideration those reviews with Score=3\n",
    "# SELECT * FROM Reviews WHERE Score != 3 LIMIT 500000, will give top 500000 data points\n",
    "# you can change the number to any other number based on your computing power\n",
    "\n",
    "# filtered_data = pd.read_sql_query(\"\"\" SELECT * FROM Reviews WHERE Score != 3 LIMIT 500000\"\"\", con) \n",
    "# for tsne assignment you can take 5k data points\n",
    "\n",
    "filtered_data = pd.read_sql_query(\"\"\" SELECT * FROM Reviews WHERE Score != 3  \"\"\", con) \n",
    "\n",
    "# Give reviews with Score>3 a positive rating(1), and reviews with a score<3 a negative rating(0).\n",
    "def partition(x):\n",
    "    if x < 3:\n",
    "        return 0\n",
    "    return 1\n",
    "\n",
    "#changing reviews with score less than 3 to be positive and vice-versa\n",
    "actualScore = filtered_data['Score']\n",
    "positiveNegative = actualScore.map(partition) \n",
    "filtered_data['Score'] = positiveNegative\n",
    "print(\"Number of data points in our data\", filtered_data.shape)\n",
    "filtered_data.head(3)"
   ]
  },
  {
   "cell_type": "code",
   "execution_count": 3,
   "metadata": {
    "colab": {},
    "colab_type": "code",
    "id": "gUA22JU5h2W7"
   },
   "outputs": [],
   "source": [
    "display = pd.read_sql_query(\"\"\"\n",
    "SELECT UserId, ProductId, ProfileName, Time, Score, Text, COUNT(*)\n",
    "FROM Reviews\n",
    "GROUP BY UserId\n",
    "HAVING COUNT(*)>1\n",
    "\"\"\", con)"
   ]
  },
  {
   "cell_type": "code",
   "execution_count": 4,
   "metadata": {
    "colab": {},
    "colab_type": "code",
    "id": "ndYLpBfBh2W_",
    "outputId": "ada61e82-29bf-46e8-acd9-48ba000104a0",
    "scrolled": true
   },
   "outputs": [
    {
     "name": "stdout",
     "output_type": "stream",
     "text": [
      "(80668, 7)\n"
     ]
    },
    {
     "data": {
      "text/html": [
       "<div>\n",
       "<style scoped>\n",
       "    .dataframe tbody tr th:only-of-type {\n",
       "        vertical-align: middle;\n",
       "    }\n",
       "\n",
       "    .dataframe tbody tr th {\n",
       "        vertical-align: top;\n",
       "    }\n",
       "\n",
       "    .dataframe thead th {\n",
       "        text-align: right;\n",
       "    }\n",
       "</style>\n",
       "<table border=\"1\" class=\"dataframe\">\n",
       "  <thead>\n",
       "    <tr style=\"text-align: right;\">\n",
       "      <th></th>\n",
       "      <th>UserId</th>\n",
       "      <th>ProductId</th>\n",
       "      <th>ProfileName</th>\n",
       "      <th>Time</th>\n",
       "      <th>Score</th>\n",
       "      <th>Text</th>\n",
       "      <th>COUNT(*)</th>\n",
       "    </tr>\n",
       "  </thead>\n",
       "  <tbody>\n",
       "    <tr>\n",
       "      <th>0</th>\n",
       "      <td>#oc-R115TNMSPFT9I7</td>\n",
       "      <td>B007Y59HVM</td>\n",
       "      <td>Breyton</td>\n",
       "      <td>1331510400</td>\n",
       "      <td>2</td>\n",
       "      <td>Overall its just OK when considering the price...</td>\n",
       "      <td>2</td>\n",
       "    </tr>\n",
       "    <tr>\n",
       "      <th>1</th>\n",
       "      <td>#oc-R11D9D7SHXIJB9</td>\n",
       "      <td>B005HG9ET0</td>\n",
       "      <td>Louis E. Emory \"hoppy\"</td>\n",
       "      <td>1342396800</td>\n",
       "      <td>5</td>\n",
       "      <td>My wife has recurring extreme muscle spasms, u...</td>\n",
       "      <td>3</td>\n",
       "    </tr>\n",
       "    <tr>\n",
       "      <th>2</th>\n",
       "      <td>#oc-R11DNU2NBKQ23Z</td>\n",
       "      <td>B007Y59HVM</td>\n",
       "      <td>Kim Cieszykowski</td>\n",
       "      <td>1348531200</td>\n",
       "      <td>1</td>\n",
       "      <td>This coffee is horrible and unfortunately not ...</td>\n",
       "      <td>2</td>\n",
       "    </tr>\n",
       "    <tr>\n",
       "      <th>3</th>\n",
       "      <td>#oc-R11O5J5ZVQE25C</td>\n",
       "      <td>B005HG9ET0</td>\n",
       "      <td>Penguin Chick</td>\n",
       "      <td>1346889600</td>\n",
       "      <td>5</td>\n",
       "      <td>This will be the bottle that you grab from the...</td>\n",
       "      <td>3</td>\n",
       "    </tr>\n",
       "    <tr>\n",
       "      <th>4</th>\n",
       "      <td>#oc-R12KPBODL2B5ZD</td>\n",
       "      <td>B007OSBE1U</td>\n",
       "      <td>Christopher P. Presta</td>\n",
       "      <td>1348617600</td>\n",
       "      <td>1</td>\n",
       "      <td>I didnt like this coffee. Instead of telling y...</td>\n",
       "      <td>2</td>\n",
       "    </tr>\n",
       "  </tbody>\n",
       "</table>\n",
       "</div>"
      ],
      "text/plain": [
       "               UserId   ProductId             ProfileName        Time  Score  \\\n",
       "0  #oc-R115TNMSPFT9I7  B007Y59HVM                 Breyton  1331510400      2   \n",
       "1  #oc-R11D9D7SHXIJB9  B005HG9ET0  Louis E. Emory \"hoppy\"  1342396800      5   \n",
       "2  #oc-R11DNU2NBKQ23Z  B007Y59HVM        Kim Cieszykowski  1348531200      1   \n",
       "3  #oc-R11O5J5ZVQE25C  B005HG9ET0           Penguin Chick  1346889600      5   \n",
       "4  #oc-R12KPBODL2B5ZD  B007OSBE1U   Christopher P. Presta  1348617600      1   \n",
       "\n",
       "                                                Text  COUNT(*)  \n",
       "0  Overall its just OK when considering the price...         2  \n",
       "1  My wife has recurring extreme muscle spasms, u...         3  \n",
       "2  This coffee is horrible and unfortunately not ...         2  \n",
       "3  This will be the bottle that you grab from the...         3  \n",
       "4  I didnt like this coffee. Instead of telling y...         2  "
      ]
     },
     "execution_count": 4,
     "metadata": {},
     "output_type": "execute_result"
    }
   ],
   "source": [
    "print(display.shape)\n",
    "display.head()"
   ]
  },
  {
   "cell_type": "code",
   "execution_count": 5,
   "metadata": {
    "colab": {},
    "colab_type": "code",
    "id": "ak1zvJR_h2XF",
    "outputId": "d2ce17b3-2e49-4cdb-8195-99f002399f73"
   },
   "outputs": [
    {
     "data": {
      "text/html": [
       "<div>\n",
       "<style scoped>\n",
       "    .dataframe tbody tr th:only-of-type {\n",
       "        vertical-align: middle;\n",
       "    }\n",
       "\n",
       "    .dataframe tbody tr th {\n",
       "        vertical-align: top;\n",
       "    }\n",
       "\n",
       "    .dataframe thead th {\n",
       "        text-align: right;\n",
       "    }\n",
       "</style>\n",
       "<table border=\"1\" class=\"dataframe\">\n",
       "  <thead>\n",
       "    <tr style=\"text-align: right;\">\n",
       "      <th></th>\n",
       "      <th>UserId</th>\n",
       "      <th>ProductId</th>\n",
       "      <th>ProfileName</th>\n",
       "      <th>Time</th>\n",
       "      <th>Score</th>\n",
       "      <th>Text</th>\n",
       "      <th>COUNT(*)</th>\n",
       "    </tr>\n",
       "  </thead>\n",
       "  <tbody>\n",
       "    <tr>\n",
       "      <th>80638</th>\n",
       "      <td>AZY10LLTJ71NX</td>\n",
       "      <td>B006P7E5ZI</td>\n",
       "      <td>undertheshrine \"undertheshrine\"</td>\n",
       "      <td>1334707200</td>\n",
       "      <td>5</td>\n",
       "      <td>I was recommended to try green tea extract to ...</td>\n",
       "      <td>5</td>\n",
       "    </tr>\n",
       "  </tbody>\n",
       "</table>\n",
       "</div>"
      ],
      "text/plain": [
       "              UserId   ProductId                      ProfileName        Time  \\\n",
       "80638  AZY10LLTJ71NX  B006P7E5ZI  undertheshrine \"undertheshrine\"  1334707200   \n",
       "\n",
       "       Score                                               Text  COUNT(*)  \n",
       "80638      5  I was recommended to try green tea extract to ...         5  "
      ]
     },
     "execution_count": 5,
     "metadata": {},
     "output_type": "execute_result"
    }
   ],
   "source": [
    "display[display['UserId']=='AZY10LLTJ71NX']"
   ]
  },
  {
   "cell_type": "code",
   "execution_count": 6,
   "metadata": {
    "colab": {},
    "colab_type": "code",
    "id": "6XmKRbIxh2XK",
    "outputId": "0e46a15c-0dde-4fa4-f8fb-6f9e1c56bb94"
   },
   "outputs": [
    {
     "data": {
      "text/plain": [
       "393063"
      ]
     },
     "execution_count": 6,
     "metadata": {},
     "output_type": "execute_result"
    }
   ],
   "source": [
    "display['COUNT(*)'].sum()"
   ]
  },
  {
   "cell_type": "markdown",
   "metadata": {
    "colab_type": "text",
    "id": "LCn2MEf8h2XS"
   },
   "source": [
    "#  [2] Exploratory Data Analysis"
   ]
  },
  {
   "cell_type": "markdown",
   "metadata": {
    "colab_type": "text",
    "id": "Q9TgtJgoh2XT"
   },
   "source": [
    "## [2.1] Data Cleaning: Deduplication\n",
    "\n",
    "It is observed (as shown in the table below) that the reviews data had many duplicate entries. Hence it was necessary to remove duplicates in order to get unbiased results for the analysis of the data.  Following is an example:"
   ]
  },
  {
   "cell_type": "code",
   "execution_count": 7,
   "metadata": {
    "colab": {},
    "colab_type": "code",
    "id": "70xqURbph2XU",
    "outputId": "648d48d1-df8b-4381-b353-f6b50fb09fa2",
    "scrolled": false
   },
   "outputs": [
    {
     "data": {
      "text/html": [
       "<div>\n",
       "<style scoped>\n",
       "    .dataframe tbody tr th:only-of-type {\n",
       "        vertical-align: middle;\n",
       "    }\n",
       "\n",
       "    .dataframe tbody tr th {\n",
       "        vertical-align: top;\n",
       "    }\n",
       "\n",
       "    .dataframe thead th {\n",
       "        text-align: right;\n",
       "    }\n",
       "</style>\n",
       "<table border=\"1\" class=\"dataframe\">\n",
       "  <thead>\n",
       "    <tr style=\"text-align: right;\">\n",
       "      <th></th>\n",
       "      <th>Id</th>\n",
       "      <th>ProductId</th>\n",
       "      <th>UserId</th>\n",
       "      <th>ProfileName</th>\n",
       "      <th>HelpfulnessNumerator</th>\n",
       "      <th>HelpfulnessDenominator</th>\n",
       "      <th>Score</th>\n",
       "      <th>Time</th>\n",
       "      <th>Summary</th>\n",
       "      <th>Text</th>\n",
       "    </tr>\n",
       "  </thead>\n",
       "  <tbody>\n",
       "    <tr>\n",
       "      <th>0</th>\n",
       "      <td>78445</td>\n",
       "      <td>B000HDL1RQ</td>\n",
       "      <td>AR5J8UI46CURR</td>\n",
       "      <td>Geetha Krishnan</td>\n",
       "      <td>2</td>\n",
       "      <td>2</td>\n",
       "      <td>5</td>\n",
       "      <td>1199577600</td>\n",
       "      <td>LOACKER QUADRATINI VANILLA WAFERS</td>\n",
       "      <td>DELICIOUS WAFERS. I FIND THAT EUROPEAN WAFERS ...</td>\n",
       "    </tr>\n",
       "    <tr>\n",
       "      <th>1</th>\n",
       "      <td>138317</td>\n",
       "      <td>B000HDOPYC</td>\n",
       "      <td>AR5J8UI46CURR</td>\n",
       "      <td>Geetha Krishnan</td>\n",
       "      <td>2</td>\n",
       "      <td>2</td>\n",
       "      <td>5</td>\n",
       "      <td>1199577600</td>\n",
       "      <td>LOACKER QUADRATINI VANILLA WAFERS</td>\n",
       "      <td>DELICIOUS WAFERS. I FIND THAT EUROPEAN WAFERS ...</td>\n",
       "    </tr>\n",
       "    <tr>\n",
       "      <th>2</th>\n",
       "      <td>138277</td>\n",
       "      <td>B000HDOPYM</td>\n",
       "      <td>AR5J8UI46CURR</td>\n",
       "      <td>Geetha Krishnan</td>\n",
       "      <td>2</td>\n",
       "      <td>2</td>\n",
       "      <td>5</td>\n",
       "      <td>1199577600</td>\n",
       "      <td>LOACKER QUADRATINI VANILLA WAFERS</td>\n",
       "      <td>DELICIOUS WAFERS. I FIND THAT EUROPEAN WAFERS ...</td>\n",
       "    </tr>\n",
       "    <tr>\n",
       "      <th>3</th>\n",
       "      <td>73791</td>\n",
       "      <td>B000HDOPZG</td>\n",
       "      <td>AR5J8UI46CURR</td>\n",
       "      <td>Geetha Krishnan</td>\n",
       "      <td>2</td>\n",
       "      <td>2</td>\n",
       "      <td>5</td>\n",
       "      <td>1199577600</td>\n",
       "      <td>LOACKER QUADRATINI VANILLA WAFERS</td>\n",
       "      <td>DELICIOUS WAFERS. I FIND THAT EUROPEAN WAFERS ...</td>\n",
       "    </tr>\n",
       "    <tr>\n",
       "      <th>4</th>\n",
       "      <td>155049</td>\n",
       "      <td>B000PAQ75C</td>\n",
       "      <td>AR5J8UI46CURR</td>\n",
       "      <td>Geetha Krishnan</td>\n",
       "      <td>2</td>\n",
       "      <td>2</td>\n",
       "      <td>5</td>\n",
       "      <td>1199577600</td>\n",
       "      <td>LOACKER QUADRATINI VANILLA WAFERS</td>\n",
       "      <td>DELICIOUS WAFERS. I FIND THAT EUROPEAN WAFERS ...</td>\n",
       "    </tr>\n",
       "  </tbody>\n",
       "</table>\n",
       "</div>"
      ],
      "text/plain": [
       "       Id   ProductId         UserId      ProfileName  HelpfulnessNumerator  \\\n",
       "0   78445  B000HDL1RQ  AR5J8UI46CURR  Geetha Krishnan                     2   \n",
       "1  138317  B000HDOPYC  AR5J8UI46CURR  Geetha Krishnan                     2   \n",
       "2  138277  B000HDOPYM  AR5J8UI46CURR  Geetha Krishnan                     2   \n",
       "3   73791  B000HDOPZG  AR5J8UI46CURR  Geetha Krishnan                     2   \n",
       "4  155049  B000PAQ75C  AR5J8UI46CURR  Geetha Krishnan                     2   \n",
       "\n",
       "   HelpfulnessDenominator  Score        Time  \\\n",
       "0                       2      5  1199577600   \n",
       "1                       2      5  1199577600   \n",
       "2                       2      5  1199577600   \n",
       "3                       2      5  1199577600   \n",
       "4                       2      5  1199577600   \n",
       "\n",
       "                             Summary  \\\n",
       "0  LOACKER QUADRATINI VANILLA WAFERS   \n",
       "1  LOACKER QUADRATINI VANILLA WAFERS   \n",
       "2  LOACKER QUADRATINI VANILLA WAFERS   \n",
       "3  LOACKER QUADRATINI VANILLA WAFERS   \n",
       "4  LOACKER QUADRATINI VANILLA WAFERS   \n",
       "\n",
       "                                                Text  \n",
       "0  DELICIOUS WAFERS. I FIND THAT EUROPEAN WAFERS ...  \n",
       "1  DELICIOUS WAFERS. I FIND THAT EUROPEAN WAFERS ...  \n",
       "2  DELICIOUS WAFERS. I FIND THAT EUROPEAN WAFERS ...  \n",
       "3  DELICIOUS WAFERS. I FIND THAT EUROPEAN WAFERS ...  \n",
       "4  DELICIOUS WAFERS. I FIND THAT EUROPEAN WAFERS ...  "
      ]
     },
     "execution_count": 7,
     "metadata": {},
     "output_type": "execute_result"
    }
   ],
   "source": [
    "display= pd.read_sql_query(\"\"\"\n",
    "SELECT *\n",
    "FROM Reviews\n",
    "WHERE Score != 3 AND UserId=\"AR5J8UI46CURR\"\n",
    "ORDER BY ProductID\n",
    "\"\"\", con)\n",
    "display.head()"
   ]
  },
  {
   "cell_type": "markdown",
   "metadata": {
    "colab_type": "text",
    "id": "GH-nTPF_h2XZ"
   },
   "source": [
    "As it can be seen above that same user has multiple reviews with same values for HelpfulnessNumerator, HelpfulnessDenominator, Score, Time, Summary and Text and on doing analysis it was found that <br>\n",
    "<br> \n",
    "ProductId=B000HDOPZG was Loacker Quadratini Vanilla Wafer Cookies, 8.82-Ounce Packages (Pack of 8)<br>\n",
    "<br> \n",
    "ProductId=B000HDL1RQ was Loacker Quadratini Lemon Wafer Cookies, 8.82-Ounce Packages (Pack of 8) and so on<br>\n",
    "\n",
    "It was inferred after analysis that reviews with same parameters other than ProductId belonged to the same product just having different flavour or quantity. Hence in order to reduce redundancy it was decided to eliminate the rows having same parameters.<br>\n",
    "\n",
    "The method used for the same was that we first sort the data according to ProductId and then just keep the first similar product review and delelte the others. for eg. in the above just the review for ProductId=B000HDL1RQ remains. This method ensures that there is only one representative for each product and deduplication without sorting would lead to possibility of different representatives still existing for the same product."
   ]
  },
  {
   "cell_type": "code",
   "execution_count": 8,
   "metadata": {
    "colab": {},
    "colab_type": "code",
    "id": "f4PjSzrUh2Xa"
   },
   "outputs": [],
   "source": [
    "#Sorting data according to ProductId in ascending order\n",
    "sorted_data=filtered_data.sort_values('ProductId', axis=0, ascending=True, inplace=False, kind='quicksort', na_position='last')"
   ]
  },
  {
   "cell_type": "code",
   "execution_count": 9,
   "metadata": {
    "colab": {},
    "colab_type": "code",
    "id": "7QkysNb2h2Xe",
    "outputId": "b6cec570-3921-49b3-f95c-179ffe093443"
   },
   "outputs": [
    {
     "data": {
      "text/plain": [
       "(364173, 10)"
      ]
     },
     "execution_count": 9,
     "metadata": {},
     "output_type": "execute_result"
    }
   ],
   "source": [
    "#Deduplication of entries\n",
    "final=sorted_data.drop_duplicates(subset={\"UserId\",\"ProfileName\",\"Time\",\"Text\"}, keep='first', inplace=False)\n",
    "final.shape"
   ]
  },
  {
   "cell_type": "code",
   "execution_count": 10,
   "metadata": {
    "colab": {},
    "colab_type": "code",
    "id": "s5n0NwhJh2Xj",
    "outputId": "ae36a7c2-c971-4ef5-fef3-1ca260625a45"
   },
   "outputs": [
    {
     "data": {
      "text/plain": [
       "69.25890143662969"
      ]
     },
     "execution_count": 10,
     "metadata": {},
     "output_type": "execute_result"
    }
   ],
   "source": [
    "#Checking to see how much % of data still remains\n",
    "(final['Id'].size*1.0)/(filtered_data['Id'].size*1.0)*100"
   ]
  },
  {
   "cell_type": "markdown",
   "metadata": {
    "colab_type": "text",
    "id": "5Su-08b_h2Xp"
   },
   "source": [
    "<b>Observation:-</b> It was also seen that in two rows given below the value of HelpfulnessNumerator is greater than HelpfulnessDenominator which is not practically possible hence these two rows too are removed from calcualtions"
   ]
  },
  {
   "cell_type": "code",
   "execution_count": 11,
   "metadata": {
    "colab": {},
    "colab_type": "code",
    "id": "eyBIhQtTh2Xr",
    "outputId": "746358de-01e6-4bcd-acc9-44d1b99bd074"
   },
   "outputs": [
    {
     "data": {
      "text/html": [
       "<div>\n",
       "<style scoped>\n",
       "    .dataframe tbody tr th:only-of-type {\n",
       "        vertical-align: middle;\n",
       "    }\n",
       "\n",
       "    .dataframe tbody tr th {\n",
       "        vertical-align: top;\n",
       "    }\n",
       "\n",
       "    .dataframe thead th {\n",
       "        text-align: right;\n",
       "    }\n",
       "</style>\n",
       "<table border=\"1\" class=\"dataframe\">\n",
       "  <thead>\n",
       "    <tr style=\"text-align: right;\">\n",
       "      <th></th>\n",
       "      <th>Id</th>\n",
       "      <th>ProductId</th>\n",
       "      <th>UserId</th>\n",
       "      <th>ProfileName</th>\n",
       "      <th>HelpfulnessNumerator</th>\n",
       "      <th>HelpfulnessDenominator</th>\n",
       "      <th>Score</th>\n",
       "      <th>Time</th>\n",
       "      <th>Summary</th>\n",
       "      <th>Text</th>\n",
       "    </tr>\n",
       "  </thead>\n",
       "  <tbody>\n",
       "    <tr>\n",
       "      <th>0</th>\n",
       "      <td>64422</td>\n",
       "      <td>B000MIDROQ</td>\n",
       "      <td>A161DK06JJMCYF</td>\n",
       "      <td>J. E. Stephens \"Jeanne\"</td>\n",
       "      <td>3</td>\n",
       "      <td>1</td>\n",
       "      <td>5</td>\n",
       "      <td>1224892800</td>\n",
       "      <td>Bought This for My Son at College</td>\n",
       "      <td>My son loves spaghetti so I didn't hesitate or...</td>\n",
       "    </tr>\n",
       "    <tr>\n",
       "      <th>1</th>\n",
       "      <td>44737</td>\n",
       "      <td>B001EQ55RW</td>\n",
       "      <td>A2V0I904FH7ABY</td>\n",
       "      <td>Ram</td>\n",
       "      <td>3</td>\n",
       "      <td>2</td>\n",
       "      <td>4</td>\n",
       "      <td>1212883200</td>\n",
       "      <td>Pure cocoa taste with crunchy almonds inside</td>\n",
       "      <td>It was almost a 'love at first bite' - the per...</td>\n",
       "    </tr>\n",
       "  </tbody>\n",
       "</table>\n",
       "</div>"
      ],
      "text/plain": [
       "      Id   ProductId          UserId              ProfileName  \\\n",
       "0  64422  B000MIDROQ  A161DK06JJMCYF  J. E. Stephens \"Jeanne\"   \n",
       "1  44737  B001EQ55RW  A2V0I904FH7ABY                      Ram   \n",
       "\n",
       "   HelpfulnessNumerator  HelpfulnessDenominator  Score        Time  \\\n",
       "0                     3                       1      5  1224892800   \n",
       "1                     3                       2      4  1212883200   \n",
       "\n",
       "                                        Summary  \\\n",
       "0             Bought This for My Son at College   \n",
       "1  Pure cocoa taste with crunchy almonds inside   \n",
       "\n",
       "                                                Text  \n",
       "0  My son loves spaghetti so I didn't hesitate or...  \n",
       "1  It was almost a 'love at first bite' - the per...  "
      ]
     },
     "execution_count": 11,
     "metadata": {},
     "output_type": "execute_result"
    }
   ],
   "source": [
    "display= pd.read_sql_query(\"\"\"\n",
    "SELECT *\n",
    "FROM Reviews\n",
    "WHERE Score != 3 AND Id=44737 OR Id=64422\n",
    "ORDER BY ProductID\n",
    "\"\"\", con)\n",
    "\n",
    "display.head()"
   ]
  },
  {
   "cell_type": "code",
   "execution_count": 12,
   "metadata": {
    "colab": {},
    "colab_type": "code",
    "id": "LV6S3X1kh2Xx"
   },
   "outputs": [],
   "source": [
    "final=final[final.HelpfulnessNumerator<=final.HelpfulnessDenominator]"
   ]
  },
  {
   "cell_type": "code",
   "execution_count": 13,
   "metadata": {
    "colab": {},
    "colab_type": "code",
    "id": "AnqmAzGNh2X3",
    "outputId": "0668903d-488b-42be-ae00-000b545138d8"
   },
   "outputs": [
    {
     "name": "stdout",
     "output_type": "stream",
     "text": [
      "(364171, 10)\n"
     ]
    },
    {
     "data": {
      "text/plain": [
       "1    307061\n",
       "0     57110\n",
       "Name: Score, dtype: int64"
      ]
     },
     "execution_count": 13,
     "metadata": {},
     "output_type": "execute_result"
    }
   ],
   "source": [
    "#Before starting the next phase of preprocessing lets see the number of entries left\n",
    "print(final.shape)\n",
    "\n",
    "#How many positive and negative reviews are present in our dataset?\n",
    "final['Score'].value_counts()"
   ]
  },
  {
   "cell_type": "code",
   "execution_count": 14,
   "metadata": {},
   "outputs": [
    {
     "data": {
      "text/plain": [
       "1    10000\n",
       "0    10000\n",
       "Name: Score, dtype: int64"
      ]
     },
     "execution_count": 14,
     "metadata": {},
     "output_type": "execute_result"
    }
   ],
   "source": [
    "#Sampling 20K points \n",
    "final=final.groupby('Score').apply(lambda x: x.sample(10000))#sampling equal number of points from each class\n",
    "final['Score'].value_counts()"
   ]
  },
  {
   "cell_type": "markdown",
   "metadata": {
    "colab_type": "text",
    "id": "Ebs-zBy8h2X9"
   },
   "source": [
    "#  [3] Preprocessing"
   ]
  },
  {
   "cell_type": "markdown",
   "metadata": {
    "colab_type": "text",
    "id": "NL6wQDoIh2YA"
   },
   "source": [
    "## [3.1].  Preprocessing Review Text\n",
    "\n",
    "Now that we have finished deduplication our data requires some preprocessing before we go on further with analysis and making the prediction model.\n",
    "\n",
    "Hence in the Preprocessing phase we do the following in the order below:-\n",
    "\n",
    "1. Begin by removing the html tags\n",
    "2. Remove any punctuations or limited set of special characters like , or . or # etc.\n",
    "3. Check if the word is made up of english letters and is not alpha-numeric\n",
    "4. Check to see if the length of the word is greater than 2 (as it was researched that there is no adjective in 2-letters)\n",
    "5. Convert the word to lowercase\n",
    "6. Remove Stopwords\n",
    "7. Finally Snowball Stemming the word (it was obsereved to be better than Porter Stemming)<br>\n",
    "\n",
    "After which we collect the words used to describe positive and negative reviews"
   ]
  },
  {
   "cell_type": "code",
   "execution_count": 15,
   "metadata": {
    "colab": {},
    "colab_type": "code",
    "id": "xmODeG48h2YC",
    "outputId": "5bea370c-cb2d-41c8-d47b-ce2ef01c895d"
   },
   "outputs": [
    {
     "name": "stdout",
     "output_type": "stream",
     "text": [
      "I love these crackers but not the price change.<br /><br />At $29.00 for 12 boxes; ~$2.42 a box if you sign up for \"Subscribe and Save\" I was ecstatic. I most definitely signed up for \"Subscribe and Save\" delivery.<br /><br />Not yet 2 months later I learn the identical item now cost $55.00 for 12 boxes.<br /><br />Bait and switch?<br /><br />I think these crackers taste better than their clone parent the Triscuit. 12 boxes is just right for a two month period- I keep a couple boxes at work. Use them for bringing nibblies to gatherings and more importantly as a stable of my diet because I choose not to eat bread and I love food items with ingredient lists like this: Whole Wheat, Expeller-Pressed Oleic Safflower Oil, Sea Salt, Natural Tocopherols Added to Preserve Freshness.<br /><br />As a big city dweller who uses public trans (I don't own a car)I rely on Amazon for certain essential groceries. I pick them up at the UPS store on my walk home from the train stop. It's one of the main reasons I'm a \"Prime\" member.<br /><br />I'll need to cancel my \"Subscribe and Save\" for this item. I like to think Amazon wasn't going to send the next delivery without notifying me of the new price.<br /><br />I can get Triscuits anywhere for ~$4.50 a box, sometimes less. The Back To Nature cracker is now $4.59 a box.<br /><br />It's likely the pricing situation is out of their hands but I'm so disappointed!<br /><br />Looks like I'll be checking out the cracker selection at CostCo.\n",
      "==================================================\n",
      "the basket i ended up getting did NOT have the smoked almonds that the product mentioned plus when it came out of packaging most of the stuff was sticking together. Not impressed with product and will not get this again. so getting this from the cyber week deal for 42 dollars is NOT a good deal.\n",
      "==================================================\n",
      "I purchased this color along with the gold and silver and all that i can say is that it doesn't taste like it should edible. I threw all of it out and I was very dispointed that I wasted my money and time with this product.\n",
      "==================================================\n",
      "I received the Banana Nut Bread soft baked bar in my Influenster Summer Beauty VoxBox and I wasn't that big of a fan of it. I personally do not care for bananas to begin with so I knew that the chances of me liking it would be slim. My mom loved it though.\n",
      "==================================================\n"
     ]
    }
   ],
   "source": [
    "# printing some random reviews\n",
    "sent_0 = final['Text'].values[0]\n",
    "print(sent_0)\n",
    "print(\"=\"*50)\n",
    "\n",
    "sent_1000 = final['Text'].values[1000]\n",
    "print(sent_1000)\n",
    "print(\"=\"*50)\n",
    "\n",
    "sent_1500 = final['Text'].values[1500]\n",
    "print(sent_1500)\n",
    "print(\"=\"*50)\n",
    "\n",
    "sent_4900 = final['Text'].values[4900]\n",
    "print(sent_4900)\n",
    "print(\"=\"*50)"
   ]
  },
  {
   "cell_type": "code",
   "execution_count": 16,
   "metadata": {
    "colab": {},
    "colab_type": "code",
    "id": "QjcHv5Oth2YJ",
    "outputId": "0396cc76-998b-481a-ca85-329f76f45554"
   },
   "outputs": [
    {
     "name": "stdout",
     "output_type": "stream",
     "text": [
      "I love these crackers but not the price change.<br /><br />At $29.00 for 12 boxes; ~$2.42 a box if you sign up for \"Subscribe and Save\" I was ecstatic. I most definitely signed up for \"Subscribe and Save\" delivery.<br /><br />Not yet 2 months later I learn the identical item now cost $55.00 for 12 boxes.<br /><br />Bait and switch?<br /><br />I think these crackers taste better than their clone parent the Triscuit. 12 boxes is just right for a two month period- I keep a couple boxes at work. Use them for bringing nibblies to gatherings and more importantly as a stable of my diet because I choose not to eat bread and I love food items with ingredient lists like this: Whole Wheat, Expeller-Pressed Oleic Safflower Oil, Sea Salt, Natural Tocopherols Added to Preserve Freshness.<br /><br />As a big city dweller who uses public trans (I don't own a car)I rely on Amazon for certain essential groceries. I pick them up at the UPS store on my walk home from the train stop. It's one of the main reasons I'm a \"Prime\" member.<br /><br />I'll need to cancel my \"Subscribe and Save\" for this item. I like to think Amazon wasn't going to send the next delivery without notifying me of the new price.<br /><br />I can get Triscuits anywhere for ~$4.50 a box, sometimes less. The Back To Nature cracker is now $4.59 a box.<br /><br />It's likely the pricing situation is out of their hands but I'm so disappointed!<br /><br />Looks like I'll be checking out the cracker selection at CostCo.\n"
     ]
    }
   ],
   "source": [
    "# remove urls from text python: https://stackoverflow.com/a/40823105/4084039\n",
    "sent_0 = re.sub(r\"http\\S+\", \"\", sent_0)\n",
    "sent_1000 = re.sub(r\"http\\S+\", \"\", sent_1000)\n",
    "sent_150 = re.sub(r\"http\\S+\", \"\", sent_1500)\n",
    "sent_4900 = re.sub(r\"http\\S+\", \"\", sent_4900)\n",
    "\n",
    "print(sent_0)"
   ]
  },
  {
   "cell_type": "code",
   "execution_count": 17,
   "metadata": {
    "colab": {},
    "colab_type": "code",
    "id": "w7EbgrX-h2YO",
    "outputId": "c31aea9e-bd6f-48e0-96f9-88444602aa59"
   },
   "outputs": [
    {
     "name": "stdout",
     "output_type": "stream",
     "text": [
      "I love these crackers but not the price change.At $29.00 for 12 boxes; ~$2.42 a box if you sign up for \"Subscribe and Save\" I was ecstatic. I most definitely signed up for \"Subscribe and Save\" delivery.Not yet 2 months later I learn the identical item now cost $55.00 for 12 boxes.Bait and switch?I think these crackers taste better than their clone parent the Triscuit. 12 boxes is just right for a two month period- I keep a couple boxes at work. Use them for bringing nibblies to gatherings and more importantly as a stable of my diet because I choose not to eat bread and I love food items with ingredient lists like this: Whole Wheat, Expeller-Pressed Oleic Safflower Oil, Sea Salt, Natural Tocopherols Added to Preserve Freshness.As a big city dweller who uses public trans (I don't own a car)I rely on Amazon for certain essential groceries. I pick them up at the UPS store on my walk home from the train stop. It's one of the main reasons I'm a \"Prime\" member.I'll need to cancel my \"Subscribe and Save\" for this item. I like to think Amazon wasn't going to send the next delivery without notifying me of the new price.I can get Triscuits anywhere for ~$4.50 a box, sometimes less. The Back To Nature cracker is now $4.59 a box.It's likely the pricing situation is out of their hands but I'm so disappointed!Looks like I'll be checking out the cracker selection at CostCo.\n",
      "==================================================\n",
      "the basket i ended up getting did NOT have the smoked almonds that the product mentioned plus when it came out of packaging most of the stuff was sticking together. Not impressed with product and will not get this again. so getting this from the cyber week deal for 42 dollars is NOT a good deal.\n",
      "==================================================\n",
      "I purchased this color along with the gold and silver and all that i can say is that it doesn't taste like it should edible. I threw all of it out and I was very dispointed that I wasted my money and time with this product.\n",
      "==================================================\n",
      "I received the Banana Nut Bread soft baked bar in my Influenster Summer Beauty VoxBox and I wasn't that big of a fan of it. I personally do not care for bananas to begin with so I knew that the chances of me liking it would be slim. My mom loved it though.\n"
     ]
    }
   ],
   "source": [
    "# https://stackoverflow.com/questions/16206380/python-beautifulsoup-how-to-remove-all-tags-from-an-element\n",
    "from bs4 import BeautifulSoup\n",
    "\n",
    "soup = BeautifulSoup(sent_0, 'lxml')\n",
    "text = soup.get_text()\n",
    "print(text)\n",
    "print(\"=\"*50)\n",
    "\n",
    "soup = BeautifulSoup(sent_1000, 'lxml')\n",
    "text = soup.get_text()\n",
    "print(text)\n",
    "print(\"=\"*50)\n",
    "\n",
    "soup = BeautifulSoup(sent_1500, 'lxml')\n",
    "text = soup.get_text()\n",
    "print(text)\n",
    "print(\"=\"*50)\n",
    "\n",
    "soup = BeautifulSoup(sent_4900, 'lxml')\n",
    "text = soup.get_text()\n",
    "print(text)"
   ]
  },
  {
   "cell_type": "code",
   "execution_count": 18,
   "metadata": {
    "colab": {},
    "colab_type": "code",
    "id": "t5u_qj_Sh2YS"
   },
   "outputs": [],
   "source": [
    "# https://stackoverflow.com/a/47091490/4084039\n",
    "import re\n",
    "\n",
    "def decontracted(phrase):\n",
    "    # specific\n",
    "    phrase = re.sub(r\"won't\", \"will not\", phrase)\n",
    "    phrase = re.sub(r\"can\\'t\", \"can not\", phrase)\n",
    "\n",
    "    # general\n",
    "    phrase = re.sub(r\"n\\'t\", \" not\", phrase)\n",
    "    phrase = re.sub(r\"\\'re\", \" are\", phrase)\n",
    "    phrase = re.sub(r\"\\'s\", \" is\", phrase)\n",
    "    phrase = re.sub(r\"\\'d\", \" would\", phrase)\n",
    "    phrase = re.sub(r\"\\'ll\", \" will\", phrase)\n",
    "    phrase = re.sub(r\"\\'t\", \" not\", phrase)\n",
    "    phrase = re.sub(r\"\\'ve\", \" have\", phrase)\n",
    "    phrase = re.sub(r\"\\'m\", \" am\", phrase)\n",
    "    return phrase"
   ]
  },
  {
   "cell_type": "code",
   "execution_count": 19,
   "metadata": {
    "colab": {},
    "colab_type": "code",
    "id": "kqYdjOn-h2YV",
    "outputId": "e4c4019f-5bea-4745-c35b-9107797bb5d3"
   },
   "outputs": [
    {
     "name": "stdout",
     "output_type": "stream",
     "text": [
      "I purchased this color along with the gold and silver and all that i can say is that it does not taste like it should edible. I threw all of it out and I was very dispointed that I wasted my money and time with this product.\n",
      "==================================================\n"
     ]
    }
   ],
   "source": [
    "sent_1500 = decontracted(sent_1500)\n",
    "print(sent_1500)\n",
    "print(\"=\"*50)"
   ]
  },
  {
   "cell_type": "code",
   "execution_count": 20,
   "metadata": {
    "colab": {},
    "colab_type": "code",
    "id": "9mJOqTdih2Ya",
    "outputId": "3739f0c3-4c01-4c1c-ea13-bfbafaf11de3"
   },
   "outputs": [
    {
     "name": "stdout",
     "output_type": "stream",
     "text": [
      "I love these crackers but not the price change.<br /><br />At  for  boxes;  a box if you sign up for \"Subscribe and Save\" I was ecstatic. I most definitely signed up for \"Subscribe and Save\" delivery.<br /><br />Not yet  months later I learn the identical item now cost  for  boxes.<br /><br />Bait and switch?<br /><br />I think these crackers taste better than their clone parent the Triscuit.  boxes is just right for a two month period- I keep a couple boxes at work. Use them for bringing nibblies to gatherings and more importantly as a stable of my diet because I choose not to eat bread and I love food items with ingredient lists like this: Whole Wheat, Expeller-Pressed Oleic Safflower Oil, Sea Salt, Natural Tocopherols Added to Preserve Freshness.<br /><br />As a big city dweller who uses public trans (I don't own a car)I rely on Amazon for certain essential groceries. I pick them up at the UPS store on my walk home from the train stop. It's one of the main reasons I'm a \"Prime\" member.<br /><br />I'll need to cancel my \"Subscribe and Save\" for this item. I like to think Amazon wasn't going to send the next delivery without notifying me of the new price.<br /><br />I can get Triscuits anywhere for  a box, sometimes less. The Back To Nature cracker is now  a box.<br /><br />It's likely the pricing situation is out of their hands but I'm so disappointed!<br /><br />Looks like I'll be checking out the cracker selection at CostCo.\n"
     ]
    }
   ],
   "source": [
    "#remove words with numbers python: https://stackoverflow.com/a/18082370/4084039\n",
    "sent_0 = re.sub(\"\\S*\\d\\S*\", \"\", sent_0).strip()\n",
    "print(sent_0)"
   ]
  },
  {
   "cell_type": "code",
   "execution_count": 21,
   "metadata": {
    "colab": {},
    "colab_type": "code",
    "id": "jQv7ajy5h2Ye",
    "outputId": "f020fb1c-9fab-40af-9fa7-593b298f72fd"
   },
   "outputs": [
    {
     "name": "stdout",
     "output_type": "stream",
     "text": [
      "I purchased this color along with the gold and silver and all that i can say is that it does not taste like it should edible I threw all of it out and I was very dispointed that I wasted my money and time with this product \n"
     ]
    }
   ],
   "source": [
    "#remove spacial character: https://stackoverflow.com/a/5843547/4084039\n",
    "sent_1500 = re.sub('[^A-Za-z0-9]+', ' ', sent_1500)\n",
    "print(sent_1500)"
   ]
  },
  {
   "cell_type": "code",
   "execution_count": 22,
   "metadata": {
    "colab": {},
    "colab_type": "code",
    "id": "mWWONnZYh2Yj"
   },
   "outputs": [],
   "source": [
    "# https://gist.github.com/sebleier/554280\n",
    "# we are removing the words from the stop words list: 'no', 'nor', 'not'\n",
    "# <br /><br /> ==> after the above steps, we are getting \"br br\"\n",
    "# we are including them into stop words list\n",
    "# instead of <br /> if we have <br/> these tags would have revmoved in the 1st step\n",
    "\n",
    "stopwords= set(['br', 'the', 'i', 'me', 'my', 'myself', 'we', 'our', 'ours', 'ourselves', 'you', \"you're\", \"you've\",\\\n",
    "            \"you'll\", \"you'd\", 'your', 'yours', 'yourself', 'yourselves', 'he', 'him', 'his', 'himself', \\\n",
    "            'she', \"she's\", 'her', 'hers', 'herself', 'it', \"it's\", 'its', 'itself', 'they', 'them', 'their',\\\n",
    "            'theirs', 'themselves', 'what', 'which', 'who', 'whom', 'this', 'that', \"that'll\", 'these', 'those', \\\n",
    "            'am', 'is', 'are', 'was', 'were', 'be', 'been', 'being', 'have', 'has', 'had', 'having', 'do', 'does', \\\n",
    "            'did', 'doing', 'a', 'an', 'the', 'and', 'but', 'if', 'or', 'because', 'as', 'until', 'while', 'of', \\\n",
    "            'at', 'by', 'for', 'with', 'about', 'against', 'between', 'into', 'through', 'during', 'before', 'after',\\\n",
    "            'above', 'below', 'to', 'from', 'up', 'down', 'in', 'out', 'on', 'off', 'over', 'under', 'again', 'further',\\\n",
    "            'then', 'once', 'here', 'there', 'when', 'where', 'why', 'how', 'all', 'any', 'both', 'each', 'few', 'more',\\\n",
    "            'most', 'other', 'some', 'such', 'only', 'own', 'same', 'so', 'than', 'too', 'very', \\\n",
    "            's', 't', 'can', 'will', 'just', 'don', \"don't\", 'should', \"should've\", 'now', 'd', 'll', 'm', 'o', 're', \\\n",
    "            've', 'y', 'ain', 'aren', \"aren't\", 'couldn', \"couldn't\", 'didn', \"didn't\", 'doesn', \"doesn't\", 'hadn',\\\n",
    "            \"hadn't\", 'hasn', \"hasn't\", 'haven', \"haven't\", 'isn', \"isn't\", 'ma', 'mightn', \"mightn't\", 'mustn',\\\n",
    "            \"mustn't\", 'needn', \"needn't\", 'shan', \"shan't\", 'shouldn', \"shouldn't\", 'wasn', \"wasn't\", 'weren', \"weren't\", \\\n",
    "            'won', \"won't\", 'wouldn', \"wouldn't\"])"
   ]
  },
  {
   "cell_type": "code",
   "execution_count": 23,
   "metadata": {
    "colab": {},
    "colab_type": "code",
    "id": "G9ho0omeh2Yo",
    "outputId": "46474dad-407b-448b-8f7f-2e89977397a5"
   },
   "outputs": [
    {
     "name": "stderr",
     "output_type": "stream",
     "text": [
      "100%|██████████████████████████████████| 20000/20000 [00:12<00:00, 1665.13it/s]\n"
     ]
    }
   ],
   "source": [
    "# Combining all the above stundents \n",
    "from tqdm import tqdm\n",
    "preprocessed_reviews = []\n",
    "# tqdm is for printing the status bar\n",
    "for sentance in tqdm(final['Text'].values):\n",
    "    sentance = re.sub(r\"http\\S+\", \"\", sentance)\n",
    "    sentance = BeautifulSoup(sentance, 'lxml').get_text()\n",
    "    sentance = decontracted(sentance)\n",
    "    sentance = re.sub(\"\\S*\\d\\S*\", \"\", sentance).strip()\n",
    "    sentance = re.sub('[^A-Za-z]+', ' ', sentance)\n",
    "    # https://gist.github.com/sebleier/554280\n",
    "    sentance = ' '.join(e.lower() for e in sentance.split() if e.lower() not in stopwords)\n",
    "    preprocessed_reviews.append(sentance.strip())"
   ]
  },
  {
   "cell_type": "code",
   "execution_count": 24,
   "metadata": {
    "colab": {},
    "colab_type": "code",
    "id": "_gOO2dzth2Ys",
    "outputId": "e1093fed-0aef-417a-c502-ebc26832dae5",
    "scrolled": true
   },
   "outputs": [
    {
     "data": {
      "text/plain": [
       "'purchased color along gold silver say not taste like edible threw dispointed wasted money time product'"
      ]
     },
     "execution_count": 24,
     "metadata": {},
     "output_type": "execute_result"
    }
   ],
   "source": [
    "preprocessed_reviews[1500]"
   ]
  },
  {
   "cell_type": "code",
   "execution_count": 25,
   "metadata": {},
   "outputs": [],
   "source": [
    "#adding a column of CleanedText which displays the data after pre-processing of the review \n",
    "final['CleanedText']=preprocessed_reviews"
   ]
  },
  {
   "cell_type": "markdown",
   "metadata": {
    "colab_type": "text",
    "id": "1pUSPCm-h2Yx"
   },
   "source": [
    "<h2><font color='red'>[3.2] Preprocessing Review Summary</font></h2>"
   ]
  },
  {
   "cell_type": "code",
   "execution_count": 26,
   "metadata": {},
   "outputs": [
    {
     "name": "stderr",
     "output_type": "stream",
     "text": [
      "100%|██████████████████████████████████| 20000/20000 [00:07<00:00, 2653.55it/s]\n"
     ]
    }
   ],
   "source": [
    "preprocessed_summary = []\n",
    "# tqdm is for printing the status bar\n",
    "for sentance in tqdm(final['Summary'].values):\n",
    "    sentance = re.sub(r\"http\\S+\", \"\", sentance)\n",
    "    sentance = BeautifulSoup(sentance, 'lxml').get_text()\n",
    "    sentance = decontracted(sentance)\n",
    "    sentance = re.sub(\"\\S*\\d\\S*\", \"\", sentance).strip()\n",
    "    sentance = re.sub('[^A-Za-z]+', ' ', sentance)\n",
    "    # https://gist.github.com/sebleier/554280\n",
    "    sentance = ' '.join(e.lower() for e in sentance.split() if e.lower() not in stopwords)\n",
    "    preprocessed_summary.append(sentance.strip())"
   ]
  },
  {
   "cell_type": "markdown",
   "metadata": {
    "colab_type": "text",
    "id": "DyjATNoVh2Y0"
   },
   "source": [
    "# [4] Featurization"
   ]
  },
  {
   "cell_type": "code",
   "execution_count": 27,
   "metadata": {},
   "outputs": [],
   "source": [
    "#Storing processed reviews and corresponding Scores separately\n",
    "X = np.array(final['CleanedText'])\n",
    "Y = np.array(final['Score']) \n",
    "\n"
   ]
  },
  {
   "cell_type": "code",
   "execution_count": 28,
   "metadata": {},
   "outputs": [],
   "source": [
    "#Train Test Split cross_validation.train_test_split\n",
    "X_train, X_test, Y_train, Y_test = cross_validation.train_test_split (X, Y, test_size=0.3, random_state=0)"
   ]
  },
  {
   "cell_type": "code",
   "execution_count": 29,
   "metadata": {},
   "outputs": [],
   "source": [
    "#split the train data set into cross validation train and cross validation test\n",
    "X_tr, X_cv, Y_tr, Y_cv = cross_validation.train_test_split(X_train, Y_train, test_size=0.3)"
   ]
  },
  {
   "cell_type": "markdown",
   "metadata": {
    "colab_type": "text",
    "id": "aixfPoWgh2Y1"
   },
   "source": [
    "## [4.1] BAG OF WORDS"
   ]
  },
  {
   "cell_type": "code",
   "execution_count": 30,
   "metadata": {
    "colab": {},
    "colab_type": "code",
    "id": "-i529qeZh2Y2",
    "outputId": "09ca923e-1e7d-4660-befc-f217cedddaf8"
   },
   "outputs": [
    {
     "name": "stdout",
     "output_type": "stream",
     "text": [
      "some feature names  ['aa', 'aaa', 'aaaaaaaaaaaaaaaaaaaaaaaaaaaaaaaaaaaaaaaaaaaa', 'aaaaaah', 'aaaaaahhhhhyaaaaaa', 'aafco', 'aahs', 'aback', 'abandon', 'abandoned']\n"
     ]
    }
   ],
   "source": [
    "#BoW \n",
    "count_vect = CountVectorizer() #in scikit-learn\n",
    "final_counts=count_vect.fit(X_train)\n",
    "print(\"some feature names \", count_vect.get_feature_names()[:10])\n",
    "\n",
    "Xtrain_bow = count_vect.transform(X_train)\n",
    "Xtest_bow=count_vect.transform(X_test)\n",
    "\n"
   ]
  },
  {
   "cell_type": "markdown",
   "metadata": {
    "colab_type": "text",
    "id": "9y0-amaLh2Y8"
   },
   "source": [
    "## [4.2] Bi-Grams and n-Grams."
   ]
  },
  {
   "cell_type": "code",
   "execution_count": 31,
   "metadata": {
    "colab": {},
    "colab_type": "code",
    "id": "hUrHZ_t2h2Y_",
    "outputId": "ddc5fc95-b5bc-4007-adf7-5a999ea3bdbd"
   },
   "outputs": [],
   "source": [
    "#bi-gram, tri-gram and n-gram\n",
    "\n",
    "#removing stop words like \"not\" should be avoided before building n-grams\n",
    "# count_vect = CountVectorizer(ngram_range=(1,2))\n",
    "# please do read the CountVectorizer documentation http://scikit-learn.org/stable/modules/generated/sklearn.feature_extraction.text.CountVectorizer.html\n",
    "\n",
    "count_vect = CountVectorizer(ngram_range=(1,2), min_df=10, max_features=5000)\n",
    "final_counts=count_vect.fit(X_train)\n",
    "\n",
    "Xtrain_bbw = final_counts.transform(X_train)\n",
    "Xtest_bbw = final_counts.transform(X_test)"
   ]
  },
  {
   "cell_type": "code",
   "execution_count": 32,
   "metadata": {},
   "outputs": [],
   "source": [
    "count_vect = CountVectorizer(ngram_range=(1,2), min_df=10, max_features=5000)\n",
    "final_counts=count_vect.fit(X_tr)\n",
    "\n",
    "Xtr_bbw = final_counts.transform(X_tr)\n",
    "Xcv_bbw = final_counts.transform(X_cv)\n"
   ]
  },
  {
   "cell_type": "markdown",
   "metadata": {
    "colab_type": "text",
    "id": "uS8dyfPzh2ZC"
   },
   "source": [
    "## [4.3] TF-IDF"
   ]
  },
  {
   "cell_type": "code",
   "execution_count": 33,
   "metadata": {
    "colab": {},
    "colab_type": "code",
    "id": "CnBfj9PNh2ZE",
    "outputId": "63c35b58-e4c5-478d-aefc-1bf1801da412"
   },
   "outputs": [
    {
     "name": "stdout",
     "output_type": "stream",
     "text": [
      "some sample features(unique words in the corpus) ['ability', 'able', 'able buy', 'able eat', 'able enjoy', 'able find', 'able finish', 'able get', 'able make', 'able order']\n"
     ]
    }
   ],
   "source": [
    "tf_idf_vect = TfidfVectorizer(ngram_range=(1,2), min_df=10)\n",
    "final_counts=tf_idf_vect.fit(X_train)\n",
    "print(\"some sample features(unique words in the corpus)\",tf_idf_vect.get_feature_names()[0:10])\n",
    "\n",
    "Xtrain_tf = final_counts.transform(X_train)\n",
    "Xtest_tf=final_counts.transform(X_test)\n"
   ]
  },
  {
   "cell_type": "code",
   "execution_count": 35,
   "metadata": {},
   "outputs": [
    {
     "name": "stdout",
     "output_type": "stream",
     "text": [
      "some sample features(unique words in the corpus) ['able', 'able buy', 'able eat', 'able enjoy', 'able find', 'able get', 'able order', 'able use', 'absolute', 'absolute favorite']\n"
     ]
    }
   ],
   "source": [
    "tf_idf_vect = TfidfVectorizer(ngram_range=(1,2), min_df=10)\n",
    "final_counts=tf_idf_vect.fit(X_tr)\n",
    "print(\"some sample features(unique words in the corpus)\",tf_idf_vect.get_feature_names()[0:10])\n",
    "\n",
    "Xtr_tf = final_counts.transform(X_tr)\n",
    "Xcv_tf=final_counts.transform(X_cv)\n"
   ]
  },
  {
   "cell_type": "markdown",
   "metadata": {
    "colab_type": "text",
    "id": "xXMakZojh2ZH"
   },
   "source": [
    "## [4.4] Word2Vec"
   ]
  },
  {
   "cell_type": "code",
   "execution_count": 36,
   "metadata": {
    "colab": {},
    "colab_type": "code",
    "id": "HjibErrWh2ZI"
   },
   "outputs": [],
   "source": [
    "# Train your own Word2Vec model using your own train dataset\n",
    "i=0\n",
    "list_of_trainsent=[]\n",
    "for sentance in X_train:\n",
    "    list_of_trainsent.append(sentance.split())"
   ]
  },
  {
   "cell_type": "code",
   "execution_count": 37,
   "metadata": {
    "colab": {},
    "colab_type": "code",
    "id": "69qH_FhSh2ZM",
    "outputId": "bf54b329-7538-4603-97bc-4c27b1f2daac",
    "scrolled": true
   },
   "outputs": [
    {
     "name": "stdout",
     "output_type": "stream",
     "text": [
      "[('good', 0.8828383088111877), ('excellent', 0.7947433590888977), ('wonderful', 0.7708837389945984), ('awesome', 0.7347177267074585), ('fantastic', 0.72956782579422), ('love', 0.7155929207801819), ('amazing', 0.7066642642021179), ('delicious', 0.7054556608200073), ('decent', 0.6874799132347107), ('reasonable', 0.6497302651405334)]\n",
      "==================================================\n",
      "[('ever', 0.8950290679931641), ('nastiest', 0.8888583183288574), ('disgusting', 0.8267567753791809), ('tried', 0.8217899799346924), ('liked', 0.8190948367118835), ('enjoyed', 0.816413938999176), ('terrible', 0.7949464321136475), ('best', 0.7940186262130737), ('horrendous', 0.7885679602622986), ('far', 0.7835661172866821)]\n"
     ]
    }
   ],
   "source": [
    "# Using Google News Word2Vectors\n",
    "\n",
    "# in this project we are using a pretrained model by google\n",
    "# its 3.3G file, once you load this into your memory \n",
    "# it occupies ~9Gb, so please do this step only if you have >12G of ram\n",
    "# we will provide a pickle file wich contains a dict , \n",
    "# and it contains all our courpus words as keys and  model[word] as values\n",
    "# To use this code-snippet, download \"GoogleNews-vectors-negative300.bin\" \n",
    "# from https://drive.google.com/file/d/0B7XkCwpI5KDYNlNUTTlSS21pQmM/edit\n",
    "# it's 1.9GB in size.\n",
    "\n",
    "\n",
    "# http://kavita-ganesan.com/gensim-word2vec-tutorial-starter-code/#.W17SRFAzZPY\n",
    "# you can comment this whole cell\n",
    "# or change these varible according to your need\n",
    "\n",
    "is_your_ram_gt_16g=False\n",
    "want_to_use_google_w2v = False\n",
    "want_to_train_w2v = True\n",
    "\n",
    "if want_to_train_w2v:\n",
    "    # min_count = 5 considers only words that occured atleast 5 times\n",
    "    w2v_model=Word2Vec(list_of_trainsent,min_count=5,size=50, workers=4)\n",
    "    print(w2v_model.wv.most_similar('great'))\n",
    "    print('='*50)\n",
    "    print(w2v_model.wv.most_similar('worst'))\n",
    "    \n",
    "elif want_to_use_google_w2v and is_your_ram_gt_16g:\n",
    "    if os.path.isfile('GoogleNews-vectors-negative300.bin'):\n",
    "        w2v_model=KeyedVectors.load_word2vec_format('GoogleNews-vectors-negative300.bin', binary=True)\n",
    "        print(w2v_model.wv.most_similar('great'))\n",
    "        print(w2v_model.wv.most_similar('worst'))\n",
    "    else:\n",
    "        print(\"you don't have gogole's word2vec file, keep want_to_train_w2v = True, to train your own w2v \")"
   ]
  },
  {
   "cell_type": "code",
   "execution_count": 38,
   "metadata": {
    "colab": {},
    "colab_type": "code",
    "id": "iRccaazsh2ZP",
    "outputId": "981a6c83-2bb1-4565-ede8-d9f04c3e5ee4",
    "scrolled": true
   },
   "outputs": [
    {
     "name": "stdout",
     "output_type": "stream",
     "text": [
      "number of words that occured minimum 5 times  7568\n",
      "sample words  ['love', 'cat', 'wanted', 'get', 'lose', 'weight', 'ensure', 'nice', 'long', 'healthy', 'happy', 'life', 'went', 'target', 'saw', 'sale', 'ive', 'fed', 'year', 'trying', 'different', 'portion', 'sizes', 'playing', 'lot', 'seen', 'no', 'difference', 'people', 'say', 'even', 'got', 'research', 'not', 'find', 'dry', 'food', 'horrible', 'feeding', 'one', 'worst', 'brands', 'like', 'sugary', 'cereal', 'nothing', 'except', 'maybe', 'increase', 'screw']\n"
     ]
    }
   ],
   "source": [
    "w2v_words = list(w2v_model.wv.vocab)\n",
    "print(\"number of words that occured minimum 5 times \",len(w2v_words))\n",
    "print(\"sample words \", w2v_words[0:50])"
   ]
  },
  {
   "cell_type": "code",
   "execution_count": 39,
   "metadata": {},
   "outputs": [],
   "source": [
    "# Forming a list of test data sentences\n",
    "i=0\n",
    "list_of_testsent=[]\n",
    "for sentance in X_test:\n",
    "    list_of_testsent.append(sentance.split())"
   ]
  },
  {
   "cell_type": "code",
   "execution_count": 40,
   "metadata": {},
   "outputs": [],
   "source": [
    "# Train your own Word2Vec model using your own tr dataset\n",
    "i=0\n",
    "list_of_trsent=[]\n",
    "for sentance in X_tr:\n",
    "    list_of_trsent.append(sentance.split())"
   ]
  },
  {
   "cell_type": "code",
   "execution_count": 41,
   "metadata": {},
   "outputs": [
    {
     "name": "stdout",
     "output_type": "stream",
     "text": [
      "[('good', 0.8828383088111877), ('excellent', 0.7947433590888977), ('wonderful', 0.7708837389945984), ('awesome', 0.7347177267074585), ('fantastic', 0.72956782579422), ('love', 0.7155929207801819), ('amazing', 0.7066642642021179), ('delicious', 0.7054556608200073), ('decent', 0.6874799132347107), ('reasonable', 0.6497302651405334)]\n",
      "==================================================\n",
      "[('ever', 0.8950290679931641), ('nastiest', 0.8888583183288574), ('disgusting', 0.8267567753791809), ('tried', 0.8217899799346924), ('liked', 0.8190948367118835), ('enjoyed', 0.816413938999176), ('terrible', 0.7949464321136475), ('best', 0.7940186262130737), ('horrendous', 0.7885679602622986), ('far', 0.7835661172866821)]\n"
     ]
    }
   ],
   "source": [
    "# Using Google News Word2Vectors\n",
    "\n",
    "# in this project we are using a pretrained model by google\n",
    "# its 3.3G file, once you load this into your memory \n",
    "# it occupies ~9Gb, so please do this step only if you have >12G of ram\n",
    "# we will provide a pickle file wich contains a dict , \n",
    "# and it contains all our courpus words as keys and  model[word] as values\n",
    "# To use this code-snippet, download \"GoogleNews-vectors-negative300.bin\" \n",
    "# from https://drive.google.com/file/d/0B7XkCwpI5KDYNlNUTTlSS21pQmM/edit\n",
    "# it's 1.9GB in size.\n",
    "\n",
    "\n",
    "# http://kavita-ganesan.com/gensim-word2vec-tutorial-starter-code/#.W17SRFAzZPY\n",
    "# you can comment this whole cell\n",
    "# or change these varible according to your need\n",
    "\n",
    "is_your_ram_gt_16g=False\n",
    "want_to_use_google_w2v = False\n",
    "want_to_train_w2v = True\n",
    "\n",
    "if want_to_train_w2v:\n",
    "    # min_count = 5 considers only words that occured atleast 5 times\n",
    "    w2v_trmodel=Word2Vec(list_of_trsent,min_count=5,size=50, workers=4)\n",
    "    print(w2v_model.wv.most_similar('great'))\n",
    "    print('='*50)\n",
    "    print(w2v_model.wv.most_similar('worst'))\n",
    "    \n",
    "elif want_to_use_google_w2v and is_your_ram_gt_16g:\n",
    "    if os.path.isfile('GoogleNews-vectors-negative300.bin'):\n",
    "        w2v_model=KeyedVectors.load_word2vec_format('GoogleNews-vectors-negative300.bin', binary=True)\n",
    "        print(w2v_model.wv.most_similar('great'))\n",
    "        print(w2v_model.wv.most_similar('worst'))\n",
    "    else:\n",
    "        print(\"you don't have gogole's word2vec file, keep want_to_train_w2v = True, to train your own w2v \")"
   ]
  },
  {
   "cell_type": "code",
   "execution_count": 42,
   "metadata": {},
   "outputs": [
    {
     "name": "stdout",
     "output_type": "stream",
     "text": [
      "number of words that occured minimum 5 times  6272\n",
      "sample words  ['cold', 'flu', 'season', 'come', 'around', 'always', 'rely', 'green', 'tea', 'keep', 'healthy', 'not', 'get', 'sick', 'sometimes', 'still', 'last', 'one', 'family', 'think', 'reasons', 'lot', 'stuff', 'helps', 'build', 'immune', 'system', 'mix', 'big', 'honey', 'goji', 'berries', 'good', 'using', 'fouresent', 'bulbs', 'house', 'long', 'time', 'cost', 'ordered', 'bulb', 'know', 'full', 'put', 'saw', 'light', 'looking', 'since', 'buying']\n"
     ]
    }
   ],
   "source": [
    "w2v_trwords = list(w2v_trmodel.wv.vocab)\n",
    "print(\"number of words that occured minimum 5 times \",len(w2v_trwords))\n",
    "print(\"sample words \", w2v_trwords[0:50])"
   ]
  },
  {
   "cell_type": "code",
   "execution_count": 43,
   "metadata": {},
   "outputs": [],
   "source": [
    "# Forming a list of test data sentences\n",
    "i=0\n",
    "list_of_cvsent=[]\n",
    "for sentance in X_cv:\n",
    "    list_of_cvsent.append(sentance.split())"
   ]
  },
  {
   "cell_type": "markdown",
   "metadata": {
    "colab_type": "text",
    "id": "ayZXHRDhh2ZV"
   },
   "source": [
    "## [4.4.1] Converting text into vectors using Avg W2V, TFIDF-W2V"
   ]
  },
  {
   "cell_type": "markdown",
   "metadata": {
    "colab_type": "text",
    "id": "9lgJjI8Gh2ZX"
   },
   "source": [
    "#### [4.4.1.1] Avg W2v"
   ]
  },
  {
   "cell_type": "code",
   "execution_count": 44,
   "metadata": {
    "colab": {},
    "colab_type": "code",
    "id": "ty1CLD24h2ZX",
    "outputId": "320b0e9d-7238-4e67-c268-ef91567dc160"
   },
   "outputs": [
    {
     "name": "stderr",
     "output_type": "stream",
     "text": [
      "100%|███████████████████████████████████| 14000/14000 [00:30<00:00, 464.57it/s]\n"
     ]
    },
    {
     "name": "stdout",
     "output_type": "stream",
     "text": [
      "14000\n",
      "50\n"
     ]
    }
   ],
   "source": [
    "# average Word2Vec for train data\n",
    "\n",
    "sent_trainvec = []; # the avg-w2v for each sentence/review is stored in this list\n",
    "for sent in tqdm(list_of_trainsent): # for each review/sentence\n",
    "    sent_vec = np.zeros(50) # as word vectors are of zero length 50, you might need to change this to 300 if you use google's w2v\n",
    "    cnt_words =0; # num of words with a valid vector in the sentence/review\n",
    "    for word in sent: # for each word in a review/sentence\n",
    "        if word in w2v_words:\n",
    "            vec = w2v_model.wv[word]\n",
    "            sent_vec += vec\n",
    "            cnt_words += 1\n",
    "    if cnt_words != 0:\n",
    "        sent_vec /= cnt_words\n",
    "    sent_trainvec.append(sent_vec)\n",
    "print(len(sent_trainvec))\n",
    "print(len(sent_trainvec[0]))"
   ]
  },
  {
   "cell_type": "code",
   "execution_count": 45,
   "metadata": {},
   "outputs": [
    {
     "name": "stderr",
     "output_type": "stream",
     "text": [
      "100%|█████████████████████████████████████| 6000/6000 [00:12<00:00, 464.22it/s]\n"
     ]
    },
    {
     "name": "stdout",
     "output_type": "stream",
     "text": [
      "6000\n",
      "50\n"
     ]
    }
   ],
   "source": [
    "# average Word2Vec for test data\n",
    "\n",
    "sent_testvec = []; # the avg-w2v for each sentence/review is stored in this list\n",
    "for sent in tqdm(list_of_testsent): # for each review/sentence\n",
    "    sent_vec = np.zeros(50) # as word vectors are of zero length 50, you might need to change this to 300 if you use google's w2v\n",
    "    cnt_words =0; # num of words with a valid vector in the sentence/review\n",
    "    for word in sent: # for each word in a review/sentence\n",
    "        if word in w2v_words:\n",
    "            vec = w2v_model.wv[word]\n",
    "            sent_vec += vec\n",
    "            cnt_words += 1\n",
    "    if cnt_words != 0:\n",
    "        sent_vec /= cnt_words\n",
    "    sent_testvec.append(sent_vec)\n",
    "print(len(sent_testvec))\n",
    "print(len(sent_testvec[0]))"
   ]
  },
  {
   "cell_type": "code",
   "execution_count": 46,
   "metadata": {},
   "outputs": [
    {
     "name": "stderr",
     "output_type": "stream",
     "text": [
      "100%|█████████████████████████████████████| 9800/9800 [00:18<00:00, 536.57it/s]\n"
     ]
    },
    {
     "name": "stdout",
     "output_type": "stream",
     "text": [
      "9800\n",
      "50\n"
     ]
    }
   ],
   "source": [
    "# average Word2Vec for tr data\n",
    "\n",
    "sent_trvec = []; # the avg-w2v for each sentence/review is stored in this list\n",
    "for sent in tqdm(list_of_trsent): # for each review/sentence\n",
    "    sent_vec = np.zeros(50) # as word vectors are of zero length 50, you might need to change this to 300 if you use google's w2v\n",
    "    cnt_words =0; # num of words with a valid vector in the sentence/review\n",
    "    for word in sent: # for each word in a review/sentence\n",
    "        if word in w2v_trwords:\n",
    "            vec = w2v_trmodel.wv[word]\n",
    "            sent_vec += vec\n",
    "            cnt_words += 1\n",
    "    if cnt_words != 0:\n",
    "        sent_vec /= cnt_words\n",
    "    sent_trvec.append(sent_vec)\n",
    "print(len(sent_trvec))\n",
    "print(len(sent_trvec[0]))"
   ]
  },
  {
   "cell_type": "code",
   "execution_count": 47,
   "metadata": {},
   "outputs": [
    {
     "name": "stderr",
     "output_type": "stream",
     "text": [
      "100%|█████████████████████████████████████| 4200/4200 [00:07<00:00, 527.52it/s]\n"
     ]
    },
    {
     "name": "stdout",
     "output_type": "stream",
     "text": [
      "4200\n",
      "50\n"
     ]
    }
   ],
   "source": [
    "# average Word2Vec for cv data\n",
    "\n",
    "sent_cvec = []; # the avg-w2v for each sentence/review is stored in this list\n",
    "for sent in tqdm(list_of_cvsent): # for each review/sentence\n",
    "    sent_vec = np.zeros(50) # as word vectors are of zero length 50, you might need to change this to 300 if you use google's w2v\n",
    "    cnt_words =0; # num of words with a valid vector in the sentence/review\n",
    "    for word in sent: # for each word in a review/sentence\n",
    "        if word in w2v_trwords:\n",
    "            vec = w2v_trmodel.wv[word]\n",
    "            sent_vec += vec\n",
    "            cnt_words += 1\n",
    "    if cnt_words != 0:\n",
    "        sent_vec /= cnt_words\n",
    "    sent_cvec.append(sent_vec)\n",
    "print(len(sent_cvec))\n",
    "print(len(sent_cvec[0]))"
   ]
  },
  {
   "cell_type": "markdown",
   "metadata": {
    "colab_type": "text",
    "id": "EgQwa9_Ch2Zh"
   },
   "source": [
    "#### [4.4.1.2] TFIDF weighted W2v"
   ]
  },
  {
   "cell_type": "code",
   "execution_count": 48,
   "metadata": {
    "colab": {},
    "colab_type": "code",
    "id": "ZX3iXbGRh2Zj"
   },
   "outputs": [],
   "source": [
    "# S = [\"abc def pqr\", \"def def def abc\", \"pqr pqr def\"]\n",
    "model = TfidfVectorizer()\n",
    "final_counts= model.fit(X_train)\n",
    "Xtrain_tfidf=final_counts.transform(X_train)\n",
    "Xtest_tfidf=final_counts.transform(X_test)\n",
    "\n",
    "# we are converting a dictionary with word as a key, and the idf as a value\n",
    "dictionary = dict(zip(model.get_feature_names(), list(model.idf_)))"
   ]
  },
  {
   "cell_type": "code",
   "execution_count": 49,
   "metadata": {
    "colab": {},
    "colab_type": "code",
    "id": "Lot2nWtsh2Zm",
    "outputId": "183dd1ed-609f-4956-8bbd-ea6503a330e4",
    "scrolled": true
   },
   "outputs": [
    {
     "name": "stderr",
     "output_type": "stream",
     "text": [
      "100%|████████████████████████████████████| 14000/14000 [04:00<00:00, 58.20it/s]\n"
     ]
    }
   ],
   "source": [
    "# TF-IDF weighted Word2Vec for train data\n",
    "tfidf_feat = model.get_feature_names() # tfidf words/col-names\n",
    "# final_tf_idf is the sparse matrix with row= sentence, col=word and cell_val = tfidf\n",
    "\n",
    "tfw2v_train = []; # the tfidf-w2v for each sentence/review is stored in this list\n",
    "row=0;\n",
    "for sent in tqdm(list_of_trainsent): # for each review/sentence \n",
    "    sent_vec = np.zeros(50) # as word vectors are of zero length\n",
    "    weight_sum =0; # num of words with a valid vector in the sentence/review\n",
    "    for word in sent: # for each word in a review/sentence\n",
    "        if word in w2v_words and word in tfidf_feat:\n",
    "            vec = w2v_model.wv[word]\n",
    "#             tf_idf = tf_idf_matrix[row, tfidf_feat.index(word)]\n",
    "            # to reduce the computation we are \n",
    "            # dictionary[word] = idf value of word in whole courpus\n",
    "            # sent.count(word) = tf valeus of word in this review\n",
    "            tf_idf = dictionary[word]*(sent.count(word)/len(sent))\n",
    "            sent_vec += (vec * tf_idf)\n",
    "            weight_sum += tf_idf\n",
    "    if weight_sum != 0:\n",
    "        sent_vec /= weight_sum\n",
    "    tfw2v_train.append(sent_vec)\n",
    "    row += 1"
   ]
  },
  {
   "cell_type": "code",
   "execution_count": 50,
   "metadata": {},
   "outputs": [
    {
     "name": "stderr",
     "output_type": "stream",
     "text": [
      "100%|██████████████████████████████████████| 6000/6000 [01:46<00:00, 56.59it/s]\n"
     ]
    }
   ],
   "source": [
    "# TF-IDF weighted Word2Vec for test data\n",
    "tfidf_feat = model.get_feature_names() # tfidf words/col-names\n",
    "# final_tf_idf is the sparse matrix with row= sentence, col=word and cell_val = tfidf\n",
    "\n",
    "tfw2v_test = []; # the tfidf-w2v for each sentence/review is stored in this list\n",
    "row=0;\n",
    "for sent in tqdm(list_of_testsent): # for each review/sentence \n",
    "    sent_vec = np.zeros(50) # as word vectors are of zero length\n",
    "    weight_sum =0; # num of words with a valid vector in the sentence/review\n",
    "    for word in sent: # for each word in a review/sentence\n",
    "        if word in w2v_words and word in tfidf_feat:\n",
    "            vec = w2v_model.wv[word]\n",
    "#             tf_idf = tf_idf_matrix[row, tfidf_feat.index(word)]\n",
    "            # to reduce the computation we are \n",
    "            # dictionary[word] = idf value of word in whole courpus\n",
    "            # sent.count(word) = tf valeus of word in this review\n",
    "            tf_idf = dictionary[word]*(sent.count(word)/len(sent))\n",
    "            sent_vec += (vec * tf_idf)\n",
    "            weight_sum += tf_idf\n",
    "    if weight_sum != 0:\n",
    "        sent_vec /= weight_sum\n",
    "    tfw2v_test.append(sent_vec)\n",
    "    row += 1"
   ]
  },
  {
   "cell_type": "code",
   "execution_count": 51,
   "metadata": {},
   "outputs": [],
   "source": [
    "# S = [\"abc def pqr\", \"def def def abc\", \"pqr pqr def\"]\n",
    "model = TfidfVectorizer()\n",
    "final_counts= model.fit(X_tr)\n",
    "Xtr_tfidf=final_counts.transform(X_tr)\n",
    "Xcv_tfidf=final_counts.transform(X_cv)\n",
    "\n",
    "# we are converting a dictionary with word as a key, and the idf as a value\n",
    "dictionary = dict(zip(model.get_feature_names(), list(model.idf_)))"
   ]
  },
  {
   "cell_type": "code",
   "execution_count": 52,
   "metadata": {},
   "outputs": [
    {
     "name": "stderr",
     "output_type": "stream",
     "text": [
      "100%|██████████████████████████████████████| 9800/9800 [02:09<00:00, 75.56it/s]\n"
     ]
    }
   ],
   "source": [
    "# TF-IDF weighted Word2Vec for tr data\n",
    "tfidf_feat = model.get_feature_names() # tfidf words/col-names\n",
    "# final_tf_idf is the sparse matrix with row= sentence, col=word and cell_val = tfidf\n",
    "\n",
    "tfw2v_tr = []; # the tfidf-w2v for each sentence/review is stored in this list\n",
    "row=0;\n",
    "for sent in tqdm(list_of_trsent): # for each review/sentence \n",
    "    sent_vec = np.zeros(50) # as word vectors are of zero length\n",
    "    weight_sum =0; # num of words with a valid vector in the sentence/review\n",
    "    for word in sent: # for each word in a review/sentence\n",
    "        if word in w2v_trwords and word in tfidf_feat:\n",
    "            vec = w2v_trmodel.wv[word]\n",
    "#             tf_idf = tf_idf_matrix[row, tfidf_feat.index(word)]\n",
    "            # to reduce the computation we are \n",
    "            # dictionary[word] = idf value of word in whole courpus\n",
    "            # sent.count(word) = tf valeus of word in this review\n",
    "            tf_idf = dictionary[word]*(sent.count(word)/len(sent))\n",
    "            sent_vec += (vec * tf_idf)\n",
    "            weight_sum += tf_idf\n",
    "    if weight_sum != 0:\n",
    "        sent_vec /= weight_sum\n",
    "    tfw2v_tr.append(sent_vec)\n",
    "    row += 1"
   ]
  },
  {
   "cell_type": "code",
   "execution_count": 53,
   "metadata": {},
   "outputs": [
    {
     "name": "stderr",
     "output_type": "stream",
     "text": [
      "100%|██████████████████████████████████████| 4200/4200 [00:56<00:00, 74.06it/s]\n"
     ]
    }
   ],
   "source": [
    "# TF-IDF weighted Word2Vec for cv data\n",
    "tfidf_feat = model.get_feature_names() # tfidf words/col-names\n",
    "# final_tf_idf is the sparse matrix with row= sentence, col=word and cell_val = tfidf\n",
    "\n",
    "tfw2v_cv = []; # the tfidf-w2v for each sentence/review is stored in this list\n",
    "row=0;\n",
    "for sent in tqdm(list_of_cvsent): # for each review/sentence \n",
    "    sent_vec = np.zeros(50) # as word vectors are of zero length\n",
    "    weight_sum =0; # num of words with a valid vector in the sentence/review\n",
    "    for word in sent: # for each word in a review/sentence\n",
    "        if word in w2v_trwords and word in tfidf_feat:\n",
    "            vec = w2v_trmodel.wv[word]\n",
    "#             tf_idf = tf_idf_matrix[row, tfidf_feat.index(word)]\n",
    "            # to reduce the computation we are \n",
    "            # dictionary[word] = idf value of word in whole courpus\n",
    "            # sent.count(word) = tf valeus of word in this review\n",
    "            tf_idf = dictionary[word]*(sent.count(word)/len(sent))\n",
    "            sent_vec += (vec * tf_idf)\n",
    "            weight_sum += tf_idf\n",
    "    if weight_sum != 0:\n",
    "        sent_vec /= weight_sum\n",
    "    tfw2v_cv.append(sent_vec)\n",
    "    row += 1"
   ]
  },
  {
   "cell_type": "markdown",
   "metadata": {
    "colab_type": "text",
    "id": "jvP2Bmdeh2Zt"
   },
   "source": [
    "# [5] Assignment 3: KNN"
   ]
  },
  {
   "cell_type": "markdown",
   "metadata": {
    "colab_type": "text",
    "id": "uJvV79rFh2Zw"
   },
   "source": [
    "<ol>\n",
    "    <li><strong>Apply Knn(brute force version) on these feature sets</strong>\n",
    "        <ul>\n",
    "            <li><font color='red'>SET 1:</font>Review text, preprocessed one converted into vectors using (BOW)</li>\n",
    "            <li><font color='red'>SET 2:</font>Review text, preprocessed one converted into vectors using (TFIDF)</li>\n",
    "            <li><font color='red'>SET 3:</font>Review text, preprocessed one converted into vectors using (AVG W2v)</li>\n",
    "            <li><font color='red'>SET 4:</font>Review text, preprocessed one converted into vectors using (TFIDF W2v)</li>\n",
    "        </ul>\n",
    "    </li>\n",
    "    <br>\n",
    "    <li><strong>Apply Knn(kd tree version) on these feature sets</strong>\n",
    "        <br><font color='red'>NOTE: </font>sklearn implementation of kd-tree accepts only dense matrices, you need to convert the sparse matrices of CountVectorizer/TfidfVectorizer into dense matices. You can convert sparse matrices to dense using .toarray() attribute. For more information please visit this <a href='https://docs.scipy.org/doc/scipy-0.18.1/reference/generated/scipy.sparse.csr_matrix.toarray.html'>link</a>\n",
    "        <ul>\n",
    "            <li><font color='red'>SET 5:</font>Review text, preprocessed one converted into vectors using (BOW) but with restriction on maximum features generated.\n",
    "            <pre>\n",
    "            count_vect = CountVectorizer(min_df=10, max_features=500) \n",
    "            count_vect.fit(preprocessed_reviews)\n",
    "            </pre>\n",
    "            </li>\n",
    "            <li><font color='red'>SET 6:</font>Review text, preprocessed one converted into vectors using (TFIDF) but with restriction on maximum features generated.\n",
    "            <pre>\n",
    "                tf_idf_vect = TfidfVectorizer(min_df=10, max_features=500)\n",
    "                tf_idf_vect.fit(preprocessed_reviews)\n",
    "            </pre>\n",
    "            </li>\n",
    "            <li><font color='red'>SET 3:</font>Review text, preprocessed one converted into vectors using (AVG W2v)</li>\n",
    "            <li><font color='red'>SET 4:</font>Review text, preprocessed one converted into vectors using (TFIDF W2v)</li>\n",
    "        </ul>\n",
    "    </li>\n",
    "    <br>\n",
    "    <li><strong>The hyper paramter tuning(find best K)</strong>\n",
    "        <ul>\n",
    "    <li>Find the best hyper parameter which will give the maximum <a href='https://www.appliedaicourse.com/course/applied-ai-course-online/lessons/receiver-operating-characteristic-curve-roc-curve-and-auc-1/'>AUC</a> value</li>\n",
    "    <li>Find the best hyper paramter using k-fold cross validation or simple cross validation data</li>\n",
    "    <li>Use gridsearch cv or randomsearch cv or you can also write your own for loops to do this task of hyperparameter tuning</li>\n",
    "        </ul>\n",
    "    </li>\n",
    "    <br>\n",
    "    <li>\n",
    "    <strong>Representation of results</strong>\n",
    "        <ul>\n",
    "    <li>You need to plot the performance of model both on train data and cross validation data for each hyper parameter, like shown in the figure\n",
    "    <img src='train_cv_auc.JPG' width=300px></li>\n",
    "    <li>Once after you found the best hyper parameter, you need to train your model with it, and find the AUC on test data and plot the ROC curve on both train and test.\n",
    "    <img src='train_test_auc.JPG' width=300px></li>\n",
    "    <li>Along with plotting ROC curve, you need to print the <a href='https://www.appliedaicourse.com/course/applied-ai-course-online/lessons/confusion-matrix-tpr-fpr-fnr-tnr-1/'>confusion matrix</a> with predicted and original labels of test data points\n",
    "    <img src='confusion_matrix.png' width=300px></li>\n",
    "        </ul>\n",
    "    </li>\n",
    "    <br>\n",
    "    <li><strong>Conclusion</strong>\n",
    "        <ul>\n",
    "    <li>You need to summarize the results at the end of the notebook, summarize it in the table format. To print out a table please refer to this prettytable library<a href='http://zetcode.com/python/prettytable/'> link</a> \n",
    "        <img src='summary.JPG' width=400px>\n",
    "    </li>\n",
    "        </ul>\n",
    "</ol>"
   ]
  },
  {
   "cell_type": "markdown",
   "metadata": {
    "colab_type": "text",
    "id": "VkpGZJdhh2Zy"
   },
   "source": [
    "<h4><font color='red'>Note: Data Leakage</font></h4>\n",
    "\n",
    "1. There will be an issue of data-leakage if you vectorize the entire data and then split it into train/cv/test.\n",
    "2. To avoid the issue of data-leakag, make sure to split your data first and then vectorize it. \n",
    "3. While vectorizing your data, apply the method fit_transform() on you train data, and apply the method transform() on cv/test data.\n",
    "4. For more details please go through this <a href='https://soundcloud.com/applied-ai-course/leakage-bow-and-tfidf'>link.</a>"
   ]
  },
  {
   "cell_type": "markdown",
   "metadata": {
    "colab_type": "text",
    "id": "Vbqvv13Bh2Z0"
   },
   "source": [
    "## [5.1] Applying KNN brute force"
   ]
  },
  {
   "cell_type": "code",
   "execution_count": 54,
   "metadata": {},
   "outputs": [],
   "source": [
    "from sklearn.metrics import roc_auc_score\n",
    "from sklearn.grid_search import GridSearchCV\n",
    "from sklearn.metrics import roc_curve\n",
    "import seaborn as sns\n",
    "from sklearn.metrics import confusion_matrix\n",
    "from sklearn.decomposition import TruncatedSVD\n",
    "\n",
    "myList = list(range(0,50))\n",
    "neighbors = list(filter(lambda x: x % 2 != 0, myList))\n"
   ]
  },
  {
   "cell_type": "markdown",
   "metadata": {
    "colab_type": "text",
    "id": "4Cbharylh2Z1"
   },
   "source": [
    "### [5.1.1] Applying KNN brute force on BOW,<font color='red'> SET 1</font>"
   ]
  },
  {
   "cell_type": "code",
   "execution_count": 55,
   "metadata": {},
   "outputs": [
    {
     "name": "stdout",
     "output_type": "stream",
     "text": [
      "\n",
      "The optimal number of neighbors is 49.\n"
     ]
    }
   ],
   "source": [
    "#HYPERPARAMETER TUNING USING K-FOLD CROSSVALIDATION\n",
    "# empty list that will hold cv scores\n",
    "cv_scores = []\n",
    "auc_train=[]\n",
    "auc_cv=[]\n",
    "\n",
    "# perform 10-fold cross validation\n",
    "for k in neighbors:\n",
    "    knn = KNeighborsClassifier(n_neighbors=k,algorithm='brute')\n",
    "    scores = cross_val_score(knn, Xtrain_bbw, Y_train, cv=10, scoring='roc_auc')\n",
    "    cv_scores.append(scores.mean())\n",
    "\n",
    "\n",
    "# changing to misclassification error\n",
    "MAUC = [ x for x in cv_scores]\n",
    "\n",
    "\n",
    "# determining best k\n",
    "optimal_k = neighbors[MAUC.index(max(MAUC))]\n",
    "print('\\nThe optimal number of neighbors is %d.' % optimal_k)\n",
    "\n"
   ]
  },
  {
   "cell_type": "code",
   "execution_count": 56,
   "metadata": {},
   "outputs": [
    {
     "name": "stdout",
     "output_type": "stream",
     "text": [
      "KNeighborsClassifier(algorithm='brute', leaf_size=30, metric='minkowski',\n",
      "           metric_params=None, n_jobs=1, n_neighbors=49, p=2,\n",
      "           weights='uniform')\n",
      "0.7281906465627396\n"
     ]
    }
   ],
   "source": [
    "#HYPERPARAMETER TUNING USING GRIDSEARCH CV\n",
    "\n",
    "tuned_parameters = [{'n_neighbors':neighbors}]\n",
    "\n",
    "#Using GridSearchCV\n",
    "model = GridSearchCV(KNeighborsClassifier(algorithm='brute'), tuned_parameters, scoring = 'roc_auc', cv=5)\n",
    "model.fit(Xtrain_bbw, Y_train)\n",
    "\n",
    "print(model.best_estimator_)\n",
    "print(model.score(Xtest_bbw, Y_test))"
   ]
  },
  {
   "cell_type": "code",
   "execution_count": 57,
   "metadata": {},
   "outputs": [
    {
     "data": {
      "image/png": "[encoded data removed]",
      "text/plain": [
       "<matplotlib.figure.Figure at 0x89b69685f8>"
      ]
     },
     "metadata": {},
     "output_type": "display_data"
    }
   ],
   "source": [
    "#HYPERPARAMETER V/S AUC SCORE FOR TRAIN AND VALIDATION DATA\n",
    "auc_train=[]\n",
    "auc_val=[]\n",
    "for k in neighbors:\n",
    "    knn = KNeighborsClassifier(n_neighbors=k,algorithm='brute')\n",
    "    knn.fit(Xtr_bbw,Y_tr)\n",
    "    pred_train = knn.predict_proba(Xtr_bbw)[:,1]\n",
    "    auc_train.append(roc_auc_score(Y_tr, pred_train))  \n",
    "    pred_val=knn.predict_proba(Xcv_bbw)[0:,1]\n",
    "    auc_val.append(roc_auc_score(Y_cv,pred_val))\n",
    "\n",
    "\n",
    "# plot misclassification error vs k \n",
    "plt.plot(neighbors,auc_train )\n",
    "plt.plot(neighbors,auc_val)\n",
    "plt.xlabel('Hyperparameter K')\n",
    "plt.ylabel('Area Under Roc Curve')\n",
    "plt.legend(['Train AUC','Validation AUC'])\n",
    "plt.show()\n",
    "\n"
   ]
  },
  {
   "cell_type": "code",
   "execution_count": 58,
   "metadata": {
    "scrolled": true
   },
   "outputs": [
    {
     "name": "stdout",
     "output_type": "stream",
     "text": [
      "AUC: 0.728\n"
     ]
    },
    {
     "data": {
      "image/png": "[encoded data removed]",
      "text/plain": [
       "<matplotlib.figure.Figure at 0x89b56b1128>"
      ]
     },
     "metadata": {},
     "output_type": "display_data"
    }
   ],
   "source": [
    "#https://machinelearningmastery.com/roc-curves-and-precision-recall-curves-for-classification-in-python/\n",
    "#ROC CURVE FOR TRAIN AND TEST DATA\n",
    "\n",
    "knn = KNeighborsClassifier(n_neighbors=49,algorithm='brute')\n",
    "knn.fit(Xtrain_bbw,Y_train)\n",
    "# predict probabilities\n",
    "probs = knn.predict_proba(Xtest_bbw)\n",
    "# keep probabilities for the positive outcome only\n",
    "probs = probs[:, 1]\n",
    "# calculate AUC\n",
    "auc = roc_auc_score(Y_test, probs)\n",
    "print('AUC: %.3f' % auc)\n",
    "\n",
    "# calculate roc curve for train data\n",
    "prob=knn.predict_proba(Xtrain_bbw)\n",
    "probt=prob[:,1]\n",
    "tfpr, ttpr, thresholds = roc_curve(Y_train, probt)\n",
    "\n",
    "\n",
    "\n",
    "#calculate roc curve for test data\n",
    "fpr,tpr,threshols=roc_curve(Y_test,probs)\n",
    "\n",
    "\n",
    "\n",
    "\n",
    "# plot the roc curve for the model\n",
    "plt.plot(tfpr, ttpr, marker='.')\n",
    "plt.plot(fpr,tpr,marker='.')\n",
    "\n",
    "# plot no skill\n",
    "plt.plot([0, 1], [0, 1], linestyle='--')\n",
    "\n",
    "plt.xlabel('False Positive Rate')\n",
    "plt.ylabel('True Positive Rate')\n",
    "plt.title('ROC CURVE')\n",
    "plt.legend([\"Train data\",\"Test data\"])\n",
    "# show the plot\n",
    "plt.show()\n",
    "\n"
   ]
  },
  {
   "cell_type": "code",
   "execution_count": 59,
   "metadata": {},
   "outputs": [
    {
     "data": {
      "image/png": "[encoded data removed]",
      "text/plain": [
       "<matplotlib.figure.Figure at 0x89b56b1cf8>"
      ]
     },
     "metadata": {},
     "output_type": "display_data"
    }
   ],
   "source": [
    "#CONFUSION MATRIX\n",
    "#https://gist.github.com/shaypal5/94c53d765083101efc0240d776a23823\n",
    "knn = KNeighborsClassifier(n_neighbors=49,algorithm='brute')\n",
    "knn.fit(Xtrain_bbw,Y_train)\n",
    "\n",
    "pred = knn.predict(Xtest_bbw)\n",
    "con_mat=confusion_matrix(Y_test,pred)\n",
    "cmt=pd.DataFrame(con_mat,index=['negative','positive'],columns=['negative','positive'])\n",
    "\n",
    "#plotting confusion matrix\n",
    "sns.heatmap(cmt,annot=True, fmt=\"d\")\n",
    "plt.title(\"CONFUSION MATRIX\")\n",
    "plt.xlabel(\"Predicted Score\")\n",
    "plt.ylabel(\"Actual Score\")\n",
    "plt.show()"
   ]
  },
  {
   "cell_type": "markdown",
   "metadata": {
    "colab_type": "text",
    "id": "-BVkJ74ph2Z4"
   },
   "source": [
    "### [5.1.2] Applying KNN brute force on TFIDF,<font color='red'> SET 2</font>"
   ]
  },
  {
   "cell_type": "code",
   "execution_count": 60,
   "metadata": {},
   "outputs": [
    {
     "name": "stdout",
     "output_type": "stream",
     "text": [
      "\n",
      "The optimal number of neighbors is 49.\n"
     ]
    }
   ],
   "source": [
    "#HYPERPARAMETER TUNING USING K-FOLD CROSS VALIDATION\n",
    "\n",
    "# empty list that will hold cv scores\n",
    "cv_scores = []\n",
    "\n",
    "\n",
    "# perform 10-fold cross validation\n",
    "for k in neighbors:\n",
    "    knn = KNeighborsClassifier(n_neighbors=k,algorithm='brute')\n",
    "    scores = cross_val_score(knn, Xtrain_tf, Y_train, cv=10, scoring='roc_auc')\n",
    "    cv_scores.append(scores.mean())\n",
    "\n",
    "\n",
    "# changing to misclassification error\n",
    "MAUC = [ x for x in cv_scores]\n",
    "\n",
    "\n",
    "# determining best k\n",
    "optimal_k = neighbors[MAUC.index(max(MAUC))]\n",
    "print('\\nThe optimal number of neighbors is %d.' % optimal_k)"
   ]
  },
  {
   "cell_type": "code",
   "execution_count": 61,
   "metadata": {},
   "outputs": [
    {
     "name": "stdout",
     "output_type": "stream",
     "text": [
      "KNeighborsClassifier(algorithm='brute', leaf_size=30, metric='minkowski',\n",
      "           metric_params=None, n_jobs=1, n_neighbors=49, p=2,\n",
      "           weights='uniform')\n",
      "0.8150804453382815\n"
     ]
    }
   ],
   "source": [
    "#HYPERPARAMETER TUNING USING GRIDSEARCH CV\n",
    "\n",
    "tuned_parameters = [{'n_neighbors':neighbors}]\n",
    "\n",
    "\n",
    "#Using GridSearchCV\n",
    "model = GridSearchCV(KNeighborsClassifier(algorithm='brute'), tuned_parameters, scoring = 'roc_auc', cv=5)\n",
    "model.fit(Xtrain_tf, Y_train)\n",
    "\n",
    "print(model.best_estimator_)\n",
    "print(model.score(Xtest_tf, Y_test))"
   ]
  },
  {
   "cell_type": "code",
   "execution_count": 62,
   "metadata": {},
   "outputs": [
    {
     "data": {
      "image/png": "[encoded data removed]",
      "text/plain": [
       "<matplotlib.figure.Figure at 0x89b56b12e8>"
      ]
     },
     "metadata": {},
     "output_type": "display_data"
    }
   ],
   "source": [
    "#HYPERPARAMETER V/S AUC PLOT FOR TRAIN AND VALIDATION DATA\n",
    "\n",
    "auc_train=[]\n",
    "auc_val=[]\n",
    "for k in neighbors:\n",
    "    knn = KNeighborsClassifier(n_neighbors=k,algorithm='brute')\n",
    "    knn.fit(Xtr_tf,Y_tr)\n",
    "    pred_train = knn.predict_proba(Xtr_tf)[:,1]\n",
    "    auc_train.append(roc_auc_score(Y_tr, pred_train))\n",
    "    pred_val=knn.predict_proba(Xcv_tf)[0:,1]\n",
    "    auc_val.append(roc_auc_score(Y_cv,pred_val))\n",
    "\n",
    "\n",
    "# plot misclassification error vs k \n",
    "plt.plot(neighbors,auc_train )\n",
    "plt.plot(neighbors,auc_val)\n",
    "plt.xlabel('Hyperparameter K')\n",
    "plt.ylabel('Area Under Roc Curve')\n",
    "plt.legend(['Train AUC','Validation AUC'])\n",
    "plt.show()\n",
    "\n"
   ]
  },
  {
   "cell_type": "code",
   "execution_count": 63,
   "metadata": {},
   "outputs": [
    {
     "name": "stdout",
     "output_type": "stream",
     "text": [
      "AUC: 0.815\n"
     ]
    },
    {
     "data": {
      "image/png": "[encoded data removed]",
      "text/plain": [
       "<matplotlib.figure.Figure at 0x89b6b14208>"
      ]
     },
     "metadata": {},
     "output_type": "display_data"
    }
   ],
   "source": [
    "#https://machinelearningmastery.com/roc-curves-and-precision-recall-curves-for-classification-in-python/\n",
    "\n",
    "#ROC CURVE FOR TRAIN AND TEST DATA\n",
    "\n",
    "\n",
    "knn = KNeighborsClassifier(n_neighbors=49,algorithm='brute')\n",
    "knn.fit(Xtrain_tf,Y_train)\n",
    "# predict probabilities\n",
    "probs = knn.predict_proba(Xtest_tf)\n",
    "# keep probabilities for the positive outcome only\n",
    "probs = probs[:, 1]\n",
    "# calculate AUC\n",
    "auc = roc_auc_score(Y_test, probs)\n",
    "print('AUC: %.3f' % auc)\n",
    "\n",
    "# calculate roc curve for train data\n",
    "prob=knn.predict_proba(Xtrain_tf)\n",
    "probt=prob[:,1]\n",
    "tfpr, ttpr, thresholds = roc_curve(Y_train, probt)\n",
    "\n",
    "\n",
    "\n",
    "#calculate roc curve for test data\n",
    "fpr,tpr,threshols=roc_curve(Y_test,probs)\n",
    "\n",
    "\n",
    "\n",
    "\n",
    "# plot the roc curve for the model\n",
    "plt.plot(tfpr, ttpr, marker='.')\n",
    "plt.plot(fpr,tpr,marker='.')\n",
    "\n",
    "# plot no skill\n",
    "plt.plot([0, 1], [0, 1], linestyle='--')\n",
    "\n",
    "plt.xlabel('False Positive Rate')\n",
    "plt.ylabel('True Positive Rate')\n",
    "plt.title('ROC CURVE')\n",
    "plt.legend([\"Train data\",\"Test data\"])\n",
    "# show the plot\n",
    "plt.show()\n",
    "\n"
   ]
  },
  {
   "cell_type": "code",
   "execution_count": 64,
   "metadata": {},
   "outputs": [
    {
     "data": {
      "image/png": "[encoded data removed]",
      "text/plain": [
       "<matplotlib.figure.Figure at 0x89b6e27da0>"
      ]
     },
     "metadata": {},
     "output_type": "display_data"
    }
   ],
   "source": [
    "#CONFUSION MATRIX\n",
    "#https://gist.github.com/shaypal5/94c53d765083101efc0240d776a23823\n",
    "knn = KNeighborsClassifier(n_neighbors=49,algorithm='brute')\n",
    "knn.fit(Xtrain_tf,Y_train)\n",
    "\n",
    "pred = knn.predict(Xtest_tf)\n",
    "con_mat=confusion_matrix(Y_test,pred)\n",
    "cmt=pd.DataFrame(con_mat,index=['negative','positive'],columns=['negative','positive'])\n",
    "\n",
    "#plotting confusion matrix\n",
    "sns.heatmap(cmt,annot=True, fmt=\"d\")\n",
    "plt.title(\"CONFUSION MATRIX\")\n",
    "plt.xlabel(\"Predicted Score\")\n",
    "plt.ylabel(\"Actual Score\")\n",
    "plt.show()"
   ]
  },
  {
   "cell_type": "markdown",
   "metadata": {
    "colab_type": "text",
    "id": "48ZiIGq8h2Z8"
   },
   "source": [
    "### [5.1.3] Applying KNN brute force on AVG W2V,<font color='red'> SET 3</font>"
   ]
  },
  {
   "cell_type": "code",
   "execution_count": 65,
   "metadata": {},
   "outputs": [
    {
     "name": "stdout",
     "output_type": "stream",
     "text": [
      "\n",
      "The optimal number of neighbors is 47.\n"
     ]
    }
   ],
   "source": [
    "#HYPERTUNING USING K-FOLD CROSS VALIDATION\n",
    "\n",
    "# empty list that will hold cv scores\n",
    "cv_scores = []\n",
    "\n",
    "# perform 10-fold cross validation\n",
    "for k in neighbors:\n",
    "    knn = KNeighborsClassifier(n_neighbors=k,algorithm='brute')\n",
    "    scores = cross_val_score(knn, sent_trainvec, Y_train, cv=10, scoring='roc_auc')\n",
    "    cv_scores.append(scores.mean())\n",
    "\n",
    "\n",
    "# changing to misclassification error\n",
    "MAUC = [ x for x in cv_scores]\n",
    "\n",
    "\n",
    "# determining best k\n",
    "optimal_k = neighbors[MAUC.index(max(MAUC))]\n",
    "print('\\nThe optimal number of neighbors is %d.' % optimal_k)\n",
    "\n"
   ]
  },
  {
   "cell_type": "code",
   "execution_count": 66,
   "metadata": {
    "scrolled": true
   },
   "outputs": [
    {
     "name": "stdout",
     "output_type": "stream",
     "text": [
      "KNeighborsClassifier(algorithm='brute', leaf_size=30, metric='minkowski',\n",
      "           metric_params=None, n_jobs=1, n_neighbors=49, p=2,\n",
      "           weights='uniform')\n",
      "0.8479628106978967\n"
     ]
    }
   ],
   "source": [
    "#HYPERPARAMETER TUNING USING GRIDSEARCH CV\n",
    "\n",
    "tuned_parameters = [{'n_neighbors':neighbors}]\n",
    "\n",
    "\n",
    "#Using GridSearchCV\n",
    "model = GridSearchCV(KNeighborsClassifier(algorithm='brute'), tuned_parameters, scoring = 'roc_auc', cv=5)\n",
    "model.fit(sent_trainvec, Y_train)\n",
    "\n",
    "print(model.best_estimator_)\n",
    "print(model.score(sent_testvec, Y_test))"
   ]
  },
  {
   "cell_type": "code",
   "execution_count": 67,
   "metadata": {},
   "outputs": [
    {
     "data": {
      "image/png": "[encoded data removed]",
      "text/plain": [
       "<matplotlib.figure.Figure at 0x89b6e273c8>"
      ]
     },
     "metadata": {},
     "output_type": "display_data"
    }
   ],
   "source": [
    "#HYPERPARAMETER V/S AUC FOR TRAIN AND VALIDATION DATA\n",
    "\n",
    "auc_train=[]\n",
    "auc_val=[]\n",
    "for k in neighbors:\n",
    "    knn = KNeighborsClassifier(n_neighbors=k,algorithm='brute')\n",
    "    knn.fit(sent_trvec,Y_tr)\n",
    "    pred_train = knn.predict_proba(sent_trvec)[:,1]\n",
    "    auc_train.append(roc_auc_score(Y_tr, pred_train))   \n",
    "    pred_val=knn.predict_proba(sent_cvec)[0:,1]\n",
    "    auc_val.append(roc_auc_score(Y_cv,pred_val))\n",
    "\n",
    "\n",
    "# plot misclassification error vs k \n",
    "plt.plot(neighbors,auc_train )\n",
    "plt.plot(neighbors,auc_val)\n",
    "plt.xlabel('Hyperparameter K')\n",
    "plt.ylabel('Area Under Roc Curve')\n",
    "plt.legend(['Train AUC','Validation AUC'])\n",
    "plt.show()\n",
    "\n"
   ]
  },
  {
   "cell_type": "code",
   "execution_count": 68,
   "metadata": {},
   "outputs": [
    {
     "name": "stdout",
     "output_type": "stream",
     "text": [
      "AUC: 0.848\n"
     ]
    },
    {
     "data": {
      "image/png": "[encoded data removed]",
      "text/plain": [
       "<matplotlib.figure.Figure at 0x89b6e9ebe0>"
      ]
     },
     "metadata": {},
     "output_type": "display_data"
    }
   ],
   "source": [
    "#https://machinelearningmastery.com/roc-curves-and-precision-recall-curves-for-classification-in-python/\n",
    "#ROC CURVE FOR TRAIN AND TEST DATA\n",
    "\n",
    "knn = KNeighborsClassifier(n_neighbors=49,algorithm='brute')\n",
    "knn.fit(sent_trainvec,Y_train)\n",
    "# predict probabilities\n",
    "probs = knn.predict_proba(sent_testvec)\n",
    "# keep probabilities for the positive outcome only\n",
    "probs = probs[:, 1]\n",
    "# calculate AUC\n",
    "auc = roc_auc_score(Y_test, probs)\n",
    "print('AUC: %.3f' % auc)\n",
    "\n",
    "# calculate roc curve for train data\n",
    "prob=knn.predict_proba(sent_trainvec)\n",
    "probt=prob[:,1]\n",
    "tfpr, ttpr, thresholds = roc_curve(Y_train, probt)\n",
    "\n",
    "\n",
    "\n",
    "#calculate roc curve for test data\n",
    "fpr,tpr,threshols=roc_curve(Y_test,probs)\n",
    "\n",
    "\n",
    "\n",
    "\n",
    "# plot the roc curve for the model\n",
    "plt.plot(tfpr, ttpr, marker='.')\n",
    "plt.plot(fpr,tpr,marker='.')\n",
    "\n",
    "# plot no skill\n",
    "plt.plot([0, 1], [0, 1], linestyle='--')\n",
    "\n",
    "plt.xlabel('False Positive Rate')\n",
    "plt.ylabel('True Positive Rate')\n",
    "plt.title('ROC CURVE')\n",
    "plt.legend([\"Train data\",\"Test data\"])\n",
    "# show the plot\n",
    "plt.show()\n",
    "\n"
   ]
  },
  {
   "cell_type": "code",
   "execution_count": 69,
   "metadata": {},
   "outputs": [
    {
     "data": {
      "image/png": "[encoded data removed]",
      "text/plain": [
       "<matplotlib.figure.Figure at 0x89b6ed1240>"
      ]
     },
     "metadata": {},
     "output_type": "display_data"
    }
   ],
   "source": [
    "#CONFUSION MATRIX\n",
    "#https://gist.github.com/shaypal5/94c53d765083101efc0240d776a23823\n",
    "knn = KNeighborsClassifier(n_neighbors=49,algorithm='brute')\n",
    "knn.fit(sent_trainvec,Y_train)\n",
    "\n",
    "pred = knn.predict(sent_testvec)\n",
    "con_mat=confusion_matrix(Y_test,pred)\n",
    "cmt=pd.DataFrame(con_mat,index=['negative','positive'],columns=['negative','positive'])\n",
    "\n",
    "#plotting confusion matrix\n",
    "sns.heatmap(cmt,annot=True, fmt=\"d\")\n",
    "plt.title(\"CONFUSION MATRIX\")\n",
    "plt.xlabel(\"Predicted Score\")\n",
    "plt.ylabel(\"Actual Score\")\n",
    "plt.show()"
   ]
  },
  {
   "cell_type": "markdown",
   "metadata": {
    "colab_type": "text",
    "id": "zX4WSuqdh2aB"
   },
   "source": [
    "### [5.1.4] Applying KNN brute force on TFIDF W2V,<font color='red'> SET 4</font>"
   ]
  },
  {
   "cell_type": "code",
   "execution_count": 70,
   "metadata": {},
   "outputs": [
    {
     "name": "stdout",
     "output_type": "stream",
     "text": [
      "\n",
      "The optimal number of neighbors is 49.\n"
     ]
    }
   ],
   "source": [
    "#HYPERPARAMETER TUNING USING K-FOLD CROSS VALIDATION\n",
    "\n",
    "# empty list that will hold cv scores\n",
    "cv_scores = []\n",
    "auc_train=[]\n",
    "auc_cv=[]\n",
    "\n",
    "# perform 10-fold cross validation\n",
    "for k in neighbors:\n",
    "    knn = KNeighborsClassifier(n_neighbors=k,algorithm='brute')\n",
    "    scores = cross_val_score(knn, tfw2v_train, Y_train, cv=10, scoring='roc_auc')\n",
    "    cv_scores.append(scores.mean())\n",
    "\n",
    "\n",
    "# changing to misclassification error\n",
    "MAUC = [ x for x in cv_scores]\n",
    "\n",
    "\n",
    "# determining best k\n",
    "optimal_k = neighbors[MAUC.index(max(MAUC))]\n",
    "print('\\nThe optimal number of neighbors is %d.' % optimal_k)\n",
    "\n"
   ]
  },
  {
   "cell_type": "code",
   "execution_count": 71,
   "metadata": {},
   "outputs": [
    {
     "name": "stdout",
     "output_type": "stream",
     "text": [
      "KNeighborsClassifier(algorithm='brute', leaf_size=30, metric='minkowski',\n",
      "           metric_params=None, n_jobs=1, n_neighbors=49, p=2,\n",
      "           weights='uniform')\n",
      "0.8142344914943499\n"
     ]
    }
   ],
   "source": [
    "#HYPERPARAMETER TUNING USING GRIDSEARCH CV\n",
    "\n",
    "tuned_parameters = [{'n_neighbors':neighbors}]\n",
    "\n",
    "\n",
    "#Using GridSearchCV\n",
    "model = GridSearchCV(KNeighborsClassifier(algorithm='brute'), tuned_parameters, scoring = 'roc_auc', cv=5)\n",
    "model.fit(tfw2v_train, Y_train)\n",
    "\n",
    "print(model.best_estimator_)\n",
    "print(model.score(tfw2v_test, Y_test))"
   ]
  },
  {
   "cell_type": "code",
   "execution_count": 72,
   "metadata": {},
   "outputs": [
    {
     "data": {
      "image/png": "[encoded data removed]",
      "text/plain": [
       "<matplotlib.figure.Figure at 0x89b7607748>"
      ]
     },
     "metadata": {},
     "output_type": "display_data"
    }
   ],
   "source": [
    "#HYPERPARAMETER V/S AUC FOR TRAIN AND VALIDATION DATA\n",
    "\n",
    "auc_train=[]\n",
    "auc_val=[]\n",
    "for k in neighbors:\n",
    "    knn = KNeighborsClassifier(n_neighbors=k,algorithm='brute')\n",
    "    knn.fit(tfw2v_tr,Y_tr)\n",
    "    pred_train = knn.predict_proba(tfw2v_tr)[:,1]\n",
    "    auc_train.append(roc_auc_score(Y_tr, pred_train))\n",
    "    pred_val=knn.predict_proba(tfw2v_cv)[0:,1]\n",
    "    auc_val.append(roc_auc_score(Y_cv,pred_val))\n",
    "\n",
    "\n",
    "# plot misclassification error vs k \n",
    "plt.plot(neighbors,auc_train )\n",
    "plt.plot(neighbors,auc_val)\n",
    "plt.xlabel('Hyperparameter K')\n",
    "plt.ylabel('Area Under Roc Curve')\n",
    "plt.legend(['Train AUC','Validation AUC'])\n",
    "plt.show()\n",
    "\n"
   ]
  },
  {
   "cell_type": "code",
   "execution_count": 73,
   "metadata": {
    "scrolled": true
   },
   "outputs": [
    {
     "name": "stdout",
     "output_type": "stream",
     "text": [
      "AUC: 0.814\n"
     ]
    },
    {
     "data": {
      "image/png": "[encoded data removed]",
      "text/plain": [
       "<matplotlib.figure.Figure at 0x89b6f0e7b8>"
      ]
     },
     "metadata": {},
     "output_type": "display_data"
    }
   ],
   "source": [
    "#https://machinelearningmastery.com/roc-curves-and-precision-recall-curves-for-classification-in-python/\n",
    "#ROC CURVE FOR TRAIN AND TEST DATA\n",
    "\n",
    "knn = KNeighborsClassifier(n_neighbors=49,algorithm='brute')\n",
    "knn.fit(tfw2v_train,Y_train)\n",
    "# predict probabilities\n",
    "probs = knn.predict_proba(tfw2v_test)\n",
    "# keep probabilities for the positive outcome only\n",
    "probs = probs[:, 1]\n",
    "# calculate AUC\n",
    "auc = roc_auc_score(Y_test, probs)\n",
    "print('AUC: %.3f' % auc)\n",
    "\n",
    "# calculate roc curve for train data\n",
    "prob=knn.predict_proba(tfw2v_train)\n",
    "probt=prob[:,1]\n",
    "tfpr, ttpr, thresholds = roc_curve(Y_train, probt)\n",
    "\n",
    "\n",
    "\n",
    "#calculate roc curve for test data\n",
    "fpr,tpr,threshols=roc_curve(Y_test,probs)\n",
    "\n",
    "\n",
    "\n",
    "\n",
    "# plot the roc curve for the model\n",
    "plt.plot(tfpr, ttpr, marker='.')\n",
    "plt.plot(fpr,tpr,marker='.')\n",
    "\n",
    "# plot no skill\n",
    "plt.plot([0, 1], [0, 1], linestyle='--')\n",
    "\n",
    "plt.xlabel('False Positive Rate')\n",
    "plt.ylabel('True Positive Rate')\n",
    "plt.title('ROC CURVE')\n",
    "plt.legend([\"Train data\",\"Test data\"])\n",
    "# show the plot\n",
    "plt.show()\n",
    "\n"
   ]
  },
  {
   "cell_type": "code",
   "execution_count": 74,
   "metadata": {},
   "outputs": [
    {
     "data": {
      "image/png": "[encoded data removed]",
      "text/plain": [
       "<matplotlib.figure.Figure at 0x89b6f0e198>"
      ]
     },
     "metadata": {},
     "output_type": "display_data"
    }
   ],
   "source": [
    "#CONFUSION MATRIX\n",
    "#https://gist.github.com/shaypal5/94c53d765083101efc0240d776a23823\n",
    "knn = KNeighborsClassifier(n_neighbors=49,algorithm='brute')\n",
    "knn.fit(tfw2v_train,Y_train)\n",
    "\n",
    "pred = knn.predict(tfw2v_test)\n",
    "con_mat=confusion_matrix(Y_test,pred)\n",
    "cmt=pd.DataFrame(con_mat,index=['negative','positive'],columns=['negative','positive'])\n",
    "\n",
    "#plotting confusion matrix\n",
    "sns.heatmap(cmt,annot=True, fmt=\"d\")\n",
    "plt.title(\"CONFUSION MATRIX\")\n",
    "plt.xlabel(\"Predicted Score\")\n",
    "plt.ylabel(\"Actual Score\")\n",
    "plt.show()"
   ]
  },
  {
   "cell_type": "markdown",
   "metadata": {
    "colab_type": "text",
    "id": "ax0ck9lLh2aI"
   },
   "source": [
    "## [5.2] Applying KNN kd-tree"
   ]
  },
  {
   "cell_type": "markdown",
   "metadata": {
    "colab_type": "text",
    "id": "dOMYnoexh2aL"
   },
   "source": [
    "### [5.2.1] Applying KNN kd-tree on BOW,<font color='red'> SET 5</font>"
   ]
  },
  {
   "cell_type": "code",
   "execution_count": 75,
   "metadata": {},
   "outputs": [],
   "source": [
    "#Using TruncatedSVD for converting sparse to dense\n",
    "train_bow = TruncatedSVD(n_components=50, random_state=0).fit_transform(Xtrain_bbw)\n",
    "test_bow=TruncatedSVD(n_components=50,random_state=0).fit_transform(Xtest_bbw)\n",
    "tr_bow= TruncatedSVD(n_components=50, random_state=0).fit_transform(Xtr_bbw)\n",
    "cv_bow=TruncatedSVD(n_components=50, random_state=0).fit_transform(Xcv_bbw)"
   ]
  },
  {
   "cell_type": "code",
   "execution_count": 76,
   "metadata": {},
   "outputs": [
    {
     "name": "stdout",
     "output_type": "stream",
     "text": [
      "\n",
      "The optimal number of neighbors is 49.\n"
     ]
    }
   ],
   "source": [
    "#HYPERPARAMETER TUNING USING K-FOLD CROSS VALIDATION\n",
    "# empty list that will hold cv scores\n",
    "cv_scores = []\n",
    "\n",
    "\n",
    "# perform 10-fold cross validation\n",
    "for k in neighbors:\n",
    "    knn = KNeighborsClassifier(n_neighbors=k,algorithm='kd_tree')\n",
    "    scores = cross_val_score(knn, train_bow, Y_train, cv=10, scoring='roc_auc')\n",
    "    cv_scores.append(scores.mean())\n",
    "\n",
    "\n",
    "# changing to misclassification error\n",
    "MAUC = [ x for x in cv_scores]\n",
    "\n",
    "\n",
    "# determining best k\n",
    "optimal_k = neighbors[MAUC.index(max(MAUC))]\n",
    "print('\\nThe optimal number of neighbors is %d.' % optimal_k)"
   ]
  },
  {
   "cell_type": "code",
   "execution_count": 77,
   "metadata": {},
   "outputs": [
    {
     "name": "stdout",
     "output_type": "stream",
     "text": [
      "KNeighborsClassifier(algorithm='kd_tree', leaf_size=30, metric='minkowski',\n",
      "           metric_params=None, n_jobs=1, n_neighbors=49, p=2,\n",
      "           weights='uniform')\n",
      "0.6278798653318369\n"
     ]
    }
   ],
   "source": [
    "#HYPERPARAMETER USING GRIDSEARCH CV\n",
    "tuned_parameters = [{'n_neighbors':neighbors}]\n",
    "\n",
    "\n",
    "#Using GridSearchCV\n",
    "model = GridSearchCV(KNeighborsClassifier(algorithm='kd_tree'), tuned_parameters, scoring = 'roc_auc', cv=5)\n",
    "model.fit(train_bow, Y_train)\n",
    "\n",
    "print(model.best_estimator_)\n",
    "print(model.score(test_bow, Y_test))"
   ]
  },
  {
   "cell_type": "code",
   "execution_count": 78,
   "metadata": {},
   "outputs": [
    {
     "data": {
      "image/png": "[encoded data removed]",
      "text/plain": [
       "<matplotlib.figure.Figure at 0x89b7838160>"
      ]
     },
     "metadata": {},
     "output_type": "display_data"
    }
   ],
   "source": [
    "#HYPERPARAMETER V/S AUC FOR TRAIN AND VALIDATION DATA\n",
    "auc_train=[]\n",
    "auc_val=[]\n",
    "for k in neighbors:\n",
    "    knn = KNeighborsClassifier(n_neighbors=k,algorithm='kd_tree')\n",
    "    knn.fit(tr_bow,Y_tr)\n",
    "    pred_train = knn.predict_proba(tr_bow)[:,1]\n",
    "    auc_train.append(roc_auc_score(Y_tr, pred_train)) \n",
    "    pred_val=knn.predict_proba(cv_bow)[0:,1]\n",
    "    auc_val.append(roc_auc_score(Y_cv,pred_val))\n",
    "\n",
    "\n",
    "# plot misclassification error vs k \n",
    "plt.plot(neighbors,auc_train )\n",
    "plt.plot(neighbors,auc_val)\n",
    "plt.xlabel('Hyperparameter K')\n",
    "plt.ylabel('Area Under Roc Curve')\n",
    "plt.legend(['Train AUC','Validation AUC'])\n",
    "plt.show()\n",
    "\n"
   ]
  },
  {
   "cell_type": "code",
   "execution_count": 79,
   "metadata": {},
   "outputs": [
    {
     "name": "stdout",
     "output_type": "stream",
     "text": [
      "AUC: 0.628\n"
     ]
    },
    {
     "data": {
      "image/png": "[encoded data removed]",
      "text/plain": [
       "<matplotlib.figure.Figure at 0x89b78a3518>"
      ]
     },
     "metadata": {},
     "output_type": "display_data"
    }
   ],
   "source": [
    "#https://machinelearningmastery.com/roc-curves-and-precision-recall-curves-for-classification-in-python/\n",
    "#ROC CURVE FOR TRAIN AND TEST DATA\n",
    "knn = KNeighborsClassifier(n_neighbors=49,algorithm='kd_tree')\n",
    "knn.fit(train_bow,Y_train)\n",
    "# predict probabilities\n",
    "probs = knn.predict_proba(test_bow)\n",
    "# keep probabilities for the positive outcome only\n",
    "probs = probs[:, 1]\n",
    "# calculate AUC\n",
    "auc = roc_auc_score(Y_test, probs)\n",
    "print('AUC: %.3f' % auc)\n",
    "\n",
    "# calculate roc curve for train data\n",
    "prob=knn.predict_proba(train_bow)\n",
    "probt=prob[:,1]\n",
    "tfpr, ttpr, thresholds = roc_curve(Y_train, probt)\n",
    "\n",
    "\n",
    "\n",
    "#calculate roc curve for test data\n",
    "fpr,tpr,threshols=roc_curve(Y_test,probs)\n",
    "\n",
    "\n",
    "\n",
    "\n",
    "# plot the roc curve for the model\n",
    "plt.plot(tfpr, ttpr, marker='.')\n",
    "plt.plot(fpr,tpr,marker='.')\n",
    "\n",
    "# plot no skill\n",
    "plt.plot([0, 1], [0, 1], linestyle='--')\n",
    "\n",
    "plt.xlabel('False Positive Rate')\n",
    "plt.ylabel('True Positive Rate')\n",
    "plt.title('ROC CURVE')\n",
    "plt.legend([\"Train data\",\"Test data\"])\n",
    "# show the plot\n",
    "plt.show()\n",
    "\n"
   ]
  },
  {
   "cell_type": "code",
   "execution_count": 80,
   "metadata": {},
   "outputs": [
    {
     "data": {
      "image/png": "[encoded data removed]",
      "text/plain": [
       "<matplotlib.figure.Figure at 0x89b78a31d0>"
      ]
     },
     "metadata": {},
     "output_type": "display_data"
    }
   ],
   "source": [
    "#CONFUSION MATRIX\n",
    "#https://gist.github.com/shaypal5/94c53d765083101efc0240d776a23823\n",
    "knn = KNeighborsClassifier(n_neighbors=49,algorithm='kd_tree')\n",
    "knn.fit(train_bow,Y_train)\n",
    "\n",
    "pred = knn.predict(test_bow)\n",
    "con_mat=confusion_matrix(Y_test,pred)\n",
    "cmt=pd.DataFrame(con_mat,index=['negative','positive'],columns=['negative','positive'])\n",
    "\n",
    "#plotting confusion matrix\n",
    "sns.heatmap(cmt,annot=True, fmt=\"d\")\n",
    "plt.title(\"CONFUSION MATRIX\")\n",
    "plt.xlabel(\"Predicted Score\")\n",
    "plt.ylabel(\"Actual Score\")\n",
    "plt.show()"
   ]
  },
  {
   "cell_type": "markdown",
   "metadata": {
    "colab_type": "text",
    "id": "zvW6c_VCh2aN"
   },
   "source": [
    "### [5.2.2] Applying KNN kd-tree on TFIDF,<font color='red'> SET 6</font>"
   ]
  },
  {
   "cell_type": "code",
   "execution_count": 103,
   "metadata": {
    "colab": {},
    "colab_type": "code",
    "id": "Ybeyhx2Zh2aP"
   },
   "outputs": [],
   "source": [
    "#Using TruncatedSVD for converting sparse to dense\n",
    "train_tf = TruncatedSVD(n_components=50, random_state=0).fit_transform(Xtrain_tf)\n",
    "test_tf=TruncatedSVD(n_components=50,random_state=0).fit_transform(Xtest_tf)\n",
    "tr_tf = TruncatedSVD(n_components=50, random_state=0).fit_transform(Xtr_tf)\n",
    "cv_tf=TruncatedSVD(n_components=50,random_state=0).fit_transform(Xcv_tf)\n"
   ]
  },
  {
   "cell_type": "code",
   "execution_count": 104,
   "metadata": {},
   "outputs": [
    {
     "name": "stdout",
     "output_type": "stream",
     "text": [
      "\n",
      "The optimal number of neighbors is 49.\n"
     ]
    }
   ],
   "source": [
    "#HYPERPARAMETER TUNING USING K-FOLD CROSS VALIDATION\n",
    "# empty list that will hold cv scores\n",
    "cv_scores = []\n",
    "auc_train=[]\n",
    "auc_cv=[]\n",
    "\n",
    "# perform 10-fold cross validation\n",
    "for k in neighbors:\n",
    "    knn = KNeighborsClassifier(n_neighbors=k,algorithm='kd_tree')\n",
    "    scores = cross_val_score(knn, train_tf, Y_train, cv=10, scoring='roc_auc')\n",
    "    cv_scores.append(scores.mean())\n",
    "\n",
    "\n",
    "# changing to misclassification error\n",
    "MAUC = [ x for x in cv_scores]\n",
    "\n",
    "\n",
    "# determining best k\n",
    "optimal_k = neighbors[MAUC.index(max(MAUC))]\n",
    "print('\\nThe optimal number of neighbors is %d.' % optimal_k)"
   ]
  },
  {
   "cell_type": "code",
   "execution_count": 105,
   "metadata": {},
   "outputs": [
    {
     "name": "stdout",
     "output_type": "stream",
     "text": [
      "KNeighborsClassifier(algorithm='kd_tree', leaf_size=30, metric='minkowski',\n",
      "           metric_params=None, n_jobs=1, n_neighbors=49, p=2,\n",
      "           weights='uniform')\n",
      "0.29402321136901516\n"
     ]
    }
   ],
   "source": [
    "#HYPERPARAMETER TUNING USING GRIDSEARCHCV\n",
    "tuned_parameters = [{'n_neighbors':neighbors}]\n",
    "\n",
    "\n",
    "#Using GridSearchCV\n",
    "model = GridSearchCV(KNeighborsClassifier(algorithm='kd_tree'), tuned_parameters, scoring = 'roc_auc', cv=5)\n",
    "model.fit(train_tf, Y_train)\n",
    "\n",
    "print(model.best_estimator_)\n",
    "print(model.score(test_tf, Y_test))"
   ]
  },
  {
   "cell_type": "code",
   "execution_count": 84,
   "metadata": {},
   "outputs": [
    {
     "data": {
      "image/png": "[encoded data removed]",
      "text/plain": [
       "<matplotlib.figure.Figure at 0x89b7811b38>"
      ]
     },
     "metadata": {},
     "output_type": "display_data"
    }
   ],
   "source": [
    "#HYPERPARAMETER V/S AUC SCORE FOR TRAIN AND VALIDATION DATA\n",
    "auc_train=[]\n",
    "auc_val=[]\n",
    "for k in neighbors:\n",
    "    knn = KNeighborsClassifier(n_neighbors=k,algorithm='kd_tree')\n",
    "    knn.fit(tr_tf,Y_tr)\n",
    "    pred_train = knn.predict_proba(tr_tf)[:,1]\n",
    "    auc_train.append(roc_auc_score(Y_tr, pred_train))\n",
    "    pred_val=knn.predict_proba(cv_tf)[0:,1]\n",
    "    auc_val.append(roc_auc_score(Y_cv,pred_val))\n",
    "\n",
    "\n",
    "# plot misclassification error vs k \n",
    "plt.plot(neighbors,auc_train )\n",
    "plt.plot(neighbors,auc_val)\n",
    "plt.xlabel('Hyperparameter K')\n",
    "plt.ylabel('Area Under Roc Curve')\n",
    "plt.legend(['Train AUC','Validation AUC'])\n",
    "plt.show()\n",
    "\n"
   ]
  },
  {
   "cell_type": "code",
   "execution_count": 85,
   "metadata": {},
   "outputs": [
    {
     "name": "stdout",
     "output_type": "stream",
     "text": [
      "AUC: 0.294\n"
     ]
    },
    {
     "data": {
      "image/png": "[encoded data removed]",
      "text/plain": [
       "<matplotlib.figure.Figure at 0x89b731cac8>"
      ]
     },
     "metadata": {},
     "output_type": "display_data"
    }
   ],
   "source": [
    "#https://machinelearningmastery.com/roc-curves-and-precision-recall-curves-for-classification-in-python/\n",
    "#ROC CURVE FOR TRAIN AND TEST DATA\n",
    "\n",
    "knn = KNeighborsClassifier(n_neighbors=49,algorithm='kd_tree')\n",
    "knn.fit(train_tf,Y_train)\n",
    "# predict probabilities\n",
    "probs = knn.predict_proba(test_tf)\n",
    "# keep probabilities for the positive outcome only\n",
    "probs = probs[:, 1]\n",
    "# calculate AUC\n",
    "auc = roc_auc_score(Y_test, probs)\n",
    "print('AUC: %.3f' % auc)\n",
    "\n",
    "# calculate roc curve for train data\n",
    "prob=knn.predict_proba(train_tf)\n",
    "probt=prob[:,1]\n",
    "tfpr, ttpr, thresholds = roc_curve(Y_train, probt)\n",
    "\n",
    "\n",
    "\n",
    "#calculate roc curve for test data\n",
    "fpr,tpr,threshols=roc_curve(Y_test,probs)\n",
    "\n",
    "\n",
    "\n",
    "\n",
    "# plot the roc curve for the model\n",
    "plt.plot(tfpr, ttpr, marker='.')\n",
    "plt.plot(fpr,tpr,marker='.')\n",
    "\n",
    "# plot no skill\n",
    "plt.plot([0, 1], [0, 1], linestyle='--')\n",
    "\n",
    "plt.xlabel('False Positive Rate')\n",
    "plt.ylabel('True Positive Rate')\n",
    "plt.title('ROC CURVE')\n",
    "plt.legend([\"Train data\",\"Test data\"])\n",
    "# show the plot\n",
    "plt.show()\n",
    "\n"
   ]
  },
  {
   "cell_type": "code",
   "execution_count": 86,
   "metadata": {},
   "outputs": [
    {
     "data": {
      "image/png": "[encoded data removed]",
      "text/plain": [
       "<matplotlib.figure.Figure at 0x89b6cd92e8>"
      ]
     },
     "metadata": {},
     "output_type": "display_data"
    }
   ],
   "source": [
    "#CONFUSION MATRIX\n",
    "#https://gist.github.com/shaypal5/94c53d765083101efc0240d776a23823\n",
    "knn = KNeighborsClassifier(n_neighbors=49,algorithm='kd_tree')\n",
    "knn.fit(train_tf,Y_train)\n",
    "\n",
    "pred = knn.predict(test_tf)\n",
    "con_mat=confusion_matrix(Y_test,pred)\n",
    "cmt=pd.DataFrame(con_mat,index=['negative','positive'],columns=['negative','positive'])\n",
    "\n",
    "#plotting confusion matrix\n",
    "sns.heatmap(cmt,annot=True, fmt=\"d\")\n",
    "plt.title(\"CONFUSION MATRIX\")\n",
    "plt.xlabel(\"Predicted Score\")\n",
    "plt.ylabel(\"Actual Score\")\n",
    "plt.show()"
   ]
  },
  {
   "cell_type": "markdown",
   "metadata": {
    "colab_type": "text",
    "id": "FPGCX0dph2aR"
   },
   "source": [
    "### [5.2.3] Applying KNN kd-tree on AVG W2V,<font color='red'> SET 3</font>"
   ]
  },
  {
   "cell_type": "code",
   "execution_count": 87,
   "metadata": {},
   "outputs": [
    {
     "name": "stdout",
     "output_type": "stream",
     "text": [
      "\n",
      "The optimal number of neighbors is 47.\n"
     ]
    }
   ],
   "source": [
    "#HYPERPARAMETER USING K-FOLD CV\n",
    "\n",
    "# empty list that will hold cv scores\n",
    "cv_scores = []\n",
    "\n",
    "# perform 10-fold cross validation\n",
    "for k in neighbors:\n",
    "    knn = KNeighborsClassifier(n_neighbors=k,algorithm='kd_tree')\n",
    "    scores = cross_val_score(knn,sent_trainvec, Y_train, cv=10, scoring='roc_auc')\n",
    "    cv_scores.append(scores.mean())\n",
    "\n",
    "\n",
    "# changing to misclassification error\n",
    "MAUC = [ x for x in cv_scores]\n",
    "\n",
    "\n",
    "# determining best k\n",
    "optimal_k = neighbors[MAUC.index(max(MAUC))]\n",
    "print('\\nThe optimal number of neighbors is %d.' % optimal_k)"
   ]
  },
  {
   "cell_type": "code",
   "execution_count": 88,
   "metadata": {},
   "outputs": [
    {
     "name": "stdout",
     "output_type": "stream",
     "text": [
      "KNeighborsClassifier(algorithm='kd_tree', leaf_size=30, metric='minkowski',\n",
      "           metric_params=None, n_jobs=1, n_neighbors=49, p=2,\n",
      "           weights='uniform')\n",
      "0.8479628106978967\n"
     ]
    }
   ],
   "source": [
    "#HYPERPARAMETER USING GRIDSEARCH CV\n",
    "tuned_parameters = [{'n_neighbors':neighbors}]\n",
    "\n",
    "\n",
    "#Using GridSearchCV\n",
    "model = GridSearchCV(KNeighborsClassifier(algorithm='kd_tree'), tuned_parameters, scoring = 'roc_auc', cv=5)\n",
    "model.fit(sent_trainvec, Y_train)\n",
    "\n",
    "print(model.best_estimator_)\n",
    "print(model.score(sent_testvec, Y_test))"
   ]
  },
  {
   "cell_type": "code",
   "execution_count": 89,
   "metadata": {},
   "outputs": [
    {
     "data": {
      "image/png": "[encoded data removed]",
      "text/plain": [
       "<matplotlib.figure.Figure at 0x89b78299b0>"
      ]
     },
     "metadata": {},
     "output_type": "display_data"
    }
   ],
   "source": [
    "#HYPERPARAMETER V/S AUC SCORE FOR TRAIN AND VALIDATION DATA\n",
    "auc_train=[]\n",
    "auc_val=[]\n",
    "for k in neighbors:\n",
    "    knn = KNeighborsClassifier(n_neighbors=k,algorithm='kd_tree')\n",
    "    knn.fit(sent_trvec,Y_tr)\n",
    "    pred_train = knn.predict_proba(sent_trvec)[:,1]\n",
    "    auc_train.append(roc_auc_score(Y_tr, pred_train))   \n",
    "    pred_val=knn.predict_proba(sent_cvec)[0:,1]\n",
    "    auc_val.append(roc_auc_score(Y_cv,pred_val))\n",
    "\n",
    "\n",
    "# plot misclassification error vs k \n",
    "plt.plot(neighbors,auc_train )\n",
    "plt.plot(neighbors,auc_val)\n",
    "plt.xlabel('Hyperparameter K')\n",
    "plt.ylabel('Area Under Roc Curve')\n",
    "plt.legend(['Train AUC','Validation AUC'])\n",
    "plt.show()\n",
    "\n"
   ]
  },
  {
   "cell_type": "code",
   "execution_count": 90,
   "metadata": {},
   "outputs": [
    {
     "name": "stdout",
     "output_type": "stream",
     "text": [
      "AUC: 0.848\n"
     ]
    },
    {
     "data": {
      "image/png": "[encoded data removed]",
      "text/plain": [
       "<matplotlib.figure.Figure at 0x89b6b5f828>"
      ]
     },
     "metadata": {},
     "output_type": "display_data"
    }
   ],
   "source": [
    "#https://machinelearningmastery.com/roc-curves-and-precision-recall-curves-for-classification-in-python/\n",
    "#ROC CURVE FOR TRAIN AND TEST DATA\n",
    "\n",
    "knn = KNeighborsClassifier(n_neighbors=49,algorithm='kd_tree')\n",
    "knn.fit(sent_trainvec,Y_train)\n",
    "# predict probabilities\n",
    "probs = knn.predict_proba(sent_testvec)\n",
    "# keep probabilities for the positive outcome only\n",
    "probs = probs[:, 1]\n",
    "# calculate AUC\n",
    "auc = roc_auc_score(Y_test, probs)\n",
    "print('AUC: %.3f' % auc)\n",
    "\n",
    "# calculate roc curve for train data\n",
    "prob=knn.predict_proba(sent_trainvec)\n",
    "probt=prob[:,1]\n",
    "tfpr, ttpr, thresholds = roc_curve(Y_train, probt)\n",
    "\n",
    "\n",
    "\n",
    "#calculate roc curve for test data\n",
    "fpr,tpr,threshols=roc_curve(Y_test,probs)\n",
    "\n",
    "\n",
    "\n",
    "\n",
    "# plot the roc curve for the model\n",
    "plt.plot(tfpr, ttpr, marker='.')\n",
    "plt.plot(fpr,tpr,marker='.')\n",
    "\n",
    "# plot no skill\n",
    "plt.plot([0, 1], [0, 1], linestyle='--')\n",
    "\n",
    "plt.xlabel('False Positive Rate')\n",
    "plt.ylabel('True Positive Rate')\n",
    "plt.title('ROC CURVE')\n",
    "plt.legend([\"Train data\",\"Test data\"])\n",
    "# show the plot\n",
    "plt.show()\n",
    "\n"
   ]
  },
  {
   "cell_type": "code",
   "execution_count": 91,
   "metadata": {},
   "outputs": [
    {
     "data": {
      "image/png": "[encoded data removed]",
      "text/plain": [
       "<matplotlib.figure.Figure at 0x89b75f96a0>"
      ]
     },
     "metadata": {},
     "output_type": "display_data"
    }
   ],
   "source": [
    "#CONFUSION MATRIX\n",
    "#https://gist.github.com/shaypal5/94c53d765083101efc0240d776a23823\n",
    "knn = KNeighborsClassifier(n_neighbors=49,algorithm='kd_tree')\n",
    "knn.fit(sent_trainvec,Y_train)\n",
    "\n",
    "pred = knn.predict(sent_testvec)\n",
    "con_mat=confusion_matrix(Y_test,pred)\n",
    "cmt=pd.DataFrame(con_mat,index=['negative','positive'],columns=['negative','positive'])\n",
    "\n",
    "#plotting confusion matrix\n",
    "sns.heatmap(cmt,annot=True, fmt=\"d\")\n",
    "plt.title(\"CONFUSION MATRIX\")\n",
    "plt.xlabel(\"Predicted Score\")\n",
    "plt.ylabel(\"Actual Score\")\n",
    "plt.show()"
   ]
  },
  {
   "cell_type": "markdown",
   "metadata": {
    "colab_type": "text",
    "id": "SnD6EpF1h2aW"
   },
   "source": [
    "### [5.2.4] Applying KNN kd-tree on TFIDF W2V,<font color='red'> SET 4</font>"
   ]
  },
  {
   "cell_type": "code",
   "execution_count": 92,
   "metadata": {},
   "outputs": [
    {
     "name": "stdout",
     "output_type": "stream",
     "text": [
      "\n",
      "The optimal number of neighbors is 49.\n"
     ]
    }
   ],
   "source": [
    "#HYPERPARAMETER TUNING USING K-FOLD CROSS VALIDATION\n",
    "# empty list that will hold cv scores\n",
    "cv_scores = []\n",
    "auc_train=[]\n",
    "auc_cv=[]\n",
    "\n",
    "# perform 10-fold cross validation\n",
    "for k in neighbors:\n",
    "    knn = KNeighborsClassifier(n_neighbors=k,algorithm='kd_tree')\n",
    "    scores = cross_val_score(knn,tfw2v_train, Y_train, cv=10, scoring='roc_auc')\n",
    "    cv_scores.append(scores.mean())\n",
    "\n",
    "\n",
    "# changing to misclassification error\n",
    "MAUC = [ x for x in cv_scores]\n",
    "\n",
    "\n",
    "# determining best k\n",
    "optimal_k = neighbors[MAUC.index(max(MAUC))]\n",
    "print('\\nThe optimal number of neighbors is %d.' % optimal_k)"
   ]
  },
  {
   "cell_type": "code",
   "execution_count": 97,
   "metadata": {},
   "outputs": [
    {
     "name": "stdout",
     "output_type": "stream",
     "text": [
      "KNeighborsClassifier(algorithm='kd_tree', leaf_size=30, metric='minkowski',\n",
      "           metric_params=None, n_jobs=1, n_neighbors=49, p=2,\n",
      "           weights='uniform')\n",
      "0.8142344914943499\n"
     ]
    }
   ],
   "source": [
    "#HYPERPARAMETER TUNING USING GRIDSEARCH CV\n",
    "\n",
    "tuned_parameters = [{'n_neighbors':neighbors}]\n",
    "\n",
    "\n",
    "#Using GridSearchCV\n",
    "model = GridSearchCV(KNeighborsClassifier(algorithm='kd_tree'), tuned_parameters, scoring = 'roc_auc', cv=5)\n",
    "model.fit(tfw2v_train, Y_train)\n",
    "\n",
    "print(model.best_estimator_)\n",
    "print(model.score(tfw2v_test, Y_test))"
   ]
  },
  {
   "cell_type": "code",
   "execution_count": 94,
   "metadata": {},
   "outputs": [
    {
     "data": {
      "image/png": "[encoded data removed]",
      "text/plain": [
       "<matplotlib.figure.Figure at 0x89b6ae5828>"
      ]
     },
     "metadata": {},
     "output_type": "display_data"
    }
   ],
   "source": [
    "#HYPERPARAMETER V/S AUC SCORE FOR TRAIN AND VALIDATION DATA\n",
    "auc_train=[]\n",
    "auc_val=[]\n",
    "for k in neighbors:\n",
    "    knn = KNeighborsClassifier(n_neighbors=k,algorithm='kd_tree')\n",
    "    knn.fit(tfw2v_tr,Y_tr)\n",
    "    pred_train = knn.predict_proba(tfw2v_tr)[:,1]\n",
    "    auc_train.append(roc_auc_score(Y_tr, pred_train))   \n",
    "    pred_val=knn.predict_proba(tfw2v_cv)[0:,1]\n",
    "    auc_val.append(roc_auc_score(Y_cv,pred_val))\n",
    "\n",
    "\n",
    "# plot misclassification error vs k \n",
    "plt.plot(neighbors,auc_train )\n",
    "plt.plot(neighbors,auc_val)\n",
    "plt.xlabel('Hyperparameter K')\n",
    "plt.ylabel('Area Under Roc Curve')\n",
    "plt.legend(['Train AUC','Validation AUC'])\n",
    "plt.show()\n",
    "\n"
   ]
  },
  {
   "cell_type": "code",
   "execution_count": 95,
   "metadata": {
    "scrolled": true
   },
   "outputs": [
    {
     "name": "stdout",
     "output_type": "stream",
     "text": [
      "AUC: 0.814\n"
     ]
    },
    {
     "data": {
      "image/png": "[encoded data removed]",
      "text/plain": [
       "<matplotlib.figure.Figure at 0x89b6eeada0>"
      ]
     },
     "metadata": {},
     "output_type": "display_data"
    }
   ],
   "source": [
    "#https://machinelearningmastery.com/roc-curves-and-precision-recall-curves-for-classification-in-python/\n",
    "#ROC CURVE FOR TRAIN AND TEST DATA\n",
    "\n",
    "knn = KNeighborsClassifier(n_neighbors=49,algorithm='kd_tree')\n",
    "knn.fit(tfw2v_train,Y_train)\n",
    "# predict probabilities\n",
    "probs = knn.predict_proba(tfw2v_test)\n",
    "# keep probabilities for the positive outcome only\n",
    "probs = probs[:, 1]\n",
    "# calculate AUC\n",
    "auc = roc_auc_score(Y_test, probs)\n",
    "print('AUC: %.3f' % auc)\n",
    "\n",
    "# calculate roc curve for train data\n",
    "prob=knn.predict_proba(tfw2v_train)\n",
    "probt=prob[:,1]\n",
    "tfpr, ttpr, thresholds = roc_curve(Y_train, probt)\n",
    "\n",
    "\n",
    "\n",
    "#calculate roc curve for test data\n",
    "fpr,tpr,threshols=roc_curve(Y_test,probs)\n",
    "\n",
    "\n",
    "\n",
    "\n",
    "# plot the roc curve for the model\n",
    "plt.plot(tfpr, ttpr, marker='.')\n",
    "plt.plot(fpr,tpr,marker='.')\n",
    "\n",
    "# plot no skill\n",
    "plt.plot([0, 1], [0, 1], linestyle='--')\n",
    "\n",
    "plt.xlabel('False Positive Rate')\n",
    "plt.ylabel('True Positive Rate')\n",
    "plt.title('ROC CURVE')\n",
    "plt.legend([\"Train data\",\"Test data\"])\n",
    "# show the plot\n",
    "plt.show()\n",
    "\n"
   ]
  },
  {
   "cell_type": "code",
   "execution_count": 96,
   "metadata": {},
   "outputs": [
    {
     "data": {
      "image/png": "[encoded data removed]",
      "text/plain": [
       "<matplotlib.figure.Figure at 0x89b6ea6080>"
      ]
     },
     "metadata": {},
     "output_type": "display_data"
    }
   ],
   "source": [
    "#CONFUSION MATRIX\n",
    "#https://gist.github.com/shaypal5/94c53d765083101efc0240d776a23823\n",
    "knn = KNeighborsClassifier(n_neighbors=49,algorithm='kd_tree')\n",
    "knn.fit(tfw2v_train,Y_train)\n",
    "\n",
    "pred = knn.predict(tfw2v_test)\n",
    "con_mat=confusion_matrix(Y_test,pred)\n",
    "cmt=pd.DataFrame(con_mat,index=['negative','positive'],columns=['negative','positive'])\n",
    "\n",
    "#plotting confusion matrix\n",
    "sns.heatmap(cmt,annot=True, fmt=\"d\")\n",
    "plt.title(\"CONFUSION MATRIX\")\n",
    "plt.xlabel(\"Predicted Score\")\n",
    "plt.ylabel(\"Actual Score\")\n",
    "plt.show()"
   ]
  },
  {
   "cell_type": "markdown",
   "metadata": {
    "colab_type": "text",
    "id": "oTS505Irh2ad"
   },
   "source": [
    "# [6] Conclusions"
   ]
  },
  {
   "cell_type": "code",
   "execution_count": 101,
   "metadata": {
    "colab": {},
    "colab_type": "code",
    "id": "X9pWwq3Xh2ae"
   },
   "outputs": [
    {
     "name": "stdout",
     "output_type": "stream",
     "text": [
      "+------------+---------+----------------+-------+\n",
      "| Vectorizer |  Model  | Hyperparameter |  AUC  |\n",
      "+------------+---------+----------------+-------+\n",
      "|    BOW     |  Brute  |       49       | 0.728 |\n",
      "|   TFIDF    |  Brute  |       49       | 0.815 |\n",
      "|  WORD2VEC  |  Brute  |       49       | 0.848 |\n",
      "| TFIDF-W2V  |  Brute  |       49       | 0.814 |\n",
      "|    BOW     | KD Tree |       49       | 0.628 |\n",
      "|   TFIDF    | KD Tree |       49       | 0.294 |\n",
      "|  WORD2VEC  | KD Tree |       49       | 0.848 |\n",
      "| TFIDF_W2V  | KD Tree |       49       | 0.814 |\n",
      "+------------+---------+----------------+-------+\n"
     ]
    }
   ],
   "source": [
    "#CREATING PRETTYTABLE\n",
    "from prettytable import PrettyTable\n",
    "    \n",
    "x = PrettyTable()\n",
    "\n",
    "x.field_names = [\"Vectorizer\", \"Model\", \"Hyperparameter\", \"AUC\"]\n",
    "\n",
    "x.add_row([\"BOW\",\"Brute\",49,0.728])\n",
    "x.add_row([\"TFIDF\",\"Brute\", 49,0.815])\n",
    "x.add_row([\"WORD2VEC\",\"Brute\",49,0.848])\n",
    "x.add_row([\"TFIDF-W2V\",\"Brute\",49,0.814])\n",
    "x.add_row([\"BOW\",\"KD Tree\",49,0.628])\n",
    "x.add_row([\"TFIDF\",\"KD Tree\",49,0.294])\n",
    "x.add_row([\"WORD2VEC\",\"KD Tree\",49,0.848])\n",
    "x.add_row([\"TFIDF_W2V\",\"KD Tree\",49,0.814])\n",
    "\n",
    "print(x)"
   ]
  }
 ],
 "metadata": {
  "colab": {
   "name": "03 Amazon Fine Food Reviews Analysis_KNN.ipynb",
   "provenance": [],
   "version": "0.3.2"
  },
  "kernelspec": {
   "display_name": "Python 3",
   "language": "python",
   "name": "python3"
  },
  "language_info": {
   "codemirror_mode": {
    "name": "ipython",
    "version": 3
   },
   "file_extension": ".py",
   "mimetype": "text/x-python",
   "name": "python",
   "nbconvert_exporter": "python",
   "pygments_lexer": "ipython3",
   "version": "3.6.4"
  }
 },
 "nbformat": 4,
 "nbformat_minor": 1
}
