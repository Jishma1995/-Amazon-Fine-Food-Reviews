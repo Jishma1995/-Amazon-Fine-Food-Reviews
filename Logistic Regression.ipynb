{
 "cells": [
  {
   "cell_type": "markdown",
   "metadata": {
    "colab_type": "text",
    "id": "iFjaVU-HhOb8"
   },
   "source": [
    "# [1]. Reading Data"
   ]
  },
  {
   "cell_type": "markdown",
   "metadata": {
    "colab_type": "text",
    "id": "-We-SofehOb_"
   },
   "source": [
    "## [1.1] Loading the data\n",
    "\n",
    "The dataset is available in two forms\n",
    "1. .csv file\n",
    "2. SQLite Database\n",
    "\n",
    "In order to load the data, We have used the SQLITE dataset as it is easier to query the data and visualise the data efficiently.\n",
    "<br> \n",
    "\n",
    "Here as we only want to get the global sentiment of the recommendations (positive or negative), we will purposefully ignore all Scores equal to 3. If the score is above 3, then the recommendation wil be set to \"positive\". Otherwise, it will be set to \"negative\"."
   ]
  },
  {
   "cell_type": "code",
   "execution_count": 1,
   "metadata": {
    "colab": {},
    "colab_type": "code",
    "id": "ryktngBWhOcA"
   },
   "outputs": [
    {
     "name": "stderr",
     "output_type": "stream",
     "text": [
      "C:\\Users\\SABEENA\\Anaconda3\\lib\\site-packages\\sklearn\\cross_validation.py:41: DeprecationWarning: This module was deprecated in version 0.18 in favor of the model_selection module into which all the refactored classes and functions are moved. Also note that the interface of the new CV iterators are different from that of this module. This module will be removed in 0.20.\n",
      "  \"This module will be removed in 0.20.\", DeprecationWarning)\n",
      "C:\\Users\\SABEENA\\Anaconda3\\lib\\site-packages\\sklearn\\grid_search.py:42: DeprecationWarning: This module was deprecated in version 0.18 in favor of the model_selection module into which all the refactored classes and functions are moved. This module will be removed in 0.20.\n",
      "  DeprecationWarning)\n"
     ]
    }
   ],
   "source": [
    "%matplotlib inline\n",
    "import warnings\n",
    "warnings.filterwarnings(\"ignore\")\n",
    "\n",
    "\n",
    "import sqlite3\n",
    "import pandas as pd\n",
    "import numpy as np\n",
    "import nltk\n",
    "import string\n",
    "import matplotlib.pyplot as plt\n",
    "import seaborn as sns\n",
    "from sklearn.feature_extraction.text import TfidfTransformer\n",
    "from sklearn.feature_extraction.text import TfidfVectorizer\n",
    "\n",
    "from sklearn.feature_extraction.text import CountVectorizer\n",
    "from sklearn.metrics import confusion_matrix\n",
    "from sklearn import metrics\n",
    "from sklearn.metrics import roc_curve, auc\n",
    "from nltk.stem.porter import PorterStemmer\n",
    "\n",
    "from sklearn.grid_search import GridSearchCV\n",
    "from sklearn.linear_model import LogisticRegression\n",
    "from sklearn.cross_validation import train_test_split\n",
    "from sklearn.metrics import accuracy_score\n",
    "from sklearn.cross_validation import cross_val_score\n",
    "from collections import Counter\n",
    "from sklearn import cross_validation\n",
    "from sklearn.preprocessing import StandardScaler\n",
    "\n",
    "\n",
    "import re\n",
    "# Tutorial about Python regular expressions: https://pymotw.com/2/re/\n",
    "import string\n",
    "from nltk.corpus import stopwords\n",
    "from nltk.stem import PorterStemmer\n",
    "from nltk.stem.wordnet import WordNetLemmatizer\n",
    "\n",
    "from gensim.models import Word2Vec\n",
    "from gensim.models import KeyedVectors\n",
    "import pickle\n",
    "\n",
    "from tqdm import tqdm\n",
    "import os"
   ]
  },
  {
   "cell_type": "code",
   "execution_count": 2,
   "metadata": {
    "colab": {},
    "colab_type": "code",
    "id": "fUj80GSbhOcF",
    "outputId": "fb48972c-12e4-4b6b-c732-37a577333562"
   },
   "outputs": [
    {
     "name": "stdout",
     "output_type": "stream",
     "text": [
      "Number of data points in our data (525814, 10)\n"
     ]
    },
    {
     "data": {
      "text/html": [
       "<div>\n",
       "<style scoped>\n",
       "    .dataframe tbody tr th:only-of-type {\n",
       "        vertical-align: middle;\n",
       "    }\n",
       "\n",
       "    .dataframe tbody tr th {\n",
       "        vertical-align: top;\n",
       "    }\n",
       "\n",
       "    .dataframe thead th {\n",
       "        text-align: right;\n",
       "    }\n",
       "</style>\n",
       "<table border=\"1\" class=\"dataframe\">\n",
       "  <thead>\n",
       "    <tr style=\"text-align: right;\">\n",
       "      <th></th>\n",
       "      <th>Id</th>\n",
       "      <th>ProductId</th>\n",
       "      <th>UserId</th>\n",
       "      <th>ProfileName</th>\n",
       "      <th>HelpfulnessNumerator</th>\n",
       "      <th>HelpfulnessDenominator</th>\n",
       "      <th>Score</th>\n",
       "      <th>Time</th>\n",
       "      <th>Summary</th>\n",
       "      <th>Text</th>\n",
       "    </tr>\n",
       "  </thead>\n",
       "  <tbody>\n",
       "    <tr>\n",
       "      <th>0</th>\n",
       "      <td>1</td>\n",
       "      <td>B001E4KFG0</td>\n",
       "      <td>A3SGXH7AUHU8GW</td>\n",
       "      <td>delmartian</td>\n",
       "      <td>1</td>\n",
       "      <td>1</td>\n",
       "      <td>1</td>\n",
       "      <td>1303862400</td>\n",
       "      <td>Good Quality Dog Food</td>\n",
       "      <td>I have bought several of the Vitality canned d...</td>\n",
       "    </tr>\n",
       "    <tr>\n",
       "      <th>1</th>\n",
       "      <td>2</td>\n",
       "      <td>B00813GRG4</td>\n",
       "      <td>A1D87F6ZCVE5NK</td>\n",
       "      <td>dll pa</td>\n",
       "      <td>0</td>\n",
       "      <td>0</td>\n",
       "      <td>0</td>\n",
       "      <td>1346976000</td>\n",
       "      <td>Not as Advertised</td>\n",
       "      <td>Product arrived labeled as Jumbo Salted Peanut...</td>\n",
       "    </tr>\n",
       "    <tr>\n",
       "      <th>2</th>\n",
       "      <td>3</td>\n",
       "      <td>B000LQOCH0</td>\n",
       "      <td>ABXLMWJIXXAIN</td>\n",
       "      <td>Natalia Corres \"Natalia Corres\"</td>\n",
       "      <td>1</td>\n",
       "      <td>1</td>\n",
       "      <td>1</td>\n",
       "      <td>1219017600</td>\n",
       "      <td>\"Delight\" says it all</td>\n",
       "      <td>This is a confection that has been around a fe...</td>\n",
       "    </tr>\n",
       "  </tbody>\n",
       "</table>\n",
       "</div>"
      ],
      "text/plain": [
       "   Id   ProductId          UserId                      ProfileName  \\\n",
       "0   1  B001E4KFG0  A3SGXH7AUHU8GW                       delmartian   \n",
       "1   2  B00813GRG4  A1D87F6ZCVE5NK                           dll pa   \n",
       "2   3  B000LQOCH0   ABXLMWJIXXAIN  Natalia Corres \"Natalia Corres\"   \n",
       "\n",
       "   HelpfulnessNumerator  HelpfulnessDenominator  Score        Time  \\\n",
       "0                     1                       1      1  1303862400   \n",
       "1                     0                       0      0  1346976000   \n",
       "2                     1                       1      1  1219017600   \n",
       "\n",
       "                 Summary                                               Text  \n",
       "0  Good Quality Dog Food  I have bought several of the Vitality canned d...  \n",
       "1      Not as Advertised  Product arrived labeled as Jumbo Salted Peanut...  \n",
       "2  \"Delight\" says it all  This is a confection that has been around a fe...  "
      ]
     },
     "execution_count": 2,
     "metadata": {},
     "output_type": "execute_result"
    }
   ],
   "source": [
    "# using SQLite Table to read data.\n",
    "con = sqlite3.connect('database.sqlite') \n",
    "\n",
    "# filtering only positive and negative reviews i.e. \n",
    "# not taking into consideration those reviews with Score=3\n",
    "# SELECT * FROM Reviews WHERE Score != 3 LIMIT 500000, will give top 500000 data points\n",
    "# you can change the number to any other number based on your computing power\n",
    "\n",
    "# filtered_data = pd.read_sql_query(\"\"\" SELECT * FROM Reviews WHERE Score != 3 LIMIT 500000\"\"\", con) \n",
    "# for tsne assignment you can take 5k data points\n",
    "\n",
    "filtered_data = pd.read_sql_query(\"\"\" SELECT * FROM Reviews WHERE Score != 3 \"\"\", con) \n",
    "\n",
    "# Give reviews with Score>3 a positive rating(1), and reviews with a score<3 a negative rating(0).\n",
    "def partition(x):\n",
    "    if x < 3:\n",
    "        return 0\n",
    "    return 1\n",
    "\n",
    "#changing reviews with score less than 3 to be positive and vice-versa\n",
    "actualScore = filtered_data['Score']\n",
    "positiveNegative = actualScore.map(partition) \n",
    "filtered_data['Score'] = positiveNegative\n",
    "print(\"Number of data points in our data\", filtered_data.shape)\n",
    "filtered_data.head(3)"
   ]
  },
  {
   "cell_type": "code",
   "execution_count": 3,
   "metadata": {
    "colab": {},
    "colab_type": "code",
    "id": "lv1MzktEhOcN"
   },
   "outputs": [],
   "source": [
    "display = pd.read_sql_query(\"\"\"\n",
    "SELECT UserId, ProductId, ProfileName, Time, Score, Text, COUNT(*)\n",
    "FROM Reviews\n",
    "GROUP BY UserId\n",
    "HAVING COUNT(*)>1\n",
    "\"\"\", con)"
   ]
  },
  {
   "cell_type": "code",
   "execution_count": 4,
   "metadata": {
    "colab": {},
    "colab_type": "code",
    "id": "l6FUZYjThOcS",
    "outputId": "4073bf72-5a73-4a51-eb88-03fbf4fe439a",
    "scrolled": true
   },
   "outputs": [
    {
     "name": "stdout",
     "output_type": "stream",
     "text": [
      "(80668, 7)\n"
     ]
    },
    {
     "data": {
      "text/html": [
       "<div>\n",
       "<style scoped>\n",
       "    .dataframe tbody tr th:only-of-type {\n",
       "        vertical-align: middle;\n",
       "    }\n",
       "\n",
       "    .dataframe tbody tr th {\n",
       "        vertical-align: top;\n",
       "    }\n",
       "\n",
       "    .dataframe thead th {\n",
       "        text-align: right;\n",
       "    }\n",
       "</style>\n",
       "<table border=\"1\" class=\"dataframe\">\n",
       "  <thead>\n",
       "    <tr style=\"text-align: right;\">\n",
       "      <th></th>\n",
       "      <th>UserId</th>\n",
       "      <th>ProductId</th>\n",
       "      <th>ProfileName</th>\n",
       "      <th>Time</th>\n",
       "      <th>Score</th>\n",
       "      <th>Text</th>\n",
       "      <th>COUNT(*)</th>\n",
       "    </tr>\n",
       "  </thead>\n",
       "  <tbody>\n",
       "    <tr>\n",
       "      <th>0</th>\n",
       "      <td>#oc-R115TNMSPFT9I7</td>\n",
       "      <td>B007Y59HVM</td>\n",
       "      <td>Breyton</td>\n",
       "      <td>1331510400</td>\n",
       "      <td>2</td>\n",
       "      <td>Overall its just OK when considering the price...</td>\n",
       "      <td>2</td>\n",
       "    </tr>\n",
       "    <tr>\n",
       "      <th>1</th>\n",
       "      <td>#oc-R11D9D7SHXIJB9</td>\n",
       "      <td>B005HG9ET0</td>\n",
       "      <td>Louis E. Emory \"hoppy\"</td>\n",
       "      <td>1342396800</td>\n",
       "      <td>5</td>\n",
       "      <td>My wife has recurring extreme muscle spasms, u...</td>\n",
       "      <td>3</td>\n",
       "    </tr>\n",
       "    <tr>\n",
       "      <th>2</th>\n",
       "      <td>#oc-R11DNU2NBKQ23Z</td>\n",
       "      <td>B007Y59HVM</td>\n",
       "      <td>Kim Cieszykowski</td>\n",
       "      <td>1348531200</td>\n",
       "      <td>1</td>\n",
       "      <td>This coffee is horrible and unfortunately not ...</td>\n",
       "      <td>2</td>\n",
       "    </tr>\n",
       "    <tr>\n",
       "      <th>3</th>\n",
       "      <td>#oc-R11O5J5ZVQE25C</td>\n",
       "      <td>B005HG9ET0</td>\n",
       "      <td>Penguin Chick</td>\n",
       "      <td>1346889600</td>\n",
       "      <td>5</td>\n",
       "      <td>This will be the bottle that you grab from the...</td>\n",
       "      <td>3</td>\n",
       "    </tr>\n",
       "    <tr>\n",
       "      <th>4</th>\n",
       "      <td>#oc-R12KPBODL2B5ZD</td>\n",
       "      <td>B007OSBE1U</td>\n",
       "      <td>Christopher P. Presta</td>\n",
       "      <td>1348617600</td>\n",
       "      <td>1</td>\n",
       "      <td>I didnt like this coffee. Instead of telling y...</td>\n",
       "      <td>2</td>\n",
       "    </tr>\n",
       "  </tbody>\n",
       "</table>\n",
       "</div>"
      ],
      "text/plain": [
       "               UserId   ProductId             ProfileName        Time  Score  \\\n",
       "0  #oc-R115TNMSPFT9I7  B007Y59HVM                 Breyton  1331510400      2   \n",
       "1  #oc-R11D9D7SHXIJB9  B005HG9ET0  Louis E. Emory \"hoppy\"  1342396800      5   \n",
       "2  #oc-R11DNU2NBKQ23Z  B007Y59HVM        Kim Cieszykowski  1348531200      1   \n",
       "3  #oc-R11O5J5ZVQE25C  B005HG9ET0           Penguin Chick  1346889600      5   \n",
       "4  #oc-R12KPBODL2B5ZD  B007OSBE1U   Christopher P. Presta  1348617600      1   \n",
       "\n",
       "                                                Text  COUNT(*)  \n",
       "0  Overall its just OK when considering the price...         2  \n",
       "1  My wife has recurring extreme muscle spasms, u...         3  \n",
       "2  This coffee is horrible and unfortunately not ...         2  \n",
       "3  This will be the bottle that you grab from the...         3  \n",
       "4  I didnt like this coffee. Instead of telling y...         2  "
      ]
     },
     "execution_count": 4,
     "metadata": {},
     "output_type": "execute_result"
    }
   ],
   "source": [
    "print(display.shape)\n",
    "display.head()"
   ]
  },
  {
   "cell_type": "code",
   "execution_count": 5,
   "metadata": {
    "colab": {},
    "colab_type": "code",
    "id": "fGEGb_8FhOcX",
    "outputId": "cbfcc3c3-4895-42e4-a66e-a2ec55748f42"
   },
   "outputs": [
    {
     "data": {
      "text/html": [
       "<div>\n",
       "<style scoped>\n",
       "    .dataframe tbody tr th:only-of-type {\n",
       "        vertical-align: middle;\n",
       "    }\n",
       "\n",
       "    .dataframe tbody tr th {\n",
       "        vertical-align: top;\n",
       "    }\n",
       "\n",
       "    .dataframe thead th {\n",
       "        text-align: right;\n",
       "    }\n",
       "</style>\n",
       "<table border=\"1\" class=\"dataframe\">\n",
       "  <thead>\n",
       "    <tr style=\"text-align: right;\">\n",
       "      <th></th>\n",
       "      <th>UserId</th>\n",
       "      <th>ProductId</th>\n",
       "      <th>ProfileName</th>\n",
       "      <th>Time</th>\n",
       "      <th>Score</th>\n",
       "      <th>Text</th>\n",
       "      <th>COUNT(*)</th>\n",
       "    </tr>\n",
       "  </thead>\n",
       "  <tbody>\n",
       "    <tr>\n",
       "      <th>80638</th>\n",
       "      <td>AZY10LLTJ71NX</td>\n",
       "      <td>B006P7E5ZI</td>\n",
       "      <td>undertheshrine \"undertheshrine\"</td>\n",
       "      <td>1334707200</td>\n",
       "      <td>5</td>\n",
       "      <td>I was recommended to try green tea extract to ...</td>\n",
       "      <td>5</td>\n",
       "    </tr>\n",
       "  </tbody>\n",
       "</table>\n",
       "</div>"
      ],
      "text/plain": [
       "              UserId   ProductId                      ProfileName        Time  \\\n",
       "80638  AZY10LLTJ71NX  B006P7E5ZI  undertheshrine \"undertheshrine\"  1334707200   \n",
       "\n",
       "       Score                                               Text  COUNT(*)  \n",
       "80638      5  I was recommended to try green tea extract to ...         5  "
      ]
     },
     "execution_count": 5,
     "metadata": {},
     "output_type": "execute_result"
    }
   ],
   "source": [
    "display[display['UserId']=='AZY10LLTJ71NX']"
   ]
  },
  {
   "cell_type": "code",
   "execution_count": 6,
   "metadata": {
    "colab": {},
    "colab_type": "code",
    "id": "A2cpFvCLhOcc",
    "outputId": "890a3f30-0463-4482-9048-845b66284db8",
    "scrolled": false
   },
   "outputs": [
    {
     "data": {
      "text/plain": [
       "393063"
      ]
     },
     "execution_count": 6,
     "metadata": {},
     "output_type": "execute_result"
    }
   ],
   "source": [
    "display['COUNT(*)'].sum()"
   ]
  },
  {
   "cell_type": "markdown",
   "metadata": {
    "colab_type": "text",
    "id": "Uf4Txo_ehOcg"
   },
   "source": [
    "#  [2] Exploratory Data Analysis"
   ]
  },
  {
   "cell_type": "markdown",
   "metadata": {
    "colab_type": "text",
    "id": "NWvNZHdQhOcj"
   },
   "source": [
    "## [2.1] Data Cleaning: Deduplication\n",
    "\n",
    "It is observed (as shown in the table below) that the reviews data had many duplicate entries. Hence it was necessary to remove duplicates in order to get unbiased results for the analysis of the data.  Following is an example:"
   ]
  },
  {
   "cell_type": "code",
   "execution_count": 7,
   "metadata": {
    "colab": {},
    "colab_type": "code",
    "id": "H-95eJYghOck",
    "outputId": "cfe2a833-067e-40fe-c5f3-cfebb981c1c5",
    "scrolled": false
   },
   "outputs": [
    {
     "data": {
      "text/html": [
       "<div>\n",
       "<style scoped>\n",
       "    .dataframe tbody tr th:only-of-type {\n",
       "        vertical-align: middle;\n",
       "    }\n",
       "\n",
       "    .dataframe tbody tr th {\n",
       "        vertical-align: top;\n",
       "    }\n",
       "\n",
       "    .dataframe thead th {\n",
       "        text-align: right;\n",
       "    }\n",
       "</style>\n",
       "<table border=\"1\" class=\"dataframe\">\n",
       "  <thead>\n",
       "    <tr style=\"text-align: right;\">\n",
       "      <th></th>\n",
       "      <th>Id</th>\n",
       "      <th>ProductId</th>\n",
       "      <th>UserId</th>\n",
       "      <th>ProfileName</th>\n",
       "      <th>HelpfulnessNumerator</th>\n",
       "      <th>HelpfulnessDenominator</th>\n",
       "      <th>Score</th>\n",
       "      <th>Time</th>\n",
       "      <th>Summary</th>\n",
       "      <th>Text</th>\n",
       "    </tr>\n",
       "  </thead>\n",
       "  <tbody>\n",
       "    <tr>\n",
       "      <th>0</th>\n",
       "      <td>78445</td>\n",
       "      <td>B000HDL1RQ</td>\n",
       "      <td>AR5J8UI46CURR</td>\n",
       "      <td>Geetha Krishnan</td>\n",
       "      <td>2</td>\n",
       "      <td>2</td>\n",
       "      <td>5</td>\n",
       "      <td>1199577600</td>\n",
       "      <td>LOACKER QUADRATINI VANILLA WAFERS</td>\n",
       "      <td>DELICIOUS WAFERS. I FIND THAT EUROPEAN WAFERS ...</td>\n",
       "    </tr>\n",
       "    <tr>\n",
       "      <th>1</th>\n",
       "      <td>138317</td>\n",
       "      <td>B000HDOPYC</td>\n",
       "      <td>AR5J8UI46CURR</td>\n",
       "      <td>Geetha Krishnan</td>\n",
       "      <td>2</td>\n",
       "      <td>2</td>\n",
       "      <td>5</td>\n",
       "      <td>1199577600</td>\n",
       "      <td>LOACKER QUADRATINI VANILLA WAFERS</td>\n",
       "      <td>DELICIOUS WAFERS. I FIND THAT EUROPEAN WAFERS ...</td>\n",
       "    </tr>\n",
       "    <tr>\n",
       "      <th>2</th>\n",
       "      <td>138277</td>\n",
       "      <td>B000HDOPYM</td>\n",
       "      <td>AR5J8UI46CURR</td>\n",
       "      <td>Geetha Krishnan</td>\n",
       "      <td>2</td>\n",
       "      <td>2</td>\n",
       "      <td>5</td>\n",
       "      <td>1199577600</td>\n",
       "      <td>LOACKER QUADRATINI VANILLA WAFERS</td>\n",
       "      <td>DELICIOUS WAFERS. I FIND THAT EUROPEAN WAFERS ...</td>\n",
       "    </tr>\n",
       "    <tr>\n",
       "      <th>3</th>\n",
       "      <td>73791</td>\n",
       "      <td>B000HDOPZG</td>\n",
       "      <td>AR5J8UI46CURR</td>\n",
       "      <td>Geetha Krishnan</td>\n",
       "      <td>2</td>\n",
       "      <td>2</td>\n",
       "      <td>5</td>\n",
       "      <td>1199577600</td>\n",
       "      <td>LOACKER QUADRATINI VANILLA WAFERS</td>\n",
       "      <td>DELICIOUS WAFERS. I FIND THAT EUROPEAN WAFERS ...</td>\n",
       "    </tr>\n",
       "    <tr>\n",
       "      <th>4</th>\n",
       "      <td>155049</td>\n",
       "      <td>B000PAQ75C</td>\n",
       "      <td>AR5J8UI46CURR</td>\n",
       "      <td>Geetha Krishnan</td>\n",
       "      <td>2</td>\n",
       "      <td>2</td>\n",
       "      <td>5</td>\n",
       "      <td>1199577600</td>\n",
       "      <td>LOACKER QUADRATINI VANILLA WAFERS</td>\n",
       "      <td>DELICIOUS WAFERS. I FIND THAT EUROPEAN WAFERS ...</td>\n",
       "    </tr>\n",
       "  </tbody>\n",
       "</table>\n",
       "</div>"
      ],
      "text/plain": [
       "       Id   ProductId         UserId      ProfileName  HelpfulnessNumerator  \\\n",
       "0   78445  B000HDL1RQ  AR5J8UI46CURR  Geetha Krishnan                     2   \n",
       "1  138317  B000HDOPYC  AR5J8UI46CURR  Geetha Krishnan                     2   \n",
       "2  138277  B000HDOPYM  AR5J8UI46CURR  Geetha Krishnan                     2   \n",
       "3   73791  B000HDOPZG  AR5J8UI46CURR  Geetha Krishnan                     2   \n",
       "4  155049  B000PAQ75C  AR5J8UI46CURR  Geetha Krishnan                     2   \n",
       "\n",
       "   HelpfulnessDenominator  Score        Time  \\\n",
       "0                       2      5  1199577600   \n",
       "1                       2      5  1199577600   \n",
       "2                       2      5  1199577600   \n",
       "3                       2      5  1199577600   \n",
       "4                       2      5  1199577600   \n",
       "\n",
       "                             Summary  \\\n",
       "0  LOACKER QUADRATINI VANILLA WAFERS   \n",
       "1  LOACKER QUADRATINI VANILLA WAFERS   \n",
       "2  LOACKER QUADRATINI VANILLA WAFERS   \n",
       "3  LOACKER QUADRATINI VANILLA WAFERS   \n",
       "4  LOACKER QUADRATINI VANILLA WAFERS   \n",
       "\n",
       "                                                Text  \n",
       "0  DELICIOUS WAFERS. I FIND THAT EUROPEAN WAFERS ...  \n",
       "1  DELICIOUS WAFERS. I FIND THAT EUROPEAN WAFERS ...  \n",
       "2  DELICIOUS WAFERS. I FIND THAT EUROPEAN WAFERS ...  \n",
       "3  DELICIOUS WAFERS. I FIND THAT EUROPEAN WAFERS ...  \n",
       "4  DELICIOUS WAFERS. I FIND THAT EUROPEAN WAFERS ...  "
      ]
     },
     "execution_count": 7,
     "metadata": {},
     "output_type": "execute_result"
    }
   ],
   "source": [
    "display= pd.read_sql_query(\"\"\"\n",
    "SELECT *\n",
    "FROM Reviews\n",
    "WHERE Score != 3 AND UserId=\"AR5J8UI46CURR\"\n",
    "ORDER BY ProductID\n",
    "\"\"\", con)\n",
    "display.head()"
   ]
  },
  {
   "cell_type": "markdown",
   "metadata": {
    "colab_type": "text",
    "id": "0S6s17U8hOcp"
   },
   "source": [
    "As it can be seen above that same user has multiple reviews with same values for HelpfulnessNumerator, HelpfulnessDenominator, Score, Time, Summary and Text and on doing analysis it was found that <br>\n",
    "<br> \n",
    "ProductId=B000HDOPZG was Loacker Quadratini Vanilla Wafer Cookies, 8.82-Ounce Packages (Pack of 8)<br>\n",
    "<br> \n",
    "ProductId=B000HDL1RQ was Loacker Quadratini Lemon Wafer Cookies, 8.82-Ounce Packages (Pack of 8) and so on<br>\n",
    "\n",
    "It was inferred after analysis that reviews with same parameters other than ProductId belonged to the same product just having different flavour or quantity. Hence in order to reduce redundancy it was decided to eliminate the rows having same parameters.<br>\n",
    "\n",
    "The method used for the same was that we first sort the data according to ProductId and then just keep the first similar product review and delelte the others. for eg. in the above just the review for ProductId=B000HDL1RQ remains. This method ensures that there is only one representative for each product and deduplication without sorting would lead to possibility of different representatives still existing for the same product."
   ]
  },
  {
   "cell_type": "code",
   "execution_count": 8,
   "metadata": {
    "colab": {},
    "colab_type": "code",
    "id": "ynwWUQwGhOcq"
   },
   "outputs": [],
   "source": [
    "#Sorting data according to ProductId in ascending order\n",
    "sorted_data=filtered_data.sort_values('ProductId', axis=0, ascending=True, inplace=False, kind='quicksort', na_position='last')"
   ]
  },
  {
   "cell_type": "code",
   "execution_count": 9,
   "metadata": {
    "colab": {},
    "colab_type": "code",
    "id": "aSMpP25OhOcu",
    "outputId": "e9a66ae9-e464-4b4d-8b04-85c0d104ac32"
   },
   "outputs": [
    {
     "data": {
      "text/plain": [
       "(364173, 10)"
      ]
     },
     "execution_count": 9,
     "metadata": {},
     "output_type": "execute_result"
    }
   ],
   "source": [
    "#Deduplication of entries\n",
    "final=sorted_data.drop_duplicates(subset={\"UserId\",\"ProfileName\",\"Time\",\"Text\"}, keep='first', inplace=False)\n",
    "final.shape"
   ]
  },
  {
   "cell_type": "code",
   "execution_count": 10,
   "metadata": {
    "colab": {},
    "colab_type": "code",
    "id": "GIdwoUZ5hOc0",
    "outputId": "a2464ab6-6d79-445b-bfe5-dce21f498196"
   },
   "outputs": [
    {
     "data": {
      "text/plain": [
       "69.25890143662969"
      ]
     },
     "execution_count": 10,
     "metadata": {},
     "output_type": "execute_result"
    }
   ],
   "source": [
    "#Checking to see how much % of data still remains\n",
    "(final['Id'].size*1.0)/(filtered_data['Id'].size*1.0)*100"
   ]
  },
  {
   "cell_type": "markdown",
   "metadata": {
    "colab_type": "text",
    "id": "TJgBqjFthOc5"
   },
   "source": [
    "<b>Observation:-</b> It was also seen that in two rows given below the value of HelpfulnessNumerator is greater than HelpfulnessDenominator which is not practically possible hence these two rows too are removed from calcualtions"
   ]
  },
  {
   "cell_type": "code",
   "execution_count": 11,
   "metadata": {
    "colab": {},
    "colab_type": "code",
    "id": "phXEG-A8hOc6",
    "outputId": "a0f32d8c-8a90-4d17-d6a3-faad7927cfd6"
   },
   "outputs": [
    {
     "data": {
      "text/html": [
       "<div>\n",
       "<style scoped>\n",
       "    .dataframe tbody tr th:only-of-type {\n",
       "        vertical-align: middle;\n",
       "    }\n",
       "\n",
       "    .dataframe tbody tr th {\n",
       "        vertical-align: top;\n",
       "    }\n",
       "\n",
       "    .dataframe thead th {\n",
       "        text-align: right;\n",
       "    }\n",
       "</style>\n",
       "<table border=\"1\" class=\"dataframe\">\n",
       "  <thead>\n",
       "    <tr style=\"text-align: right;\">\n",
       "      <th></th>\n",
       "      <th>Id</th>\n",
       "      <th>ProductId</th>\n",
       "      <th>UserId</th>\n",
       "      <th>ProfileName</th>\n",
       "      <th>HelpfulnessNumerator</th>\n",
       "      <th>HelpfulnessDenominator</th>\n",
       "      <th>Score</th>\n",
       "      <th>Time</th>\n",
       "      <th>Summary</th>\n",
       "      <th>Text</th>\n",
       "    </tr>\n",
       "  </thead>\n",
       "  <tbody>\n",
       "    <tr>\n",
       "      <th>0</th>\n",
       "      <td>64422</td>\n",
       "      <td>B000MIDROQ</td>\n",
       "      <td>A161DK06JJMCYF</td>\n",
       "      <td>J. E. Stephens \"Jeanne\"</td>\n",
       "      <td>3</td>\n",
       "      <td>1</td>\n",
       "      <td>5</td>\n",
       "      <td>1224892800</td>\n",
       "      <td>Bought This for My Son at College</td>\n",
       "      <td>My son loves spaghetti so I didn't hesitate or...</td>\n",
       "    </tr>\n",
       "    <tr>\n",
       "      <th>1</th>\n",
       "      <td>44737</td>\n",
       "      <td>B001EQ55RW</td>\n",
       "      <td>A2V0I904FH7ABY</td>\n",
       "      <td>Ram</td>\n",
       "      <td>3</td>\n",
       "      <td>2</td>\n",
       "      <td>4</td>\n",
       "      <td>1212883200</td>\n",
       "      <td>Pure cocoa taste with crunchy almonds inside</td>\n",
       "      <td>It was almost a 'love at first bite' - the per...</td>\n",
       "    </tr>\n",
       "  </tbody>\n",
       "</table>\n",
       "</div>"
      ],
      "text/plain": [
       "      Id   ProductId          UserId              ProfileName  \\\n",
       "0  64422  B000MIDROQ  A161DK06JJMCYF  J. E. Stephens \"Jeanne\"   \n",
       "1  44737  B001EQ55RW  A2V0I904FH7ABY                      Ram   \n",
       "\n",
       "   HelpfulnessNumerator  HelpfulnessDenominator  Score        Time  \\\n",
       "0                     3                       1      5  1224892800   \n",
       "1                     3                       2      4  1212883200   \n",
       "\n",
       "                                        Summary  \\\n",
       "0             Bought This for My Son at College   \n",
       "1  Pure cocoa taste with crunchy almonds inside   \n",
       "\n",
       "                                                Text  \n",
       "0  My son loves spaghetti so I didn't hesitate or...  \n",
       "1  It was almost a 'love at first bite' - the per...  "
      ]
     },
     "execution_count": 11,
     "metadata": {},
     "output_type": "execute_result"
    }
   ],
   "source": [
    "display= pd.read_sql_query(\"\"\"\n",
    "SELECT *\n",
    "FROM Reviews\n",
    "WHERE Score != 3 AND Id=44737 OR Id=64422\n",
    "ORDER BY ProductID\n",
    "\"\"\", con)\n",
    "\n",
    "display.head()"
   ]
  },
  {
   "cell_type": "code",
   "execution_count": 12,
   "metadata": {
    "colab": {},
    "colab_type": "code",
    "id": "gUVsGUkKhOdB"
   },
   "outputs": [],
   "source": [
    "final=final[final.HelpfulnessNumerator<=final.HelpfulnessDenominator]"
   ]
  },
  {
   "cell_type": "code",
   "execution_count": 13,
   "metadata": {
    "colab": {},
    "colab_type": "code",
    "id": "0kuLgMJWhOdI",
    "outputId": "0bf570bb-2de6-42f0-9864-983f0ab83861"
   },
   "outputs": [
    {
     "name": "stdout",
     "output_type": "stream",
     "text": [
      "(364171, 10)\n"
     ]
    },
    {
     "data": {
      "text/plain": [
       "1    307061\n",
       "0     57110\n",
       "Name: Score, dtype: int64"
      ]
     },
     "execution_count": 13,
     "metadata": {},
     "output_type": "execute_result"
    }
   ],
   "source": [
    "#Before starting the next phase of preprocessing lets see the number of entries left\n",
    "print(final.shape)\n",
    "\n",
    "#How many positive and negative reviews are present in our dataset?\n",
    "final['Score'].value_counts()"
   ]
  },
  {
   "cell_type": "code",
   "execution_count": 14,
   "metadata": {},
   "outputs": [
    {
     "data": {
      "text/plain": [
       "1    50000\n",
       "0    50000\n",
       "Name: Score, dtype: int64"
      ]
     },
     "execution_count": 14,
     "metadata": {},
     "output_type": "execute_result"
    }
   ],
   "source": [
    "#Sampling 100K points \n",
    "final=final.groupby('Score').apply(lambda x: x.sample(50000))#sampling equal number of points from each class\n",
    "final['Score'].value_counts()"
   ]
  },
  {
   "cell_type": "markdown",
   "metadata": {
    "colab_type": "text",
    "id": "HqqZIhgzhOdQ"
   },
   "source": [
    "#  [3] Preprocessing"
   ]
  },
  {
   "cell_type": "markdown",
   "metadata": {
    "colab_type": "text",
    "id": "e5_DCIIahOdS"
   },
   "source": [
    "## [3.1].  Preprocessing Review Text\n",
    "\n",
    "Now that we have finished deduplication our data requires some preprocessing before we go on further with analysis and making the prediction model.\n",
    "\n",
    "Hence in the Preprocessing phase we do the following in the order below:-\n",
    "\n",
    "1. Begin by removing the html tags\n",
    "2. Remove any punctuations or limited set of special characters like , or . or # etc.\n",
    "3. Check if the word is made up of english letters and is not alpha-numeric\n",
    "4. Check to see if the length of the word is greater than 2 (as it was researched that there is no adjective in 2-letters)\n",
    "5. Convert the word to lowercase\n",
    "6. Remove Stopwords\n",
    "7. Finally Snowball Stemming the word (it was obsereved to be better than Porter Stemming)<br>\n",
    "\n",
    "After which we collect the words used to describe positive and negative reviews"
   ]
  },
  {
   "cell_type": "code",
   "execution_count": 15,
   "metadata": {
    "colab": {},
    "colab_type": "code",
    "id": "_7w4A4z0hOdT",
    "outputId": "949be4a9-5908-46cc-e7e9-16d942d45bac"
   },
   "outputs": [
    {
     "name": "stdout",
     "output_type": "stream",
     "text": [
      "I do not reccommend this product...Moths flew right by it,,,an kept going. Other types bait traps have worked in the same area. Dee\n",
      "==================================================\n",
      "I've tried this a couple of time and both times the noodle just fell apart.  The taste was rather sweet, not like regular pasta.  Now searching for some better pasta substitute.\n",
      "==================================================\n",
      "I've finished this canister of tea but I won't be repurchasing, it's not very strong and the flavor is just okay.  Republic of Tea has some much yummier choices than this one (Pineapple Lychee Hibiscus and Chocolate Peppermint are two I'd recommend).<br /><br />Good:<br />-Caffeine free<br />-Tastes better than water<br /><br />Not so good:<br />-Not very flavorful - I typically like flavors from Republic of Tea but this tea is just kind of bland<br />-I can't really taste a distinct flavor or chocolate or strawberry, even if I steep it for a long time<br />-Smells better than it tastes\n",
      "==================================================\n",
      "This toy was an instant favorite with our golden retriever.  But he managed to tear open the top lip of the gators mouth within 8 hours, pull out all the stuffing and squeaker.  All the stuffing was out of the back of the gator by the next morning.  And there is a lot of stuffing (in order to make it so rugged).<br /><br />We gave it a 2 star rating, only because the dog LOVED it...but it didn't even last a day.  They should make metal dog toys or something...this dog is a demolition dog.\n",
      "==================================================\n"
     ]
    }
   ],
   "source": [
    "# printing some random reviews\n",
    "sent_0 = final['Text'].values[0]\n",
    "print(sent_0)\n",
    "print(\"=\"*50)\n",
    "\n",
    "sent_1000 = final['Text'].values[1000]\n",
    "print(sent_1000)\n",
    "print(\"=\"*50)\n",
    "\n",
    "sent_1500 = final['Text'].values[1500]\n",
    "print(sent_1500)\n",
    "print(\"=\"*50)\n",
    "\n",
    "sent_4900 = final['Text'].values[4900]\n",
    "print(sent_4900)\n",
    "print(\"=\"*50)"
   ]
  },
  {
   "cell_type": "code",
   "execution_count": 16,
   "metadata": {
    "colab": {},
    "colab_type": "code",
    "id": "b4PtkbGEhOdb",
    "outputId": "98b94705-ea64-4159-a6b7-c2e62aaea725"
   },
   "outputs": [
    {
     "name": "stdout",
     "output_type": "stream",
     "text": [
      "I do not reccommend this product...Moths flew right by it,,,an kept going. Other types bait traps have worked in the same area. Dee\n"
     ]
    }
   ],
   "source": [
    "# remove urls from text python: https://stackoverflow.com/a/40823105/4084039\n",
    "sent_0 = re.sub(r\"http\\S+\", \"\", sent_0)\n",
    "sent_1000 = re.sub(r\"http\\S+\", \"\", sent_1000)\n",
    "sent_150 = re.sub(r\"http\\S+\", \"\", sent_1500)\n",
    "sent_4900 = re.sub(r\"http\\S+\", \"\", sent_4900)\n",
    "\n",
    "print(sent_0)"
   ]
  },
  {
   "cell_type": "code",
   "execution_count": 17,
   "metadata": {
    "colab": {},
    "colab_type": "code",
    "id": "iWru1OuohOdg",
    "outputId": "660f9eda-f9d7-481c-9e75-2736c3ba55ed"
   },
   "outputs": [
    {
     "name": "stdout",
     "output_type": "stream",
     "text": [
      "I do not reccommend this product...Moths flew right by it,,,an kept going. Other types bait traps have worked in the same area. Dee\n",
      "==================================================\n",
      "I've tried this a couple of time and both times the noodle just fell apart.  The taste was rather sweet, not like regular pasta.  Now searching for some better pasta substitute.\n",
      "==================================================\n",
      "I've finished this canister of tea but I won't be repurchasing, it's not very strong and the flavor is just okay.  Republic of Tea has some much yummier choices than this one (Pineapple Lychee Hibiscus and Chocolate Peppermint are two I'd recommend).Good:-Caffeine free-Tastes better than waterNot so good:-Not very flavorful - I typically like flavors from Republic of Tea but this tea is just kind of bland-I can't really taste a distinct flavor or chocolate or strawberry, even if I steep it for a long time-Smells better than it tastes\n",
      "==================================================\n",
      "This toy was an instant favorite with our golden retriever.  But he managed to tear open the top lip of the gators mouth within 8 hours, pull out all the stuffing and squeaker.  All the stuffing was out of the back of the gator by the next morning.  And there is a lot of stuffing (in order to make it so rugged).We gave it a 2 star rating, only because the dog LOVED it...but it didn't even last a day.  They should make metal dog toys or something...this dog is a demolition dog.\n"
     ]
    }
   ],
   "source": [
    "# https://stackoverflow.com/questions/16206380/python-beautifulsoup-how-to-remove-all-tags-from-an-element\n",
    "from bs4 import BeautifulSoup\n",
    "\n",
    "soup = BeautifulSoup(sent_0, 'lxml')\n",
    "text = soup.get_text()\n",
    "print(text)\n",
    "print(\"=\"*50)\n",
    "\n",
    "soup = BeautifulSoup(sent_1000, 'lxml')\n",
    "text = soup.get_text()\n",
    "print(text)\n",
    "print(\"=\"*50)\n",
    "\n",
    "soup = BeautifulSoup(sent_1500, 'lxml')\n",
    "text = soup.get_text()\n",
    "print(text)\n",
    "print(\"=\"*50)\n",
    "\n",
    "soup = BeautifulSoup(sent_4900, 'lxml')\n",
    "text = soup.get_text()\n",
    "print(text)"
   ]
  },
  {
   "cell_type": "code",
   "execution_count": 18,
   "metadata": {
    "colab": {},
    "colab_type": "code",
    "id": "ePb6MeuhhOdl"
   },
   "outputs": [],
   "source": [
    "# https://stackoverflow.com/a/47091490/4084039\n",
    "import re\n",
    "\n",
    "def decontracted(phrase):\n",
    "    # specific\n",
    "    phrase = re.sub(r\"won't\", \"will not\", phrase)\n",
    "    phrase = re.sub(r\"can\\'t\", \"can not\", phrase)\n",
    "\n",
    "    # general\n",
    "    phrase = re.sub(r\"n\\'t\", \" not\", phrase)\n",
    "    phrase = re.sub(r\"\\'re\", \" are\", phrase)\n",
    "    phrase = re.sub(r\"\\'s\", \" is\", phrase)\n",
    "    phrase = re.sub(r\"\\'d\", \" would\", phrase)\n",
    "    phrase = re.sub(r\"\\'ll\", \" will\", phrase)\n",
    "    phrase = re.sub(r\"\\'t\", \" not\", phrase)\n",
    "    phrase = re.sub(r\"\\'ve\", \" have\", phrase)\n",
    "    phrase = re.sub(r\"\\'m\", \" am\", phrase)\n",
    "    return phrase"
   ]
  },
  {
   "cell_type": "code",
   "execution_count": 19,
   "metadata": {
    "colab": {},
    "colab_type": "code",
    "id": "HzwvFJDehOdo",
    "outputId": "62826fef-13d0-482c-ec43-704cf0b8d10c"
   },
   "outputs": [
    {
     "name": "stdout",
     "output_type": "stream",
     "text": [
      "I have finished this canister of tea but I will not be repurchasing, it is not very strong and the flavor is just okay.  Republic of Tea has some much yummier choices than this one (Pineapple Lychee Hibiscus and Chocolate Peppermint are two I would recommend).<br /><br />Good:<br />-Caffeine free<br />-Tastes better than water<br /><br />Not so good:<br />-Not very flavorful - I typically like flavors from Republic of Tea but this tea is just kind of bland<br />-I can not really taste a distinct flavor or chocolate or strawberry, even if I steep it for a long time<br />-Smells better than it tastes\n",
      "==================================================\n"
     ]
    }
   ],
   "source": [
    "sent_1500 = decontracted(sent_1500)\n",
    "print(sent_1500)\n",
    "print(\"=\"*50)"
   ]
  },
  {
   "cell_type": "code",
   "execution_count": 20,
   "metadata": {
    "colab": {},
    "colab_type": "code",
    "id": "UUZR1nOUhOdv",
    "outputId": "f30e0e96-e475-4c6c-9600-630203589b0a"
   },
   "outputs": [
    {
     "name": "stdout",
     "output_type": "stream",
     "text": [
      "I do not reccommend this product...Moths flew right by it,,,an kept going. Other types bait traps have worked in the same area. Dee\n"
     ]
    }
   ],
   "source": [
    "#remove words with numbers python: https://stackoverflow.com/a/18082370/4084039\n",
    "sent_0 = re.sub(\"\\S*\\d\\S*\", \"\", sent_0).strip()\n",
    "print(sent_0)"
   ]
  },
  {
   "cell_type": "code",
   "execution_count": 21,
   "metadata": {
    "colab": {},
    "colab_type": "code",
    "id": "hW-euVCwhOdz",
    "outputId": "8eae07e8-9e36-41e0-ce8f-de84b599bdd9"
   },
   "outputs": [
    {
     "name": "stdout",
     "output_type": "stream",
     "text": [
      "I have finished this canister of tea but I will not be repurchasing it is not very strong and the flavor is just okay Republic of Tea has some much yummier choices than this one Pineapple Lychee Hibiscus and Chocolate Peppermint are two I would recommend br br Good br Caffeine free br Tastes better than water br br Not so good br Not very flavorful I typically like flavors from Republic of Tea but this tea is just kind of bland br I can not really taste a distinct flavor or chocolate or strawberry even if I steep it for a long time br Smells better than it tastes\n"
     ]
    }
   ],
   "source": [
    "#remove spacial character: https://stackoverflow.com/a/5843547/4084039\n",
    "sent_1500 = re.sub('[^A-Za-z0-9]+', ' ', sent_1500)\n",
    "print(sent_1500)"
   ]
  },
  {
   "cell_type": "code",
   "execution_count": 22,
   "metadata": {
    "colab": {},
    "colab_type": "code",
    "id": "bJ-qUgtghOd3"
   },
   "outputs": [],
   "source": [
    "# https://gist.github.com/sebleier/554280\n",
    "# we are removing the words from the stop words list: 'no', 'nor', 'not'\n",
    "# <br /><br /> ==> after the above steps, we are getting \"br br\"\n",
    "# we are including them into stop words list\n",
    "# instead of <br /> if we have <br/> these tags would have revmoved in the 1st step\n",
    "\n",
    "stopwords= set(['br', 'the', 'i', 'me', 'my', 'myself', 'we', 'our', 'ours', 'ourselves', 'you', \"you're\", \"you've\",\\\n",
    "            \"you'll\", \"you'd\", 'your', 'yours', 'yourself', 'yourselves', 'he', 'him', 'his', 'himself', \\\n",
    "            'she', \"she's\", 'her', 'hers', 'herself', 'it', \"it's\", 'its', 'itself', 'they', 'them', 'their',\\\n",
    "            'theirs', 'themselves', 'what', 'which', 'who', 'whom', 'this', 'that', \"that'll\", 'these', 'those', \\\n",
    "            'am', 'is', 'are', 'was', 'were', 'be', 'been', 'being', 'have', 'has', 'had', 'having', 'do', 'does', \\\n",
    "            'did', 'doing', 'a', 'an', 'the', 'and', 'but', 'if', 'or', 'because', 'as', 'until', 'while', 'of', \\\n",
    "            'at', 'by', 'for', 'with', 'about', 'against', 'between', 'into', 'through', 'during', 'before', 'after',\\\n",
    "            'above', 'below', 'to', 'from', 'up', 'down', 'in', 'out', 'on', 'off', 'over', 'under', 'again', 'further',\\\n",
    "            'then', 'once', 'here', 'there', 'when', 'where', 'why', 'how', 'all', 'any', 'both', 'each', 'few', 'more',\\\n",
    "            'most', 'other', 'some', 'such', 'only', 'own', 'same', 'so', 'than', 'too', 'very', \\\n",
    "            's', 't', 'can', 'will', 'just', 'don', \"don't\", 'should', \"should've\", 'now', 'd', 'll', 'm', 'o', 're', \\\n",
    "            've', 'y', 'ain', 'aren', \"aren't\", 'couldn', \"couldn't\", 'didn', \"didn't\", 'doesn', \"doesn't\", 'hadn',\\\n",
    "            \"hadn't\", 'hasn', \"hasn't\", 'haven', \"haven't\", 'isn', \"isn't\", 'ma', 'mightn', \"mightn't\", 'mustn',\\\n",
    "            \"mustn't\", 'needn', \"needn't\", 'shan', \"shan't\", 'shouldn', \"shouldn't\", 'wasn', \"wasn't\", 'weren', \"weren't\", \\\n",
    "            'won', \"won't\", 'wouldn', \"wouldn't\"])"
   ]
  },
  {
   "cell_type": "code",
   "execution_count": 23,
   "metadata": {
    "colab": {},
    "colab_type": "code",
    "id": "Pgs10RA-hOd7",
    "outputId": "2486c0a2-a211-4f25-b8cd-6f3f717bc22c"
   },
   "outputs": [
    {
     "name": "stderr",
     "output_type": "stream",
     "text": [
      "100%|████████████████████████████████| 100000/100000 [00:59<00:00, 1673.18it/s]\n"
     ]
    }
   ],
   "source": [
    "# Combining all the above stundents \n",
    "from tqdm import tqdm\n",
    "preprocessed_reviews = []\n",
    "# tqdm is for printing the status bar\n",
    "for sentance in tqdm(final['Text'].values):\n",
    "    sentance = re.sub(r\"http\\S+\", \"\", sentance)\n",
    "    sentance = BeautifulSoup(sentance, 'lxml').get_text()\n",
    "    sentance = decontracted(sentance)\n",
    "    sentance = re.sub(\"\\S*\\d\\S*\", \"\", sentance).strip()\n",
    "    sentance = re.sub('[^A-Za-z]+', ' ', sentance)\n",
    "    # https://gist.github.com/sebleier/554280\n",
    "    sentance = ' '.join(e.lower() for e in sentance.split() if e.lower() not in stopwords)\n",
    "    preprocessed_reviews.append(sentance.strip())"
   ]
  },
  {
   "cell_type": "code",
   "execution_count": 24,
   "metadata": {
    "colab": {},
    "colab_type": "code",
    "id": "MOs_Unt3hOeA",
    "outputId": "2a363713-e6f2-4397-d603-c8040fd76009"
   },
   "outputs": [
    {
     "data": {
      "text/plain": [
       "'finished canister tea not repurchasing not strong flavor okay republic tea much yummier choices one pineapple lychee hibiscus chocolate peppermint two would recommend good caffeine free tastes better waternot good not flavorful typically like flavors republic tea tea kind bland not really taste distinct flavor chocolate strawberry even steep long time smells better tastes'"
      ]
     },
     "execution_count": 24,
     "metadata": {},
     "output_type": "execute_result"
    }
   ],
   "source": [
    "preprocessed_reviews[1500]"
   ]
  },
  {
   "cell_type": "code",
   "execution_count": 25,
   "metadata": {},
   "outputs": [],
   "source": [
    "#adding a column of CleanedText which displays the data after pre-processing of the review \n",
    "final['CleanedText']=preprocessed_reviews"
   ]
  },
  {
   "cell_type": "code",
   "execution_count": 26,
   "metadata": {},
   "outputs": [],
   "source": [
    "from sklearn.grid_search import GridSearchCV\n",
    "from sklearn.linear_model import LogisticRegression\n",
    "from sklearn.cross_validation import train_test_split\n",
    "from sklearn.metrics import accuracy_score\n",
    "from sklearn.cross_validation import cross_val_score\n",
    "from collections import Counter\n",
    "from sklearn import cross_validation\n",
    "from sklearn.preprocessing import StandardScaler\n"
   ]
  },
  {
   "cell_type": "code",
   "execution_count": 27,
   "metadata": {},
   "outputs": [],
   "source": [
    "#Storing processed reviews and corresponding Scores separately\n",
    "X = np.array(final['CleanedText'])\n",
    "Y = np.array(final['Score']) \n",
    "\n"
   ]
  },
  {
   "cell_type": "code",
   "execution_count": 28,
   "metadata": {},
   "outputs": [],
   "source": [
    "#Train Test Splitcross_validation.train_test_split\n",
    "X_train, X_test, Y_train, Y_test = cross_validation.train_test_split (X, Y, test_size=0.3, random_state=0)"
   ]
  },
  {
   "cell_type": "code",
   "execution_count": 29,
   "metadata": {},
   "outputs": [],
   "source": [
    "#split the train data set into cross validation train and cross validation test\n",
    "X_tr, X_cv, Y_tr, Y_cv = cross_validation.train_test_split(X_train, Y_train, test_size=0.3)"
   ]
  },
  {
   "cell_type": "markdown",
   "metadata": {
    "colab_type": "text",
    "id": "aPtd7arjhOeF"
   },
   "source": [
    "<h2><font color='red'>[3.2] Preprocessing Review Summary</font></h2>"
   ]
  },
  {
   "cell_type": "code",
   "execution_count": 30,
   "metadata": {
    "colab": {},
    "colab_type": "code",
    "id": "zV6Bxh78hOeH"
   },
   "outputs": [
    {
     "name": "stderr",
     "output_type": "stream",
     "text": [
      "100%|████████████████████████████████| 100000/100000 [00:37<00:00, 2662.11it/s]\n"
     ]
    }
   ],
   "source": [
    "preprocessed_summary = []\n",
    "# tqdm is for printing the status bar\n",
    "for sentance in tqdm(final['Summary'].values):\n",
    "    sentance = re.sub(r\"http\\S+\", \"\", sentance)\n",
    "    sentance = BeautifulSoup(sentance, 'lxml').get_text()\n",
    "    sentance = decontracted(sentance)\n",
    "    sentance = re.sub(\"\\S*\\d\\S*\", \"\", sentance).strip()\n",
    "    sentance = re.sub('[^A-Za-z]+', ' ', sentance)\n",
    "    # https://gist.github.com/sebleier/554280\n",
    "    sentance = ' '.join(e.lower() for e in sentance.split() if e.lower() not in stopwords)\n",
    "    preprocessed_summary.append(sentance.strip())"
   ]
  },
  {
   "cell_type": "markdown",
   "metadata": {
    "colab_type": "text",
    "id": "LU9lZ-YvhOeL"
   },
   "source": [
    "# [4] Featurization"
   ]
  },
  {
   "cell_type": "markdown",
   "metadata": {
    "colab_type": "text",
    "id": "z1JR3fzIhOeM"
   },
   "source": [
    "## [4.1] BAG OF WORDS"
   ]
  },
  {
   "cell_type": "code",
   "execution_count": 31,
   "metadata": {
    "colab": {},
    "colab_type": "code",
    "id": "nB4gnZ_jhOeP",
    "outputId": "99c1f8bb-1dd5-40fd-b154-0154ec78a8c3"
   },
   "outputs": [
    {
     "name": "stdout",
     "output_type": "stream",
     "text": [
      "some feature names  ['aa', 'aaa', 'aaaaa', 'aaaaaaaaaaaaaaaaacccccccckkkkkk', 'aaaaaaarrrrrggghhh', 'aaaaaah', 'aaaaaahhhhh', 'aaaaaahhhhhyaaaaaa', 'aaaah', 'aaaahhhhhh']\n"
     ]
    }
   ],
   "source": [
    "#BoW\n",
    "#BoW \n",
    "count_vect = CountVectorizer() #in scikit-learn\n",
    "final_counts=count_vect.fit(X_train)\n",
    "print(\"some feature names \", count_vect.get_feature_names()[:10])\n",
    "\n",
    "Xtrain_bow = count_vect.transform(X_train)\n",
    "Xtest_bow=count_vect.transform(X_test)\n",
    "\n"
   ]
  },
  {
   "cell_type": "markdown",
   "metadata": {
    "colab_type": "text",
    "id": "gUnt7sIVhOeV"
   },
   "source": [
    "## [4.2] Bi-Grams and n-Grams."
   ]
  },
  {
   "cell_type": "code",
   "execution_count": 32,
   "metadata": {
    "colab": {},
    "colab_type": "code",
    "id": "pggPEO3UhOeW",
    "outputId": "c2626c94-5925-413f-c8a0-072363a852c1"
   },
   "outputs": [],
   "source": [
    "#bi-gram, tri-gram and n-gram\n",
    "\n",
    "#removing stop words like \"not\" should be avoided before building n-grams\n",
    "# count_vect = CountVectorizer(ngram_range=(1,2))\n",
    "count_vect = CountVectorizer(ngram_range=(1,2), min_df=10, max_features=5000)\n",
    "final_counts=count_vect.fit(X_train)\n",
    "\n",
    "Xtrain_bbw = final_counts.transform(X_train)\n",
    "Xtest_bbw = final_counts.transform(X_test)\n",
    "\n",
    "\n"
   ]
  },
  {
   "cell_type": "code",
   "execution_count": 33,
   "metadata": {},
   "outputs": [],
   "source": [
    "count_vect = CountVectorizer(ngram_range=(1,2), min_df=10, max_features=5000)\n",
    "final_counts=count_vect.fit(X_tr)\n",
    "\n",
    "Xtr_bbw = final_counts.transform(X_tr)\n",
    "Xcv_bbw = final_counts.transform(X_cv)\n"
   ]
  },
  {
   "cell_type": "markdown",
   "metadata": {
    "colab_type": "text",
    "id": "n-tmYjXvhOeb"
   },
   "source": [
    "## [4.3] TF-IDF"
   ]
  },
  {
   "cell_type": "code",
   "execution_count": 34,
   "metadata": {
    "colab": {},
    "colab_type": "code",
    "id": "_S37fXr7hOec",
    "outputId": "160c1283-db12-4df9-d4e4-3b58b46a01e9",
    "scrolled": true
   },
   "outputs": [
    {
     "name": "stdout",
     "output_type": "stream",
     "text": [
      "some sample features(unique words in the corpus) ['aa', 'aafco', 'abandoned', 'abc', 'abdominal', 'abdominal pain', 'ability', 'able', 'able break', 'able buy']\n"
     ]
    }
   ],
   "source": [
    "tf_idf_vect = TfidfVectorizer(ngram_range=(1,2), min_df=10)\n",
    "final_counts=tf_idf_vect.fit(X_train)\n",
    "print(\"some sample features(unique words in the corpus)\",tf_idf_vect.get_feature_names()[0:10])\n",
    "\n",
    "Xtrain_tf = final_counts.transform(X_train)\n",
    "Xtest_tf=final_counts.transform(X_test)\n"
   ]
  },
  {
   "cell_type": "code",
   "execution_count": 35,
   "metadata": {},
   "outputs": [
    {
     "name": "stdout",
     "output_type": "stream",
     "text": [
      "some sample features(unique words in the corpus) ['abandoned', 'abdominal', 'ability', 'able', 'able buy', 'able chew', 'able drink', 'able eat', 'able enjoy', 'able find']\n"
     ]
    }
   ],
   "source": [
    "tf_idf_vect = TfidfVectorizer(ngram_range=(1,2), min_df=10)\n",
    "final_counts=tf_idf_vect.fit(X_tr)\n",
    "print(\"some sample features(unique words in the corpus)\",tf_idf_vect.get_feature_names()[0:10])\n",
    "\n",
    "Xtr_tf = final_counts.transform(X_tr)\n",
    "Xcv_tf=final_counts.transform(X_cv)\n"
   ]
  },
  {
   "cell_type": "markdown",
   "metadata": {
    "colab_type": "text",
    "id": "k-hI6UdUhOei"
   },
   "source": [
    "## [4.4] Word2Vec"
   ]
  },
  {
   "cell_type": "code",
   "execution_count": 36,
   "metadata": {
    "colab": {},
    "colab_type": "code",
    "id": "7nJvnXmmhOej"
   },
   "outputs": [],
   "source": [
    "# Train your own Word2Vec model using your own train dataset\n",
    "i=0\n",
    "list_of_trainsent=[]\n",
    "for sentance in X_train:\n",
    "    list_of_trainsent.append(sentance.split())"
   ]
  },
  {
   "cell_type": "code",
   "execution_count": 37,
   "metadata": {
    "colab": {},
    "colab_type": "code",
    "id": "1x7NPjN0hOem",
    "outputId": "c15d55b1-73ef-4260-8f0e-3cc161d75f59",
    "scrolled": true
   },
   "outputs": [
    {
     "name": "stdout",
     "output_type": "stream",
     "text": [
      "[('awesome', 0.8853480219841003), ('wonderful', 0.8438490033149719), ('excellent', 0.8162620663642883), ('good', 0.8145248889923096), ('fantastic', 0.813098132610321), ('amazing', 0.7934725284576416), ('perfect', 0.778472900390625), ('terrific', 0.7434285879135132), ('nice', 0.7013876438140869), ('delicious', 0.6624270081520081)]\n",
      "==================================================\n",
      "[('nastiest', 0.8651926517486572), ('best', 0.7217779755592346), ('weakest', 0.6887000203132629), ('disgusting', 0.6493048667907715), ('blandest', 0.6411148309707642), ('vile', 0.6343632936477661), ('mildest', 0.6268278360366821), ('terrible', 0.6200587153434753), ('tastiest', 0.6180539727210999), ('toughest', 0.5916420817375183)]\n"
     ]
    }
   ],
   "source": [
    "# Using Google News Word2Vectors\n",
    "\n",
    "# in this project we are using a pretrained model by google\n",
    "# its 3.3G file, once you load this into your memory \n",
    "# it occupies ~9Gb, so please do this step only if you have >12G of ram\n",
    "# we will provide a pickle file wich contains a dict , \n",
    "# and it contains all our courpus words as keys and  model[word] as values\n",
    "# To use this code-snippet, download \"GoogleNews-vectors-negative300.bin\" \n",
    "# from https://drive.google.com/file/d/0B7XkCwpI5KDYNlNUTTlSS21pQmM/edit\n",
    "# it's 1.9GB in size.\n",
    "\n",
    "\n",
    "# http://kavita-ganesan.com/gensim-word2vec-tutorial-starter-code/#.W17SRFAzZPY\n",
    "# you can comment this whole cell\n",
    "# or change these varible according to your need\n",
    "\n",
    "is_your_ram_gt_16g=False\n",
    "want_to_use_google_w2v = False\n",
    "want_to_train_w2v = True\n",
    "\n",
    "if want_to_train_w2v:\n",
    "    # min_count = 5 considers only words that occured atleast 5 times\n",
    "    w2v_model=Word2Vec(list_of_trainsent,min_count=5,size=50, workers=4)\n",
    "    print(w2v_model.wv.most_similar('great'))\n",
    "    print('='*50)\n",
    "    print(w2v_model.wv.most_similar('worst'))\n",
    "    \n",
    "elif want_to_use_google_w2v and is_your_ram_gt_16g:\n",
    "    if os.path.isfile('GoogleNews-vectors-negative300.bin'):\n",
    "        w2v_model=KeyedVectors.load_word2vec_format('GoogleNews-vectors-negative300.bin', binary=True)\n",
    "        print(w2v_model.wv.most_similar('great'))\n",
    "        print(w2v_model.wv.most_similar('worst'))\n",
    "    else:\n",
    "        print(\"you don't have gogole's word2vec file, keep want_to_train_w2v = True, to train your own w2v \")"
   ]
  },
  {
   "cell_type": "code",
   "execution_count": 38,
   "metadata": {
    "colab": {},
    "colab_type": "code",
    "id": "gEgxIcXJhOep",
    "outputId": "283f7c18-bbb6-458b-c050-9a3c2b26a635"
   },
   "outputs": [
    {
     "name": "stdout",
     "output_type": "stream",
     "text": [
      "number of words that occured minimum 5 times  16527\n",
      "sample words  ['cold', 'plant', 'delivered', 'not', 'know', 'long', 'sat', 'outside', 'truck', 'must', 'gotten', 'frozen', 'transport', 'leaves', 'shriveled', 'dropped', 'looks', 'dead', 'hold', 'see', 'soda', 'person', 'sure', 'would', 'like', 'switch', 'loved', 'juice', 'carbonation', 'no', 'need', 'worry', 'strange', 'chemicals', 'artificial', 'sugars', 'could', 'taste', 'strawberry', 'watermelon', 'juices', 'also', 'grape', 'apple', 'combination', 'perfect', 'added', 'sugar', 'kind', 'contains']\n"
     ]
    }
   ],
   "source": [
    "w2v_words = list(w2v_model.wv.vocab)\n",
    "print(\"number of words that occured minimum 5 times \",len(w2v_words))\n",
    "print(\"sample words \", w2v_words[0:50])"
   ]
  },
  {
   "cell_type": "code",
   "execution_count": 39,
   "metadata": {},
   "outputs": [],
   "source": [
    "# Forming a list of test data sentences\n",
    "i=0\n",
    "list_of_testsent=[]\n",
    "for sentance in X_test:\n",
    "    list_of_testsent.append(sentance.split())"
   ]
  },
  {
   "cell_type": "code",
   "execution_count": 40,
   "metadata": {},
   "outputs": [],
   "source": [
    "# Train your own Word2Vec model using your own tr dataset\n",
    "i=0\n",
    "list_of_trsent=[]\n",
    "for sentance in X_tr:\n",
    "    list_of_trsent.append(sentance.split())"
   ]
  },
  {
   "cell_type": "code",
   "execution_count": 41,
   "metadata": {},
   "outputs": [
    {
     "name": "stdout",
     "output_type": "stream",
     "text": [
      "[('awesome', 0.8853480219841003), ('wonderful', 0.8438490033149719), ('excellent', 0.8162620663642883), ('good', 0.8145248889923096), ('fantastic', 0.813098132610321), ('amazing', 0.7934725284576416), ('perfect', 0.778472900390625), ('terrific', 0.7434285879135132), ('nice', 0.7013876438140869), ('delicious', 0.6624270081520081)]\n",
      "==================================================\n",
      "[('nastiest', 0.8651926517486572), ('best', 0.7217779755592346), ('weakest', 0.6887000203132629), ('disgusting', 0.6493048667907715), ('blandest', 0.6411148309707642), ('vile', 0.6343632936477661), ('mildest', 0.6268278360366821), ('terrible', 0.6200587153434753), ('tastiest', 0.6180539727210999), ('toughest', 0.5916420817375183)]\n"
     ]
    }
   ],
   "source": [
    "# Using Google News Word2Vectors\n",
    "\n",
    "# in this project we are using a pretrained model by google\n",
    "# its 3.3G file, once you load this into your memory \n",
    "# it occupies ~9Gb, so please do this step only if you have >12G of ram\n",
    "# we will provide a pickle file wich contains a dict , \n",
    "# and it contains all our courpus words as keys and  model[word] as values\n",
    "# To use this code-snippet, download \"GoogleNews-vectors-negative300.bin\" \n",
    "# from https://drive.google.com/file/d/0B7XkCwpI5KDYNlNUTTlSS21pQmM/edit\n",
    "# it's 1.9GB in size.\n",
    "\n",
    "\n",
    "# http://kavita-ganesan.com/gensim-word2vec-tutorial-starter-code/#.W17SRFAzZPY\n",
    "# you can comment this whole cell\n",
    "# or change these varible according to your need\n",
    "\n",
    "is_your_ram_gt_16g=False\n",
    "want_to_use_google_w2v = False\n",
    "want_to_train_w2v = True\n",
    "\n",
    "if want_to_train_w2v:\n",
    "    # min_count = 5 considers only words that occured atleast 5 times\n",
    "    w2v_trmodel=Word2Vec(list_of_trsent,min_count=5,size=50, workers=4)\n",
    "    print(w2v_model.wv.most_similar('great'))\n",
    "    print('='*50)\n",
    "    print(w2v_model.wv.most_similar('worst'))\n",
    "    \n",
    "elif want_to_use_google_w2v and is_your_ram_gt_16g:\n",
    "    if os.path.isfile('GoogleNews-vectors-negative300.bin'):\n",
    "        w2v_model=KeyedVectors.load_word2vec_format('GoogleNews-vectors-negative300.bin', binary=True)\n",
    "        print(w2v_model.wv.most_similar('great'))\n",
    "        print(w2v_model.wv.most_similar('worst'))\n",
    "    else:\n",
    "        print(\"you don't have gogole's word2vec file, keep want_to_train_w2v = True, to train your own w2v \")"
   ]
  },
  {
   "cell_type": "code",
   "execution_count": 42,
   "metadata": {},
   "outputs": [
    {
     "name": "stdout",
     "output_type": "stream",
     "text": [
      "number of words that occured minimum 5 times  14115\n",
      "sample words  ['seen', 'commercials', 'product', 'tv', 'excited', 'saw', 'could', 'try', 'free', 'amazon', 'vine', 'not', 'happy', 'first', 'received', 'plastic', 'bag', 'top', 'completely', 'open', 'bottom', 'sealed', 'result', 'shampoo', 'leaked', 'envelope', 'second', 'tried', 'days', 'really', 'liked', 'scent', 'anxious', 'extremely', 'thick', 'goopy', 'hard', 'rinse', 'hair', 'even', 'though', 'using', 'quarter', 'sized', 'amount', 'time', 'left', 'dull', 'heavy', 'greasy']\n"
     ]
    }
   ],
   "source": [
    "w2v_trwords = list(w2v_trmodel.wv.vocab)\n",
    "print(\"number of words that occured minimum 5 times \",len(w2v_trwords))\n",
    "print(\"sample words \", w2v_trwords[0:50])"
   ]
  },
  {
   "cell_type": "code",
   "execution_count": 43,
   "metadata": {},
   "outputs": [],
   "source": [
    "# Forming a list of test data sentences\n",
    "i=0\n",
    "list_of_cvsent=[]\n",
    "for sentance in X_cv:\n",
    "    list_of_cvsent.append(sentance.split())"
   ]
  },
  {
   "cell_type": "markdown",
   "metadata": {
    "colab_type": "text",
    "id": "VeJHzxdChOe1"
   },
   "source": [
    "## [4.4.1] Converting text into vectors using Avg W2V, TFIDF-W2V"
   ]
  },
  {
   "cell_type": "markdown",
   "metadata": {
    "colab_type": "text",
    "id": "kEtP0NjAhOe3"
   },
   "source": [
    "#### [4.4.1.1] Avg W2v"
   ]
  },
  {
   "cell_type": "code",
   "execution_count": 44,
   "metadata": {
    "colab": {},
    "colab_type": "code",
    "id": "0c-CqTsUhOe5",
    "outputId": "5dd4e5f2-274b-418c-b7c3-22e092196acb"
   },
   "outputs": [
    {
     "name": "stderr",
     "output_type": "stream",
     "text": [
      "100%|███████████████████████████████████| 70000/70000 [03:38<00:00, 320.72it/s]\n"
     ]
    },
    {
     "name": "stdout",
     "output_type": "stream",
     "text": [
      "70000\n",
      "50\n"
     ]
    }
   ],
   "source": [
    "# average Word2Vec for train data\n",
    "\n",
    "sent_trainvec = []; # the avg-w2v for each sentence/review is stored in this list\n",
    "for sent in tqdm(list_of_trainsent): # for each review/sentence\n",
    "    sent_vec = np.zeros(50) # as word vectors are of zero length 50, you might need to change this to 300 if you use google's w2v\n",
    "    cnt_words =0; # num of words with a valid vector in the sentence/review\n",
    "    for word in sent: # for each word in a review/sentence\n",
    "        if word in w2v_words:\n",
    "            vec = w2v_model.wv[word]\n",
    "            sent_vec += vec\n",
    "            cnt_words += 1\n",
    "    if cnt_words != 0:\n",
    "        sent_vec /= cnt_words\n",
    "    sent_trainvec.append(sent_vec)\n",
    "print(len(sent_trainvec))\n",
    "print(len(sent_trainvec[0]))"
   ]
  },
  {
   "cell_type": "code",
   "execution_count": 45,
   "metadata": {},
   "outputs": [
    {
     "name": "stderr",
     "output_type": "stream",
     "text": [
      "100%|███████████████████████████████████| 30000/30000 [01:36<00:00, 312.12it/s]\n"
     ]
    },
    {
     "name": "stdout",
     "output_type": "stream",
     "text": [
      "30000\n",
      "50\n"
     ]
    }
   ],
   "source": [
    "# average Word2Vec for test data\n",
    "\n",
    "sent_testvec = []; # the avg-w2v for each sentence/review is stored in this list\n",
    "for sent in tqdm(list_of_testsent): # for each review/sentence\n",
    "    sent_vec = np.zeros(50) # as word vectors are of zero length 50, you might need to change this to 300 if you use google's w2v\n",
    "    cnt_words =0; # num of words with a valid vector in the sentence/review\n",
    "    for word in sent: # for each word in a review/sentence\n",
    "        if word in w2v_words:\n",
    "            vec = w2v_model.wv[word]\n",
    "            sent_vec += vec\n",
    "            cnt_words += 1\n",
    "    if cnt_words != 0:\n",
    "        sent_vec /= cnt_words\n",
    "    sent_testvec.append(sent_vec)\n",
    "print(len(sent_testvec))\n",
    "print(len(sent_testvec[0]))"
   ]
  },
  {
   "cell_type": "code",
   "execution_count": 46,
   "metadata": {},
   "outputs": [
    {
     "name": "stderr",
     "output_type": "stream",
     "text": [
      "100%|███████████████████████████████████| 49000/49000 [02:12<00:00, 368.48it/s]\n"
     ]
    },
    {
     "name": "stdout",
     "output_type": "stream",
     "text": [
      "49000\n",
      "50\n"
     ]
    }
   ],
   "source": [
    "# average Word2Vec for tr data\n",
    "\n",
    "sent_trvec = []; # the avg-w2v for each sentence/review is stored in this list\n",
    "for sent in tqdm(list_of_trsent): # for each review/sentence\n",
    "    sent_vec = np.zeros(50) # as word vectors are of zero length 50, you might need to change this to 300 if you use google's w2v\n",
    "    cnt_words =0; # num of words with a valid vector in the sentence/review\n",
    "    for word in sent: # for each word in a review/sentence\n",
    "        if word in w2v_trwords:\n",
    "            vec = w2v_trmodel.wv[word]\n",
    "            sent_vec += vec\n",
    "            cnt_words += 1\n",
    "    if cnt_words != 0:\n",
    "        sent_vec /= cnt_words\n",
    "    sent_trvec.append(sent_vec)\n",
    "print(len(sent_trvec))\n",
    "print(len(sent_trvec[0]))"
   ]
  },
  {
   "cell_type": "code",
   "execution_count": 47,
   "metadata": {},
   "outputs": [
    {
     "name": "stderr",
     "output_type": "stream",
     "text": [
      "100%|███████████████████████████████████| 21000/21000 [00:57<00:00, 362.37it/s]\n"
     ]
    },
    {
     "name": "stdout",
     "output_type": "stream",
     "text": [
      "21000\n",
      "50\n"
     ]
    }
   ],
   "source": [
    "# average Word2Vec for cv data\n",
    "\n",
    "sent_cvec = []; # the avg-w2v for each sentence/review is stored in this list\n",
    "for sent in tqdm(list_of_cvsent): # for each review/sentence\n",
    "    sent_vec = np.zeros(50) # as word vectors are of zero length 50, you might need to change this to 300 if you use google's w2v\n",
    "    cnt_words =0; # num of words with a valid vector in the sentence/review\n",
    "    for word in sent: # for each word in a review/sentence\n",
    "        if word in w2v_trwords:\n",
    "            vec = w2v_trmodel.wv[word]\n",
    "            sent_vec += vec\n",
    "            cnt_words += 1\n",
    "    if cnt_words != 0:\n",
    "        sent_vec /= cnt_words\n",
    "    sent_cvec.append(sent_vec)\n",
    "print(len(sent_cvec))\n",
    "print(len(sent_cvec[0]))"
   ]
  },
  {
   "cell_type": "markdown",
   "metadata": {
    "colab_type": "text",
    "id": "kJFEBeePhOfF"
   },
   "source": [
    "#### [4.4.1.2] TFIDF weighted W2v"
   ]
  },
  {
   "cell_type": "code",
   "execution_count": 48,
   "metadata": {
    "colab": {},
    "colab_type": "code",
    "id": "oIvQA5TXhOfG"
   },
   "outputs": [],
   "source": [
    "# S = [\"abc def pqr\", \"def def def abc\", \"pqr pqr def\"]\n",
    "model = TfidfVectorizer()\n",
    "final_counts= model.fit(X_train)\n",
    "Xtrain_tfidf=final_counts.transform(X_train)\n",
    "Xtest_tfidf=final_counts.transform(X_test)\n",
    "\n",
    "# we are converting a dictionary with word as a key, and the idf as a value\n",
    "dictionary = dict(zip(model.get_feature_names(), list(model.idf_)))"
   ]
  },
  {
   "cell_type": "code",
   "execution_count": 49,
   "metadata": {
    "colab": {},
    "colab_type": "code",
    "id": "t8MIFyv6hOfJ",
    "outputId": "124d8aa8-cc53-4656-aa33-32cefacde964"
   },
   "outputs": [
    {
     "name": "stderr",
     "output_type": "stream",
     "text": [
      "100%|████████████████████████████████████| 70000/70000 [59:44<00:00, 19.53it/s]\n"
     ]
    }
   ],
   "source": [
    "# TF-IDF weighted Word2Vec for train data\n",
    "tfidf_feat = model.get_feature_names() # tfidf words/col-names\n",
    "# final_tf_idf is the sparse matrix with row= sentence, col=word and cell_val = tfidf\n",
    "\n",
    "tfw2v_train = []; # the tfidf-w2v for each sentence/review is stored in this list\n",
    "row=0;\n",
    "for sent in tqdm(list_of_trainsent): # for each review/sentence \n",
    "    sent_vec = np.zeros(50) # as word vectors are of zero length\n",
    "    weight_sum =0; # num of words with a valid vector in the sentence/review\n",
    "    for word in sent: # for each word in a review/sentence\n",
    "        if word in w2v_words and word in tfidf_feat:\n",
    "            vec = w2v_model.wv[word]\n",
    "#             tf_idf = tf_idf_matrix[row, tfidf_feat.index(word)]\n",
    "            # to reduce the computation we are \n",
    "            # dictionary[word] = idf value of word in whole courpus\n",
    "            # sent.count(word) = tf valeus of word in this review\n",
    "            tf_idf = dictionary[word]*(sent.count(word)/len(sent))\n",
    "            sent_vec += (vec * tf_idf)\n",
    "            weight_sum += tf_idf\n",
    "    if weight_sum != 0:\n",
    "        sent_vec /= weight_sum\n",
    "    tfw2v_train.append(sent_vec)\n",
    "    row += 1"
   ]
  },
  {
   "cell_type": "code",
   "execution_count": 50,
   "metadata": {},
   "outputs": [
    {
     "name": "stderr",
     "output_type": "stream",
     "text": [
      "100%|████████████████████████████████████| 30000/30000 [25:41<00:00, 19.46it/s]\n"
     ]
    }
   ],
   "source": [
    "# TF-IDF weighted Word2Vec for test data\n",
    "tfidf_feat = model.get_feature_names() # tfidf words/col-names\n",
    "# final_tf_idf is the sparse matrix with row= sentence, col=word and cell_val = tfidf\n",
    "\n",
    "tfw2v_test = []; # the tfidf-w2v for each sentence/review is stored in this list\n",
    "row=0;\n",
    "for sent in tqdm(list_of_testsent): # for each review/sentence \n",
    "    sent_vec = np.zeros(50) # as word vectors are of zero length\n",
    "    weight_sum =0; # num of words with a valid vector in the sentence/review\n",
    "    for word in sent: # for each word in a review/sentence\n",
    "        if word in w2v_words and word in tfidf_feat:\n",
    "            vec = w2v_model.wv[word]\n",
    "#             tf_idf = tf_idf_matrix[row, tfidf_feat.index(word)]\n",
    "            # to reduce the computation we are \n",
    "            # dictionary[word] = idf value of word in whole courpus\n",
    "            # sent.count(word) = tf valeus of word in this review\n",
    "            tf_idf = dictionary[word]*(sent.count(word)/len(sent))\n",
    "            sent_vec += (vec * tf_idf)\n",
    "            weight_sum += tf_idf\n",
    "    if weight_sum != 0:\n",
    "        sent_vec /= weight_sum\n",
    "    tfw2v_test.append(sent_vec)\n",
    "    row += 1"
   ]
  },
  {
   "cell_type": "code",
   "execution_count": 51,
   "metadata": {},
   "outputs": [],
   "source": [
    "# S = [\"abc def pqr\", \"def def def abc\", \"pqr pqr def\"]\n",
    "model = TfidfVectorizer()\n",
    "final_counts= model.fit(X_tr)\n",
    "# we are converting a dictionary with word as a key, and the idf as a value\n",
    "dictionary = dict(zip(model.get_feature_names(), list(model.idf_)))"
   ]
  },
  {
   "cell_type": "code",
   "execution_count": 52,
   "metadata": {},
   "outputs": [
    {
     "name": "stderr",
     "output_type": "stream",
     "text": [
      "100%|████████████████████████████████████| 49000/49000 [34:23<00:00, 23.74it/s]\n"
     ]
    }
   ],
   "source": [
    "# TF-IDF weighted Word2Vec for tr data\n",
    "tfidf_feat = model.get_feature_names() # tfidf words/col-names\n",
    "# final_tf_idf is the sparse matrix with row= sentence, col=word and cell_val = tfidf\n",
    "\n",
    "tfw2v_tr = []; # the tfidf-w2v for each sentence/review is stored in this list\n",
    "row=0;\n",
    "for sent in tqdm(list_of_trsent): # for each review/sentence \n",
    "    sent_vec = np.zeros(50) # as word vectors are of zero length\n",
    "    weight_sum =0; # num of words with a valid vector in the sentence/review\n",
    "    for word in sent: # for each word in a review/sentence\n",
    "        if word in w2v_trwords and word in tfidf_feat:\n",
    "            vec = w2v_trmodel.wv[word]\n",
    "#             tf_idf = tf_idf_matrix[row, tfidf_feat.index(word)]\n",
    "            # to reduce the computation we are \n",
    "            # dictionary[word] = idf value of word in whole courpus\n",
    "            # sent.count(word) = tf valeus of word in this review\n",
    "            tf_idf = dictionary[word]*(sent.count(word)/len(sent))\n",
    "            sent_vec += (vec * tf_idf)\n",
    "            weight_sum += tf_idf\n",
    "    if weight_sum != 0:\n",
    "        sent_vec /= weight_sum\n",
    "    tfw2v_tr.append(sent_vec)\n",
    "    row += 1"
   ]
  },
  {
   "cell_type": "code",
   "execution_count": 53,
   "metadata": {},
   "outputs": [
    {
     "name": "stderr",
     "output_type": "stream",
     "text": [
      "100%|████████████████████████████████████| 21000/21000 [14:47<00:00, 23.67it/s]\n"
     ]
    }
   ],
   "source": [
    "# TF-IDF weighted Word2Vec for cv data\n",
    "tfidf_feat = model.get_feature_names() # tfidf words/col-names\n",
    "# final_tf_idf is the sparse matrix with row= sentence, col=word and cell_val = tfidf\n",
    "\n",
    "tfw2v_cv = []; # the tfidf-w2v for each sentence/review is stored in this list\n",
    "row=0;\n",
    "for sent in tqdm(list_of_cvsent): # for each review/sentence \n",
    "    sent_vec = np.zeros(50) # as word vectors are of zero length\n",
    "    weight_sum =0; # num of words with a valid vector in the sentence/review\n",
    "    for word in sent: # for each word in a review/sentence\n",
    "        if word in w2v_trwords and word in tfidf_feat:\n",
    "            vec = w2v_trmodel.wv[word]\n",
    "#             tf_idf = tf_idf_matrix[row, tfidf_feat.index(word)]\n",
    "            # to reduce the computation we are \n",
    "            # dictionary[word] = idf value of word in whole courpus\n",
    "            # sent.count(word) = tf valeus of word in this review\n",
    "            tf_idf = dictionary[word]*(sent.count(word)/len(sent))\n",
    "            sent_vec += (vec * tf_idf)\n",
    "            weight_sum += tf_idf\n",
    "    if weight_sum != 0:\n",
    "        sent_vec /= weight_sum\n",
    "    tfw2v_cv.append(sent_vec)\n",
    "    row += 1"
   ]
  },
  {
   "cell_type": "markdown",
   "metadata": {
    "colab_type": "text",
    "id": "4ld8SXJphOfR"
   },
   "source": [
    "# [5] Assignment 5: Apply Logistic Regression"
   ]
  },
  {
   "cell_type": "markdown",
   "metadata": {
    "colab_type": "text",
    "id": "2IsD6W-IhOfS"
   },
   "source": [
    "<ol>\n",
    "    <li><strong>Apply Logistic Regression on these feature sets</strong>\n",
    "        <ul>\n",
    "            <li><font color='red'>SET 1:</font>Review text, preprocessed one converted into vectors using (BOW)</li>\n",
    "            <li><font color='red'>SET 2:</font>Review text, preprocessed one converted into vectors using (TFIDF)</li>\n",
    "            <li><font color='red'>SET 3:</font>Review text, preprocessed one converted into vectors using (AVG W2v)</li>\n",
    "            <li><font color='red'>SET 4:</font>Review text, preprocessed one converted into vectors using (TFIDF W2v)</li>\n",
    "        </ul>\n",
    "    </li>\n",
    "    <br>\n",
    "    <li><strong>Hyper paramter tuning (find best hyper parameters corresponding the algorithm that you choose)</strong>\n",
    "        <ul>\n",
    "    <li>Find the best hyper parameter which will give the maximum <a href='https://www.appliedaicourse.com/course/applied-ai-course-online/lessons/receiver-operating-characteristic-curve-roc-curve-and-auc-1/'>AUC</a> value</li>\n",
    "    <li>Find the best hyper paramter using k-fold cross validation or simple cross validation data</li>\n",
    "    <li>Use gridsearch cv or randomsearch cv or you can also write your own for loops to do this task of hyperparameter tuning</li>          \n",
    "        </ul>\n",
    "    </li>\n",
    "    \n",
    "  "
   ]
  },
  {
   "cell_type": "markdown",
   "metadata": {
    "colab_type": "text",
    "id": "bSVo_69XhOfU"
   },
   "source": [
    "<h4><font color='red'>Note: Data Leakage</font></h4>\n",
    "\n",
    "1. There will be an issue of data-leakage if you vectorize the entire data and then split it into train/cv/test.\n",
    "2. To avoid the issue of data-leakag, make sure to split your data first and then vectorize it. \n",
    "3. While vectorizing your data, apply the method fit_transform() on you train data, and apply the method transform() on cv/test data.\n",
    "4. For more details please go through this <a href='https://soundcloud.com/applied-ai-course/leakage-bow-and-tfidf'>link.</a>"
   ]
  },
  {
   "cell_type": "markdown",
   "metadata": {
    "colab_type": "text",
    "id": "qlD1aQlchOfV"
   },
   "source": [
    "# Applying Logistic Regression"
   ]
  },
  {
   "cell_type": "markdown",
   "metadata": {
    "colab_type": "text",
    "id": "KAddMv4ZhOfV"
   },
   "source": [
    "## [5.1] Logistic Regression on BOW,<font color='red'> SET 1</font>"
   ]
  },
  {
   "cell_type": "markdown",
   "metadata": {
    "colab_type": "text",
    "id": "7Cp9koDihOfX"
   },
   "source": [
    "### [5.1.1] Applying Logistic Regression with L1 regularization on BOW,<font color='red'> SET 1</font>"
   ]
  },
  {
   "cell_type": "code",
   "execution_count": 48,
   "metadata": {
    "colab": {},
    "colab_type": "code",
    "id": "Xz-o_g13hOfX"
   },
   "outputs": [
    {
     "name": "stdout",
     "output_type": "stream",
     "text": [
      "\n",
      "The optimal C is 1.000000 \n"
     ]
    }
   ],
   "source": [
    "c=[10**-4, 10**-2, 10**0, 10**2, 10**4]\n",
    "cv_scores = []\n",
    "for i in c:\n",
    "    Log_R = LogisticRegression(penalty='l1',C=i)\n",
    "    scores = cross_val_score(Log_R,Xtrain_bbw,Y_train, cv=10, scoring='roc_auc')\n",
    "    cv_scores.append(scores.mean())\n",
    "    \n",
    "\n",
    "MAUC = [ x for x in cv_scores]\n",
    "optimal_c= c[MAUC.index(max(MAUC))]\n",
    "print('\\nThe optimal C is %f ' % optimal_c)"
   ]
  },
  {
   "cell_type": "code",
   "execution_count": 49,
   "metadata": {},
   "outputs": [
    {
     "name": "stdout",
     "output_type": "stream",
     "text": [
      "LogisticRegression(C=1, class_weight=None, dual=False, fit_intercept=True,\n",
      "          intercept_scaling=1, max_iter=100, multi_class='ovr', n_jobs=1,\n",
      "          penalty='l1', random_state=None, solver='liblinear', tol=0.0001,\n",
      "          verbose=0, warm_start=False)\n",
      "0.9551830572039854\n"
     ]
    }
   ],
   "source": [
    "tuned_parameters = [{'C': [10**-4, 10**-2, 10**0, 10**2, 10**4]}]\n",
    "model = GridSearchCV(LogisticRegression(penalty='l1'), tuned_parameters, scoring = 'roc_auc', cv=5)\n",
    "model.fit(Xtrain_bbw,Y_train)\n",
    "\n",
    "print(model.best_estimator_)\n",
    "print(model.score(Xtest_bbw, Y_test))"
   ]
  },
  {
   "cell_type": "code",
   "execution_count": 69,
   "metadata": {},
   "outputs": [],
   "source": [
    "#split the train data set into cross validation train and cross validation test\n",
    "X_tr, X_cv, Y_tr, Y_cv = cross_validation.train_test_split(Xtrain_bbw, Y_train, test_size=0.3)"
   ]
  },
  {
   "cell_type": "code",
   "execution_count": 72,
   "metadata": {},
   "outputs": [
    {
     "data": {
      "image/png": "[encoded data removed]",
      "text/plain": [
       "<matplotlib.figure.Figure at 0xa0780ea550>"
      ]
     },
     "metadata": {},
     "output_type": "display_data"
    }
   ],
   "source": [
    "#performance plot\n",
    "from sklearn.metrics import roc_auc_score\n",
    "\n",
    "c=[10**-4, 10**-2, 10**0, 10**2, 10**4]\n",
    "\n",
    "auc_train=[]\n",
    "auc_val=[]\n",
    "for item in c:\n",
    "    clf = LogisticRegression(penalty='l1',C=item)\n",
    "    clf.fit(X_tr,Y_tr)\n",
    "    pred_train = clf.predict_proba(X_tr)[:,1]\n",
    "    auc_train.append(roc_auc_score(Y_tr, pred_train))\n",
    "    \n",
    "    \n",
    "for item in c:\n",
    "    clf = LogisticRegression(penalty='l1',C=item)\n",
    "    clf.fit(X_cv,Y_cv)   \n",
    "    pred_val=clf.predict_proba(X_cv)[0:,1]\n",
    "    auc_val.append(roc_auc_score(Y_cv,pred_val))\n",
    "\n",
    "\n",
    "# plot misclassification error vs k \n",
    "plt.plot(c,auc_train )\n",
    "plt.plot(c,auc_val)\n",
    "plt.xlabel('Hyperparameter C')\n",
    "plt.ylabel('Area Under Roc Curve')\n",
    "plt.legend(['Train AUC','Validation AUC'])\n",
    "plt.show()\n",
    "\n"
   ]
  },
  {
   "cell_type": "code",
   "execution_count": 74,
   "metadata": {},
   "outputs": [
    {
     "name": "stdout",
     "output_type": "stream",
     "text": [
      "AUC: 0.954\n"
     ]
    },
    {
     "data": {
      "image/png": "[encoded data removed]",
      "text/plain": [
       "<matplotlib.figure.Figure at 0xa072e1a7f0>"
      ]
     },
     "metadata": {},
     "output_type": "display_data"
    }
   ],
   "source": [
    "#https://machinelearningmastery.com/roc-curves-and-precision-recall-curves-for-classification-in-python/\n",
    "from sklearn.metrics import roc_curve\n",
    "\n",
    "clf = LogisticRegression(penalty='l1',C=1)\n",
    "clf.fit(Xtrain_bbw,Y_train)\n",
    "# predict probabilities\n",
    "probs = clf.predict_proba(Xtest_bbw)\n",
    "# keep probabilities for the positive outcome only\n",
    "probs = probs[:, 1]\n",
    "# calculate AUC\n",
    "auc = roc_auc_score(Y_test, probs)\n",
    "print('AUC: %.3f' % auc)\n",
    "\n",
    "# calculate roc curve for train data\n",
    "prob=clf.predict_proba(Xtrain_bbw)\n",
    "probt=prob[:,1]\n",
    "tfpr, ttpr, thresholds = roc_curve(Y_train, probt)\n",
    "\n",
    "\n",
    "\n",
    "#calculate roc curve for test data\n",
    "fpr,tpr,threshols=roc_curve(Y_test,probs)\n",
    "\n",
    "\n",
    "\n",
    "\n",
    "# plot the roc curve for the model\n",
    "plt.plot(tfpr, ttpr, marker='.')\n",
    "plt.plot(fpr,tpr,marker='.')\n",
    "\n",
    "# plot no skill\n",
    "plt.plot([0, 1], [0, 1], linestyle='--')\n",
    "\n",
    "plt.xlabel('False Positive Rate')\n",
    "plt.ylabel('True Positive Rate')\n",
    "plt.title('ROC CURVE')\n",
    "plt.legend([\"Train data\",\"Test data\"])\n",
    "# show the plot\n",
    "plt.show()\n"
   ]
  },
  {
   "cell_type": "markdown",
   "metadata": {
    "colab_type": "text",
    "id": "RJIjaWARhOfa"
   },
   "source": [
    "#### [5.1.1.1] Calculating sparsity on weight vector obtained using L1 regularization on BOW,<font color='red'> SET 1</font>"
   ]
  },
  {
   "cell_type": "code",
   "execution_count": 75,
   "metadata": {
    "colab": {},
    "colab_type": "code",
    "id": "iKsnf5NwhOfa"
   },
   "outputs": [
    {
     "name": "stdout",
     "output_type": "stream",
     "text": [
      "\n",
      "\n",
      "For lambda=0.000100\n",
      "No of non zero elements=5000\n",
      "5000\n",
      "Error rate=11\n",
      "\n",
      "\n",
      "For lambda=0.010000\n",
      "No of non zero elements=4990\n",
      "4990\n",
      "Error rate=11\n",
      "\n",
      "\n",
      "For lambda=1.000000\n",
      "No of non zero elements=4112\n",
      "4112\n",
      "Error rate=10\n",
      "\n",
      "\n",
      "For lambda=100.000000\n",
      "No of non zero elements=220\n",
      "220\n",
      "Error rate=16\n",
      "\n",
      "\n",
      "For lambda=10000.000000\n",
      "No of non zero elements=1\n",
      "1\n",
      "Error rate=50\n"
     ]
    }
   ],
   "source": [
    " c= [10**4, 10**2, 10**0, 10**-2, 10**-4]\n",
    "\n",
    "for i in c:\n",
    "    clf = LogisticRegression( penalty='l1',C=i)\n",
    "    clf.fit(Xtrain_bbw,Y_train)\n",
    "    pred=clf.predict(Xtest_bbw)\n",
    "    w = clf.coef_\n",
    "    print('\\n')\n",
    "    print(\"For lambda=%f\" %(1/i))\n",
    "    print(\"No of non zero elements=%d\" %(np.count_nonzero(w)))\n",
    "    print(np.count_nonzero(w))\n",
    "    \n",
    "    acc=accuracy_score(Y_test,pred)*100\n",
    "    error=100-acc\n",
    "    print(\"Error rate=%d\" %error)\n",
    "     "
   ]
  },
  {
   "cell_type": "markdown",
   "metadata": {
    "colab_type": "text",
    "id": "PQ4MVgeNhOfd"
   },
   "source": [
    "### [5.1.2] Applying Logistic Regression with L2 regularization on BOW,<font color='red'> SET 1</font>"
   ]
  },
  {
   "cell_type": "code",
   "execution_count": 76,
   "metadata": {
    "colab": {},
    "colab_type": "code",
    "id": "a-j4moGyhOfg"
   },
   "outputs": [
    {
     "name": "stdout",
     "output_type": "stream",
     "text": [
      "\n",
      "The optimal C is 1.000000 \n"
     ]
    }
   ],
   "source": [
    "c=[10**-4, 10**-2, 10**0, 10**2, 10**4]\n",
    "cv_scores = []\n",
    "for i in c:\n",
    "    Log_R = LogisticRegression(penalty='l2',C=i)\n",
    "    scores = cross_val_score(Log_R,Xtrain_bbw,Y_train, cv=10, scoring='roc_auc')\n",
    "    cv_scores.append(scores.mean())\n",
    "    \n",
    "\n",
    "MAUC = [ x for x in cv_scores]\n",
    "optimal_c= c[MAUC.index(max(MAUC))]\n",
    "print('\\nThe optimal C is %f ' % optimal_c)"
   ]
  },
  {
   "cell_type": "code",
   "execution_count": 77,
   "metadata": {
    "scrolled": true
   },
   "outputs": [
    {
     "name": "stdout",
     "output_type": "stream",
     "text": [
      "LogisticRegression(C=1, class_weight=None, dual=False, fit_intercept=True,\n",
      "          intercept_scaling=1, max_iter=100, multi_class='ovr', n_jobs=1,\n",
      "          penalty='l1', random_state=None, solver='liblinear', tol=0.0001,\n",
      "          verbose=0, warm_start=False)\n",
      "0.9543804276636509\n"
     ]
    }
   ],
   "source": [
    "tuned_parameters = [{'C': [10**-4, 10**-2, 10**0, 10**2, 10**4]}]\n",
    "model = GridSearchCV(LogisticRegression(penalty='l1'), tuned_parameters, scoring = 'roc_auc', cv=5)\n",
    "model.fit(Xtrain_bbw,Y_train)\n",
    "\n",
    "print(model.best_estimator_)\n",
    "print(model.score(Xtest_bbw, Y_test))"
   ]
  },
  {
   "cell_type": "code",
   "execution_count": 78,
   "metadata": {},
   "outputs": [
    {
     "data": {
      "image/png": "[encoded data removed]",
      "text/plain": [
       "<matplotlib.figure.Figure at 0xa06d021240>"
      ]
     },
     "metadata": {},
     "output_type": "display_data"
    }
   ],
   "source": [
    "#performance plot\n",
    "from sklearn.metrics import roc_auc_score\n",
    "\n",
    "c=[10**-4, 10**-2, 10**0, 10**2, 10**4]\n",
    "\n",
    "auc_train=[]\n",
    "auc_val=[]\n",
    "for item in c:\n",
    "    clf = LogisticRegression(penalty='l2',C=item)\n",
    "    clf.fit(X_tr,Y_tr)\n",
    "    pred_train = clf.predict_proba(X_tr)[:,1]\n",
    "    auc_train.append(roc_auc_score(Y_tr, pred_train))\n",
    "    \n",
    "    \n",
    "for item in c:\n",
    "    clf = LogisticRegression(penalty='l2',C=item)\n",
    "    clf.fit(X_cv,Y_cv)   \n",
    "    pred_val=clf.predict_proba(X_cv)[0:,1]\n",
    "    auc_val.append(roc_auc_score(Y_cv,pred_val))\n",
    "\n",
    "\n",
    "# plot misclassification error vs k \n",
    "plt.plot(c,auc_train )\n",
    "plt.plot(c,auc_val)\n",
    "plt.xlabel('Hyperparameter C')\n",
    "plt.ylabel('Area Under Roc Curve')\n",
    "plt.legend(['Train AUC','Validation AUC'])\n",
    "plt.show()\n",
    "\n"
   ]
  },
  {
   "cell_type": "code",
   "execution_count": 79,
   "metadata": {},
   "outputs": [
    {
     "name": "stdout",
     "output_type": "stream",
     "text": [
      "AUC: 0.953\n"
     ]
    },
    {
     "data": {
      "image/png": "[encoded data removed]",
      "text/plain": [
       "<matplotlib.figure.Figure at 0xa06c44df28>"
      ]
     },
     "metadata": {},
     "output_type": "display_data"
    }
   ],
   "source": [
    "#https://machinelearningmastery.com/roc-curves-and-precision-recall-curves-for-classification-in-python/\n",
    "from sklearn.metrics import roc_curve\n",
    "\n",
    "clf = LogisticRegression(penalty='l2',C=1)\n",
    "clf.fit(Xtrain_bbw,Y_train)\n",
    "# predict probabilities\n",
    "probs = clf.predict_proba(Xtest_bbw)\n",
    "# keep probabilities for the positive outcome only\n",
    "probs = probs[:, 1]\n",
    "# calculate AUC\n",
    "auc = roc_auc_score(Y_test, probs)\n",
    "print('AUC: %.3f' % auc)\n",
    "\n",
    "# calculate roc curve for train data\n",
    "prob=clf.predict_proba(Xtrain_bbw)\n",
    "probt=prob[:,1]\n",
    "tfpr, ttpr, thresholds = roc_curve(Y_train, probt)\n",
    "\n",
    "\n",
    "\n",
    "#calculate roc curve for test data\n",
    "fpr,tpr,threshols=roc_curve(Y_test,probs)\n",
    "\n",
    "\n",
    "\n",
    "\n",
    "# plot the roc curve for the model\n",
    "plt.plot(tfpr, ttpr, marker='.')\n",
    "plt.plot(fpr,tpr,marker='.')\n",
    "\n",
    "# plot no skill\n",
    "plt.plot([0, 1], [0, 1], linestyle='--')\n",
    "\n",
    "plt.xlabel('False Positive Rate')\n",
    "plt.ylabel('True Positive Rate')\n",
    "plt.title('ROC CURVE')\n",
    "plt.legend([\"Train data\",\"Test data\"])\n",
    "# show the plot\n",
    "plt.show()\n"
   ]
  },
  {
   "cell_type": "markdown",
   "metadata": {
    "colab_type": "text",
    "id": "P277Ci4khOf3"
   },
   "source": [
    "## [5.2] Logistic Regression on TFIDF,<font color='red'> SET 2</font>"
   ]
  },
  {
   "cell_type": "markdown",
   "metadata": {
    "colab_type": "text",
    "id": "TSrx2tTehOf4"
   },
   "source": [
    "### [5.2.1] Applying Logistic Regression with L1 regularization on TFIDF,<font color='red'> SET 2</font>"
   ]
  },
  {
   "cell_type": "code",
   "execution_count": 81,
   "metadata": {
    "colab": {},
    "colab_type": "code",
    "id": "F_Ox99SmhOf5"
   },
   "outputs": [
    {
     "name": "stdout",
     "output_type": "stream",
     "text": [
      "\n",
      "The optimal C is 1.000000 \n"
     ]
    }
   ],
   "source": [
    "c=[10**-4, 10**-2, 10**0, 10**2, 10**4]\n",
    "cv_scores = []\n",
    "for i in c:\n",
    "    Log_R = LogisticRegression(penalty='l1',C=i)\n",
    "    scores = cross_val_score(Log_R,Xtrain_tf,Y_train, cv=10, scoring='roc_auc')\n",
    "    cv_scores.append(scores.mean())\n",
    "    \n",
    "\n",
    "MAUC = [ x for x in cv_scores]\n",
    "optimal_c= c[MAUC.index(max(MAUC))]\n",
    "print('\\nThe optimal C is %f ' % optimal_c)"
   ]
  },
  {
   "cell_type": "code",
   "execution_count": 82,
   "metadata": {
    "scrolled": true
   },
   "outputs": [
    {
     "name": "stdout",
     "output_type": "stream",
     "text": [
      "LogisticRegression(C=1, class_weight=None, dual=False, fit_intercept=True,\n",
      "          intercept_scaling=1, max_iter=100, multi_class='ovr', n_jobs=1,\n",
      "          penalty='l1', random_state=None, solver='liblinear', tol=0.0001,\n",
      "          verbose=0, warm_start=False)\n",
      "0.9622677535078524\n"
     ]
    }
   ],
   "source": [
    "tuned_parameters = [{'C': [10**-4, 10**-2, 10**0, 10**2, 10**4]}]\n",
    "model = GridSearchCV(LogisticRegression(penalty='l1'), tuned_parameters, scoring = 'roc_auc', cv=5)\n",
    "model.fit(Xtrain_tf,Y_train)\n",
    "\n",
    "print(model.best_estimator_)\n",
    "print(model.score(Xtest_tf, Y_test))"
   ]
  },
  {
   "cell_type": "code",
   "execution_count": 83,
   "metadata": {},
   "outputs": [],
   "source": [
    "#split the train data set into cross validation train and cross validation test\n",
    "X_tr, X_cv, Y_tr, Y_cv = cross_validation.train_test_split(Xtrain_tf, Y_train, test_size=0.3)"
   ]
  },
  {
   "cell_type": "code",
   "execution_count": 84,
   "metadata": {},
   "outputs": [
    {
     "data": {
      "image/png": "[encoded data removed]",
      "text/plain": [
       "<matplotlib.figure.Figure at 0xa06cef35c0>"
      ]
     },
     "metadata": {},
     "output_type": "display_data"
    }
   ],
   "source": [
    "#performance plot\n",
    "from sklearn.metrics import roc_auc_score\n",
    "\n",
    "c=[10**-4, 10**-2, 10**0, 10**2, 10**4]\n",
    "\n",
    "auc_train=[]\n",
    "auc_val=[]\n",
    "for item in c:\n",
    "    clf = LogisticRegression(penalty='l1',C=item)\n",
    "    clf.fit(X_tr,Y_tr)\n",
    "    pred_train = clf.predict_proba(X_tr)[:,1]\n",
    "    auc_train.append(roc_auc_score(Y_tr, pred_train))\n",
    "    \n",
    "    \n",
    "for item in c:\n",
    "    clf = LogisticRegression(penalty='l1',C=item)\n",
    "    clf.fit(X_cv,Y_cv)   \n",
    "    pred_val=clf.predict_proba(X_cv)[0:,1]\n",
    "    auc_val.append(roc_auc_score(Y_cv,pred_val))\n",
    "\n",
    "\n",
    "# plot misclassification error vs k \n",
    "plt.plot(c,auc_train )\n",
    "plt.plot(c,auc_val)\n",
    "plt.xlabel('Hyperparameter C')\n",
    "plt.ylabel('Area Under Roc Curve')\n",
    "plt.legend(['Train AUC','Validation AUC'])\n",
    "plt.show()\n",
    "\n"
   ]
  },
  {
   "cell_type": "code",
   "execution_count": 85,
   "metadata": {},
   "outputs": [
    {
     "name": "stdout",
     "output_type": "stream",
     "text": [
      "AUC: 0.962\n"
     ]
    },
    {
     "data": {
      "image/png": "[encoded data removed]",
      "text/plain": [
       "<matplotlib.figure.Figure at 0xa072cfe898>"
      ]
     },
     "metadata": {},
     "output_type": "display_data"
    }
   ],
   "source": [
    "#https://machinelearningmastery.com/roc-curves-and-precision-recall-curves-for-classification-in-python/\n",
    "from sklearn.metrics import roc_curve\n",
    "\n",
    "clf = LogisticRegression(penalty='l1',C=1)\n",
    "clf.fit(Xtrain_tf,Y_train)\n",
    "# predict probabilities\n",
    "probs = clf.predict_proba(Xtest_tf)\n",
    "# keep probabilities for the positive outcome only\n",
    "probs = probs[:, 1]\n",
    "# calculate AUC\n",
    "auc = roc_auc_score(Y_test, probs)\n",
    "print('AUC: %.3f' % auc)\n",
    "\n",
    "# calculate roc curve for train data\n",
    "prob=clf.predict_proba(Xtrain_tf)\n",
    "probt=prob[:,1]\n",
    "tfpr, ttpr, thresholds = roc_curve(Y_train, probt)\n",
    "\n",
    "\n",
    "\n",
    "#calculate roc curve for test data\n",
    "fpr,tpr,threshols=roc_curve(Y_test,probs)\n",
    "\n",
    "\n",
    "\n",
    "\n",
    "# plot the roc curve for the model\n",
    "plt.plot(tfpr, ttpr, marker='.')\n",
    "plt.plot(fpr,tpr,marker='.')\n",
    "\n",
    "# plot no skill\n",
    "plt.plot([0, 1], [0, 1], linestyle='--')\n",
    "\n",
    "plt.xlabel('False Positive Rate')\n",
    "plt.ylabel('True Positive Rate')\n",
    "plt.title('ROC CURVE')\n",
    "plt.legend([\"Train data\",\"Test data\"])\n",
    "# show the plot\n",
    "plt.show()\n"
   ]
  },
  {
   "cell_type": "markdown",
   "metadata": {
    "colab_type": "text",
    "id": "m3YOEkTthOf8"
   },
   "source": [
    "### [5.2.2] Applying Logistic Regression with L2 regularization on TFIDF,<font color='red'> SET 2</font>"
   ]
  },
  {
   "cell_type": "code",
   "execution_count": 86,
   "metadata": {
    "colab": {},
    "colab_type": "code",
    "id": "WDdE712vhOf9"
   },
   "outputs": [
    {
     "name": "stdout",
     "output_type": "stream",
     "text": [
      "\n",
      "The optimal C is 1.000000 \n"
     ]
    }
   ],
   "source": [
    "c=[10**-4, 10**-2, 10**0, 10**2, 10**4]\n",
    "cv_scores = []\n",
    "for i in c:\n",
    "    Log_R = LogisticRegression(penalty='l2',C=i)\n",
    "    scores = cross_val_score(Log_R,Xtrain_tf,Y_train, cv=10, scoring='roc_auc')\n",
    "    cv_scores.append(scores.mean())\n",
    "    \n",
    "\n",
    "MAUC = [ x for x in cv_scores]\n",
    "optimal_c= c[MAUC.index(max(MAUC))]\n",
    "print('\\nThe optimal C is %f ' % optimal_c)"
   ]
  },
  {
   "cell_type": "code",
   "execution_count": 87,
   "metadata": {
    "scrolled": true
   },
   "outputs": [
    {
     "name": "stdout",
     "output_type": "stream",
     "text": [
      "LogisticRegression(C=1, class_weight=None, dual=False, fit_intercept=True,\n",
      "          intercept_scaling=1, max_iter=100, multi_class='ovr', n_jobs=1,\n",
      "          penalty='l2', random_state=None, solver='liblinear', tol=0.0001,\n",
      "          verbose=0, warm_start=False)\n",
      "0.9651435104596005\n"
     ]
    }
   ],
   "source": [
    "tuned_parameters = [{'C': [10**-4, 10**-2, 10**0, 10**2, 10**4]}]\n",
    "model = GridSearchCV(LogisticRegression(penalty='l2'), tuned_parameters, scoring = 'roc_auc', cv=5)\n",
    "model.fit(Xtrain_tf,Y_train)\n",
    "\n",
    "print(model.best_estimator_)\n",
    "print(model.score(Xtest_tf, Y_test))"
   ]
  },
  {
   "cell_type": "code",
   "execution_count": 88,
   "metadata": {},
   "outputs": [],
   "source": [
    "#split the train data set into cross validation train and cross validation test\n",
    "X_tr, X_cv, Y_tr, Y_cv = cross_validation.train_test_split(Xtrain_tf, Y_train, test_size=0.3)"
   ]
  },
  {
   "cell_type": "code",
   "execution_count": 89,
   "metadata": {},
   "outputs": [
    {
     "data": {
      "image/png": "[encoded data removed]",
      "text/plain": [
       "<matplotlib.figure.Figure at 0xa072cfe828>"
      ]
     },
     "metadata": {},
     "output_type": "display_data"
    }
   ],
   "source": [
    "#performance plot\n",
    "from sklearn.metrics import roc_auc_score\n",
    "\n",
    "c=[10**-4, 10**-2, 10**0, 10**2, 10**4]\n",
    "\n",
    "auc_train=[]\n",
    "auc_val=[]\n",
    "for item in c:\n",
    "    clf = LogisticRegression(penalty='l2',C=item)\n",
    "    clf.fit(X_tr,Y_tr)\n",
    "    pred_train = clf.predict_proba(X_tr)[:,1]\n",
    "    auc_train.append(roc_auc_score(Y_tr, pred_train))\n",
    "    \n",
    "    \n",
    "for item in c:\n",
    "    clf = LogisticRegression(penalty='l2',C=item)\n",
    "    clf.fit(X_cv,Y_cv)   \n",
    "    pred_val=clf.predict_proba(X_cv)[0:,1]\n",
    "    auc_val.append(roc_auc_score(Y_cv,pred_val))\n",
    "\n",
    "\n",
    "# plot misclassification error vs k \n",
    "plt.plot(c,auc_train )\n",
    "plt.plot(c,auc_val)\n",
    "plt.xlabel('Hyperparameter C')\n",
    "plt.ylabel('Area Under Roc Curve')\n",
    "plt.legend(['Train AUC','Validation AUC'])\n",
    "plt.show()\n",
    "\n"
   ]
  },
  {
   "cell_type": "code",
   "execution_count": 90,
   "metadata": {},
   "outputs": [
    {
     "name": "stdout",
     "output_type": "stream",
     "text": [
      "AUC: 0.962\n"
     ]
    },
    {
     "data": {
      "image/png": "[encoded data removed]",
      "text/plain": [
       "<matplotlib.figure.Figure at 0xa078103cc0>"
      ]
     },
     "metadata": {},
     "output_type": "display_data"
    }
   ],
   "source": [
    "#https://machinelearningmastery.com/roc-curves-and-precision-recall-curves-for-classification-in-python/\n",
    "from sklearn.metrics import roc_curve\n",
    "\n",
    "clf = LogisticRegression(penalty='l2',C=1)\n",
    "clf.fit(Xtrain_tf,Y_train)\n",
    "# predict probabilities\n",
    "probs = clf.predict_proba(Xtest_tf)\n",
    "# keep probabilities for the positive outcome only\n",
    "probs = probs[:, 1]\n",
    "# calculate AUC\n",
    "auc = roc_auc_score(Y_test, probs)\n",
    "print('AUC: %.3f' % auc)\n",
    "\n",
    "# calculate roc curve for train data\n",
    "prob=clf.predict_proba(Xtrain_tf)\n",
    "probt=prob[:,1]\n",
    "tfpr, ttpr, thresholds = roc_curve(Y_train, probt)\n",
    "\n",
    "\n",
    "\n",
    "#calculate roc curve for test data\n",
    "fpr,tpr,threshols=roc_curve(Y_test,probs)\n",
    "\n",
    "\n",
    "\n",
    "\n",
    "# plot the roc curve for the model\n",
    "plt.plot(tfpr, ttpr, marker='.')\n",
    "plt.plot(fpr,tpr,marker='.')\n",
    "\n",
    "# plot no skill\n",
    "plt.plot([0, 1], [0, 1], linestyle='--')\n",
    "\n",
    "plt.xlabel('False Positive Rate')\n",
    "plt.ylabel('True Positive Rate')\n",
    "plt.title('ROC CURVE')\n",
    "plt.legend([\"Train data\",\"Test data\"])\n",
    "# show the plot\n",
    "plt.show()\n"
   ]
  },
  {
   "cell_type": "markdown",
   "metadata": {
    "colab_type": "text",
    "id": "VmGdLNjyhOgL"
   },
   "source": [
    "## [5.3] Logistic Regression on AVG W2V,<font color='red'> SET 3</font>"
   ]
  },
  {
   "cell_type": "markdown",
   "metadata": {
    "colab_type": "text",
    "id": "0OVKbQLRhOgO"
   },
   "source": [
    "### [5.3.1] Applying Logistic Regression with L1 regularization on AVG W2V<font color='red'> SET 3</font>"
   ]
  },
  {
   "cell_type": "code",
   "execution_count": 54,
   "metadata": {
    "colab": {},
    "colab_type": "code",
    "id": "eZ_meeinhOgP"
   },
   "outputs": [
    {
     "name": "stdout",
     "output_type": "stream",
     "text": [
      "\n",
      "The optimal C is 0.000100 \n"
     ]
    }
   ],
   "source": [
    "c=[10**-4, 10**-2, 10**0, 10**2, 10**4]\n",
    "cv_scores = []\n",
    "for i in c:\n",
    "    Log_R = LogisticRegression(penalty='l1',C=i)\n",
    "    scores = cross_val_score(Log_R,sent_trainvec,Y_train, cv=10, scoring='roc_auc')\n",
    "    cv_scores.append(scores.mean())\n",
    "    \n",
    "\n",
    "MAUC = [ x for x in cv_scores]\n",
    "optimal_c= c[MAUC.index(max(MAUC))]\n",
    "print('\\nThe optimal C is %f ' % optimal_c)"
   ]
  },
  {
   "cell_type": "code",
   "execution_count": 55,
   "metadata": {
    "scrolled": true
   },
   "outputs": [
    {
     "name": "stdout",
     "output_type": "stream",
     "text": [
      "LogisticRegression(C=1, class_weight=None, dual=False, fit_intercept=True,\n",
      "          intercept_scaling=1, max_iter=100, multi_class='ovr', n_jobs=1,\n",
      "          penalty='l1', random_state=None, solver='liblinear', tol=0.0001,\n",
      "          verbose=0, warm_start=False)\n",
      "0.8433333333333334\n"
     ]
    }
   ],
   "source": [
    "tuned_parameters = [{'C': [10**-4, 10**-2, 10**0, 10**2, 10**4]}]\n",
    "model = GridSearchCV(LogisticRegression(penalty='l1'), tuned_parameters, scoring = 'roc_auc', cv=5)\n",
    "model.fit(sent_trainvec,Y_train)\n",
    "\n",
    "print(model.best_estimator_)\n",
    "print(model.score(sent_testvec, Y_test))"
   ]
  },
  {
   "cell_type": "code",
   "execution_count": 91,
   "metadata": {},
   "outputs": [],
   "source": [
    "#split the train data set into cross validation train and cross validation test\n",
    "X_tr, X_cv, Y_tr, Y_cv = cross_validation.train_test_split(sent_trainvec, Y_train, test_size=0.3)"
   ]
  },
  {
   "cell_type": "code",
   "execution_count": 92,
   "metadata": {},
   "outputs": [
    {
     "data": {
      "image/png": "[encoded data removed]",
      "text/plain": [
       "<matplotlib.figure.Figure at 0xa07816def0>"
      ]
     },
     "metadata": {},
     "output_type": "display_data"
    }
   ],
   "source": [
    "#performance plot\n",
    "from sklearn.metrics import roc_auc_score\n",
    "\n",
    "c=[10**-4, 10**-2, 10**0, 10**2, 10**4]\n",
    "\n",
    "auc_train=[]\n",
    "auc_val=[]\n",
    "for item in c:\n",
    "    clf = LogisticRegression(penalty='l1',C=item)\n",
    "    clf.fit(X_tr,Y_tr)\n",
    "    pred_train = clf.predict_proba(X_tr)[:,1]\n",
    "    auc_train.append(roc_auc_score(Y_tr, pred_train))\n",
    "    \n",
    "    \n",
    "for item in c:\n",
    "    clf = LogisticRegression(penalty='l1',C=item)\n",
    "    clf.fit(X_cv,Y_cv)   \n",
    "    pred_val=clf.predict_proba(X_cv)[0:,1]\n",
    "    auc_val.append(roc_auc_score(Y_cv,pred_val))\n",
    "\n",
    "\n",
    "# plot misclassification error vs k \n",
    "plt.plot(c,auc_train )\n",
    "plt.plot(c,auc_val)\n",
    "plt.xlabel('Hyperparameter C')\n",
    "plt.ylabel('Area Under Roc Curve')\n",
    "plt.legend(['Train AUC','Validation AUC'])\n",
    "plt.show()\n",
    "\n"
   ]
  },
  {
   "cell_type": "code",
   "execution_count": 93,
   "metadata": {},
   "outputs": [
    {
     "name": "stdout",
     "output_type": "stream",
     "text": [
      "AUC: 0.920\n"
     ]
    },
    {
     "data": {
      "image/png": "[encoded data removed]",
      "text/plain": [
       "<matplotlib.figure.Figure at 0xa0791df240>"
      ]
     },
     "metadata": {},
     "output_type": "display_data"
    }
   ],
   "source": [
    "#https://machinelearningmastery.com/roc-curves-and-precision-recall-curves-for-classification-in-python/\n",
    "from sklearn.metrics import roc_curve\n",
    "\n",
    "clf = LogisticRegression(penalty='l1',C=1)\n",
    "clf.fit(sent_trainvec,Y_train)\n",
    "# predict probabilities\n",
    "probs = clf.predict_proba(sent_testvec)\n",
    "# keep probabilities for the positive outcome only\n",
    "probs = probs[:, 1]\n",
    "# calculate AUC\n",
    "auc = roc_auc_score(Y_test, probs)\n",
    "print('AUC: %.3f' % auc)\n",
    "\n",
    "# calculate roc curve for train data\n",
    "prob=clf.predict_proba(sent_trainvec)\n",
    "probt=prob[:,1]\n",
    "tfpr, ttpr, thresholds = roc_curve(Y_train, probt)\n",
    "\n",
    "\n",
    "\n",
    "#calculate roc curve for test data\n",
    "fpr,tpr,threshols=roc_curve(Y_test,probs)\n",
    "\n",
    "\n",
    "\n",
    "\n",
    "# plot the roc curve for the model\n",
    "plt.plot(tfpr, ttpr, marker='.')\n",
    "plt.plot(fpr,tpr,marker='.')\n",
    "\n",
    "# plot no skill\n",
    "plt.plot([0, 1], [0, 1], linestyle='--')\n",
    "\n",
    "plt.xlabel('False Positive Rate')\n",
    "plt.ylabel('True Positive Rate')\n",
    "plt.title('ROC CURVE')\n",
    "plt.legend([\"Train data\",\"Test data\"])\n",
    "# show the plot\n",
    "plt.show()\n"
   ]
  },
  {
   "cell_type": "markdown",
   "metadata": {
    "colab_type": "text",
    "id": "fjfWqtvChOgW"
   },
   "source": [
    "### [5.3.2] Applying Logistic Regression with L2 regularization on AVG W2V,<font color='red'> SET 3</font>"
   ]
  },
  {
   "cell_type": "code",
   "execution_count": 94,
   "metadata": {
    "colab": {},
    "colab_type": "code",
    "id": "1xBJ2xNAhOgX"
   },
   "outputs": [
    {
     "name": "stdout",
     "output_type": "stream",
     "text": [
      "\n",
      "The optimal C is 1.000000 \n"
     ]
    }
   ],
   "source": [
    "c=[10**-4, 10**-2, 10**0, 10**2, 10**4]\n",
    "cv_scores = []\n",
    "for i in c:\n",
    "    Log_R = LogisticRegression(penalty='l2',C=i)\n",
    "    scores = cross_val_score(Log_R,sent_trainvec,Y_train, cv=10, scoring='roc_auc')\n",
    "    cv_scores.append(scores.mean())\n",
    "    \n",
    "\n",
    "MAUC = [ x for x in cv_scores]\n",
    "optimal_c= c[MAUC.index(max(MAUC))]\n",
    "print('\\nThe optimal C is %f ' % optimal_c)"
   ]
  },
  {
   "cell_type": "code",
   "execution_count": 95,
   "metadata": {
    "scrolled": true
   },
   "outputs": [
    {
     "name": "stdout",
     "output_type": "stream",
     "text": [
      "LogisticRegression(C=1, class_weight=None, dual=False, fit_intercept=True,\n",
      "          intercept_scaling=1, max_iter=100, multi_class='ovr', n_jobs=1,\n",
      "          penalty='l2', random_state=None, solver='liblinear', tol=0.0001,\n",
      "          verbose=0, warm_start=False)\n",
      "0.919628013064783\n"
     ]
    }
   ],
   "source": [
    "tuned_parameters = [{'C': [10**-4, 10**-2, 10**0, 10**2, 10**4]}]\n",
    "model = GridSearchCV(LogisticRegression(penalty='l2'), tuned_parameters, scoring = 'roc_auc', cv=5)\n",
    "model.fit(sent_trainvec,Y_train)\n",
    "\n",
    "print(model.best_estimator_)\n",
    "print(model.score(sent_testvec, Y_test))"
   ]
  },
  {
   "cell_type": "code",
   "execution_count": 96,
   "metadata": {},
   "outputs": [],
   "source": [
    "#split the train data set into cross validation train and cross validation test\n",
    "X_tr, X_cv, Y_tr, Y_cv = cross_validation.train_test_split(sent_trainvec, Y_train, test_size=0.3)"
   ]
  },
  {
   "cell_type": "code",
   "execution_count": 97,
   "metadata": {},
   "outputs": [
    {
     "data": {
      "image/png": "[encoded data removed]",
      "text/plain": [
       "<matplotlib.figure.Figure at 0xa079375320>"
      ]
     },
     "metadata": {},
     "output_type": "display_data"
    }
   ],
   "source": [
    "#performance plot\n",
    "from sklearn.metrics import roc_auc_score\n",
    "\n",
    "c=[10**-4, 10**-2, 10**0, 10**2, 10**4]\n",
    "\n",
    "auc_train=[]\n",
    "auc_val=[]\n",
    "for item in c:\n",
    "    clf = LogisticRegression(penalty='l2',C=item)\n",
    "    clf.fit(X_tr,Y_tr)\n",
    "    pred_train = clf.predict_proba(X_tr)[:,1]\n",
    "    auc_train.append(roc_auc_score(Y_tr, pred_train))\n",
    "    \n",
    "    \n",
    "for item in c:\n",
    "    clf = LogisticRegression(penalty='l2',C=item)\n",
    "    clf.fit(X_cv,Y_cv)   \n",
    "    pred_val=clf.predict_proba(X_cv)[0:,1]\n",
    "    auc_val.append(roc_auc_score(Y_cv,pred_val))\n",
    "\n",
    "\n",
    "# plot misclassification error vs k \n",
    "plt.plot(c,auc_train )\n",
    "plt.plot(c,auc_val)\n",
    "plt.xlabel('Hyperparameter C')\n",
    "plt.ylabel('Area Under Roc Curve')\n",
    "plt.legend(['Train AUC','Validation AUC'])\n",
    "plt.show()\n",
    "\n"
   ]
  },
  {
   "cell_type": "code",
   "execution_count": 98,
   "metadata": {},
   "outputs": [
    {
     "name": "stdout",
     "output_type": "stream",
     "text": [
      "AUC: 0.920\n"
     ]
    },
    {
     "data": {
      "image/png": "[encoded data removed]",
      "text/plain": [
       "<matplotlib.figure.Figure at 0xa0793544e0>"
      ]
     },
     "metadata": {},
     "output_type": "display_data"
    }
   ],
   "source": [
    "#https://machinelearningmastery.com/roc-curves-and-precision-recall-curves-for-classification-in-python/\n",
    "from sklearn.metrics import roc_curve\n",
    "\n",
    "clf = LogisticRegression(penalty='l2',C=1)\n",
    "clf.fit(sent_trainvec,Y_train)\n",
    "# predict probabilities\n",
    "probs = clf.predict_proba(sent_testvec)\n",
    "# keep probabilities for the positive outcome only\n",
    "probs = probs[:, 1]\n",
    "# calculate AUC\n",
    "auc = roc_auc_score(Y_test, probs)\n",
    "print('AUC: %.3f' % auc)\n",
    "\n",
    "# calculate roc curve for train data\n",
    "prob=clf.predict_proba(sent_trainvec)\n",
    "probt=prob[:,1]\n",
    "tfpr, ttpr, thresholds = roc_curve(Y_train, probt)\n",
    "\n",
    "\n",
    "\n",
    "#calculate roc curve for test data\n",
    "fpr,tpr,threshols=roc_curve(Y_test,probs)\n",
    "\n",
    "\n",
    "\n",
    "\n",
    "# plot the roc curve for the model\n",
    "plt.plot(tfpr, ttpr, marker='.')\n",
    "plt.plot(fpr,tpr,marker='.')\n",
    "\n",
    "# plot no skill\n",
    "plt.plot([0, 1], [0, 1], linestyle='--')\n",
    "\n",
    "plt.xlabel('False Positive Rate')\n",
    "plt.ylabel('True Positive Rate')\n",
    "plt.title('ROC CURVE')\n",
    "plt.legend([\"Train data\",\"Test data\"])\n",
    "# show the plot\n",
    "plt.show()\n"
   ]
  },
  {
   "cell_type": "markdown",
   "metadata": {
    "colab_type": "text",
    "id": "fDF61PgrhOgb"
   },
   "source": [
    "## [5.4] Logistic Regression on TFIDF W2V,<font color='red'> SET 4</font>"
   ]
  },
  {
   "cell_type": "markdown",
   "metadata": {
    "colab_type": "text",
    "id": "gW0sTxd0hOge"
   },
   "source": [
    "### [5.4.1] Applying Logistic Regression with L1 regularization on TFIDF W2V,<font color='red'> SET 4</font>"
   ]
  },
  {
   "cell_type": "code",
   "execution_count": 109,
   "metadata": {
    "colab": {},
    "colab_type": "code",
    "id": "pZ12FTOahOgh"
   },
   "outputs": [
    {
     "name": "stdout",
     "output_type": "stream",
     "text": [
      "\n",
      "The optimal C is 100.000000 \n"
     ]
    }
   ],
   "source": [
    "c=[10**-4, 10**-2, 10**0, 10**2, 10**4]\n",
    "cv_scores = []\n",
    "for i in c:\n",
    "    Log_R = LogisticRegression(penalty='l1',C=i)\n",
    "    scores = cross_val_score(Log_R,tfw2v_train,Y_train, cv=10, scoring='roc_auc')\n",
    "    cv_scores.append(scores.mean())\n",
    "    \n",
    "\n",
    "MAUC = [ x for x in cv_scores]\n",
    "optimal_c= c[MAUC.index(max(MAUC))]\n",
    "print('\\nThe optimal C is %f ' % optimal_c)"
   ]
  },
  {
   "cell_type": "code",
   "execution_count": 100,
   "metadata": {},
   "outputs": [
    {
     "name": "stdout",
     "output_type": "stream",
     "text": [
      "LogisticRegression(C=100, class_weight=None, dual=False, fit_intercept=True,\n",
      "          intercept_scaling=1, max_iter=100, multi_class='ovr', n_jobs=1,\n",
      "          penalty='l1', random_state=None, solver='liblinear', tol=0.0001,\n",
      "          verbose=0, warm_start=False)\n",
      "0.8966061168677946\n"
     ]
    }
   ],
   "source": [
    "tuned_parameters = [{'C': [10**-4, 10**-2, 10**0, 10**2, 10**4]}]\n",
    "model = GridSearchCV(LogisticRegression(penalty='l1'), tuned_parameters, scoring = 'roc_auc', cv=5)\n",
    "model.fit(tfw2v_train,Y_train)\n",
    "\n",
    "print(model.best_estimator_)\n",
    "print(model.score(tfw2v_test, Y_test))"
   ]
  },
  {
   "cell_type": "code",
   "execution_count": 101,
   "metadata": {},
   "outputs": [],
   "source": [
    "#split the train data set into cross validation train and cross validation test\n",
    "X_tr, X_cv, Y_tr, Y_cv = cross_validation.train_test_split(tfw2v_train, Y_train, test_size=0.3)"
   ]
  },
  {
   "cell_type": "code",
   "execution_count": 102,
   "metadata": {},
   "outputs": [
    {
     "data": {
      "image/png": "[encoded data removed]",
      "text/plain": [
       "<matplotlib.figure.Figure at 0xa079209c18>"
      ]
     },
     "metadata": {},
     "output_type": "display_data"
    }
   ],
   "source": [
    "#performance plot\n",
    "from sklearn.metrics import roc_auc_score\n",
    "\n",
    "c=[10**-4, 10**-2, 10**0, 10**2, 10**4]\n",
    "\n",
    "auc_train=[]\n",
    "auc_val=[]\n",
    "for item in c:\n",
    "    clf = LogisticRegression(penalty='l1',C=item)\n",
    "    clf.fit(X_tr,Y_tr)\n",
    "    pred_train = clf.predict_proba(X_tr)[:,1]\n",
    "    auc_train.append(roc_auc_score(Y_tr, pred_train))\n",
    "    \n",
    "    \n",
    "for item in c:\n",
    "    clf = LogisticRegression(penalty='l1',C=item)\n",
    "    clf.fit(X_cv,Y_cv)   \n",
    "    pred_val=clf.predict_proba(X_cv)[0:,1]\n",
    "    auc_val.append(roc_auc_score(Y_cv,pred_val))\n",
    "\n",
    "\n",
    "# plot misclassification error vs k \n",
    "plt.plot(c,auc_train )\n",
    "plt.plot(c,auc_val)\n",
    "plt.xlabel('Hyperparameter C')\n",
    "plt.ylabel('Area Under Roc Curve')\n",
    "plt.legend(['Train AUC','Validation AUC'])\n",
    "plt.show()\n",
    "\n"
   ]
  },
  {
   "cell_type": "code",
   "execution_count": 103,
   "metadata": {},
   "outputs": [
    {
     "name": "stdout",
     "output_type": "stream",
     "text": [
      "AUC: 0.897\n"
     ]
    },
    {
     "data": {
      "image/png": "[encoded data removed]",
      "text/plain": [
       "<matplotlib.figure.Figure at 0xa0793e3588>"
      ]
     },
     "metadata": {},
     "output_type": "display_data"
    }
   ],
   "source": [
    "#https://machinelearningmastery.com/roc-curves-and-precision-recall-curves-for-classification-in-python/\n",
    "from sklearn.metrics import roc_curve\n",
    "\n",
    "clf = LogisticRegression(penalty='l1',C=100)\n",
    "clf.fit(tfw2v_train,Y_train)\n",
    "# predict probabilities\n",
    "probs = clf.predict_proba(tfw2v_test)\n",
    "# keep probabilities for the positive outcome only\n",
    "probs = probs[:, 1]\n",
    "# calculate AUC\n",
    "auc = roc_auc_score(Y_test, probs)\n",
    "print('AUC: %.3f' % auc)\n",
    "\n",
    "# calculate roc curve for train data\n",
    "prob=clf.predict_proba(tfw2v_train)\n",
    "probt=prob[:,1]\n",
    "tfpr, ttpr, thresholds = roc_curve(Y_train, probt)\n",
    "\n",
    "\n",
    "\n",
    "#calculate roc curve for test data\n",
    "fpr,tpr,threshols=roc_curve(Y_test,probs)\n",
    "\n",
    "\n",
    "\n",
    "\n",
    "# plot the roc curve for the model\n",
    "plt.plot(tfpr, ttpr, marker='.')\n",
    "plt.plot(fpr,tpr,marker='.')\n",
    "\n",
    "# plot no skill\n",
    "plt.plot([0, 1], [0, 1], linestyle='--')\n",
    "\n",
    "plt.xlabel('False Positive Rate')\n",
    "plt.ylabel('True Positive Rate')\n",
    "plt.title('ROC CURVE')\n",
    "plt.legend([\"Train data\",\"Test data\"])\n",
    "# show the plot\n",
    "plt.show()\n"
   ]
  },
  {
   "cell_type": "markdown",
   "metadata": {
    "colab_type": "text",
    "id": "vWOLUjGRhOgj"
   },
   "source": [
    "### [5.4.2] Applying Logistic Regression with L2 regularization on TFIDF W2V,<font color='red'> SET 4</font>"
   ]
  },
  {
   "cell_type": "code",
   "execution_count": 104,
   "metadata": {
    "colab": {},
    "colab_type": "code",
    "id": "cfBxt4zghOgl"
   },
   "outputs": [
    {
     "name": "stdout",
     "output_type": "stream",
     "text": [
      "\n",
      "The optimal C is 1.000000 \n"
     ]
    }
   ],
   "source": [
    "c=[10**-4, 10**-2, 10**0, 10**2, 10**4]\n",
    "cv_scores = []\n",
    "for i in c:\n",
    "    Log_R = LogisticRegression(penalty='l2',C=i)\n",
    "    scores = cross_val_score(Log_R,tfw2v_train,Y_train, cv=10, scoring='roc_auc')\n",
    "    cv_scores.append(scores.mean())\n",
    "    \n",
    "\n",
    "MAUC = [ x for x in cv_scores]\n",
    "optimal_c= c[MAUC.index(max(MAUC))]\n",
    "print('\\nThe optimal C is %f ' % optimal_c)"
   ]
  },
  {
   "cell_type": "code",
   "execution_count": 105,
   "metadata": {},
   "outputs": [
    {
     "name": "stdout",
     "output_type": "stream",
     "text": [
      "LogisticRegression(C=1, class_weight=None, dual=False, fit_intercept=True,\n",
      "          intercept_scaling=1, max_iter=100, multi_class='ovr', n_jobs=1,\n",
      "          penalty='l2', random_state=None, solver='liblinear', tol=0.0001,\n",
      "          verbose=0, warm_start=False)\n",
      "0.8966057657437606\n"
     ]
    }
   ],
   "source": [
    "tuned_parameters = [{'C': [10**-4, 10**-2, 10**0, 10**2, 10**4]}]\n",
    "model = GridSearchCV(LogisticRegression(penalty='l2'), tuned_parameters, scoring = 'roc_auc', cv=5)\n",
    "model.fit(tfw2v_train,Y_train)\n",
    "\n",
    "print(model.best_estimator_)\n",
    "print(model.score(tfw2v_test, Y_test))"
   ]
  },
  {
   "cell_type": "code",
   "execution_count": 106,
   "metadata": {},
   "outputs": [],
   "source": [
    "#split the train data set into cross validation train and cross validation test\n",
    "X_tr, X_cv, Y_tr, Y_cv = cross_validation.train_test_split(tfw2v_train, Y_train, test_size=0.3)"
   ]
  },
  {
   "cell_type": "code",
   "execution_count": 107,
   "metadata": {},
   "outputs": [
    {
     "data": {
      "image/png": "[encoded data removed]",
      "text/plain": [
       "<matplotlib.figure.Figure at 0xa079247780>"
      ]
     },
     "metadata": {},
     "output_type": "display_data"
    }
   ],
   "source": [
    "#performance plot\n",
    "from sklearn.metrics import roc_auc_score\n",
    "\n",
    "c=[10**-4, 10**-2, 10**0, 10**2, 10**4]\n",
    "\n",
    "auc_train=[]\n",
    "auc_val=[]\n",
    "for item in c:\n",
    "    clf = LogisticRegression(penalty='l2',C=item)\n",
    "    clf.fit(X_tr,Y_tr)\n",
    "    pred_train = clf.predict_proba(X_tr)[:,1]\n",
    "    auc_train.append(roc_auc_score(Y_tr, pred_train))\n",
    "    \n",
    "    \n",
    "for item in c:\n",
    "    clf = LogisticRegression(penalty='l1',C=item)\n",
    "    clf.fit(X_cv,Y_cv)   \n",
    "    pred_val=clf.predict_proba(X_cv)[0:,1]\n",
    "    auc_val.append(roc_auc_score(Y_cv,pred_val))\n",
    "\n",
    "\n",
    "# plot misclassification error vs k \n",
    "plt.plot(c,auc_train )\n",
    "plt.plot(c,auc_val)\n",
    "plt.xlabel('Hyperparameter C')\n",
    "plt.ylabel('Area Under Roc Curve')\n",
    "plt.legend(['Train AUC','Validation AUC'])\n",
    "plt.show()\n",
    "\n"
   ]
  },
  {
   "cell_type": "code",
   "execution_count": 108,
   "metadata": {},
   "outputs": [
    {
     "name": "stdout",
     "output_type": "stream",
     "text": [
      "AUC: 0.897\n"
     ]
    },
    {
     "data": {
      "image/png": "[encoded data removed]",
      "text/plain": [
       "<matplotlib.figure.Figure at 0xa079211f98>"
      ]
     },
     "metadata": {},
     "output_type": "display_data"
    }
   ],
   "source": [
    "#https://machinelearningmastery.com/roc-curves-and-precision-recall-curves-for-classification-in-python/\n",
    "from sklearn.metrics import roc_curve\n",
    "\n",
    "clf = LogisticRegression(penalty='l2',C=1)\n",
    "clf.fit(tfw2v_train,Y_train)\n",
    "# predict probabilities\n",
    "probs = clf.predict_proba(tfw2v_test)\n",
    "# keep probabilities for the positive outcome only\n",
    "probs = probs[:, 1]\n",
    "# calculate AUC\n",
    "auc = roc_auc_score(Y_test, probs)\n",
    "print('AUC: %.3f' % auc)\n",
    "\n",
    "# calculate roc curve for train data\n",
    "prob=clf.predict_proba(tfw2v_train)\n",
    "probt=prob[:,1]\n",
    "tfpr, ttpr, thresholds = roc_curve(Y_train, probt)\n",
    "\n",
    "\n",
    "\n",
    "#calculate roc curve for test data\n",
    "fpr,tpr,threshols=roc_curve(Y_test,probs)\n",
    "\n",
    "\n",
    "\n",
    "\n",
    "# plot the roc curve for the model\n",
    "plt.plot(tfpr, ttpr, marker='.')\n",
    "plt.plot(fpr,tpr,marker='.')\n",
    "\n",
    "# plot no skill\n",
    "plt.plot([0, 1], [0, 1], linestyle='--')\n",
    "\n",
    "plt.xlabel('False Positive Rate')\n",
    "plt.ylabel('True Positive Rate')\n",
    "plt.title('ROC CURVE')\n",
    "plt.legend([\"Train data\",\"Test data\"])\n",
    "# show the plot\n",
    "plt.show()\n"
   ]
  },
  {
   "cell_type": "markdown",
   "metadata": {
    "colab_type": "text",
    "id": "n_kz3bvohOgn"
   },
   "source": [
    "# [6] Conclusions"
   ]
  },
  {
   "cell_type": "code",
   "execution_count": 1,
   "metadata": {
    "colab": {},
    "colab_type": "code",
    "id": "nRbccex3hOgo"
   },
   "outputs": [
    {
     "name": "stdout",
     "output_type": "stream",
     "text": [
      "+------------+--------+----------------+-------+\n",
      "| Vectorizer | L1/L2  | Hyperparameter |  AUC  |\n",
      "+------------+--------+----------------+-------+\n",
      "|    BOW     |   L1   |       1        | 0.954 |\n",
      "|    BOW     |   L2   |       1        | 0.953 |\n",
      "|   TFIDF    |   L1   |       1        | 0.962 |\n",
      "|   TFIDF    |   L2   |       1        | 0.962 |\n",
      "|  Word2Vec  |   L1   |       1        |  0.92 |\n",
      "|  Word2Vec  |   L2   |       1        |  0.92 |\n",
      "| TFIDF-W2V  |   L1   |      100       | 0.897 |\n",
      "| TFIDF-W2V  |   L2   |       1        | 0.897 |\n",
      "+------------+--------+----------------+-------+\n"
     ]
    }
   ],
   "source": [
    "#CREATING PRETTYTABLE\n",
    "from prettytable import PrettyTable\n",
    "    \n",
    "x = PrettyTable()\n",
    "\n",
    "x.field_names = [\"Vectorizer\", \"L1/L2 \",\"Hyperparameter\", \"AUC\"]\n",
    "\n",
    "x.add_row([\"BOW\",\"L1\",1,0.954])\n",
    "x.add_row([\"BOW\",\"L2\",1,0.953])\n",
    "x.add_row([\"TFIDF\",\"L1\",1,0.962])\n",
    "x.add_row([\"TFIDF\",\"L2\",1,0.962])\n",
    "x.add_row([\"Word2Vec\",\"L1\",1,0.920])\n",
    "x.add_row([\"Word2Vec\",\"L2\",1,0.920])\n",
    "x.add_row([\"TFIDF-W2V\",\"L1\",100,0.897])\n",
    "x.add_row([\"TFIDF-W2V\",\"L2\",1,0.897])\n",
    "print(x)"
   ]
  }
 ],
 "metadata": {
  "colab": {
   "name": "05 Amazon Fine Food Reviews Analysis_Logistic Regression.ipynb",
   "provenance": [],
   "version": "0.3.2"
  },
  "kernelspec": {
   "display_name": "Python 3",
   "language": "python",
   "name": "python3"
  },
  "language_info": {
   "codemirror_mode": {
    "name": "ipython",
    "version": 3
   },
   "file_extension": ".py",
   "mimetype": "text/x-python",
   "name": "python",
   "nbconvert_exporter": "python",
   "pygments_lexer": "ipython3",
   "version": "3.6.4"
  }
 },
 "nbformat": 4,
 "nbformat_minor": 1
}
